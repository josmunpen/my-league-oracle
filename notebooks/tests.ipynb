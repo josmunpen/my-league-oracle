{
 "cells": [
  {
   "cell_type": "markdown",
   "metadata": {},
   "source": [
    "### Config"
   ]
  },
  {
   "cell_type": "code",
   "execution_count": 3,
   "metadata": {},
   "outputs": [],
   "source": [
    "import pandas as pd\n",
    "import sqlite3\n",
    "import requests"
   ]
  },
  {
   "cell_type": "code",
   "execution_count": 4,
   "metadata": {},
   "outputs": [],
   "source": [
    "import mlflow"
   ]
  },
  {
   "cell_type": "code",
   "execution_count": 5,
   "metadata": {},
   "outputs": [],
   "source": [
    "import datetime\n",
    "import logging\n",
    "import json\n",
    "import time"
   ]
  },
  {
   "cell_type": "code",
   "execution_count": 6,
   "metadata": {},
   "outputs": [
    {
     "ename": "ModuleNotFoundError",
     "evalue": "No module named 'api_limit_handler'",
     "output_type": "error",
     "traceback": [
      "\u001b[1;31m---------------------------------------------------------------------------\u001b[0m",
      "\u001b[1;31mModuleNotFoundError\u001b[0m                       Traceback (most recent call last)",
      "Cell \u001b[1;32mIn[6], line 1\u001b[0m\n\u001b[1;32m----> 1\u001b[0m \u001b[38;5;28;01mimport\u001b[39;00m \u001b[38;5;21;01mapi_limit_handler\u001b[39;00m\n\u001b[0;32m      2\u001b[0m \u001b[38;5;28;01mimport\u001b[39;00m \u001b[38;5;21;01mapi_limit_handler_v2\u001b[39;00m\n",
      "\u001b[1;31mModuleNotFoundError\u001b[0m: No module named 'api_limit_handler'"
     ]
    }
   ],
   "source": [
    "import api_limit_handler\n",
    "import api_limit_handler_v2"
   ]
  },
  {
   "cell_type": "code",
   "execution_count": 18,
   "metadata": {},
   "outputs": [],
   "source": [
    "import os\n",
    "from dotenv import load_dotenv"
   ]
  },
  {
   "cell_type": "code",
   "execution_count": 19,
   "metadata": {},
   "outputs": [],
   "source": [
    "%load_ext autoreload\n",
    "%autoreload 2"
   ]
  },
  {
   "cell_type": "code",
   "execution_count": 20,
   "metadata": {},
   "outputs": [],
   "source": [
    "%reload_ext dotenv\n",
    "%dotenv .env"
   ]
  },
  {
   "cell_type": "code",
   "execution_count": 21,
   "metadata": {},
   "outputs": [
    {
     "data": {
      "text/plain": [
       "True"
      ]
     },
     "execution_count": 21,
     "metadata": {},
     "output_type": "execute_result"
    }
   ],
   "source": [
    "load_dotenv()"
   ]
  },
  {
   "cell_type": "code",
   "execution_count": 22,
   "metadata": {},
   "outputs": [],
   "source": [
    "# api_limit = api_limit_handler.APILimitHandler()"
   ]
  },
  {
   "cell_type": "code",
   "execution_count": 23,
   "metadata": {},
   "outputs": [],
   "source": [
    "rapidapi_key = os.getenv('rapidapi-key')\n",
    "rapidapi_host = os.getenv('rapidapi-host')"
   ]
  },
  {
   "cell_type": "code",
   "execution_count": 24,
   "metadata": {},
   "outputs": [],
   "source": [
    "log = logging.getLogger(__name__)                                  \n",
    "# log.setLevel(logging.INFO)   \n",
    "logging.basicConfig(level=logging.DEBUG, format='%(message)s')"
   ]
  },
  {
   "cell_type": "code",
   "execution_count": null,
   "metadata": {},
   "outputs": [],
   "source": []
  },
  {
   "cell_type": "code",
   "execution_count": null,
   "metadata": {},
   "outputs": [],
   "source": []
  },
  {
   "cell_type": "markdown",
   "metadata": {},
   "source": [
    "### Load data"
   ]
  },
  {
   "cell_type": "code",
   "execution_count": 25,
   "metadata": {},
   "outputs": [],
   "source": [
    "headers = {\n",
    "\t'x-rapidapi-key': rapidapi_key,\n",
    "\t'x-rapidapi-host': rapidapi_host\n",
    "}\n"
   ]
  },
  {
   "cell_type": "code",
   "execution_count": null,
   "metadata": {},
   "outputs": [],
   "source": [
    "def print_response(response):\n",
    "    print(json.dumps(response.json(), indent=4))\n"
   ]
  },
  {
   "cell_type": "code",
   "execution_count": 11,
   "metadata": {},
   "outputs": [
    {
     "ename": "ImportError",
     "evalue": "attempted relative import with no known parent package",
     "output_type": "error",
     "traceback": [
      "\u001b[1;31m---------------------------------------------------------------------------\u001b[0m",
      "\u001b[1;31mImportError\u001b[0m                               Traceback (most recent call last)",
      "Cell \u001b[1;32mIn[11], line 1\u001b[0m\n\u001b[1;32m----> 1\u001b[0m \u001b[38;5;28;01mfrom\u001b[39;00m \u001b[38;5;21;01m.\u001b[39;00m\u001b[38;5;21;01m.\u001b[39;00m\u001b[38;5;21;01mapi_limit_handler_v2\u001b[39;00m \u001b[38;5;28;01mimport\u001b[39;00m check_requests, prueba\n",
      "\u001b[1;31mImportError\u001b[0m: attempted relative import with no known parent package"
     ]
    }
   ],
   "source": [
    "from ..api_limit_handler_v2 import check_requests, prueba"
   ]
  },
  {
   "cell_type": "code",
   "execution_count": null,
   "metadata": {},
   "outputs": [],
   "source": [
    "# ewe = prueba(\"a\")\n",
    "# print(ewe)"
   ]
  },
  {
   "cell_type": "code",
   "execution_count": null,
   "metadata": {},
   "outputs": [],
   "source": [
    "league = 140\n",
    "season = 2022\n",
    "country = \"Spain\""
   ]
  },
  {
   "cell_type": "code",
   "execution_count": null,
   "metadata": {},
   "outputs": [
    {
     "name": "stderr",
     "output_type": "stream",
     "text": [
      "Starting new HTTPS connection (1): api-football-v1.p.rapidapi.com:443\n",
      "https://api-football-v1.p.rapidapi.com:443 \"GET /v3/teams?country=Spain&league=140&season=2022 HTTP/11\" 401 None\n"
     ]
    }
   ],
   "source": [
    "url = \"https://api-football-v1.p.rapidapi.com/v3/teams\"\n",
    "\n",
    "querystring = {\"country\": country, \"league\": league, \"season\": season}\n",
    "\n",
    "response = requests.get(url, headers=headers, params=querystring)"
   ]
  },
  {
   "cell_type": "code",
   "execution_count": null,
   "metadata": {},
   "outputs": [],
   "source": [
    "teams = json.loads(response.text).get('response')"
   ]
  },
  {
   "cell_type": "code",
   "execution_count": null,
   "metadata": {},
   "outputs": [
    {
     "ename": "TypeError",
     "evalue": "'NoneType' object is not iterable",
     "output_type": "error",
     "traceback": [
      "\u001b[1;31m---------------------------------------------------------------------------\u001b[0m",
      "\u001b[1;31mTypeError\u001b[0m                                 Traceback (most recent call last)",
      "Cell \u001b[1;32mIn[53], line 1\u001b[0m\n\u001b[1;32m----> 1\u001b[0m teams_id \u001b[38;5;241m=\u001b[39m \u001b[43m[\u001b[49m\u001b[43mteam\u001b[49m\u001b[43m[\u001b[49m\u001b[38;5;124;43m'\u001b[39;49m\u001b[38;5;124;43mteam\u001b[39;49m\u001b[38;5;124;43m'\u001b[39;49m\u001b[43m]\u001b[49m\u001b[43m[\u001b[49m\u001b[38;5;124;43m'\u001b[39;49m\u001b[38;5;124;43mid\u001b[39;49m\u001b[38;5;124;43m'\u001b[39;49m\u001b[43m]\u001b[49m\u001b[43m \u001b[49m\u001b[38;5;28;43;01mfor\u001b[39;49;00m\u001b[43m \u001b[49m\u001b[43mteam\u001b[49m\u001b[43m \u001b[49m\u001b[38;5;129;43;01min\u001b[39;49;00m\u001b[43m \u001b[49m\u001b[43mteams\u001b[49m\u001b[43m]\u001b[49m\n",
      "\u001b[1;31mTypeError\u001b[0m: 'NoneType' object is not iterable"
     ]
    }
   ],
   "source": [
    "teams_id = [team['team']['id'] for team in teams]"
   ]
  },
  {
   "cell_type": "code",
   "execution_count": 9,
   "metadata": {},
   "outputs": [
    {
     "ename": "NameError",
     "evalue": "name 'check_requests' is not defined",
     "output_type": "error",
     "traceback": [
      "\u001b[1;31m---------------------------------------------------------------------------\u001b[0m",
      "\u001b[1;31mNameError\u001b[0m                                 Traceback (most recent call last)",
      "Cell \u001b[1;32mIn[9], line 4\u001b[0m\n\u001b[0;32m      1\u001b[0m \u001b[38;5;28;01mimport\u001b[39;00m \u001b[38;5;21;01mpandas\u001b[39;00m \u001b[38;5;28;01mas\u001b[39;00m \u001b[38;5;21;01mpd\u001b[39;00m\n\u001b[1;32m----> 4\u001b[0m \u001b[38;5;129m@check_requests\u001b[39m\n\u001b[0;32m      5\u001b[0m \u001b[38;5;28;01mdef\u001b[39;00m \u001b[38;5;21mget_team_info\u001b[39m(team_id, query_date):\n\u001b[0;32m      7\u001b[0m     url \u001b[38;5;241m=\u001b[39m \u001b[38;5;124m\"\u001b[39m\u001b[38;5;124mhttps://api-football-v1.p.rapidapi.com/v3/teams/statistics\u001b[39m\u001b[38;5;124m\"\u001b[39m\n\u001b[0;32m      9\u001b[0m     querystring \u001b[38;5;241m=\u001b[39m {\u001b[38;5;124m\"\u001b[39m\u001b[38;5;124mleague\u001b[39m\u001b[38;5;124m\"\u001b[39m: \u001b[38;5;241m140\u001b[39m, \u001b[38;5;124m\"\u001b[39m\u001b[38;5;124mseason\u001b[39m\u001b[38;5;124m\"\u001b[39m: \u001b[38;5;241m2022\u001b[39m, \u001b[38;5;124m\"\u001b[39m\u001b[38;5;124mteam\u001b[39m\u001b[38;5;124m\"\u001b[39m: team_id, \u001b[38;5;124m\"\u001b[39m\u001b[38;5;124mdate\u001b[39m\u001b[38;5;124m\"\u001b[39m: query_date}\n",
      "\u001b[1;31mNameError\u001b[0m: name 'check_requests' is not defined"
     ]
    }
   ],
   "source": [
    "import pandas as pd\n",
    "\n",
    "\n",
    "@check_requests\n",
    "def get_team_info(team_id, query_date):\n",
    "\n",
    "    url = \"https://api-football-v1.p.rapidapi.com/v3/teams/statistics\"\n",
    "\n",
    "    querystring = {\"league\": 140, \"season\": 2022, \"team\": team_id, \"date\": query_date}\n",
    "\n",
    "    response = requests.get(url, headers=headers, params=querystring)\n",
    "\n",
    "    response_content = json.loads(response.text)[\"response\"]\n",
    "\n",
    "    team_id = response_content[\"team\"][\"id\"]\n",
    "    name = response_content[\"team\"][\"name\"]\n",
    "\n",
    "    history = response_content[\"form\"]\n",
    "\n",
    "    total_played = response_content[\"fixtures\"][\"played\"][\"total\"]\n",
    "\n",
    "    wins_home = response_content[\"fixtures\"][\"wins\"][\"home\"]\n",
    "    wins_away = response_content[\"fixtures\"][\"wins\"][\"away\"]\n",
    "\n",
    "    draws_home = response_content[\"fixtures\"][\"draws\"][\"home\"]\n",
    "    draws_away = response_content[\"fixtures\"][\"draws\"][\"away\"]\n",
    "\n",
    "    loses_home = response_content[\"fixtures\"][\"loses\"][\"home\"]\n",
    "    loses_away = response_content[\"fixtures\"][\"loses\"][\"away\"]\n",
    "\n",
    "    goals_for_home = response_content[\"goals\"][\"for\"][\"total\"][\"home\"]\n",
    "    goals_for_away = response_content[\"goals\"][\"for\"][\"total\"][\"away\"]\n",
    "\n",
    "    goals_against_home = response_content[\"goals\"][\"against\"][\"total\"][\"home\"]\n",
    "    goals_against_away = response_content[\"goals\"][\"against\"][\"total\"][\"away\"]\n",
    "\n",
    "    return (\n",
    "        team_id,\n",
    "        query_date,\n",
    "        name,\n",
    "        history,\n",
    "        total_played,\n",
    "        wins_home,\n",
    "        wins_away,\n",
    "        draws_home,\n",
    "        draws_away,\n",
    "        loses_home,\n",
    "        loses_away,\n",
    "        goals_for_home,\n",
    "        goals_for_away,\n",
    "        goals_against_home,\n",
    "        goals_against_away,\n",
    "    )"
   ]
  },
  {
   "cell_type": "code",
   "execution_count": null,
   "metadata": {},
   "outputs": [],
   "source": [
    "query_date = \"2022-08-18\""
   ]
  },
  {
   "cell_type": "code",
   "execution_count": null,
   "metadata": {},
   "outputs": [],
   "source": [
    "#TODO\n",
    "first_match_date = datetime.date(2022,8,11)\n",
    "last_match_date =  datetime.date(2023,6,10)"
   ]
  },
  {
   "cell_type": "code",
   "execution_count": null,
   "metadata": {},
   "outputs": [],
   "source": [
    "# Get all wednesdays of a year\n",
    "diff_to_wednesday = (7 - 5 - first_match_date.weekday()) % 7\n",
    "\n",
    "# print(diff_to_wednesday)\n",
    "\n",
    "if diff_to_wednesday > 0 :\n",
    "    first_wednesday = first_match_date + datetime.timedelta(diff_to_wednesday)\n",
    "else:\n",
    "    first_wednesday = first_match_date - datetime.timedelta(diff_to_wednesday)\n",
    "\n",
    "new_date = first_wednesday\n",
    "wednesdays = []\n",
    "while new_date < last_match_date:\n",
    "    wednesdays.append(new_date)\n",
    "    new_date = new_date + datetime.timedelta(7)"
   ]
  },
  {
   "cell_type": "code",
   "execution_count": null,
   "metadata": {},
   "outputs": [],
   "source": [
    "#TODO: lanzar quitando los equipos ya cargados al completo"
   ]
  },
  {
   "cell_type": "code",
   "execution_count": null,
   "metadata": {},
   "outputs": [],
   "source": [
    "# Load current data\n",
    "with sqlite3.connect('soccer.db') as conn:\n",
    "    teams_db = pd.read_sql('select * from teams', conn)\n",
    "\n",
    "data_retrieved = teams_db[(teams_db[\"team_id\"]==529) & (teams_db[\"query_date\"]==\"2022-09-07\")]"
   ]
  },
  {
   "cell_type": "code",
   "execution_count": null,
   "metadata": {},
   "outputs": [
    {
     "data": {
      "text/plain": [
       "43"
      ]
     },
     "execution_count": 26,
     "metadata": {},
     "output_type": "execute_result"
    }
   ],
   "source": [
    "len(wednesdays)"
   ]
  },
  {
   "cell_type": "code",
   "execution_count": null,
   "metadata": {},
   "outputs": [
    {
     "name": "stdout",
     "output_type": "stream",
     "text": [
      " = \n",
      " = \n",
      " = \n",
      " = \n",
      " = \n",
      " = \n",
      " = \n",
      " = \n",
      " = \n",
      " = \n",
      " = \n",
      " = \n",
      " = \n",
      " = \n",
      " = \n",
      " = \n",
      " = \n",
      " = \n",
      " = \n",
      " = \n",
      " = \n",
      " = \n",
      " = \n",
      " = \n",
      " = \n",
      " = \n",
      " = \n",
      " = \n",
      " = \n",
      " = \n",
      " = \n",
      " = \n",
      " = \n",
      " = \n",
      " = \n",
      " = \n",
      " = \n",
      " = \n",
      " = \n",
      " = \n",
      " = \n",
      " = \n",
      " = \n",
      " = \n",
      " = \n",
      " = \n",
      " = \n",
      " = \n",
      " = \n",
      " = \n",
      " = \n",
      " = \n",
      " = \n",
      " = \n",
      " = \n",
      " = \n",
      " = \n",
      " = \n",
      " = \n",
      " = \n",
      " = \n",
      " = \n",
      " = \n",
      " = \n",
      " = \n",
      " = \n",
      " = \n",
      " = \n",
      " = \n",
      " = \n",
      " = \n",
      " = \n",
      " = \n",
      " = \n",
      " = \n",
      " = \n",
      " = \n",
      " = \n",
      " = \n",
      " = \n",
      " = \n",
      " = \n",
      " = \n",
      " = \n",
      " = \n",
      " = \n",
      " = \n",
      " = \n",
      " = \n",
      " = \n",
      " = \n",
      " = \n",
      " = \n",
      " = \n",
      " = \n",
      " = \n",
      " = \n",
      " = \n",
      " = \n",
      " = \n",
      " = \n",
      " = \n",
      " = \n",
      " = \n",
      " = \n",
      " = \n",
      " = \n",
      " = \n",
      " = \n",
      " = \n",
      " = \n",
      " = \n",
      " = \n",
      " = \n",
      " = \n",
      " = \n",
      " = \n",
      " = \n",
      " = \n",
      " = \n",
      " = \n",
      " = \n",
      " = \n",
      " = \n",
      " = \n",
      " = \n",
      " = \n",
      " = \n",
      " = \n",
      " = \n",
      " = \n",
      " = \n",
      " = \n",
      " = \n",
      " = \n",
      " = \n",
      " = \n",
      " = \n",
      " = \n",
      " = \n",
      " = \n",
      " = \n",
      " = \n",
      " = \n",
      " = \n",
      " = \n",
      " = \n",
      " = \n",
      " = \n",
      " = \n",
      " = \n",
      " = \n",
      " = \n",
      " = \n",
      " = \n",
      " = \n",
      " = \n",
      " = \n",
      " = \n",
      " = \n",
      " = \n",
      " = \n",
      " = \n",
      " = \n",
      " = \n",
      " = \n",
      " = \n",
      " = \n",
      " = \n",
      " = \n",
      " = \n",
      " = \n",
      " = \n",
      " = \n",
      " = \n",
      " = \n",
      " = \n",
      " = \n",
      " = \n",
      " = \n",
      " = \n",
      " = \n",
      " = \n",
      " = \n",
      " = \n",
      " = \n",
      " = \n",
      " = \n",
      " = \n",
      " = \n",
      " = \n",
      " = \n",
      " = \n",
      " = \n",
      " = \n",
      " = \n",
      " = \n",
      " = \n",
      " = \n",
      " = \n",
      " = \n",
      " = \n",
      " = \n",
      " = \n",
      " = \n",
      " = \n",
      " = \n",
      " = \n",
      " = \n",
      " = \n",
      " = \n",
      " = \n",
      " = \n",
      " = \n",
      " = \n",
      " = \n",
      " = \n",
      " = \n",
      " = \n",
      " = \n",
      " = \n",
      " = \n",
      " = \n",
      " = \n",
      " = \n",
      " = \n",
      " = \n",
      " = \n",
      " = \n",
      " = \n",
      " = \n",
      " = \n",
      " = \n",
      " = \n",
      " = \n",
      " = \n",
      " = \n",
      " = \n",
      " = \n",
      " = \n",
      " = \n",
      " = \n",
      " = \n",
      " = \n",
      " = \n",
      " = \n",
      " = \n",
      " = \n",
      " = \n",
      " = \n",
      " = \n",
      " = \n",
      " = \n",
      " = \n",
      " = \n",
      " = \n",
      " = \n",
      " = \n",
      " = \n",
      " = \n",
      " = \n",
      " = \n",
      " = \n",
      " = \n",
      " = \n",
      " = \n",
      " = \n",
      " = \n",
      " = \n",
      " = \n",
      " = \n",
      " = \n",
      " = \n",
      " = \n",
      " = \n",
      " = \n",
      " = \n",
      " = \n",
      " = \n",
      " = \n",
      " = \n",
      " = \n",
      " = \n",
      " = \n",
      " = \n",
      " = \n",
      " = \n",
      " = \n",
      " = \n",
      " = \n",
      " = \n",
      " = \n",
      " = \n",
      " = \n",
      " = \n",
      " = \n",
      " = \n",
      " = \n",
      " = \n",
      " = \n",
      " = \n",
      " = \n",
      " = \n",
      " = \n",
      " = \n",
      " = \n",
      " = \n",
      " = \n",
      " = \n",
      " = \n",
      " = \n",
      " = \n",
      " = \n",
      " = \n",
      " = \n",
      " = \n",
      " = \n",
      " = \n",
      " = \n",
      " = \n",
      " = \n",
      " = \n",
      " = \n",
      " = \n",
      " = \n",
      " = \n",
      " = \n",
      " = \n",
      " = \n",
      " = \n",
      " = \n",
      " = \n",
      " = \n",
      " = \n",
      " = \n",
      " = \n",
      " = \n",
      " = \n",
      " = \n",
      " = \n",
      " = \n",
      " = \n",
      " = \n",
      " = \n",
      " = \n",
      " = \n",
      " = \n",
      " = \n",
      " = \n",
      " = \n",
      " = \n",
      " = \n",
      " = \n",
      " = \n",
      " = \n",
      " = \n",
      " = \n",
      " = \n",
      " = \n",
      " = \n",
      " = \n",
      " = \n",
      " = \n",
      " = \n",
      " = \n",
      " = \n",
      " = \n",
      " = \n",
      " = \n",
      " = \n",
      " = \n",
      " = \n",
      " = \n",
      " = \n",
      " = \n",
      " = \n",
      " = \n",
      " = \n",
      " = \n",
      " = \n",
      " = \n",
      " = \n",
      " = \n",
      " = \n",
      " = \n",
      " = \n",
      " = \n",
      " = \n",
      " = \n",
      " = \n",
      " = \n",
      " = \n",
      " = \n",
      " = \n",
      " = \n",
      " = \n",
      " = \n",
      " = \n",
      " = \n",
      " = \n",
      " = \n",
      " = \n",
      " = \n",
      " = \n",
      " = \n",
      " = \n",
      " = \n",
      " = \n",
      " = \n",
      " = \n",
      " = \n",
      " = \n",
      " = \n",
      " = \n",
      " = \n",
      " = \n",
      " = \n",
      " = \n",
      " = \n",
      " = \n",
      " = \n",
      " = \n",
      " = \n",
      " = \n",
      " = \n",
      " = \n",
      " = \n",
      " = \n",
      " = \n",
      " = \n",
      " = \n",
      " = \n",
      " = \n",
      " = \n",
      " = \n",
      " = \n",
      " = \n",
      " = \n",
      " = \n",
      " = \n",
      " = \n",
      " = \n",
      " = \n",
      " = \n",
      " = \n",
      " = \n",
      " = \n",
      " = \n",
      " = \n",
      " = \n",
      " = \n",
      " = \n",
      " = \n",
      " = \n",
      " = \n",
      " = \n",
      " = \n",
      " = \n",
      " = \n",
      " = \n",
      " = \n",
      " = \n",
      " = \n",
      " = \n",
      " = \n",
      " = \n",
      " = \n",
      " = \n",
      " = \n",
      " = \n",
      " = \n",
      " = \n",
      " = \n",
      " = \n",
      " = \n",
      " = \n",
      " = \n",
      " = \n",
      " = \n",
      " = \n",
      " = \n",
      " = \n",
      " = \n",
      " = \n",
      " = \n",
      " = \n",
      " = \n",
      " = \n",
      " = \n",
      " = \n",
      " = \n",
      " = \n",
      " = \n",
      " = \n",
      " = \n",
      " = \n",
      " = \n",
      " = \n",
      " = \n",
      " = \n",
      " = \n",
      " = \n",
      " = \n",
      " = \n",
      " = \n",
      " = \n",
      " = \n",
      " = \n",
      " = \n",
      " = \n",
      " = \n",
      " = \n",
      " = \n",
      " = \n",
      " = \n",
      " = \n",
      " = \n",
      " = \n",
      " = \n",
      " = \n",
      " = \n",
      " = \n",
      " = \n",
      " = \n",
      " = \n",
      " = \n",
      " = \n",
      " = \n",
      " = \n",
      " = \n",
      " = \n",
      " = \n",
      " = \n",
      " = \n",
      " = \n",
      " = \n",
      " = \n",
      " = \n",
      " = \n",
      " = \n",
      " = \n",
      " = \n",
      " = \n",
      " = \n",
      " = \n",
      " = \n",
      " = \n",
      " = \n",
      " = \n",
      " = \n",
      " = \n",
      " = \n",
      " = \n",
      " = \n",
      " = \n",
      " = \n",
      " = \n",
      " = \n",
      " = \n",
      " = \n",
      " = \n",
      " = \n",
      " = \n",
      " = \n",
      " = \n",
      " = \n",
      " = \n",
      " = \n",
      " = \n",
      " = \n",
      " = \n",
      " = \n",
      " = \n",
      " = \n",
      " = \n",
      " = \n",
      " = \n",
      " = \n",
      " = \n",
      " = \n",
      " = \n",
      " = \n",
      " = \n",
      " = \n",
      " = \n",
      " = \n",
      " = \n",
      " = \n",
      " = \n",
      " = \n",
      " = \n",
      " = \n",
      " = \n",
      " = \n",
      " = \n",
      " = \n",
      " = \n",
      " = \n",
      " = \n",
      " = \n",
      " = \n",
      " = \n",
      " = \n",
      " = \n",
      " = \n",
      " = \n",
      " = \n",
      " = \n",
      " = \n",
      " = \n",
      " = \n",
      " = \n",
      " = \n",
      " = \n",
      " = \n",
      " = \n",
      " = \n",
      " = \n",
      " = \n",
      " = \n",
      " = \n",
      " = \n",
      " = \n",
      " = \n",
      " = \n",
      " = \n",
      " = \n",
      " = \n",
      " = \n",
      " = \n",
      " = \n",
      " = \n",
      " = \n",
      " = \n",
      " = \n",
      " = \n",
      " = \n",
      " = \n",
      " = \n",
      " = \n",
      " = \n",
      " = \n",
      " = \n",
      " = \n",
      " = \n",
      " = \n",
      " = \n",
      " = \n",
      " = \n",
      " = \n",
      " = \n",
      " = \n",
      " = \n",
      " = \n",
      " = \n",
      " = \n",
      " = \n",
      " = \n",
      " = \n",
      " = \n",
      " = \n",
      " = \n",
      " = \n",
      " = \n",
      " = \n",
      " = \n",
      " = \n",
      " = \n",
      " = \n",
      " = \n",
      " = \n",
      " = \n",
      " = \n",
      " = \n",
      " = \n",
      " = \n",
      " = \n",
      " = \n",
      " = \n",
      " = \n",
      " = \n",
      " = \n",
      " = \n",
      " = \n",
      " = \n",
      " = \n",
      " = \n",
      " = \n",
      " = \n",
      " = \n",
      " = \n",
      " = \n",
      " = \n",
      " = \n",
      " = \n",
      " = \n",
      " = \n",
      " = \n",
      " = \n",
      " = \n",
      " = \n",
      " = \n",
      " = \n",
      " = \n",
      " = \n",
      " = \n",
      " = \n",
      " = \n",
      " = \n",
      " = \n",
      " = \n",
      " = \n",
      " = \n",
      " = \n",
      " = \n",
      " = \n",
      " = \n",
      " = \n",
      " = \n",
      " = \n",
      " = \n",
      " = \n",
      " = \n",
      " = \n",
      " = \n",
      " = \n",
      " = \n",
      " = \n",
      " = \n",
      " = \n",
      " = \n",
      " = \n",
      " = \n",
      " = \n",
      " = \n",
      " = \n",
      " = \n",
      " = \n",
      " = \n",
      " = \n",
      " = \n",
      " = \n",
      " = \n",
      " = \n",
      " = \n",
      " = \n",
      " = \n",
      " = \n",
      " = \n",
      " = \n",
      " = \n",
      " = \n",
      " = \n",
      " = \n",
      " = \n",
      " = \n",
      " = \n",
      " = \n",
      " = \n",
      " = \n",
      " = \n",
      " = \n",
      " = \n",
      " = \n",
      " = \n",
      " = \n",
      " = \n",
      " = \n",
      " = \n",
      " = \n",
      " = \n",
      " = \n",
      " = \n",
      " = \n",
      " = \n",
      " = \n",
      " = \n",
      " = \n",
      " = \n",
      " = \n",
      " = \n",
      " = \n",
      " = \n",
      " = \n",
      " = \n",
      " = \n",
      " = \n",
      " = \n",
      " = \n",
      " = \n",
      " = \n",
      " = \n",
      " = \n",
      " = \n",
      " = \n",
      " = \n",
      " = \n",
      " = \n",
      " = \n",
      " = \n"
     ]
    }
   ],
   "source": [
    "# Load current data\n",
    "with sqlite3.connect('soccer.db') as conn:\n",
    "    teams_db = pd.read_sql('select * from teams', conn)\n",
    "\n",
    "teams = {}\n",
    "for team_id in teams_id:\n",
    "    team_data = {}\n",
    "    for query_date in wednesdays[3:]:\n",
    "        print(\" = \")\n",
    "        data_retrieved = teams_db[(teams_db[\"team_id\"]==team_id) & (teams_db[\"query_date\"]==str(query_date))]\n",
    "        # print(data_retrieved)\n",
    "        # If data is not available at db, get it\n",
    "        if data_retrieved.empty:\n",
    "            print(f\"Data needed for team {team_id} and query date {query_date}\")\n",
    "            team_data[query_date] = get_team_info(team_id, query_date)\n",
    "            time.sleep(5)\n",
    "    teams[team_id] = team_data"
   ]
  },
  {
   "cell_type": "code",
   "execution_count": null,
   "metadata": {},
   "outputs": [
    {
     "ename": "NameError",
     "evalue": "name 'team_data' is not defined",
     "output_type": "error",
     "traceback": [
      "\u001b[1;31m---------------------------------------------------------------------------\u001b[0m",
      "\u001b[1;31mNameError\u001b[0m                                 Traceback (most recent call last)",
      "Cell \u001b[1;32mIn[120], line 1\u001b[0m\n\u001b[1;32m----> 1\u001b[0m \u001b[43mteam_data\u001b[49m\n",
      "\u001b[1;31mNameError\u001b[0m: name 'team_data' is not defined"
     ]
    }
   ],
   "source": [
    "team_data"
   ]
  },
  {
   "cell_type": "code",
   "execution_count": null,
   "metadata": {},
   "outputs": [],
   "source": [
    "for team, team_data in teams.items():\n",
    "    df_teams = pd.DataFrame.from_dict(\n",
    "        team_data,\n",
    "        orient=\"index\",\n",
    "        columns=[\n",
    "            \"team_id\",\n",
    "            \"query_date\",\n",
    "            \"name\",\n",
    "            \"history\",\n",
    "            \"total_played\",\n",
    "            \"wins_home\",\n",
    "            \"wins_away\",\n",
    "            \"draws_home\",\n",
    "            \"draws_away\",\n",
    "            \"loses_home\",\n",
    "            \"loses_away\",\n",
    "            \"goals_for_home\",\n",
    "            \"goals_for_away\",\n",
    "            \"goals_against_home\",\n",
    "            \"goals_against_away\",\n",
    "        ],\n",
    "    )\n",
    "    with sqlite3.connect('soccer.db') as conn:\n",
    "        df_teams.to_sql(name=\"teams\", con=conn, if_exists=\"append\", index=False)"
   ]
  },
  {
   "cell_type": "code",
   "execution_count": null,
   "metadata": {},
   "outputs": [],
   "source": [
    "# teams = {}\n",
    "# for team_id in teams_id:\n",
    "#     team_data = {}\n",
    "#     for query_date in wednesdays[3:5]:\n",
    "#         team_data[query_date] = get_team_info(team_id, query_date)\n",
    "#         time.sleep(5)\n",
    "#     teams[team_id] = team_data"
   ]
  },
  {
   "cell_type": "code",
   "execution_count": null,
   "metadata": {},
   "outputs": [],
   "source": []
  },
  {
   "cell_type": "code",
   "execution_count": null,
   "metadata": {},
   "outputs": [],
   "source": []
  },
  {
   "cell_type": "code",
   "execution_count": 26,
   "metadata": {},
   "outputs": [
    {
     "name": "stderr",
     "output_type": "stream",
     "text": [
      "Starting new HTTPS connection (1): api-football-v1.p.rapidapi.com:443\n",
      "https://api-football-v1.p.rapidapi.com:443 \"GET /v3/fixtures/rounds?league=140&season=2022 HTTP/11\" 200 None\n"
     ]
    }
   ],
   "source": [
    "url = \"https://api-football-v1.p.rapidapi.com/v3/fixtures/rounds\"\n",
    "\n",
    "querystring = {\"league\":140, \"season\": 2022}\n",
    "\n",
    "response = requests.get(url, headers=headers, params=querystring)\n",
    "\n",
    "rounds = json.loads(response.text).get('response')"
   ]
  },
  {
   "cell_type": "code",
   "execution_count": null,
   "metadata": {},
   "outputs": [],
   "source": [
    "# rs = [re.search('Regular Season - (\\d+)', round).group(1) for round in r]"
   ]
  },
  {
   "cell_type": "code",
   "execution_count": null,
   "metadata": {},
   "outputs": [],
   "source": [
    "# rounds = ['Regular Season - 32', 'Regular Season - 33', 'Regular Season - 34']"
   ]
  },
  {
   "cell_type": "code",
   "execution_count": 27,
   "metadata": {},
   "outputs": [
    {
     "data": {
      "text/plain": [
       "['Regular Season - 1',\n",
       " 'Regular Season - 2',\n",
       " 'Regular Season - 3',\n",
       " 'Regular Season - 4',\n",
       " 'Regular Season - 5',\n",
       " 'Regular Season - 6',\n",
       " 'Regular Season - 7',\n",
       " 'Regular Season - 8',\n",
       " 'Regular Season - 9',\n",
       " 'Regular Season - 10',\n",
       " 'Regular Season - 11',\n",
       " 'Regular Season - 12',\n",
       " 'Regular Season - 13',\n",
       " 'Regular Season - 14',\n",
       " 'Regular Season - 15',\n",
       " 'Regular Season - 16',\n",
       " 'Regular Season - 17',\n",
       " 'Regular Season - 18',\n",
       " 'Regular Season - 19',\n",
       " 'Regular Season - 20',\n",
       " 'Regular Season - 21',\n",
       " 'Regular Season - 22',\n",
       " 'Regular Season - 23',\n",
       " 'Regular Season - 24',\n",
       " 'Regular Season - 25',\n",
       " 'Regular Season - 26',\n",
       " 'Regular Season - 27',\n",
       " 'Regular Season - 28',\n",
       " 'Regular Season - 29',\n",
       " 'Regular Season - 30',\n",
       " 'Regular Season - 31',\n",
       " 'Regular Season - 32',\n",
       " 'Regular Season - 33',\n",
       " 'Regular Season - 34',\n",
       " 'Regular Season - 35',\n",
       " 'Regular Season - 36',\n",
       " 'Regular Season - 37',\n",
       " 'Regular Season - 38']"
      ]
     },
     "execution_count": 27,
     "metadata": {},
     "output_type": "execute_result"
    }
   ],
   "source": [
    "rounds"
   ]
  },
  {
   "cell_type": "code",
   "execution_count": 28,
   "metadata": {},
   "outputs": [],
   "source": [
    "rounds = rounds[:3]"
   ]
  },
  {
   "cell_type": "code",
   "execution_count": 29,
   "metadata": {},
   "outputs": [
    {
     "data": {
      "text/plain": [
       "['Regular Season - 1', 'Regular Season - 2', 'Regular Season - 3']"
      ]
     },
     "execution_count": 29,
     "metadata": {},
     "output_type": "execute_result"
    }
   ],
   "source": [
    "rounds"
   ]
  },
  {
   "cell_type": "code",
   "execution_count": 12,
   "metadata": {},
   "outputs": [],
   "source": [
    "import re"
   ]
  },
  {
   "cell_type": "code",
   "execution_count": 39,
   "metadata": {},
   "outputs": [],
   "source": [
    "def get_round_info(round, league=140, season=2022):\n",
    "    querystring = {\"league\":league, \"season\": season, \"round\" : round}\n",
    "    url = \"https://api-football-v1.p.rapidapi.com/v3/fixtures\"\n",
    "    response = requests.get(url, headers=headers, params=querystring)\n",
    "    fixtures_round = json.loads(response.text).get('response')\n",
    "\n",
    "    round_format = re.search('Regular Season - (\\d+)', round).group(1)\n",
    "\n",
    "    log.info(f\" ===== Loading round {round_format} =====\")\n",
    "\n",
    "    data_fixtures_round = []\n",
    "    # For each home, get both teams id\n",
    "    for fixture in fixtures_round[:1]:\n",
    "        print(fixture)\n",
    "\n",
    "        match_datetime = fixture[\"fixture\"][\"date\"]\n",
    "\n",
    "        home_id = fixture[\"teams\"][\"home\"][\"id\"]\n",
    "        away_id = fixture[\"teams\"][\"away\"][\"id\"]\n",
    "\n",
    "        home_win = fixture[\"teams\"][\"home\"][\"winner\"]\n",
    "        away_win = fixture[\"teams\"][\"away\"][\"winner\"]\n",
    "\n",
    "        result = \"\"\n",
    "        if home_win == True:\n",
    "            result = \"home_win\"\n",
    "        elif away_win == True:\n",
    "            result = \"away_win\"\n",
    "        else:\n",
    "            result = \"draw\"\n",
    "        data_fixtures_round.append([round_format, match_datetime, home_id, away_id, None, result])\n",
    "    \n",
    "    time.sleep(5)\n",
    "    return data_fixtures_round"
   ]
  },
  {
   "cell_type": "code",
   "execution_count": null,
   "metadata": {},
   "outputs": [],
   "source": [
    "{\n",
    "    \"fixture\": {\n",
    "        \"id\": 877952,\n",
    "        \"referee\": \"César Soto\",\n",
    "        \"timezone\": \"UTC\",\n",
    "        \"date\": \"2022-08-21T15:30:00+00:00\",\n",
    "        \"timestamp\": 1661095800,\n",
    "        \"periods\": {\"first\": 1661095800, \"second\": 1661099400},\n",
    "        \"venue\": {\"id\": 1460, \"name\": \"San Mamés Barria\", \"city\": \"Bilbao\"},\n",
    "        \"status\": {\"long\": \"Match Finished\", \"short\": \"FT\", \"elapsed\": 90},\n",
    "    },\n",
    "    \"league\": {\n",
    "        \"id\": 140,\n",
    "        \"name\": \"La Liga\",\n",
    "        \"country\": \"Spain\",\n",
    "        \"logo\": \"https://media.api-sports.io/football/leagues/140.png\",\n",
    "        \"flag\": \"https://media.api-sports.io/flags/es.svg\",\n",
    "        \"season\": 2022,\n",
    "        \"round\": \"Regular Season - 2\",\n",
    "    },\n",
    "    \"teams\": {\n",
    "        \"home\": {\n",
    "            \"id\": 531,\n",
    "            \"name\": \"Athletic Club\",\n",
    "            \"logo\": \"https://media.api-sports.io/football/teams/531.png\",\n",
    "            \"winner\": True,\n",
    "        },\n",
    "        \"away\": {\n",
    "            \"id\": 532,\n",
    "            \"name\": \"Valencia\",\n",
    "            \"logo\": \"https://media.api-sports.io/football/teams/532.png\",\n",
    "            \"winner\": False,\n",
    "        },\n",
    "    },\n",
    "    \"goals\": {\"home\": 1, \"away\": 0},\n",
    "    \"score\": {\n",
    "        \"halftime\": {\"home\": 1, \"away\": 0},\n",
    "        \"fulltime\": {\"home\": 1, \"away\": 0},\n",
    "        \"extratime\": {\"home\": None, \"away\": None},\n",
    "        \"penalty\": {\"home\": None, \"away\": None},\n",
    "    },\n",
    "}"
   ]
  },
  {
   "cell_type": "code",
   "execution_count": 40,
   "metadata": {},
   "outputs": [
    {
     "name": "stderr",
     "output_type": "stream",
     "text": [
      "Starting new HTTPS connection (1): api-football-v1.p.rapidapi.com:443\n",
      "https://api-football-v1.p.rapidapi.com:443 \"GET /v3/fixtures?league=140&season=2022&round=Regular+Season+-+1 HTTP/11\" 200 None\n",
      " ===== Loading round 1 =====\n"
     ]
    },
    {
     "name": "stdout",
     "output_type": "stream",
     "text": [
      "{'fixture': {'id': 877942, 'referee': 'Javier Iglesias', 'timezone': 'UTC', 'date': '2022-08-15T15:30:00+00:00', 'timestamp': 1660577400, 'periods': {'first': 1660577400, 'second': 1660581000}, 'venue': {'id': 1460, 'name': 'San Mamés Barria', 'city': 'Bilbao'}, 'status': {'long': 'Match Finished', 'short': 'FT', 'elapsed': 90}}, 'league': {'id': 140, 'name': 'La Liga', 'country': 'Spain', 'logo': 'https://media.api-sports.io/football/leagues/140.png', 'flag': 'https://media.api-sports.io/flags/es.svg', 'season': 2022, 'round': 'Regular Season - 1'}, 'teams': {'home': {'id': 531, 'name': 'Athletic Club', 'logo': 'https://media.api-sports.io/football/teams/531.png', 'winner': None}, 'away': {'id': 798, 'name': 'Mallorca', 'logo': 'https://media.api-sports.io/football/teams/798.png', 'winner': None}}, 'goals': {'home': 0, 'away': 0}, 'score': {'halftime': {'home': 0, 'away': 0}, 'fulltime': {'home': 0, 'away': 0}, 'extratime': {'home': None, 'away': None}, 'penalty': {'home': None, 'away': None}}}\n"
     ]
    },
    {
     "name": "stderr",
     "output_type": "stream",
     "text": [
      "Starting new HTTPS connection (1): api-football-v1.p.rapidapi.com:443\n",
      "https://api-football-v1.p.rapidapi.com:443 \"GET /v3/fixtures?league=140&season=2022&round=Regular+Season+-+2 HTTP/11\" 200 None\n",
      " ===== Loading round 2 =====\n"
     ]
    },
    {
     "name": "stdout",
     "output_type": "stream",
     "text": [
      "{'fixture': {'id': 877952, 'referee': 'César Soto', 'timezone': 'UTC', 'date': '2022-08-21T15:30:00+00:00', 'timestamp': 1661095800, 'periods': {'first': 1661095800, 'second': 1661099400}, 'venue': {'id': 1460, 'name': 'San Mamés Barria', 'city': 'Bilbao'}, 'status': {'long': 'Match Finished', 'short': 'FT', 'elapsed': 90}}, 'league': {'id': 140, 'name': 'La Liga', 'country': 'Spain', 'logo': 'https://media.api-sports.io/football/leagues/140.png', 'flag': 'https://media.api-sports.io/flags/es.svg', 'season': 2022, 'round': 'Regular Season - 2'}, 'teams': {'home': {'id': 531, 'name': 'Athletic Club', 'logo': 'https://media.api-sports.io/football/teams/531.png', 'winner': True}, 'away': {'id': 532, 'name': 'Valencia', 'logo': 'https://media.api-sports.io/football/teams/532.png', 'winner': False}}, 'goals': {'home': 1, 'away': 0}, 'score': {'halftime': {'home': 1, 'away': 0}, 'fulltime': {'home': 1, 'away': 0}, 'extratime': {'home': None, 'away': None}, 'penalty': {'home': None, 'away': None}}}\n"
     ]
    },
    {
     "name": "stderr",
     "output_type": "stream",
     "text": [
      "Starting new HTTPS connection (1): api-football-v1.p.rapidapi.com:443\n",
      "https://api-football-v1.p.rapidapi.com:443 \"GET /v3/fixtures?league=140&season=2022&round=Regular+Season+-+3 HTTP/11\" 200 None\n",
      " ===== Loading round 3 =====\n"
     ]
    },
    {
     "name": "stdout",
     "output_type": "stream",
     "text": [
      "{'fixture': {'id': 877962, 'referee': 'Ricardo De Burgos', 'timezone': 'UTC', 'date': '2022-08-28T17:30:00+00:00', 'timestamp': 1661707800, 'periods': {'first': 1661707800, 'second': 1661711400}, 'venue': {'id': 18630, 'name': 'Spotify Camp Nou', 'city': 'Barcelona'}, 'status': {'long': 'Match Finished', 'short': 'FT', 'elapsed': 90}}, 'league': {'id': 140, 'name': 'La Liga', 'country': 'Spain', 'logo': 'https://media.api-sports.io/football/leagues/140.png', 'flag': 'https://media.api-sports.io/flags/es.svg', 'season': 2022, 'round': 'Regular Season - 3'}, 'teams': {'home': {'id': 529, 'name': 'Barcelona', 'logo': 'https://media.api-sports.io/football/teams/529.png', 'winner': True}, 'away': {'id': 720, 'name': 'Valladolid', 'logo': 'https://media.api-sports.io/football/teams/720.png', 'winner': False}}, 'goals': {'home': 4, 'away': 0}, 'score': {'halftime': {'home': 2, 'away': 0}, 'fulltime': {'home': 4, 'away': 0}, 'extratime': {'home': None, 'away': None}, 'penalty': {'home': None, 'away': None}}}\n"
     ]
    }
   ],
   "source": [
    "data_fixtures = []\n",
    "\n",
    "for round in rounds:\n",
    "    round_data = get_round_info(round)\n",
    "    data_fixtures.extend(round_data)"
   ]
  },
  {
   "cell_type": "code",
   "execution_count": 41,
   "metadata": {},
   "outputs": [
    {
     "data": {
      "text/plain": [
       "'Regular Season - 3'"
      ]
     },
     "execution_count": 41,
     "metadata": {},
     "output_type": "execute_result"
    }
   ],
   "source": [
    "round"
   ]
  },
  {
   "cell_type": "code",
   "execution_count": null,
   "metadata": {},
   "outputs": [],
   "source": []
  },
  {
   "cell_type": "code",
   "execution_count": 42,
   "metadata": {},
   "outputs": [
    {
     "data": {
      "text/plain": [
       "[['1', '2022-08-15T15:30:00+00:00', 531, 798, None, 'draw'],\n",
       " ['2', '2022-08-21T15:30:00+00:00', 531, 532, None, 'home_win'],\n",
       " ['3', '2022-08-28T17:30:00+00:00', 529, 720, None, 'home_win']]"
      ]
     },
     "execution_count": 42,
     "metadata": {},
     "output_type": "execute_result"
    }
   ],
   "source": [
    "data_fixtures"
   ]
  },
  {
   "cell_type": "code",
   "execution_count": 43,
   "metadata": {},
   "outputs": [],
   "source": [
    "df_fixtures = pd.DataFrame(data_fixtures, columns=[\"fixture\", \"match_date\", \"team_home\", \"team_away\", \"result_predict\", \"result_real\"])"
   ]
  },
  {
   "cell_type": "code",
   "execution_count": null,
   "metadata": {},
   "outputs": [],
   "source": []
  },
  {
   "cell_type": "code",
   "execution_count": 44,
   "metadata": {},
   "outputs": [
    {
     "data": {
      "text/html": [
       "<div>\n",
       "<style scoped>\n",
       "    .dataframe tbody tr th:only-of-type {\n",
       "        vertical-align: middle;\n",
       "    }\n",
       "\n",
       "    .dataframe tbody tr th {\n",
       "        vertical-align: top;\n",
       "    }\n",
       "\n",
       "    .dataframe thead th {\n",
       "        text-align: right;\n",
       "    }\n",
       "</style>\n",
       "<table border=\"1\" class=\"dataframe\">\n",
       "  <thead>\n",
       "    <tr style=\"text-align: right;\">\n",
       "      <th></th>\n",
       "      <th>fixture</th>\n",
       "      <th>match_date</th>\n",
       "      <th>team_home</th>\n",
       "      <th>team_away</th>\n",
       "      <th>result_predict</th>\n",
       "      <th>result_real</th>\n",
       "    </tr>\n",
       "  </thead>\n",
       "  <tbody>\n",
       "    <tr>\n",
       "      <th>0</th>\n",
       "      <td>1</td>\n",
       "      <td>2022-08-15T15:30:00+00:00</td>\n",
       "      <td>531</td>\n",
       "      <td>798</td>\n",
       "      <td>None</td>\n",
       "      <td>draw</td>\n",
       "    </tr>\n",
       "    <tr>\n",
       "      <th>1</th>\n",
       "      <td>2</td>\n",
       "      <td>2022-08-21T15:30:00+00:00</td>\n",
       "      <td>531</td>\n",
       "      <td>532</td>\n",
       "      <td>None</td>\n",
       "      <td>home_win</td>\n",
       "    </tr>\n",
       "    <tr>\n",
       "      <th>2</th>\n",
       "      <td>3</td>\n",
       "      <td>2022-08-28T17:30:00+00:00</td>\n",
       "      <td>529</td>\n",
       "      <td>720</td>\n",
       "      <td>None</td>\n",
       "      <td>home_win</td>\n",
       "    </tr>\n",
       "  </tbody>\n",
       "</table>\n",
       "</div>"
      ],
      "text/plain": [
       "  fixture                 match_date  team_home  team_away result_predict  \\\n",
       "0       1  2022-08-15T15:30:00+00:00        531        798           None   \n",
       "1       2  2022-08-21T15:30:00+00:00        531        532           None   \n",
       "2       3  2022-08-28T17:30:00+00:00        529        720           None   \n",
       "\n",
       "  result_real  \n",
       "0        draw  \n",
       "1    home_win  \n",
       "2    home_win  "
      ]
     },
     "execution_count": 44,
     "metadata": {},
     "output_type": "execute_result"
    }
   ],
   "source": [
    "df_fixtures"
   ]
  },
  {
   "cell_type": "code",
   "execution_count": 45,
   "metadata": {},
   "outputs": [],
   "source": [
    "with db.connect() as conn:\n",
    "    df_fixtures.to_sql(name=\"matches\", con=conn, if_exists=\"replace\", index=False)"
   ]
  },
  {
   "cell_type": "code",
   "execution_count": null,
   "metadata": {},
   "outputs": [],
   "source": []
  },
  {
   "cell_type": "code",
   "execution_count": null,
   "metadata": {},
   "outputs": [],
   "source": []
  },
  {
   "cell_type": "markdown",
   "metadata": {},
   "source": [
    "### Read and join data"
   ]
  },
  {
   "cell_type": "code",
   "execution_count": 12,
   "metadata": {},
   "outputs": [],
   "source": [
    "# Clean db data (Remove duplicates)\n",
    "# with sqlite3.connect('soccer.db') as conn:\n",
    "#     matches = pd.read_sql(f\"\"\"\n",
    "#                                SELECT *\n",
    "#                                FROM matches\n",
    "#                                \"\"\", con=conn)\n",
    "#     matches.drop_duplicates(subset=[\"fixture\", \"team_home\", \"team_away\"]) \\\n",
    "#             .to_sql(name=\"matches\", con=conn, if_exists=\"replace\", index=False)\n",
    "    \n",
    "# with sqlite3.connect('soccer.db') as conn:\n",
    "#     teams = pd.read_sql(f\"\"\"\n",
    "#                                SELECT *\n",
    "#                                FROM teams\n",
    "#                                \"\"\", con=conn)\n",
    "#     teams.drop_duplicates(subset=[\"team_id\", \"query_date\"]) \\\n",
    "#             .to_sql(name=\"teams\", con=conn, if_exists=\"replace\", index=False)\n",
    "    \n",
    "    "
   ]
  },
  {
   "cell_type": "code",
   "execution_count": 13,
   "metadata": {},
   "outputs": [],
   "source": [
    "with sqlite3.connect('soccer.db') as conn:\n",
    "    available_fixtures = pd.read_sql(f\"\"\"\n",
    "                               SELECT DISTINCT(fixture)\n",
    "                               FROM matches\n",
    "                               \"\"\", con=conn)\n",
    "available_fixtures = [value[0] for value in available_fixtures.values]"
   ]
  },
  {
   "cell_type": "code",
   "execution_count": 14,
   "metadata": {},
   "outputs": [],
   "source": [
    "dfs = []\n",
    "for fixture in available_fixtures:\n",
    "    with sqlite3.connect('soccer.db') as conn:\n",
    "        # Get fixture matches data\n",
    "        df_matches = pd.read_sql(f\"\"\"\n",
    "                                    SELECT *\n",
    "                                    FROM matches\n",
    "                                    WHERE fixture={fixture}\n",
    "                                    \"\"\", con=conn)\n",
    "\n",
    "        # Get teams data (filter by last data available before match date)\n",
    "        df_teams = pd.read_sql(f\"\"\"\n",
    "                                    SELECT *\n",
    "                                    FROM teams\n",
    "                                    WHERE teams.query_date = (\n",
    "                                        SELECT MAX(teams.query_date)\n",
    "                                        FROM teams\n",
    "                                        WHERE teams.query_date <= (\n",
    "                                            SELECT MAX(matches.match_date)\n",
    "                                            FROM matches\n",
    "                                            WHERE fixture = {fixture}\n",
    "                                        )\n",
    "                                    )\n",
    "                                \"\"\", con=conn)\n",
    "    \n",
    "    \n",
    "\n",
    "    df_aux = df_matches.merge(df_teams, left_on='team_home', right_on='team_id', how='left', suffixes = (None, \"_index_home\"))\n",
    "    df_aux.drop(columns=[\"team_id\", \"id_index_home\"], axis=1, inplace=True)\n",
    "    df_aux.columns = [ \"home_\" + col if ((col in df_teams.columns) and (col != \"id\")) else col for col in df_aux.columns]\n",
    "\n",
    "    df_aux = df_aux.merge(df_teams, left_on='team_away', right_on='team_id', how='left', suffixes = (None, \"_index_away\"))\n",
    "    df_aux.drop(columns=[\"team_id\", \"id_index_away\"], axis=1, inplace=True)\n",
    "    df_aux.columns = [ \"away_\" + col if ((col in df_teams.columns) and (col != \"id\")) else col for col in df_aux.columns]\n",
    "\n",
    "    dfs.append(df_aux)\n",
    "\n",
    "df = pd.concat(dfs)"
   ]
  },
  {
   "cell_type": "code",
   "execution_count": 15,
   "metadata": {},
   "outputs": [
    {
     "data": {
      "text/html": [
       "<div>\n",
       "<style scoped>\n",
       "    .dataframe tbody tr th:only-of-type {\n",
       "        vertical-align: middle;\n",
       "    }\n",
       "\n",
       "    .dataframe tbody tr th {\n",
       "        vertical-align: top;\n",
       "    }\n",
       "\n",
       "    .dataframe thead th {\n",
       "        text-align: right;\n",
       "    }\n",
       "</style>\n",
       "<table border=\"1\" class=\"dataframe\">\n",
       "  <thead>\n",
       "    <tr style=\"text-align: right;\">\n",
       "      <th></th>\n",
       "      <th>id</th>\n",
       "      <th>fixture</th>\n",
       "      <th>match_date</th>\n",
       "      <th>team_home</th>\n",
       "      <th>team_away</th>\n",
       "      <th>result_predict</th>\n",
       "      <th>result_real</th>\n",
       "    </tr>\n",
       "  </thead>\n",
       "  <tbody>\n",
       "    <tr>\n",
       "      <th>0</th>\n",
       "      <td>371</td>\n",
       "      <td>38</td>\n",
       "      <td>2023-06-04T19:00:00+00:00</td>\n",
       "      <td>543</td>\n",
       "      <td>532</td>\n",
       "      <td>None</td>\n",
       "      <td>draw</td>\n",
       "    </tr>\n",
       "    <tr>\n",
       "      <th>1</th>\n",
       "      <td>372</td>\n",
       "      <td>38</td>\n",
       "      <td>2023-06-04T16:30:00+00:00</td>\n",
       "      <td>798</td>\n",
       "      <td>728</td>\n",
       "      <td>None</td>\n",
       "      <td>home_win</td>\n",
       "    </tr>\n",
       "    <tr>\n",
       "      <th>2</th>\n",
       "      <td>373</td>\n",
       "      <td>38</td>\n",
       "      <td>2023-06-04T16:30:00+00:00</td>\n",
       "      <td>548</td>\n",
       "      <td>536</td>\n",
       "      <td>None</td>\n",
       "      <td>home_win</td>\n",
       "    </tr>\n",
       "    <tr>\n",
       "      <th>3</th>\n",
       "      <td>374</td>\n",
       "      <td>38</td>\n",
       "      <td>2023-06-04T16:30:00+00:00</td>\n",
       "      <td>541</td>\n",
       "      <td>531</td>\n",
       "      <td>None</td>\n",
       "      <td>draw</td>\n",
       "    </tr>\n",
       "    <tr>\n",
       "      <th>4</th>\n",
       "      <td>375</td>\n",
       "      <td>38</td>\n",
       "      <td>2023-06-04T16:30:00+00:00</td>\n",
       "      <td>533</td>\n",
       "      <td>530</td>\n",
       "      <td>None</td>\n",
       "      <td>draw</td>\n",
       "    </tr>\n",
       "    <tr>\n",
       "      <th>5</th>\n",
       "      <td>376</td>\n",
       "      <td>38</td>\n",
       "      <td>2023-06-04T19:00:00+00:00</td>\n",
       "      <td>538</td>\n",
       "      <td>529</td>\n",
       "      <td>None</td>\n",
       "      <td>home_win</td>\n",
       "    </tr>\n",
       "    <tr>\n",
       "      <th>6</th>\n",
       "      <td>377</td>\n",
       "      <td>38</td>\n",
       "      <td>2023-06-04T19:00:00+00:00</td>\n",
       "      <td>720</td>\n",
       "      <td>546</td>\n",
       "      <td>None</td>\n",
       "      <td>draw</td>\n",
       "    </tr>\n",
       "    <tr>\n",
       "      <th>7</th>\n",
       "      <td>378</td>\n",
       "      <td>38</td>\n",
       "      <td>2023-06-04T19:00:00+00:00</td>\n",
       "      <td>797</td>\n",
       "      <td>724</td>\n",
       "      <td>None</td>\n",
       "      <td>draw</td>\n",
       "    </tr>\n",
       "    <tr>\n",
       "      <th>8</th>\n",
       "      <td>379</td>\n",
       "      <td>38</td>\n",
       "      <td>2023-06-04T19:00:00+00:00</td>\n",
       "      <td>540</td>\n",
       "      <td>723</td>\n",
       "      <td>None</td>\n",
       "      <td>draw</td>\n",
       "    </tr>\n",
       "    <tr>\n",
       "      <th>9</th>\n",
       "      <td>380</td>\n",
       "      <td>38</td>\n",
       "      <td>2023-06-04T16:30:00+00:00</td>\n",
       "      <td>727</td>\n",
       "      <td>547</td>\n",
       "      <td>None</td>\n",
       "      <td>home_win</td>\n",
       "    </tr>\n",
       "  </tbody>\n",
       "</table>\n",
       "</div>"
      ],
      "text/plain": [
       "    id  fixture                 match_date  team_home  team_away  \\\n",
       "0  371       38  2023-06-04T19:00:00+00:00        543        532   \n",
       "1  372       38  2023-06-04T16:30:00+00:00        798        728   \n",
       "2  373       38  2023-06-04T16:30:00+00:00        548        536   \n",
       "3  374       38  2023-06-04T16:30:00+00:00        541        531   \n",
       "4  375       38  2023-06-04T16:30:00+00:00        533        530   \n",
       "5  376       38  2023-06-04T19:00:00+00:00        538        529   \n",
       "6  377       38  2023-06-04T19:00:00+00:00        720        546   \n",
       "7  378       38  2023-06-04T19:00:00+00:00        797        724   \n",
       "8  379       38  2023-06-04T19:00:00+00:00        540        723   \n",
       "9  380       38  2023-06-04T16:30:00+00:00        727        547   \n",
       "\n",
       "  result_predict result_real  \n",
       "0           None        draw  \n",
       "1           None    home_win  \n",
       "2           None    home_win  \n",
       "3           None        draw  \n",
       "4           None        draw  \n",
       "5           None    home_win  \n",
       "6           None        draw  \n",
       "7           None        draw  \n",
       "8           None        draw  \n",
       "9           None    home_win  "
      ]
     },
     "execution_count": 15,
     "metadata": {},
     "output_type": "execute_result"
    }
   ],
   "source": [
    "df_matches"
   ]
  },
  {
   "cell_type": "code",
   "execution_count": 16,
   "metadata": {},
   "outputs": [
    {
     "data": {
      "text/plain": [
       "(380, 35)"
      ]
     },
     "execution_count": 16,
     "metadata": {},
     "output_type": "execute_result"
    }
   ],
   "source": [
    "df.shape"
   ]
  },
  {
   "cell_type": "code",
   "execution_count": 17,
   "metadata": {},
   "outputs": [
    {
     "data": {
      "text/plain": [
       "Index(['id', 'fixture', 'match_date', 'team_home', 'team_away',\n",
       "       'result_predict', 'result_real', 'home_query_date', 'home_name',\n",
       "       'home_history', 'home_total_played', 'home_wins_home', 'home_wins_away',\n",
       "       'home_draws_home', 'home_draws_away', 'home_loses_home',\n",
       "       'home_loses_away', 'home_goals_for_home', 'home_goals_for_away',\n",
       "       'home_goals_against_home', 'home_goals_against_away', 'away_query_date',\n",
       "       'away_name', 'away_history', 'away_total_played', 'away_wins_home',\n",
       "       'away_wins_away', 'away_draws_home', 'away_draws_away',\n",
       "       'away_loses_home', 'away_loses_away', 'away_goals_for_home',\n",
       "       'away_goals_for_away', 'away_goals_against_home',\n",
       "       'away_goals_against_away'],\n",
       "      dtype='object')"
      ]
     },
     "execution_count": 17,
     "metadata": {},
     "output_type": "execute_result"
    }
   ],
   "source": [
    "df.columns"
   ]
  },
  {
   "cell_type": "code",
   "execution_count": 18,
   "metadata": {},
   "outputs": [],
   "source": [
    "df = df[df[\"home_name\"].notnull() & df[\"away_name\"].notnull() & df[\"home_history\"].notnull() & df[\"away_history\"].notnull()]"
   ]
  },
  {
   "cell_type": "code",
   "execution_count": 19,
   "metadata": {},
   "outputs": [
    {
     "data": {
      "text/plain": [
       "(358, 35)"
      ]
     },
     "execution_count": 19,
     "metadata": {},
     "output_type": "execute_result"
    }
   ],
   "source": [
    "df.shape"
   ]
  },
  {
   "cell_type": "markdown",
   "metadata": {},
   "source": [
    "### Feature engineering"
   ]
  },
  {
   "cell_type": "markdown",
   "metadata": {},
   "source": [
    "\n",
    "Features no necesarias para el modelo: id, fixture, result_predict, result_real, query_date_, name_, \n",
    "\n",
    "OHE: team_home?, team_away?, result_real\n",
    "\n",
    "Nada: total_played_, wins_home_, wins_away_away_, draws_home_, draws_away_, loses_home_, goals_for_home_, goals_for_away_, goals_against_home_, goals_against_away_\n",
    "\n",
    "Otros: history_away_\n",
    "\n",
    "Siguientes fases: fixture, match_date (día de la semana, mes, etc)\n",
    "\n",
    "!!! team_id_away"
   ]
  },
  {
   "cell_type": "code",
   "execution_count": 20,
   "metadata": {},
   "outputs": [],
   "source": [
    "from sklearn.preprocessing import OneHotEncoder, StandardScaler\n",
    "import pickle"
   ]
  },
  {
   "cell_type": "code",
   "execution_count": 21,
   "metadata": {},
   "outputs": [],
   "source": [
    "# Drop unnecesary features for model\n",
    "df.drop(\n",
    "    columns=[\n",
    "        \"id\",\n",
    "        \"fixture\",\n",
    "        \"result_predict\",\n",
    "        \"home_query_date\",\n",
    "        \"away_query_date\",\n",
    "        \"home_name\",\n",
    "        \"away_name\",\n",
    "        \"match_date\"\n",
    "    ],\n",
    "    axis=1,\n",
    "    inplace=True,\n",
    ")"
   ]
  },
  {
   "cell_type": "code",
   "execution_count": 22,
   "metadata": {},
   "outputs": [],
   "source": [
    "# One hot encoding\n",
    "# ohe_cols = [\"team_home\", \"team_away\", \"result_real\"]\n",
    "ohe_cols = [\"team_home\", \"team_away\"]\n",
    "ohe_encoder = OneHotEncoder(sparse_output=False).set_output(transform=\"pandas\")"
   ]
  },
  {
   "cell_type": "code",
   "execution_count": 23,
   "metadata": {},
   "outputs": [],
   "source": [
    "ohe_encoder = ohe_encoder.fit(df[ohe_cols])"
   ]
  },
  {
   "cell_type": "code",
   "execution_count": 24,
   "metadata": {},
   "outputs": [],
   "source": [
    "with open(\"ohe_encoder.sav\", \"wb\") as f: \n",
    "    pickle.dump(ohe_encoder, f)"
   ]
  },
  {
   "cell_type": "code",
   "execution_count": 25,
   "metadata": {},
   "outputs": [],
   "source": [
    "ohe_encoded = ohe_encoder.transform(df[ohe_cols])"
   ]
  },
  {
   "cell_type": "code",
   "execution_count": 26,
   "metadata": {},
   "outputs": [],
   "source": [
    "df = pd.concat([df, ohe_encoded], axis=1).drop(columns=ohe_cols)"
   ]
  },
  {
   "cell_type": "code",
   "execution_count": 27,
   "metadata": {},
   "outputs": [],
   "source": [
    "df[\"home_history\"] = df[\"home_history\"].apply(lambda x: list(x)[:6])\n",
    "df[\"away_history\"] = df[\"away_history\"].apply(lambda x: list(x)[:6])"
   ]
  },
  {
   "cell_type": "code",
   "execution_count": 28,
   "metadata": {},
   "outputs": [],
   "source": [
    "df [[\"home_last_1\", \"home_last_2\", \"home_last_3\", \"home_last_4\", \"home_last_5\", \"home_last_6\"]]= df[\"home_history\"].apply(pd.Series)\n",
    "df [[\"away_last_1\", \"away_last_2\", \"away_last_3\", \"away_last_4\", \"away_last_5\", \"away_last_6\"]]= df[\"away_history\"].apply(pd.Series)"
   ]
  },
  {
   "cell_type": "code",
   "execution_count": 29,
   "metadata": {},
   "outputs": [],
   "source": [
    "df.drop([\"home_history\", \"away_history\"], axis=1, inplace=True)"
   ]
  },
  {
   "cell_type": "code",
   "execution_count": 30,
   "metadata": {},
   "outputs": [],
   "source": [
    "label_cols = [\"home_last_1\", \"home_last_2\", \"home_last_3\", \"home_last_4\", \"home_last_5\", \"home_last_6\", \"away_last_1\", \"away_last_2\", \"away_last_3\", \"away_last_4\", \"away_last_5\", \"away_last_6\"]"
   ]
  },
  {
   "cell_type": "code",
   "execution_count": 31,
   "metadata": {},
   "outputs": [
    {
     "name": "stderr",
     "output_type": "stream",
     "text": [
      "C:\\Users\\josem\\AppData\\Local\\Temp\\ipykernel_14732\\3005481430.py:1: FutureWarning: Downcasting behavior in `replace` is deprecated and will be removed in a future version. To retain the old behavior, explicitly call `result.infer_objects(copy=False)`. To opt-in to the future behavior, set `pd.set_option('future.no_silent_downcasting', True)`\n",
      "  df.replace({\"L\":0, \"D\":1, \"W\":2}, inplace=True)\n"
     ]
    }
   ],
   "source": [
    "df.replace({\"L\":0, \"D\":1, \"W\":2}, inplace=True)"
   ]
  },
  {
   "cell_type": "code",
   "execution_count": 32,
   "metadata": {},
   "outputs": [
    {
     "data": {
      "text/html": [
       "<style>#sk-container-id-1 {\n",
       "  /* Definition of color scheme common for light and dark mode */\n",
       "  --sklearn-color-text: black;\n",
       "  --sklearn-color-line: gray;\n",
       "  /* Definition of color scheme for unfitted estimators */\n",
       "  --sklearn-color-unfitted-level-0: #fff5e6;\n",
       "  --sklearn-color-unfitted-level-1: #f6e4d2;\n",
       "  --sklearn-color-unfitted-level-2: #ffe0b3;\n",
       "  --sklearn-color-unfitted-level-3: chocolate;\n",
       "  /* Definition of color scheme for fitted estimators */\n",
       "  --sklearn-color-fitted-level-0: #f0f8ff;\n",
       "  --sklearn-color-fitted-level-1: #d4ebff;\n",
       "  --sklearn-color-fitted-level-2: #b3dbfd;\n",
       "  --sklearn-color-fitted-level-3: cornflowerblue;\n",
       "\n",
       "  /* Specific color for light theme */\n",
       "  --sklearn-color-text-on-default-background: var(--sg-text-color, var(--theme-code-foreground, var(--jp-content-font-color1, black)));\n",
       "  --sklearn-color-background: var(--sg-background-color, var(--theme-background, var(--jp-layout-color0, white)));\n",
       "  --sklearn-color-border-box: var(--sg-text-color, var(--theme-code-foreground, var(--jp-content-font-color1, black)));\n",
       "  --sklearn-color-icon: #696969;\n",
       "\n",
       "  @media (prefers-color-scheme: dark) {\n",
       "    /* Redefinition of color scheme for dark theme */\n",
       "    --sklearn-color-text-on-default-background: var(--sg-text-color, var(--theme-code-foreground, var(--jp-content-font-color1, white)));\n",
       "    --sklearn-color-background: var(--sg-background-color, var(--theme-background, var(--jp-layout-color0, #111)));\n",
       "    --sklearn-color-border-box: var(--sg-text-color, var(--theme-code-foreground, var(--jp-content-font-color1, white)));\n",
       "    --sklearn-color-icon: #878787;\n",
       "  }\n",
       "}\n",
       "\n",
       "#sk-container-id-1 {\n",
       "  color: var(--sklearn-color-text);\n",
       "}\n",
       "\n",
       "#sk-container-id-1 pre {\n",
       "  padding: 0;\n",
       "}\n",
       "\n",
       "#sk-container-id-1 input.sk-hidden--visually {\n",
       "  border: 0;\n",
       "  clip: rect(1px 1px 1px 1px);\n",
       "  clip: rect(1px, 1px, 1px, 1px);\n",
       "  height: 1px;\n",
       "  margin: -1px;\n",
       "  overflow: hidden;\n",
       "  padding: 0;\n",
       "  position: absolute;\n",
       "  width: 1px;\n",
       "}\n",
       "\n",
       "#sk-container-id-1 div.sk-dashed-wrapped {\n",
       "  border: 1px dashed var(--sklearn-color-line);\n",
       "  margin: 0 0.4em 0.5em 0.4em;\n",
       "  box-sizing: border-box;\n",
       "  padding-bottom: 0.4em;\n",
       "  background-color: var(--sklearn-color-background);\n",
       "}\n",
       "\n",
       "#sk-container-id-1 div.sk-container {\n",
       "  /* jupyter's `normalize.less` sets `[hidden] { display: none; }`\n",
       "     but bootstrap.min.css set `[hidden] { display: none !important; }`\n",
       "     so we also need the `!important` here to be able to override the\n",
       "     default hidden behavior on the sphinx rendered scikit-learn.org.\n",
       "     See: https://github.com/scikit-learn/scikit-learn/issues/21755 */\n",
       "  display: inline-block !important;\n",
       "  position: relative;\n",
       "}\n",
       "\n",
       "#sk-container-id-1 div.sk-text-repr-fallback {\n",
       "  display: none;\n",
       "}\n",
       "\n",
       "div.sk-parallel-item,\n",
       "div.sk-serial,\n",
       "div.sk-item {\n",
       "  /* draw centered vertical line to link estimators */\n",
       "  background-image: linear-gradient(var(--sklearn-color-text-on-default-background), var(--sklearn-color-text-on-default-background));\n",
       "  background-size: 2px 100%;\n",
       "  background-repeat: no-repeat;\n",
       "  background-position: center center;\n",
       "}\n",
       "\n",
       "/* Parallel-specific style estimator block */\n",
       "\n",
       "#sk-container-id-1 div.sk-parallel-item::after {\n",
       "  content: \"\";\n",
       "  width: 100%;\n",
       "  border-bottom: 2px solid var(--sklearn-color-text-on-default-background);\n",
       "  flex-grow: 1;\n",
       "}\n",
       "\n",
       "#sk-container-id-1 div.sk-parallel {\n",
       "  display: flex;\n",
       "  align-items: stretch;\n",
       "  justify-content: center;\n",
       "  background-color: var(--sklearn-color-background);\n",
       "  position: relative;\n",
       "}\n",
       "\n",
       "#sk-container-id-1 div.sk-parallel-item {\n",
       "  display: flex;\n",
       "  flex-direction: column;\n",
       "}\n",
       "\n",
       "#sk-container-id-1 div.sk-parallel-item:first-child::after {\n",
       "  align-self: flex-end;\n",
       "  width: 50%;\n",
       "}\n",
       "\n",
       "#sk-container-id-1 div.sk-parallel-item:last-child::after {\n",
       "  align-self: flex-start;\n",
       "  width: 50%;\n",
       "}\n",
       "\n",
       "#sk-container-id-1 div.sk-parallel-item:only-child::after {\n",
       "  width: 0;\n",
       "}\n",
       "\n",
       "/* Serial-specific style estimator block */\n",
       "\n",
       "#sk-container-id-1 div.sk-serial {\n",
       "  display: flex;\n",
       "  flex-direction: column;\n",
       "  align-items: center;\n",
       "  background-color: var(--sklearn-color-background);\n",
       "  padding-right: 1em;\n",
       "  padding-left: 1em;\n",
       "}\n",
       "\n",
       "\n",
       "/* Toggleable style: style used for estimator/Pipeline/ColumnTransformer box that is\n",
       "clickable and can be expanded/collapsed.\n",
       "- Pipeline and ColumnTransformer use this feature and define the default style\n",
       "- Estimators will overwrite some part of the style using the `sk-estimator` class\n",
       "*/\n",
       "\n",
       "/* Pipeline and ColumnTransformer style (default) */\n",
       "\n",
       "#sk-container-id-1 div.sk-toggleable {\n",
       "  /* Default theme specific background. It is overwritten whether we have a\n",
       "  specific estimator or a Pipeline/ColumnTransformer */\n",
       "  background-color: var(--sklearn-color-background);\n",
       "}\n",
       "\n",
       "/* Toggleable label */\n",
       "#sk-container-id-1 label.sk-toggleable__label {\n",
       "  cursor: pointer;\n",
       "  display: block;\n",
       "  width: 100%;\n",
       "  margin-bottom: 0;\n",
       "  padding: 0.5em;\n",
       "  box-sizing: border-box;\n",
       "  text-align: center;\n",
       "}\n",
       "\n",
       "#sk-container-id-1 label.sk-toggleable__label-arrow:before {\n",
       "  /* Arrow on the left of the label */\n",
       "  content: \"▸\";\n",
       "  float: left;\n",
       "  margin-right: 0.25em;\n",
       "  color: var(--sklearn-color-icon);\n",
       "}\n",
       "\n",
       "#sk-container-id-1 label.sk-toggleable__label-arrow:hover:before {\n",
       "  color: var(--sklearn-color-text);\n",
       "}\n",
       "\n",
       "/* Toggleable content - dropdown */\n",
       "\n",
       "#sk-container-id-1 div.sk-toggleable__content {\n",
       "  max-height: 0;\n",
       "  max-width: 0;\n",
       "  overflow: hidden;\n",
       "  text-align: left;\n",
       "  /* unfitted */\n",
       "  background-color: var(--sklearn-color-unfitted-level-0);\n",
       "}\n",
       "\n",
       "#sk-container-id-1 div.sk-toggleable__content.fitted {\n",
       "  /* fitted */\n",
       "  background-color: var(--sklearn-color-fitted-level-0);\n",
       "}\n",
       "\n",
       "#sk-container-id-1 div.sk-toggleable__content pre {\n",
       "  margin: 0.2em;\n",
       "  border-radius: 0.25em;\n",
       "  color: var(--sklearn-color-text);\n",
       "  /* unfitted */\n",
       "  background-color: var(--sklearn-color-unfitted-level-0);\n",
       "}\n",
       "\n",
       "#sk-container-id-1 div.sk-toggleable__content.fitted pre {\n",
       "  /* unfitted */\n",
       "  background-color: var(--sklearn-color-fitted-level-0);\n",
       "}\n",
       "\n",
       "#sk-container-id-1 input.sk-toggleable__control:checked~div.sk-toggleable__content {\n",
       "  /* Expand drop-down */\n",
       "  max-height: 200px;\n",
       "  max-width: 100%;\n",
       "  overflow: auto;\n",
       "}\n",
       "\n",
       "#sk-container-id-1 input.sk-toggleable__control:checked~label.sk-toggleable__label-arrow:before {\n",
       "  content: \"▾\";\n",
       "}\n",
       "\n",
       "/* Pipeline/ColumnTransformer-specific style */\n",
       "\n",
       "#sk-container-id-1 div.sk-label input.sk-toggleable__control:checked~label.sk-toggleable__label {\n",
       "  color: var(--sklearn-color-text);\n",
       "  background-color: var(--sklearn-color-unfitted-level-2);\n",
       "}\n",
       "\n",
       "#sk-container-id-1 div.sk-label.fitted input.sk-toggleable__control:checked~label.sk-toggleable__label {\n",
       "  background-color: var(--sklearn-color-fitted-level-2);\n",
       "}\n",
       "\n",
       "/* Estimator-specific style */\n",
       "\n",
       "/* Colorize estimator box */\n",
       "#sk-container-id-1 div.sk-estimator input.sk-toggleable__control:checked~label.sk-toggleable__label {\n",
       "  /* unfitted */\n",
       "  background-color: var(--sklearn-color-unfitted-level-2);\n",
       "}\n",
       "\n",
       "#sk-container-id-1 div.sk-estimator.fitted input.sk-toggleable__control:checked~label.sk-toggleable__label {\n",
       "  /* fitted */\n",
       "  background-color: var(--sklearn-color-fitted-level-2);\n",
       "}\n",
       "\n",
       "#sk-container-id-1 div.sk-label label.sk-toggleable__label,\n",
       "#sk-container-id-1 div.sk-label label {\n",
       "  /* The background is the default theme color */\n",
       "  color: var(--sklearn-color-text-on-default-background);\n",
       "}\n",
       "\n",
       "/* On hover, darken the color of the background */\n",
       "#sk-container-id-1 div.sk-label:hover label.sk-toggleable__label {\n",
       "  color: var(--sklearn-color-text);\n",
       "  background-color: var(--sklearn-color-unfitted-level-2);\n",
       "}\n",
       "\n",
       "/* Label box, darken color on hover, fitted */\n",
       "#sk-container-id-1 div.sk-label.fitted:hover label.sk-toggleable__label.fitted {\n",
       "  color: var(--sklearn-color-text);\n",
       "  background-color: var(--sklearn-color-fitted-level-2);\n",
       "}\n",
       "\n",
       "/* Estimator label */\n",
       "\n",
       "#sk-container-id-1 div.sk-label label {\n",
       "  font-family: monospace;\n",
       "  font-weight: bold;\n",
       "  display: inline-block;\n",
       "  line-height: 1.2em;\n",
       "}\n",
       "\n",
       "#sk-container-id-1 div.sk-label-container {\n",
       "  text-align: center;\n",
       "}\n",
       "\n",
       "/* Estimator-specific */\n",
       "#sk-container-id-1 div.sk-estimator {\n",
       "  font-family: monospace;\n",
       "  border: 1px dotted var(--sklearn-color-border-box);\n",
       "  border-radius: 0.25em;\n",
       "  box-sizing: border-box;\n",
       "  margin-bottom: 0.5em;\n",
       "  /* unfitted */\n",
       "  background-color: var(--sklearn-color-unfitted-level-0);\n",
       "}\n",
       "\n",
       "#sk-container-id-1 div.sk-estimator.fitted {\n",
       "  /* fitted */\n",
       "  background-color: var(--sklearn-color-fitted-level-0);\n",
       "}\n",
       "\n",
       "/* on hover */\n",
       "#sk-container-id-1 div.sk-estimator:hover {\n",
       "  /* unfitted */\n",
       "  background-color: var(--sklearn-color-unfitted-level-2);\n",
       "}\n",
       "\n",
       "#sk-container-id-1 div.sk-estimator.fitted:hover {\n",
       "  /* fitted */\n",
       "  background-color: var(--sklearn-color-fitted-level-2);\n",
       "}\n",
       "\n",
       "/* Specification for estimator info (e.g. \"i\" and \"?\") */\n",
       "\n",
       "/* Common style for \"i\" and \"?\" */\n",
       "\n",
       ".sk-estimator-doc-link,\n",
       "a:link.sk-estimator-doc-link,\n",
       "a:visited.sk-estimator-doc-link {\n",
       "  float: right;\n",
       "  font-size: smaller;\n",
       "  line-height: 1em;\n",
       "  font-family: monospace;\n",
       "  background-color: var(--sklearn-color-background);\n",
       "  border-radius: 1em;\n",
       "  height: 1em;\n",
       "  width: 1em;\n",
       "  text-decoration: none !important;\n",
       "  margin-left: 1ex;\n",
       "  /* unfitted */\n",
       "  border: var(--sklearn-color-unfitted-level-1) 1pt solid;\n",
       "  color: var(--sklearn-color-unfitted-level-1);\n",
       "}\n",
       "\n",
       ".sk-estimator-doc-link.fitted,\n",
       "a:link.sk-estimator-doc-link.fitted,\n",
       "a:visited.sk-estimator-doc-link.fitted {\n",
       "  /* fitted */\n",
       "  border: var(--sklearn-color-fitted-level-1) 1pt solid;\n",
       "  color: var(--sklearn-color-fitted-level-1);\n",
       "}\n",
       "\n",
       "/* On hover */\n",
       "div.sk-estimator:hover .sk-estimator-doc-link:hover,\n",
       ".sk-estimator-doc-link:hover,\n",
       "div.sk-label-container:hover .sk-estimator-doc-link:hover,\n",
       ".sk-estimator-doc-link:hover {\n",
       "  /* unfitted */\n",
       "  background-color: var(--sklearn-color-unfitted-level-3);\n",
       "  color: var(--sklearn-color-background);\n",
       "  text-decoration: none;\n",
       "}\n",
       "\n",
       "div.sk-estimator.fitted:hover .sk-estimator-doc-link.fitted:hover,\n",
       ".sk-estimator-doc-link.fitted:hover,\n",
       "div.sk-label-container:hover .sk-estimator-doc-link.fitted:hover,\n",
       ".sk-estimator-doc-link.fitted:hover {\n",
       "  /* fitted */\n",
       "  background-color: var(--sklearn-color-fitted-level-3);\n",
       "  color: var(--sklearn-color-background);\n",
       "  text-decoration: none;\n",
       "}\n",
       "\n",
       "/* Span, style for the box shown on hovering the info icon */\n",
       ".sk-estimator-doc-link span {\n",
       "  display: none;\n",
       "  z-index: 9999;\n",
       "  position: relative;\n",
       "  font-weight: normal;\n",
       "  right: .2ex;\n",
       "  padding: .5ex;\n",
       "  margin: .5ex;\n",
       "  width: min-content;\n",
       "  min-width: 20ex;\n",
       "  max-width: 50ex;\n",
       "  color: var(--sklearn-color-text);\n",
       "  box-shadow: 2pt 2pt 4pt #999;\n",
       "  /* unfitted */\n",
       "  background: var(--sklearn-color-unfitted-level-0);\n",
       "  border: .5pt solid var(--sklearn-color-unfitted-level-3);\n",
       "}\n",
       "\n",
       ".sk-estimator-doc-link.fitted span {\n",
       "  /* fitted */\n",
       "  background: var(--sklearn-color-fitted-level-0);\n",
       "  border: var(--sklearn-color-fitted-level-3);\n",
       "}\n",
       "\n",
       ".sk-estimator-doc-link:hover span {\n",
       "  display: block;\n",
       "}\n",
       "\n",
       "/* \"?\"-specific style due to the `<a>` HTML tag */\n",
       "\n",
       "#sk-container-id-1 a.estimator_doc_link {\n",
       "  float: right;\n",
       "  font-size: 1rem;\n",
       "  line-height: 1em;\n",
       "  font-family: monospace;\n",
       "  background-color: var(--sklearn-color-background);\n",
       "  border-radius: 1rem;\n",
       "  height: 1rem;\n",
       "  width: 1rem;\n",
       "  text-decoration: none;\n",
       "  /* unfitted */\n",
       "  color: var(--sklearn-color-unfitted-level-1);\n",
       "  border: var(--sklearn-color-unfitted-level-1) 1pt solid;\n",
       "}\n",
       "\n",
       "#sk-container-id-1 a.estimator_doc_link.fitted {\n",
       "  /* fitted */\n",
       "  border: var(--sklearn-color-fitted-level-1) 1pt solid;\n",
       "  color: var(--sklearn-color-fitted-level-1);\n",
       "}\n",
       "\n",
       "/* On hover */\n",
       "#sk-container-id-1 a.estimator_doc_link:hover {\n",
       "  /* unfitted */\n",
       "  background-color: var(--sklearn-color-unfitted-level-3);\n",
       "  color: var(--sklearn-color-background);\n",
       "  text-decoration: none;\n",
       "}\n",
       "\n",
       "#sk-container-id-1 a.estimator_doc_link.fitted:hover {\n",
       "  /* fitted */\n",
       "  background-color: var(--sklearn-color-fitted-level-3);\n",
       "}\n",
       "</style><div id=\"sk-container-id-1\" class=\"sk-top-container\"><div class=\"sk-text-repr-fallback\"><pre>LabelEncoder()</pre><b>In a Jupyter environment, please rerun this cell to show the HTML representation or trust the notebook. <br />On GitHub, the HTML representation is unable to render, please try loading this page with nbviewer.org.</b></div><div class=\"sk-container\" hidden><div class=\"sk-item\"><div class=\"sk-estimator fitted sk-toggleable\"><input class=\"sk-toggleable__control sk-hidden--visually\" id=\"sk-estimator-id-1\" type=\"checkbox\" checked><label for=\"sk-estimator-id-1\" class=\"sk-toggleable__label fitted sk-toggleable__label-arrow fitted\">&nbsp;&nbsp;LabelEncoder<a class=\"sk-estimator-doc-link fitted\" rel=\"noreferrer\" target=\"_blank\" href=\"https://scikit-learn.org/1.5/modules/generated/sklearn.preprocessing.LabelEncoder.html\">?<span>Documentation for LabelEncoder</span></a><span class=\"sk-estimator-doc-link fitted\">i<span>Fitted</span></span></label><div class=\"sk-toggleable__content fitted\"><pre>LabelEncoder()</pre></div> </div></div></div></div>"
      ],
      "text/plain": [
       "LabelEncoder()"
      ]
     },
     "execution_count": 32,
     "metadata": {},
     "output_type": "execute_result"
    }
   ],
   "source": [
    "from sklearn.preprocessing import LabelEncoder\n",
    "\n",
    "# TODO: label encoder\n",
    "le = LabelEncoder()\n",
    "le.fit(df[\"result_real\"])"
   ]
  },
  {
   "cell_type": "code",
   "execution_count": 33,
   "metadata": {},
   "outputs": [
    {
     "data": {
      "text/plain": [
       "{'classes_': array(['away_win', 'draw', 'home_win'], dtype=object)}"
      ]
     },
     "execution_count": 33,
     "metadata": {},
     "output_type": "execute_result"
    }
   ],
   "source": [
    "le.__dict__"
   ]
  },
  {
   "cell_type": "code",
   "execution_count": 34,
   "metadata": {},
   "outputs": [],
   "source": [
    "df[\"result_real\"] = le.transform(df[\"result_real\"])"
   ]
  },
  {
   "cell_type": "code",
   "execution_count": 35,
   "metadata": {},
   "outputs": [],
   "source": [
    "# History feature\n",
    "cols_home_last = [\"home_last_1\", \"home_last_2\", \"home_last_3\", \"home_last_4\", \"home_last_5\", \"home_last_6\"]\n",
    "cols_away_last = [\"away_last_1\", \"away_last_2\", \"away_last_3\", \"away_last_4\", \"away_last_5\", \"away_last_6\"]\n",
    "\n",
    "df['home_last_avg'] = df[cols_home_last].mean(axis=1, skipna=True)\n",
    "df['away_last_avg'] = df[cols_away_last].mean(axis=1, skipna=True)\n",
    "\n",
    "df.drop(columns=cols_home_last , axis=1, inplace=True)\n",
    "df.drop(columns=cols_away_last , axis=1, inplace=True)\n"
   ]
  },
  {
   "cell_type": "code",
   "execution_count": 36,
   "metadata": {},
   "outputs": [],
   "source": [
    "history_feature = \"Avg last 6 matches\""
   ]
  },
  {
   "cell_type": "code",
   "execution_count": null,
   "metadata": {},
   "outputs": [],
   "source": []
  },
  {
   "cell_type": "markdown",
   "metadata": {},
   "source": [
    "### Train and predict"
   ]
  },
  {
   "cell_type": "code",
   "execution_count": 37,
   "metadata": {},
   "outputs": [],
   "source": [
    "# !mlflow server --host 127.0.0.1 --port 8080"
   ]
  },
  {
   "cell_type": "code",
   "execution_count": 38,
   "metadata": {},
   "outputs": [],
   "source": [
    "import mlflow\n",
    "import dagshub"
   ]
  },
  {
   "cell_type": "code",
   "execution_count": 39,
   "metadata": {},
   "outputs": [],
   "source": [
    "mlflow.set_tracking_uri(\"https://dagshub.com/josmunpen/laliga-oracle-dags.mlflow\")"
   ]
  },
  {
   "cell_type": "code",
   "execution_count": 40,
   "metadata": {},
   "outputs": [
    {
     "name": "stderr",
     "output_type": "stream",
     "text": [
      "HTTP Request: GET https://dagshub.com/api/v1/user \"HTTP/1.1 200 OK\"\n"
     ]
    },
    {
     "data": {
      "text/html": [
       "<pre style=\"white-space:pre;overflow-x:auto;line-height:normal;font-family:Menlo,'DejaVu Sans Mono',consolas,'Courier New',monospace\">Accessing as josmunpen\n",
       "</pre>\n"
      ],
      "text/plain": [
       "Accessing as josmunpen\n"
      ]
     },
     "metadata": {},
     "output_type": "display_data"
    },
    {
     "name": "stderr",
     "output_type": "stream",
     "text": [
      "Accessing as josmunpen\n",
      "HTTP Request: GET https://dagshub.com/api/v1/repos/josmunpen/laliga-oracle-dags \"HTTP/1.1 200 OK\"\n",
      "HTTP Request: GET https://dagshub.com/api/v1/user \"HTTP/1.1 200 OK\"\n"
     ]
    },
    {
     "data": {
      "text/html": [
       "<pre style=\"white-space:pre;overflow-x:auto;line-height:normal;font-family:Menlo,'DejaVu Sans Mono',consolas,'Courier New',monospace\">Initialized MLflow to track repo <span style=\"color: #008000; text-decoration-color: #008000\">\"josmunpen/laliga-oracle-dags\"</span>\n",
       "</pre>\n"
      ],
      "text/plain": [
       "Initialized MLflow to track repo \u001b[32m\"josmunpen/laliga-oracle-dags\"\u001b[0m\n"
      ]
     },
     "metadata": {},
     "output_type": "display_data"
    },
    {
     "name": "stderr",
     "output_type": "stream",
     "text": [
      "Initialized MLflow to track repo \"josmunpen/laliga-oracle-dags\"\n"
     ]
    },
    {
     "data": {
      "text/html": [
       "<pre style=\"white-space:pre;overflow-x:auto;line-height:normal;font-family:Menlo,'DejaVu Sans Mono',consolas,'Courier New',monospace\">Repository josmunpen/laliga-oracle-dags initialized!\n",
       "</pre>\n"
      ],
      "text/plain": [
       "Repository josmunpen/laliga-oracle-dags initialized!\n"
      ]
     },
     "metadata": {},
     "output_type": "display_data"
    },
    {
     "name": "stderr",
     "output_type": "stream",
     "text": [
      "Repository josmunpen/laliga-oracle-dags initialized!\n"
     ]
    }
   ],
   "source": [
    "dagshub.init(repo_owner='josmunpen', repo_name='laliga-oracle-dags', mlflow=True)"
   ]
  },
  {
   "cell_type": "code",
   "execution_count": 41,
   "metadata": {},
   "outputs": [],
   "source": [
    "# with mlflow.start_run():\n",
    "#   mlflow.log_param('parameter name', 'value')\n",
    "#   mlflow.log_metric('metric name', 1)"
   ]
  },
  {
   "cell_type": "code",
   "execution_count": 42,
   "metadata": {},
   "outputs": [],
   "source": [
    "# mlflow.login()"
   ]
  },
  {
   "cell_type": "code",
   "execution_count": 43,
   "metadata": {},
   "outputs": [
    {
     "name": "stderr",
     "output_type": "stream",
     "text": [
      "Starting new HTTPS connection (1): dagshub.com:443\n",
      "https://dagshub.com:443 \"GET /josmunpen/laliga-oracle-dags.mlflow/api/2.0/mlflow/experiments/get-by-name?experiment_name=LaLiga+Oracle HTTP/11\" 200 None\n"
     ]
    },
    {
     "data": {
      "text/plain": [
       "<Experiment: artifact_location='mlflow-artifacts:/620ba81b100844bd829f3fedcdac3aab', creation_time=1722893275449, experiment_id='2', last_update_time=1722893275449, lifecycle_stage='active', name='LaLiga Oracle', tags={}>"
      ]
     },
     "execution_count": 43,
     "metadata": {},
     "output_type": "execute_result"
    }
   ],
   "source": [
    "# Set our tracking server uri for logging\n",
    "# mlflow.set_tracking_uri(uri=\"http://127.0.0.1:8080\")\n",
    "\n",
    "# Create a new MLflow Experiment\n",
    "mlflow.set_experiment(\"LaLiga Oracle\")"
   ]
  },
  {
   "cell_type": "code",
   "execution_count": 44,
   "metadata": {},
   "outputs": [],
   "source": [
    "from sklearn import metrics\n",
    "# from sklearn.metrics import ConfusionMatrixDisplay\n",
    "from sklearn.model_selection import train_test_split, cross_val_predict, cross_val_score, learning_curve\n",
    "\n",
    "from sklearn.linear_model import LogisticRegression, SGDClassifier\n",
    "from sklearn.ensemble import RandomForestClassifier, ExtraTreesClassifier, GradientBoostingClassifier\n",
    "from sklearn.tree import DecisionTreeClassifier\n",
    "from sklearn import tree\n",
    "import xgboost as xgb\n",
    "from sklearn.model_selection import RandomizedSearchCV\n",
    "\n",
    "\n",
    "from sklearn.neighbors import KNeighborsClassifier;\n",
    "from sklearn.svm import SVC;\n",
    "\n",
    "from mlflow.models import infer_signature\n",
    "\n",
    "import secrets"
   ]
  },
  {
   "cell_type": "code",
   "execution_count": 45,
   "metadata": {},
   "outputs": [],
   "source": [
    "# Split by target variable\n",
    "target_variable = \"result_real\"\n",
    "\n",
    "X, y = df.loc[:, df.columns != target_variable], df[target_variable]"
   ]
  },
  {
   "cell_type": "code",
   "execution_count": 46,
   "metadata": {},
   "outputs": [],
   "source": [
    "# Scale\n",
    "scaled = False\n",
    "if scaled == True:\n",
    "    scaler = StandardScaler()\n",
    "    X = pd.DataFrame(scaler.fit_transform(X), columns = X.columns)"
   ]
  },
  {
   "cell_type": "code",
   "execution_count": 47,
   "metadata": {},
   "outputs": [],
   "source": [
    "num_samples = len(X)"
   ]
  },
  {
   "cell_type": "code",
   "execution_count": 48,
   "metadata": {},
   "outputs": [],
   "source": [
    "classifiers = [\n",
    "            (LogisticRegression(max_iter=10000, ), 'logistic_regression'),\n",
    "            (KNeighborsClassifier(1), 'knn_1'),\n",
    "            (KNeighborsClassifier(3), 'knn_3'),\n",
    "            (KNeighborsClassifier(5), 'knn_5'),\n",
    "            (KNeighborsClassifier(15), 'knn_15'),\n",
    "            (KNeighborsClassifier(25), 'knn_25'),\n",
    "            (KNeighborsClassifier(50), 'knn_50'),\n",
    "            (DecisionTreeClassifier(), 'decision_tree'),\n",
    "            (RandomForestClassifier(n_estimators=10), 'rfc_10'),\n",
    "            (RandomForestClassifier(n_estimators=100), 'rfc_100'),\n",
    "            (RandomForestClassifier(n_estimators=1000), 'rfc_1000'),\n",
    "            (GradientBoostingClassifier(),'gbr'),\n",
    "            (xgb.XGBClassifier(), 'xgb')\n",
    "              #TODO: EXTREME GRADIENT BOOSTING         \n",
    "]"
   ]
  },
  {
   "cell_type": "code",
   "execution_count": 49,
   "metadata": {},
   "outputs": [],
   "source": [
    "def track_model(classifier, classifier_name, log_model=True, **kwargs):\n",
    "    model_metrics = kwargs.get(\"model_metrics\")\n",
    "    model_metrics.pop(\"confusion_matrix\")\n",
    "    params = kwargs.get(\"params\")\n",
    "    tags = kwargs.get(\"tags\")\n",
    "    model_data = kwargs.get(\"model_data\")\n",
    "    figures = kwargs.get(\"figures\")\n",
    "\n",
    "\n",
    "    # Start an MLflow run\n",
    "    with mlflow.start_run():\n",
    "        mlflow.set_tag(\"mlflow.runName\", f\"{classifier_name}_{secrets.token_hex(16)}\")\n",
    "\n",
    "        # Log metrics\n",
    "        if model_metrics:\n",
    "            mlflow.log_metrics(model_metrics)\n",
    "\n",
    "        # Log params\n",
    "        if params:\n",
    "            mlflow.log_params(params)\n",
    "        # size, scale, history          \n",
    "\n",
    "        if figures:\n",
    "            for name, fig in figures.items():\n",
    "                mlflow.log_figure(fig, \"confusion_matrix.png\")\n",
    "\n",
    "        # Infer the model signature\n",
    "        # signature = infer_signature(X, classifier.predict(X))\n",
    "\n",
    "        # Log the model\n",
    "        if log_model:\n",
    "            model_info = mlflow.sklearn.log_model(\n",
    "                # sk_model=classifier,\n",
    "                artifact_path=classifier_name,\n",
    "                # signature=signature,\n",
    "                input_example=X,\n",
    "                registered_model_name=classifier_name)"
   ]
  },
  {
   "cell_type": "code",
   "execution_count": 50,
   "metadata": {},
   "outputs": [
    {
     "name": "stderr",
     "output_type": "stream",
     "text": [
      "matplotlib data path: c:\\Users\\josem\\ds\\laliga-oracle\\env_laliga\\Lib\\site-packages\\matplotlib\\mpl-data\n",
      "CONFIGDIR=C:\\Users\\josem\\.matplotlib\n",
      "interactive is False\n",
      "platform is win32\n",
      "CACHEDIR=C:\\Users\\josem\\.matplotlib\n",
      "Using fontManager instance from C:\\Users\\josem\\.matplotlib\\fontlist-v390.json\n"
     ]
    }
   ],
   "source": [
    "import matplotlib.pyplot as plt\n",
    "def evaluate_classifier(classifier, X, y):\n",
    "    start = time.time()\n",
    "    y_pred = cross_val_predict(classifier, X, y, cv=10)\n",
    "    y_pred_proba = cross_val_predict(classifier, X, y, cv=10, method='predict_proba')\n",
    "    acc = metrics.accuracy_score(y, y_pred)\n",
    "    precision = metrics.precision_score(y, y_pred, average=\"macro\")\n",
    "    recall = metrics.recall_score(y, y_pred, average=\"macro\")\n",
    "    f1 = metrics.f1_score(y,y_pred, average=\"macro\")\n",
    "    # roc = metrics.roc_auc_score(y, y_pred_proba[:,1], average=\"macro\", multi_class=\"ovo\")\n",
    "    cm = metrics.confusion_matrix(y, y_pred)\n",
    "    end = time.time()\n",
    "\n",
    "    model_metrics = {\"accuracy\": acc, \"precision\": precision, \"recall\": recall, \"f1\": f1, \"confusion_matrix\": cm, \"elapsed_time\": end-start}\n",
    "\n",
    "\n",
    "    return model_metrics"
   ]
  },
  {
   "cell_type": "code",
   "execution_count": 51,
   "metadata": {},
   "outputs": [
    {
     "name": "stdout",
     "output_type": "stream",
     "text": [
      "Training logistic_regression\n"
     ]
    },
    {
     "name": "stderr",
     "output_type": "stream",
     "text": [
      "Loaded backend module://matplotlib_inline.backend_inline version unknown.\n",
      "Loaded backend module://matplotlib_inline.backend_inline version unknown.\n",
      "findfont: Matching sans\\-serif:style=normal:variant=normal:weight=normal:stretch=normal:size=10.0.\n",
      "findfont: score(FontEntry(fname='c:\\\\Users\\\\josem\\\\ds\\\\laliga-oracle\\\\env_laliga\\\\Lib\\\\site-packages\\\\matplotlib\\\\mpl-data\\\\fonts\\\\ttf\\\\DejaVuSans-BoldOblique.ttf', name='DejaVu Sans', style='oblique', variant='normal', weight=700, stretch='normal', size='scalable')) = 1.335\n",
      "findfont: score(FontEntry(fname='c:\\\\Users\\\\josem\\\\ds\\\\laliga-oracle\\\\env_laliga\\\\Lib\\\\site-packages\\\\matplotlib\\\\mpl-data\\\\fonts\\\\ttf\\\\DejaVuSansDisplay.ttf', name='DejaVu Sans Display', style='normal', variant='normal', weight=400, stretch='normal', size='scalable')) = 10.05\n",
      "findfont: score(FontEntry(fname='c:\\\\Users\\\\josem\\\\ds\\\\laliga-oracle\\\\env_laliga\\\\Lib\\\\site-packages\\\\matplotlib\\\\mpl-data\\\\fonts\\\\ttf\\\\STIXNonUniBol.ttf', name='STIXNonUnicode', style='normal', variant='normal', weight=700, stretch='normal', size='scalable')) = 10.335\n",
      "findfont: score(FontEntry(fname='c:\\\\Users\\\\josem\\\\ds\\\\laliga-oracle\\\\env_laliga\\\\Lib\\\\site-packages\\\\matplotlib\\\\mpl-data\\\\fonts\\\\ttf\\\\STIXSizOneSymReg.ttf', name='STIXSizeOneSym', style='normal', variant='normal', weight=400, stretch='normal', size='scalable')) = 10.05\n",
      "findfont: score(FontEntry(fname='c:\\\\Users\\\\josem\\\\ds\\\\laliga-oracle\\\\env_laliga\\\\Lib\\\\site-packages\\\\matplotlib\\\\mpl-data\\\\fonts\\\\ttf\\\\DejaVuSansMono-BoldOblique.ttf', name='DejaVu Sans Mono', style='oblique', variant='normal', weight=700, stretch='normal', size='scalable')) = 11.335\n",
      "findfont: score(FontEntry(fname='c:\\\\Users\\\\josem\\\\ds\\\\laliga-oracle\\\\env_laliga\\\\Lib\\\\site-packages\\\\matplotlib\\\\mpl-data\\\\fonts\\\\ttf\\\\cmtt10.ttf', name='cmtt10', style='normal', variant='normal', weight=400, stretch='normal', size='scalable')) = 10.05\n",
      "findfont: score(FontEntry(fname='c:\\\\Users\\\\josem\\\\ds\\\\laliga-oracle\\\\env_laliga\\\\Lib\\\\site-packages\\\\matplotlib\\\\mpl-data\\\\fonts\\\\ttf\\\\DejaVuSerifDisplay.ttf', name='DejaVu Serif Display', style='normal', variant='normal', weight=400, stretch='normal', size='scalable')) = 10.05\n",
      "findfont: score(FontEntry(fname='c:\\\\Users\\\\josem\\\\ds\\\\laliga-oracle\\\\env_laliga\\\\Lib\\\\site-packages\\\\matplotlib\\\\mpl-data\\\\fonts\\\\ttf\\\\STIXSizOneSymBol.ttf', name='STIXSizeOneSym', style='normal', variant='normal', weight=700, stretch='normal', size='scalable')) = 10.335\n",
      "findfont: score(FontEntry(fname='c:\\\\Users\\\\josem\\\\ds\\\\laliga-oracle\\\\env_laliga\\\\Lib\\\\site-packages\\\\matplotlib\\\\mpl-data\\\\fonts\\\\ttf\\\\DejaVuSerif.ttf', name='DejaVu Serif', style='normal', variant='normal', weight=400, stretch='normal', size='scalable')) = 10.05\n",
      "findfont: score(FontEntry(fname='c:\\\\Users\\\\josem\\\\ds\\\\laliga-oracle\\\\env_laliga\\\\Lib\\\\site-packages\\\\matplotlib\\\\mpl-data\\\\fonts\\\\ttf\\\\DejaVuSans-Oblique.ttf', name='DejaVu Sans', style='oblique', variant='normal', weight=400, stretch='normal', size='scalable')) = 1.05\n",
      "findfont: score(FontEntry(fname='c:\\\\Users\\\\josem\\\\ds\\\\laliga-oracle\\\\env_laliga\\\\Lib\\\\site-packages\\\\matplotlib\\\\mpl-data\\\\fonts\\\\ttf\\\\STIXSizThreeSymReg.ttf', name='STIXSizeThreeSym', style='normal', variant='normal', weight=400, stretch='normal', size='scalable')) = 10.05\n",
      "findfont: score(FontEntry(fname='c:\\\\Users\\\\josem\\\\ds\\\\laliga-oracle\\\\env_laliga\\\\Lib\\\\site-packages\\\\matplotlib\\\\mpl-data\\\\fonts\\\\ttf\\\\STIXNonUni.ttf', name='STIXNonUnicode', style='normal', variant='normal', weight=400, stretch='normal', size='scalable')) = 10.05\n",
      "findfont: score(FontEntry(fname='c:\\\\Users\\\\josem\\\\ds\\\\laliga-oracle\\\\env_laliga\\\\Lib\\\\site-packages\\\\matplotlib\\\\mpl-data\\\\fonts\\\\ttf\\\\DejaVuSerif-Bold.ttf', name='DejaVu Serif', style='normal', variant='normal', weight=700, stretch='normal', size='scalable')) = 10.335\n",
      "findfont: score(FontEntry(fname='c:\\\\Users\\\\josem\\\\ds\\\\laliga-oracle\\\\env_laliga\\\\Lib\\\\site-packages\\\\matplotlib\\\\mpl-data\\\\fonts\\\\ttf\\\\DejaVuSansMono.ttf', name='DejaVu Sans Mono', style='normal', variant='normal', weight=400, stretch='normal', size='scalable')) = 10.05\n",
      "findfont: score(FontEntry(fname='c:\\\\Users\\\\josem\\\\ds\\\\laliga-oracle\\\\env_laliga\\\\Lib\\\\site-packages\\\\matplotlib\\\\mpl-data\\\\fonts\\\\ttf\\\\DejaVuSans-Bold.ttf', name='DejaVu Sans', style='normal', variant='normal', weight=700, stretch='normal', size='scalable')) = 0.33499999999999996\n",
      "findfont: score(FontEntry(fname='c:\\\\Users\\\\josem\\\\ds\\\\laliga-oracle\\\\env_laliga\\\\Lib\\\\site-packages\\\\matplotlib\\\\mpl-data\\\\fonts\\\\ttf\\\\cmr10.ttf', name='cmr10', style='normal', variant='normal', weight=400, stretch='normal', size='scalable')) = 10.05\n",
      "findfont: score(FontEntry(fname='c:\\\\Users\\\\josem\\\\ds\\\\laliga-oracle\\\\env_laliga\\\\Lib\\\\site-packages\\\\matplotlib\\\\mpl-data\\\\fonts\\\\ttf\\\\DejaVuSerif-Italic.ttf', name='DejaVu Serif', style='italic', variant='normal', weight=400, stretch='normal', size='scalable')) = 11.05\n",
      "findfont: score(FontEntry(fname='c:\\\\Users\\\\josem\\\\ds\\\\laliga-oracle\\\\env_laliga\\\\Lib\\\\site-packages\\\\matplotlib\\\\mpl-data\\\\fonts\\\\ttf\\\\STIXGeneralItalic.ttf', name='STIXGeneral', style='italic', variant='normal', weight=400, stretch='normal', size='scalable')) = 11.05\n",
      "findfont: score(FontEntry(fname='c:\\\\Users\\\\josem\\\\ds\\\\laliga-oracle\\\\env_laliga\\\\Lib\\\\site-packages\\\\matplotlib\\\\mpl-data\\\\fonts\\\\ttf\\\\STIXGeneralBol.ttf', name='STIXGeneral', style='normal', variant='normal', weight=700, stretch='normal', size='scalable')) = 10.335\n",
      "findfont: score(FontEntry(fname='c:\\\\Users\\\\josem\\\\ds\\\\laliga-oracle\\\\env_laliga\\\\Lib\\\\site-packages\\\\matplotlib\\\\mpl-data\\\\fonts\\\\ttf\\\\STIXNonUniIta.ttf', name='STIXNonUnicode', style='italic', variant='normal', weight=400, stretch='normal', size='scalable')) = 11.05\n",
      "findfont: score(FontEntry(fname='c:\\\\Users\\\\josem\\\\ds\\\\laliga-oracle\\\\env_laliga\\\\Lib\\\\site-packages\\\\matplotlib\\\\mpl-data\\\\fonts\\\\ttf\\\\STIXSizFourSymReg.ttf', name='STIXSizeFourSym', style='normal', variant='normal', weight=400, stretch='normal', size='scalable')) = 10.05\n",
      "findfont: score(FontEntry(fname='c:\\\\Users\\\\josem\\\\ds\\\\laliga-oracle\\\\env_laliga\\\\Lib\\\\site-packages\\\\matplotlib\\\\mpl-data\\\\fonts\\\\ttf\\\\STIXSizFiveSymReg.ttf', name='STIXSizeFiveSym', style='normal', variant='normal', weight=400, stretch='normal', size='scalable')) = 10.05\n",
      "findfont: score(FontEntry(fname='c:\\\\Users\\\\josem\\\\ds\\\\laliga-oracle\\\\env_laliga\\\\Lib\\\\site-packages\\\\matplotlib\\\\mpl-data\\\\fonts\\\\ttf\\\\STIXSizTwoSymBol.ttf', name='STIXSizeTwoSym', style='normal', variant='normal', weight=700, stretch='normal', size='scalable')) = 10.335\n",
      "findfont: score(FontEntry(fname='c:\\\\Users\\\\josem\\\\ds\\\\laliga-oracle\\\\env_laliga\\\\Lib\\\\site-packages\\\\matplotlib\\\\mpl-data\\\\fonts\\\\ttf\\\\STIXSizThreeSymBol.ttf', name='STIXSizeThreeSym', style='normal', variant='normal', weight=700, stretch='normal', size='scalable')) = 10.335\n",
      "findfont: score(FontEntry(fname='c:\\\\Users\\\\josem\\\\ds\\\\laliga-oracle\\\\env_laliga\\\\Lib\\\\site-packages\\\\matplotlib\\\\mpl-data\\\\fonts\\\\ttf\\\\cmex10.ttf', name='cmex10', style='normal', variant='normal', weight=400, stretch='normal', size='scalable')) = 10.05\n",
      "findfont: score(FontEntry(fname='c:\\\\Users\\\\josem\\\\ds\\\\laliga-oracle\\\\env_laliga\\\\Lib\\\\site-packages\\\\matplotlib\\\\mpl-data\\\\fonts\\\\ttf\\\\STIXSizFourSymBol.ttf', name='STIXSizeFourSym', style='normal', variant='normal', weight=700, stretch='normal', size='scalable')) = 10.335\n",
      "findfont: score(FontEntry(fname='c:\\\\Users\\\\josem\\\\ds\\\\laliga-oracle\\\\env_laliga\\\\Lib\\\\site-packages\\\\matplotlib\\\\mpl-data\\\\fonts\\\\ttf\\\\DejaVuSans.ttf', name='DejaVu Sans', style='normal', variant='normal', weight=400, stretch='normal', size='scalable')) = 0.05\n",
      "findfont: score(FontEntry(fname='c:\\\\Users\\\\josem\\\\ds\\\\laliga-oracle\\\\env_laliga\\\\Lib\\\\site-packages\\\\matplotlib\\\\mpl-data\\\\fonts\\\\ttf\\\\DejaVuSerif-BoldItalic.ttf', name='DejaVu Serif', style='italic', variant='normal', weight=700, stretch='normal', size='scalable')) = 11.335\n",
      "findfont: score(FontEntry(fname='c:\\\\Users\\\\josem\\\\ds\\\\laliga-oracle\\\\env_laliga\\\\Lib\\\\site-packages\\\\matplotlib\\\\mpl-data\\\\fonts\\\\ttf\\\\DejaVuSansMono-Oblique.ttf', name='DejaVu Sans Mono', style='oblique', variant='normal', weight=400, stretch='normal', size='scalable')) = 11.05\n",
      "findfont: score(FontEntry(fname='c:\\\\Users\\\\josem\\\\ds\\\\laliga-oracle\\\\env_laliga\\\\Lib\\\\site-packages\\\\matplotlib\\\\mpl-data\\\\fonts\\\\ttf\\\\cmss10.ttf', name='cmss10', style='normal', variant='normal', weight=400, stretch='normal', size='scalable')) = 10.05\n",
      "findfont: score(FontEntry(fname='c:\\\\Users\\\\josem\\\\ds\\\\laliga-oracle\\\\env_laliga\\\\Lib\\\\site-packages\\\\matplotlib\\\\mpl-data\\\\fonts\\\\ttf\\\\cmsy10.ttf', name='cmsy10', style='normal', variant='normal', weight=400, stretch='normal', size='scalable')) = 10.05\n",
      "findfont: score(FontEntry(fname='c:\\\\Users\\\\josem\\\\ds\\\\laliga-oracle\\\\env_laliga\\\\Lib\\\\site-packages\\\\matplotlib\\\\mpl-data\\\\fonts\\\\ttf\\\\STIXSizTwoSymReg.ttf', name='STIXSizeTwoSym', style='normal', variant='normal', weight=400, stretch='normal', size='scalable')) = 10.05\n",
      "findfont: score(FontEntry(fname='c:\\\\Users\\\\josem\\\\ds\\\\laliga-oracle\\\\env_laliga\\\\Lib\\\\site-packages\\\\matplotlib\\\\mpl-data\\\\fonts\\\\ttf\\\\cmmi10.ttf', name='cmmi10', style='normal', variant='normal', weight=400, stretch='normal', size='scalable')) = 10.05\n",
      "findfont: score(FontEntry(fname='c:\\\\Users\\\\josem\\\\ds\\\\laliga-oracle\\\\env_laliga\\\\Lib\\\\site-packages\\\\matplotlib\\\\mpl-data\\\\fonts\\\\ttf\\\\STIXGeneralBolIta.ttf', name='STIXGeneral', style='italic', variant='normal', weight=700, stretch='normal', size='scalable')) = 11.335\n",
      "findfont: score(FontEntry(fname='c:\\\\Users\\\\josem\\\\ds\\\\laliga-oracle\\\\env_laliga\\\\Lib\\\\site-packages\\\\matplotlib\\\\mpl-data\\\\fonts\\\\ttf\\\\DejaVuSansMono-Bold.ttf', name='DejaVu Sans Mono', style='normal', variant='normal', weight=700, stretch='normal', size='scalable')) = 10.335\n",
      "findfont: score(FontEntry(fname='c:\\\\Users\\\\josem\\\\ds\\\\laliga-oracle\\\\env_laliga\\\\Lib\\\\site-packages\\\\matplotlib\\\\mpl-data\\\\fonts\\\\ttf\\\\STIXGeneral.ttf', name='STIXGeneral', style='normal', variant='normal', weight=400, stretch='normal', size='scalable')) = 10.05\n",
      "findfont: score(FontEntry(fname='c:\\\\Users\\\\josem\\\\ds\\\\laliga-oracle\\\\env_laliga\\\\Lib\\\\site-packages\\\\matplotlib\\\\mpl-data\\\\fonts\\\\ttf\\\\cmb10.ttf', name='cmb10', style='normal', variant='normal', weight=400, stretch='normal', size='scalable')) = 10.05\n",
      "findfont: score(FontEntry(fname='c:\\\\Users\\\\josem\\\\ds\\\\laliga-oracle\\\\env_laliga\\\\Lib\\\\site-packages\\\\matplotlib\\\\mpl-data\\\\fonts\\\\ttf\\\\STIXNonUniBolIta.ttf', name='STIXNonUnicode', style='italic', variant='normal', weight=700, stretch='normal', size='scalable')) = 11.335\n",
      "findfont: score(FontEntry(fname='C:\\\\Windows\\\\Fonts\\\\constanb.ttf', name='Constantia', style='normal', variant='normal', weight=700, stretch='normal', size='scalable')) = 10.335\n",
      "findfont: score(FontEntry(fname='C:\\\\Windows\\\\Fonts\\\\corbelb.ttf', name='Corbel', style='normal', variant='normal', weight=700, stretch='normal', size='scalable')) = 10.335\n",
      "findfont: score(FontEntry(fname='C:\\\\Windows\\\\Fonts\\\\msyhl.ttc', name='Microsoft YaHei', style='normal', variant='normal', weight=290, stretch='normal', size='scalable')) = 10.1545\n",
      "findfont: score(FontEntry(fname='C:\\\\Windows\\\\Fonts\\\\arialbi.ttf', name='Arial', style='italic', variant='normal', weight=700, stretch='normal', size='scalable')) = 7.698636363636363\n",
      "findfont: score(FontEntry(fname='C:\\\\Windows\\\\Fonts\\\\monbaiti.ttf', name='Mongolian Baiti', style='normal', variant='normal', weight=400, stretch='normal', size='scalable')) = 10.05\n",
      "findfont: score(FontEntry(fname='C:\\\\Windows\\\\Fonts\\\\ebrima.ttf', name='Ebrima', style='normal', variant='normal', weight=400, stretch='normal', size='scalable')) = 10.05\n",
      "findfont: score(FontEntry(fname='C:\\\\Windows\\\\Fonts\\\\timesbi.ttf', name='Times New Roman', style='italic', variant='normal', weight=700, stretch='normal', size='scalable')) = 11.335\n",
      "findfont: score(FontEntry(fname='C:\\\\Windows\\\\Fonts\\\\taile.ttf', name='Microsoft Tai Le', style='normal', variant='normal', weight=400, stretch='normal', size='scalable')) = 10.05\n",
      "findfont: score(FontEntry(fname='C:\\\\Windows\\\\Fonts\\\\Nirmala.ttf', name='Nirmala UI', style='normal', variant='normal', weight=400, stretch='normal', size='scalable')) = 10.05\n",
      "findfont: score(FontEntry(fname='C:\\\\Windows\\\\Fonts\\\\seguili.ttf', name='Segoe UI', style='italic', variant='normal', weight=300, stretch='normal', size='scalable')) = 11.145\n",
      "findfont: score(FontEntry(fname='C:\\\\Windows\\\\Fonts\\\\simsunb.ttf', name='SimSun-ExtB', style='normal', variant='normal', weight=400, stretch='normal', size='scalable')) = 10.05\n",
      "findfont: score(FontEntry(fname='C:\\\\Windows\\\\Fonts\\\\trebucit.ttf', name='Trebuchet MS', style='italic', variant='normal', weight=400, stretch='normal', size='scalable')) = 11.05\n",
      "findfont: score(FontEntry(fname='C:\\\\Windows\\\\Fonts\\\\malgunbd.ttf', name='Malgun Gothic', style='normal', variant='normal', weight=700, stretch='normal', size='scalable')) = 10.335\n",
      "findfont: score(FontEntry(fname='C:\\\\Windows\\\\Fonts\\\\LatoWeb-BoldItalic.ttf', name='Lato', style='italic', variant='normal', weight=700, stretch='normal', size='scalable')) = 11.335\n",
      "findfont: score(FontEntry(fname='C:\\\\Windows\\\\Fonts\\\\Candaraz.ttf', name='Candara', style='italic', variant='normal', weight=700, stretch='normal', size='scalable')) = 11.335\n",
      "findfont: score(FontEntry(fname='C:\\\\Windows\\\\Fonts\\\\SegUIVar.ttf', name='Segoe UI Variable', style='normal', variant='normal', weight=400, stretch='normal', size='scalable')) = 10.05\n",
      "findfont: score(FontEntry(fname='C:\\\\Windows\\\\Fonts\\\\simsun.ttc', name='SimSun', style='normal', variant='normal', weight=400, stretch='normal', size='scalable')) = 10.05\n",
      "findfont: score(FontEntry(fname='C:\\\\Windows\\\\Fonts\\\\symbol.ttf', name='Symbol', style='normal', variant='normal', weight=400, stretch='normal', size='scalable')) = 10.05\n",
      "findfont: score(FontEntry(fname='C:\\\\Windows\\\\Fonts\\\\constani.ttf', name='Constantia', style='italic', variant='normal', weight=400, stretch='normal', size='scalable')) = 11.05\n",
      "findfont: score(FontEntry(fname='C:\\\\Windows\\\\Fonts\\\\segoeprb.ttf', name='Segoe Print', style='normal', variant='normal', weight=700, stretch='normal', size='scalable')) = 10.335\n",
      "findfont: score(FontEntry(fname='C:\\\\Windows\\\\Fonts\\\\trebucbi.ttf', name='Trebuchet MS', style='italic', variant='normal', weight=700, stretch='normal', size='scalable')) = 11.335\n",
      "findfont: score(FontEntry(fname='C:\\\\Windows\\\\Fonts\\\\tahoma.ttf', name='Tahoma', style='normal', variant='normal', weight=400, stretch='normal', size='scalable')) = 10.05\n",
      "findfont: score(FontEntry(fname='C:\\\\Windows\\\\Fonts\\\\Candara.ttf', name='Candara', style='normal', variant='normal', weight=400, stretch='normal', size='scalable')) = 10.05\n",
      "findfont: score(FontEntry(fname='C:\\\\Windows\\\\Fonts\\\\seguibl.ttf', name='Segoe UI', style='normal', variant='normal', weight=900, stretch='normal', size='scalable')) = 10.525\n",
      "findfont: score(FontEntry(fname='C:\\\\Windows\\\\Fonts\\\\msyhbd.ttc', name='Microsoft YaHei', style='normal', variant='normal', weight=700, stretch='normal', size='scalable')) = 10.335\n",
      "findfont: score(FontEntry(fname='C:\\\\Windows\\\\Fonts\\\\trebucbd.ttf', name='Trebuchet MS', style='normal', variant='normal', weight=700, stretch='normal', size='scalable')) = 10.335\n",
      "findfont: score(FontEntry(fname='C:\\\\Windows\\\\Fonts\\\\verdanab.ttf', name='Verdana', style='normal', variant='normal', weight=700, stretch='normal', size='scalable')) = 3.9713636363636367\n",
      "findfont: score(FontEntry(fname='C:\\\\Windows\\\\Fonts\\\\times.ttf', name='Times New Roman', style='normal', variant='normal', weight=400, stretch='normal', size='scalable')) = 10.05\n",
      "findfont: score(FontEntry(fname='C:\\\\Windows\\\\Fonts\\\\seguisym.ttf', name='Segoe UI Symbol', style='normal', variant='normal', weight=400, stretch='normal', size='scalable')) = 10.05\n",
      "findfont: score(FontEntry(fname='C:\\\\Windows\\\\Fonts\\\\webdings.ttf', name='Webdings', style='normal', variant='normal', weight=400, stretch='normal', size='scalable')) = 10.05\n",
      "findfont: score(FontEntry(fname='C:\\\\Windows\\\\Fonts\\\\LatoWeb-SemiboldItalic.ttf', name='Lato', style='italic', variant='normal', weight=600, stretch='normal', size='scalable')) = 11.24\n",
      "findfont: score(FontEntry(fname='C:\\\\Windows\\\\Fonts\\\\palabi.ttf', name='Palatino Linotype', style='italic', variant='normal', weight=700, stretch='normal', size='scalable')) = 11.335\n",
      "findfont: score(FontEntry(fname='C:\\\\Windows\\\\Fonts\\\\constan.ttf', name='Constantia', style='normal', variant='normal', weight=400, stretch='normal', size='scalable')) = 10.05\n",
      "findfont: score(FontEntry(fname='C:\\\\Windows\\\\Fonts\\\\segoeuiz.ttf', name='Segoe UI', style='italic', variant='normal', weight=700, stretch='normal', size='scalable')) = 11.335\n",
      "findfont: score(FontEntry(fname='C:\\\\Windows\\\\Fonts\\\\courbd.ttf', name='Courier New', style='normal', variant='normal', weight=700, stretch='normal', size='scalable')) = 10.335\n",
      "findfont: score(FontEntry(fname='C:\\\\Windows\\\\Fonts\\\\segmdl2.ttf', name='Segoe MDL2 Assets', style='normal', variant='normal', weight=400, stretch='normal', size='scalable')) = 10.05\n",
      "findfont: score(FontEntry(fname='C:\\\\Windows\\\\Fonts\\\\sylfaen.ttf', name='Sylfaen', style='normal', variant='normal', weight=400, stretch='normal', size='scalable')) = 10.05\n",
      "findfont: score(FontEntry(fname='C:\\\\Windows\\\\Fonts\\\\SegoeIcons.ttf', name='Segoe Fluent Icons', style='normal', variant='normal', weight=400, stretch='normal', size='scalable')) = 10.05\n",
      "findfont: score(FontEntry(fname='C:\\\\Windows\\\\Fonts\\\\cambriab.ttf', name='Cambria', style='normal', variant='normal', weight=700, stretch='normal', size='scalable')) = 10.335\n",
      "findfont: score(FontEntry(fname='C:\\\\Windows\\\\Fonts\\\\constanz.ttf', name='Constantia', style='italic', variant='normal', weight=700, stretch='normal', size='scalable')) = 11.335\n",
      "findfont: score(FontEntry(fname='C:\\\\Windows\\\\Fonts\\\\consolaz.ttf', name='Consolas', style='italic', variant='normal', weight=700, stretch='normal', size='scalable')) = 11.335\n",
      "findfont: score(FontEntry(fname='C:\\\\Windows\\\\Fonts\\\\trebuc.ttf', name='Trebuchet MS', style='normal', variant='normal', weight=400, stretch='normal', size='scalable')) = 10.05\n",
      "findfont: score(FontEntry(fname='C:\\\\Windows\\\\Fonts\\\\comici.ttf', name='Comic Sans MS', style='italic', variant='normal', weight=400, stretch='normal', size='scalable')) = 11.05\n",
      "findfont: score(FontEntry(fname='C:\\\\Windows\\\\Fonts\\\\calibriz.ttf', name='Calibri', style='italic', variant='normal', weight=700, stretch='normal', size='scalable')) = 11.335\n",
      "findfont: score(FontEntry(fname='C:\\\\Windows\\\\Fonts\\\\mingliub.ttc', name='MingLiU-ExtB', style='normal', variant='normal', weight=400, stretch='normal', size='scalable')) = 10.05\n",
      "findfont: score(FontEntry(fname='C:\\\\Windows\\\\Fonts\\\\YuGothB.ttc', name='Yu Gothic', style='normal', variant='normal', weight=700, stretch='normal', size='scalable')) = 10.335\n",
      "findfont: score(FontEntry(fname='C:\\\\Windows\\\\Fonts\\\\framdit.ttf', name='Franklin Gothic Medium', style='italic', variant='normal', weight=400, stretch='normal', size='scalable')) = 11.05\n",
      "findfont: score(FontEntry(fname='C:\\\\Windows\\\\Fonts\\\\seguisb.ttf', name='Segoe UI', style='normal', variant='normal', weight=600, stretch='normal', size='scalable')) = 10.24\n",
      "findfont: score(FontEntry(fname='C:\\\\Windows\\\\Fonts\\\\Candarab.ttf', name='Candara', style='normal', variant='normal', weight=700, stretch='normal', size='scalable')) = 10.335\n",
      "findfont: score(FontEntry(fname='C:\\\\Windows\\\\Fonts\\\\consolai.ttf', name='Consolas', style='italic', variant='normal', weight=400, stretch='normal', size='scalable')) = 11.05\n",
      "findfont: score(FontEntry(fname='C:\\\\Windows\\\\Fonts\\\\bahnschrift.ttf', name='Bahnschrift', style='normal', variant='normal', weight=400, stretch='normal', size='scalable')) = 10.05\n",
      "findfont: score(FontEntry(fname='C:\\\\Windows\\\\Fonts\\\\YuGothR.ttc', name='Yu Gothic', style='normal', variant='normal', weight=400, stretch='normal', size='scalable')) = 10.05\n",
      "findfont: score(FontEntry(fname='C:\\\\Windows\\\\Fonts\\\\verdana.ttf', name='Verdana', style='normal', variant='normal', weight=400, stretch='normal', size='scalable')) = 3.6863636363636365\n",
      "findfont: score(FontEntry(fname='C:\\\\Windows\\\\Fonts\\\\verdanai.ttf', name='Verdana', style='italic', variant='normal', weight=400, stretch='normal', size='scalable')) = 4.6863636363636365\n",
      "findfont: score(FontEntry(fname='C:\\\\Windows\\\\Fonts\\\\SansSerifCollection.ttf', name='Sans Serif Collection', style='normal', variant='normal', weight=400, stretch='normal', size='scalable')) = 10.05\n",
      "findfont: score(FontEntry(fname='C:\\\\Windows\\\\Fonts\\\\phagspa.ttf', name='Microsoft PhagsPa', style='normal', variant='normal', weight=400, stretch='normal', size='scalable')) = 10.05\n",
      "findfont: score(FontEntry(fname='C:\\\\Windows\\\\Fonts\\\\corbel.ttf', name='Corbel', style='normal', variant='normal', weight=400, stretch='normal', size='scalable')) = 10.05\n",
      "findfont: score(FontEntry(fname='C:\\\\Windows\\\\Fonts\\\\segoeuii.ttf', name='Segoe UI', style='italic', variant='normal', weight=400, stretch='normal', size='scalable')) = 11.05\n",
      "findfont: score(FontEntry(fname='C:\\\\Windows\\\\Fonts\\\\seguibli.ttf', name='Segoe UI', style='italic', variant='normal', weight=900, stretch='normal', size='scalable')) = 11.525\n",
      "findfont: score(FontEntry(fname='C:\\\\Windows\\\\Fonts\\\\comicz.ttf', name='Comic Sans MS', style='italic', variant='normal', weight=700, stretch='normal', size='scalable')) = 11.335\n",
      "findfont: score(FontEntry(fname='C:\\\\Windows\\\\Fonts\\\\SitkaVF-Italic.ttf', name='Sitka', style='italic', variant='normal', weight=400, stretch='normal', size='scalable')) = 11.05\n",
      "findfont: score(FontEntry(fname='C:\\\\Windows\\\\Fonts\\\\msjh.ttc', name='Microsoft JhengHei', style='normal', variant='normal', weight=400, stretch='normal', size='scalable')) = 10.05\n",
      "findfont: score(FontEntry(fname='C:\\\\Windows\\\\Fonts\\\\segoeuib.ttf', name='Segoe UI', style='normal', variant='normal', weight=700, stretch='normal', size='scalable')) = 10.335\n",
      "findfont: score(FontEntry(fname='C:\\\\Windows\\\\Fonts\\\\timesbd.ttf', name='Times New Roman', style='normal', variant='normal', weight=700, stretch='normal', size='scalable')) = 10.335\n",
      "findfont: score(FontEntry(fname='C:\\\\Windows\\\\Fonts\\\\cambriai.ttf', name='Cambria', style='italic', variant='normal', weight=400, stretch='normal', size='scalable')) = 11.05\n",
      "findfont: score(FontEntry(fname='C:\\\\Windows\\\\Fonts\\\\pala.ttf', name='Palatino Linotype', style='normal', variant='normal', weight=400, stretch='normal', size='scalable')) = 10.05\n",
      "findfont: score(FontEntry(fname='C:\\\\Windows\\\\Fonts\\\\mvboli.ttf', name='MV Boli', style='normal', variant='normal', weight=400, stretch='normal', size='scalable')) = 10.05\n",
      "findfont: score(FontEntry(fname='C:\\\\Windows\\\\Fonts\\\\couri.ttf', name='Courier New', style='italic', variant='normal', weight=400, stretch='normal', size='scalable')) = 11.05\n",
      "findfont: score(FontEntry(fname='C:\\\\Windows\\\\Fonts\\\\corbelli.ttf', name='Corbel', style='italic', variant='normal', weight=300, stretch='normal', size='scalable')) = 11.145\n",
      "findfont: score(FontEntry(fname='C:\\\\Windows\\\\Fonts\\\\msjhl.ttc', name='Microsoft JhengHei', style='normal', variant='normal', weight=290, stretch='normal', size='scalable')) = 10.1545\n",
      "findfont: score(FontEntry(fname='C:\\\\Windows\\\\Fonts\\\\malgunsl.ttf', name='Malgun Gothic', style='normal', variant='normal', weight=300, stretch='normal', size='scalable')) = 10.145\n",
      "findfont: score(FontEntry(fname='C:\\\\Windows\\\\Fonts\\\\calibril.ttf', name='Calibri', style='normal', variant='normal', weight=300, stretch='normal', size='scalable')) = 10.145\n",
      "findfont: score(FontEntry(fname='C:\\\\Windows\\\\Fonts\\\\LatoWeb-Regular.ttf', name='Lato', style='normal', variant='normal', weight=400, stretch='normal', size='scalable')) = 10.05\n",
      "findfont: score(FontEntry(fname='C:\\\\Windows\\\\Fonts\\\\ebrimabd.ttf', name='Ebrima', style='normal', variant='normal', weight=700, stretch='normal', size='scalable')) = 10.335\n",
      "findfont: score(FontEntry(fname='C:\\\\Windows\\\\Fonts\\\\Inkfree.ttf', name='Ink Free', style='normal', variant='normal', weight=400, stretch='normal', size='scalable')) = 10.05\n",
      "findfont: score(FontEntry(fname='C:\\\\Windows\\\\Fonts\\\\calibrii.ttf', name='Calibri', style='italic', variant='normal', weight=400, stretch='normal', size='scalable')) = 11.05\n",
      "findfont: score(FontEntry(fname='C:\\\\Windows\\\\Fonts\\\\gadugib.ttf', name='Gadugi', style='normal', variant='normal', weight=700, stretch='normal', size='scalable')) = 10.335\n",
      "findfont: score(FontEntry(fname='C:\\\\Windows\\\\Fonts\\\\LatoWeb-LightItalic.ttf', name='Lato', style='italic', variant='normal', weight=300, stretch='normal', size='scalable')) = 11.145\n",
      "findfont: score(FontEntry(fname='C:\\\\Windows\\\\Fonts\\\\timesi.ttf', name='Times New Roman', style='italic', variant='normal', weight=400, stretch='normal', size='scalable')) = 11.05\n",
      "findfont: score(FontEntry(fname='C:\\\\Windows\\\\Fonts\\\\palab.ttf', name='Palatino Linotype', style='normal', variant='normal', weight=700, stretch='normal', size='scalable')) = 10.335\n",
      "findfont: score(FontEntry(fname='C:\\\\Windows\\\\Fonts\\\\segoepr.ttf', name='Segoe Print', style='normal', variant='normal', weight=400, stretch='normal', size='scalable')) = 10.05\n",
      "findfont: score(FontEntry(fname='C:\\\\Windows\\\\Fonts\\\\Candarali.ttf', name='Candara', style='italic', variant='normal', weight=400, stretch='normal', size='scalable')) = 11.05\n",
      "findfont: score(FontEntry(fname='C:\\\\Windows\\\\Fonts\\\\holomdl2.ttf', name='HoloLens MDL2 Assets', style='normal', variant='normal', weight=400, stretch='normal', size='scalable')) = 10.05\n",
      "findfont: score(FontEntry(fname='C:\\\\Windows\\\\Fonts\\\\msgothic.ttc', name='MS Gothic', style='normal', variant='normal', weight=400, stretch='normal', size='scalable')) = 10.05\n",
      "findfont: score(FontEntry(fname='C:\\\\Windows\\\\Fonts\\\\mmrtextb.ttf', name='Myanmar Text', style='normal', variant='normal', weight=700, stretch='normal', size='scalable')) = 10.335\n",
      "findfont: score(FontEntry(fname='C:\\\\Windows\\\\Fonts\\\\phagspab.ttf', name='Microsoft PhagsPa', style='normal', variant='normal', weight=700, stretch='normal', size='scalable')) = 10.335\n",
      "findfont: score(FontEntry(fname='C:\\\\Windows\\\\Fonts\\\\consola.ttf', name='Consolas', style='normal', variant='normal', weight=400, stretch='normal', size='scalable')) = 10.05\n",
      "findfont: score(FontEntry(fname='C:\\\\Windows\\\\Fonts\\\\corbeli.ttf', name='Corbel', style='italic', variant='normal', weight=400, stretch='normal', size='scalable')) = 11.05\n",
      "findfont: score(FontEntry(fname='C:\\\\Windows\\\\Fonts\\\\mmrtext.ttf', name='Myanmar Text', style='normal', variant='normal', weight=400, stretch='normal', size='scalable')) = 10.05\n",
      "findfont: score(FontEntry(fname='C:\\\\Windows\\\\Fonts\\\\seguiemj.ttf', name='Segoe UI Emoji', style='normal', variant='normal', weight=400, stretch='normal', size='scalable')) = 10.05\n",
      "findfont: score(FontEntry(fname='C:\\\\Windows\\\\Fonts\\\\seguihis.ttf', name='Segoe UI Historic', style='normal', variant='normal', weight=400, stretch='normal', size='scalable')) = 10.05\n",
      "findfont: score(FontEntry(fname='C:\\\\Windows\\\\Fonts\\\\LatoWeb-Light.ttf', name='Lato', style='normal', variant='normal', weight=300, stretch='normal', size='scalable')) = 10.145\n",
      "findfont: score(FontEntry(fname='C:\\\\Windows\\\\Fonts\\\\Candaral.ttf', name='Candara', style='normal', variant='normal', weight=400, stretch='normal', size='scalable')) = 10.05\n",
      "findfont: score(FontEntry(fname='C:\\\\Windows\\\\Fonts\\\\cambriaz.ttf', name='Cambria', style='italic', variant='normal', weight=700, stretch='normal', size='scalable')) = 11.335\n",
      "findfont: score(FontEntry(fname='C:\\\\Windows\\\\Fonts\\\\wingding.ttf', name='Wingdings', style='normal', variant='normal', weight=400, stretch='normal', size='scalable')) = 10.05\n",
      "findfont: score(FontEntry(fname='C:\\\\Windows\\\\Fonts\\\\cambria.ttc', name='Cambria', style='normal', variant='normal', weight=400, stretch='normal', size='scalable')) = 10.05\n",
      "findfont: score(FontEntry(fname='C:\\\\Windows\\\\Fonts\\\\framd.ttf', name='Franklin Gothic Medium', style='normal', variant='normal', weight=400, stretch='normal', size='scalable')) = 10.05\n",
      "findfont: score(FontEntry(fname='C:\\\\Windows\\\\Fonts\\\\corbelz.ttf', name='Corbel', style='italic', variant='normal', weight=700, stretch='normal', size='scalable')) = 11.335\n",
      "findfont: score(FontEntry(fname='C:\\\\Windows\\\\Fonts\\\\consolab.ttf', name='Consolas', style='normal', variant='normal', weight=700, stretch='normal', size='scalable')) = 10.335\n",
      "findfont: score(FontEntry(fname='C:\\\\Windows\\\\Fonts\\\\calibrili.ttf', name='Calibri', style='italic', variant='normal', weight=300, stretch='normal', size='scalable')) = 11.145\n",
      "findfont: score(FontEntry(fname='C:\\\\Windows\\\\Fonts\\\\YuGothL.ttc', name='Yu Gothic', style='normal', variant='normal', weight=300, stretch='normal', size='scalable')) = 10.145\n",
      "findfont: score(FontEntry(fname='C:\\\\Windows\\\\Fonts\\\\LeelUIsl.ttf', name='Leelawadee UI', style='normal', variant='normal', weight=350, stretch='normal', size='scalable')) = 10.0975\n",
      "findfont: score(FontEntry(fname='C:\\\\Windows\\\\Fonts\\\\micross.ttf', name='Microsoft Sans Serif', style='normal', variant='normal', weight=400, stretch='normal', size='scalable')) = 10.05\n",
      "findfont: score(FontEntry(fname='C:\\\\Windows\\\\Fonts\\\\Candarai.ttf', name='Candara', style='italic', variant='normal', weight=400, stretch='normal', size='scalable')) = 11.05\n",
      "findfont: score(FontEntry(fname='C:\\\\Windows\\\\Fonts\\\\corbell.ttf', name='Corbel', style='normal', variant='normal', weight=300, stretch='normal', size='scalable')) = 10.145\n",
      "findfont: score(FontEntry(fname='C:\\\\Windows\\\\Fonts\\\\tahomabd.ttf', name='Tahoma', style='normal', variant='normal', weight=700, stretch='normal', size='scalable')) = 10.335\n",
      "findfont: score(FontEntry(fname='C:\\\\Windows\\\\Fonts\\\\msyi.ttf', name='Microsoft Yi Baiti', style='normal', variant='normal', weight=400, stretch='normal', size='scalable')) = 10.05\n",
      "findfont: score(FontEntry(fname='C:\\\\Windows\\\\Fonts\\\\himalaya.ttf', name='Microsoft Himalaya', style='normal', variant='normal', weight=400, stretch='normal', size='scalable')) = 10.05\n",
      "findfont: score(FontEntry(fname='C:\\\\Windows\\\\Fonts\\\\georgia.ttf', name='Georgia', style='normal', variant='normal', weight=400, stretch='normal', size='scalable')) = 10.05\n",
      "findfont: score(FontEntry(fname='C:\\\\Windows\\\\Fonts\\\\comic.ttf', name='Comic Sans MS', style='normal', variant='normal', weight=400, stretch='normal', size='scalable')) = 10.05\n",
      "findfont: score(FontEntry(fname='C:\\\\Windows\\\\Fonts\\\\LeelaUIb.ttf', name='Leelawadee UI', style='normal', variant='normal', weight=700, stretch='normal', size='scalable')) = 10.335\n",
      "findfont: score(FontEntry(fname='C:\\\\Windows\\\\Fonts\\\\l_10646.ttf', name='Lucida Sans Unicode', style='normal', variant='normal', weight=400, stretch='normal', size='scalable')) = 10.05\n",
      "findfont: score(FontEntry(fname='C:\\\\Windows\\\\Fonts\\\\ariali.ttf', name='Arial', style='italic', variant='normal', weight=400, stretch='normal', size='scalable')) = 7.413636363636363\n",
      "findfont: score(FontEntry(fname='C:\\\\Windows\\\\Fonts\\\\NirmalaS.ttf', name='Nirmala UI', style='normal', variant='normal', weight=350, stretch='normal', size='scalable')) = 10.0975\n",
      "findfont: score(FontEntry(fname='C:\\\\Windows\\\\Fonts\\\\georgiab.ttf', name='Georgia', style='normal', variant='normal', weight=700, stretch='normal', size='scalable')) = 10.335\n",
      "findfont: score(FontEntry(fname='C:\\\\Windows\\\\Fonts\\\\ntailub.ttf', name='Microsoft New Tai Lue', style='normal', variant='normal', weight=700, stretch='normal', size='scalable')) = 10.335\n",
      "findfont: score(FontEntry(fname='C:\\\\Windows\\\\Fonts\\\\georgiaz.ttf', name='Georgia', style='italic', variant='normal', weight=700, stretch='normal', size='scalable')) = 11.335\n",
      "findfont: score(FontEntry(fname='C:\\\\Windows\\\\Fonts\\\\seguisbi.ttf', name='Segoe UI', style='italic', variant='normal', weight=600, stretch='normal', size='scalable')) = 11.24\n",
      "findfont: score(FontEntry(fname='C:\\\\Windows\\\\Fonts\\\\LatoWeb-Bold.ttf', name='Lato', style='normal', variant='normal', weight=700, stretch='normal', size='scalable')) = 10.335\n",
      "findfont: score(FontEntry(fname='C:\\\\Windows\\\\Fonts\\\\arialbd.ttf', name='Arial', style='normal', variant='normal', weight=700, stretch='normal', size='scalable')) = 6.698636363636363\n",
      "findfont: score(FontEntry(fname='C:\\\\Windows\\\\Fonts\\\\georgiai.ttf', name='Georgia', style='italic', variant='normal', weight=400, stretch='normal', size='scalable')) = 11.05\n",
      "findfont: score(FontEntry(fname='C:\\\\Windows\\\\Fonts\\\\arial.ttf', name='Arial', style='normal', variant='normal', weight=400, stretch='normal', size='scalable')) = 6.413636363636363\n",
      "findfont: score(FontEntry(fname='C:\\\\Windows\\\\Fonts\\\\LatoWeb-Italic.ttf', name='Lato', style='italic', variant='normal', weight=400, stretch='normal', size='scalable')) = 11.05\n",
      "findfont: score(FontEntry(fname='C:\\\\Windows\\\\Fonts\\\\impact.ttf', name='Impact', style='normal', variant='normal', weight=400, stretch='normal', size='scalable')) = 10.05\n",
      "findfont: score(FontEntry(fname='C:\\\\Windows\\\\Fonts\\\\LeelawUI.ttf', name='Leelawadee UI', style='normal', variant='normal', weight=400, stretch='normal', size='scalable')) = 10.05\n",
      "findfont: score(FontEntry(fname='C:\\\\Windows\\\\Fonts\\\\calibri.ttf', name='Calibri', style='normal', variant='normal', weight=400, stretch='normal', size='scalable')) = 10.05\n",
      "findfont: score(FontEntry(fname='C:\\\\Windows\\\\Fonts\\\\malgun.ttf', name='Malgun Gothic', style='normal', variant='normal', weight=400, stretch='normal', size='scalable')) = 10.05\n",
      "findfont: score(FontEntry(fname='C:\\\\Windows\\\\Fonts\\\\verdanaz.ttf', name='Verdana', style='italic', variant='normal', weight=700, stretch='normal', size='scalable')) = 4.971363636363637\n",
      "findfont: score(FontEntry(fname='C:\\\\Windows\\\\Fonts\\\\segoesc.ttf', name='Segoe Script', style='normal', variant='normal', weight=400, stretch='normal', size='scalable')) = 10.05\n",
      "findfont: score(FontEntry(fname='C:\\\\Windows\\\\Fonts\\\\Gabriola.ttf', name='Gabriola', style='normal', variant='normal', weight=400, stretch='normal', size='scalable')) = 10.05\n",
      "findfont: score(FontEntry(fname='C:\\\\Windows\\\\Fonts\\\\segoeuisl.ttf', name='Segoe UI', style='normal', variant='normal', weight=350, stretch='normal', size='scalable')) = 10.0975\n",
      "findfont: score(FontEntry(fname='C:\\\\Windows\\\\Fonts\\\\seguisli.ttf', name='Segoe UI', style='italic', variant='normal', weight=350, stretch='normal', size='scalable')) = 11.0975\n",
      "findfont: score(FontEntry(fname='C:\\\\Windows\\\\Fonts\\\\LatoWeb-Semibold.ttf', name='Lato', style='normal', variant='normal', weight=600, stretch='normal', size='scalable')) = 10.24\n",
      "findfont: score(FontEntry(fname='C:\\\\Windows\\\\Fonts\\\\taileb.ttf', name='Microsoft Tai Le', style='normal', variant='normal', weight=700, stretch='normal', size='scalable')) = 10.335\n",
      "findfont: score(FontEntry(fname='C:\\\\Windows\\\\Fonts\\\\segoeui.ttf', name='Segoe UI', style='normal', variant='normal', weight=400, stretch='normal', size='scalable')) = 10.05\n",
      "findfont: score(FontEntry(fname='C:\\\\Windows\\\\Fonts\\\\gadugi.ttf', name='Gadugi', style='normal', variant='normal', weight=400, stretch='normal', size='scalable')) = 10.05\n",
      "findfont: score(FontEntry(fname='C:\\\\Windows\\\\Fonts\\\\courbi.ttf', name='Courier New', style='italic', variant='normal', weight=700, stretch='normal', size='scalable')) = 11.335\n",
      "findfont: score(FontEntry(fname='C:\\\\Windows\\\\Fonts\\\\msyh.ttc', name='Microsoft YaHei', style='normal', variant='normal', weight=400, stretch='normal', size='scalable')) = 10.05\n",
      "findfont: score(FontEntry(fname='C:\\\\Windows\\\\Fonts\\\\segoeuil.ttf', name='Segoe UI', style='normal', variant='normal', weight=300, stretch='normal', size='scalable')) = 10.145\n",
      "findfont: score(FontEntry(fname='C:\\\\Windows\\\\Fonts\\\\cour.ttf', name='Courier New', style='normal', variant='normal', weight=400, stretch='normal', size='scalable')) = 10.05\n",
      "findfont: score(FontEntry(fname='C:\\\\Windows\\\\Fonts\\\\comicbd.ttf', name='Comic Sans MS', style='normal', variant='normal', weight=700, stretch='normal', size='scalable')) = 10.335\n",
      "findfont: score(FontEntry(fname='C:\\\\Windows\\\\Fonts\\\\msjhbd.ttc', name='Microsoft JhengHei', style='normal', variant='normal', weight=700, stretch='normal', size='scalable')) = 10.335\n",
      "findfont: score(FontEntry(fname='C:\\\\Windows\\\\Fonts\\\\YuGothM.ttc', name='Yu Gothic', style='normal', variant='normal', weight=500, stretch='normal', size='scalable')) = 10.145\n",
      "findfont: score(FontEntry(fname='C:\\\\Windows\\\\Fonts\\\\ariblk.ttf', name='Arial', style='normal', variant='normal', weight=900, stretch='normal', size='scalable')) = 6.888636363636364\n",
      "findfont: score(FontEntry(fname='C:\\\\Windows\\\\Fonts\\\\NirmalaB.ttf', name='Nirmala UI', style='normal', variant='normal', weight=700, stretch='normal', size='scalable')) = 10.335\n",
      "findfont: score(FontEntry(fname='C:\\\\Windows\\\\Fonts\\\\SitkaVF.ttf', name='Sitka', style='normal', variant='normal', weight=400, stretch='normal', size='scalable')) = 10.05\n",
      "findfont: score(FontEntry(fname='C:\\\\Windows\\\\Fonts\\\\javatext.ttf', name='Javanese Text', style='normal', variant='normal', weight=400, stretch='normal', size='scalable')) = 10.05\n",
      "findfont: score(FontEntry(fname='C:\\\\Windows\\\\Fonts\\\\segoescb.ttf', name='Segoe Script', style='normal', variant='normal', weight=700, stretch='normal', size='scalable')) = 10.335\n",
      "findfont: score(FontEntry(fname='C:\\\\Windows\\\\Fonts\\\\ntailu.ttf', name='Microsoft New Tai Lue', style='normal', variant='normal', weight=400, stretch='normal', size='scalable')) = 10.05\n",
      "findfont: score(FontEntry(fname='C:\\\\Windows\\\\Fonts\\\\lucon.ttf', name='Lucida Console', style='normal', variant='normal', weight=400, stretch='normal', size='scalable')) = 10.05\n",
      "findfont: score(FontEntry(fname='C:\\\\Windows\\\\Fonts\\\\calibrib.ttf', name='Calibri', style='normal', variant='normal', weight=700, stretch='normal', size='scalable')) = 10.335\n",
      "findfont: score(FontEntry(fname='C:\\\\Windows\\\\Fonts\\\\palai.ttf', name='Palatino Linotype', style='italic', variant='normal', weight=400, stretch='normal', size='scalable')) = 11.05\n",
      "findfont: Matching sans\\-serif:style=normal:variant=normal:weight=normal:stretch=normal:size=10.0 to DejaVu Sans ('c:\\\\Users\\\\josem\\\\ds\\\\laliga-oracle\\\\env_laliga\\\\Lib\\\\site-packages\\\\matplotlib\\\\mpl-data\\\\fonts\\\\ttf\\\\DejaVuSans.ttf') with score of 0.050000.\n",
      "locator: <matplotlib.ticker.AutoLocator object at 0x0000026015E7B210>\n",
      "Popen(['git', 'version'], cwd=c:\\Users\\josem\\ds\\laliga-oracle, stdin=None, shell=False, universal_newlines=False)\n",
      "Popen(['git', 'version'], cwd=c:\\Users\\josem\\ds\\laliga-oracle, stdin=None, shell=False, universal_newlines=False)\n",
      "Popen(['git', 'check-ignore', 'c:\\\\Users\\\\josem\\\\ds\\\\laliga-oracle\\\\env_laliga\\\\Lib\\\\site-packages'], cwd=c:\\Users\\josem\\ds\\laliga-oracle, stdin=None, shell=False, universal_newlines=False)\n",
      "https://dagshub.com:443 \"POST /josmunpen/laliga-oracle-dags.mlflow/api/2.0/mlflow/runs/create HTTP/11\" 200 None\n",
      "https://dagshub.com:443 \"POST /josmunpen/laliga-oracle-dags.mlflow/api/2.0/mlflow/runs/set-tag HTTP/11\" 200 None\n",
      "https://dagshub.com:443 \"POST /josmunpen/laliga-oracle-dags.mlflow/api/2.0/mlflow/runs/log-batch HTTP/11\" 200 None\n",
      "https://dagshub.com:443 \"POST /josmunpen/laliga-oracle-dags.mlflow/api/2.0/mlflow/runs/log-batch HTTP/11\" 200 None\n",
      "https://dagshub.com:443 \"GET /josmunpen/laliga-oracle-dags.mlflow/api/2.0/mlflow/runs/get?run_uuid=462fbd9a6fa447a4a3ca3dd6a6ffd2f3&run_id=462fbd9a6fa447a4a3ca3dd6a6ffd2f3 HTTP/11\" 200 None\n",
      "https://dagshub.com:443 \"PUT /josmunpen/laliga-oracle-dags.mlflow/api/2.0/mlflow-artifacts/artifacts/620ba81b100844bd829f3fedcdac3aab/462fbd9a6fa447a4a3ca3dd6a6ffd2f3/artifacts/confusion_matrix.png HTTP/11\" 200 None\n",
      "https://dagshub.com:443 \"POST /josmunpen/laliga-oracle-dags.mlflow/api/2.0/mlflow/runs/update HTTP/11\" 200 None\n"
     ]
    },
    {
     "name": "stdout",
     "output_type": "stream",
     "text": [
      "Training knn_1\n"
     ]
    },
    {
     "name": "stderr",
     "output_type": "stream",
     "text": [
      "locator: <matplotlib.ticker.AutoLocator object at 0x000002601A2DA950>\n",
      "https://dagshub.com:443 \"POST /josmunpen/laliga-oracle-dags.mlflow/api/2.0/mlflow/runs/create HTTP/11\" 200 None\n",
      "https://dagshub.com:443 \"POST /josmunpen/laliga-oracle-dags.mlflow/api/2.0/mlflow/runs/set-tag HTTP/11\" 200 None\n",
      "https://dagshub.com:443 \"POST /josmunpen/laliga-oracle-dags.mlflow/api/2.0/mlflow/runs/log-batch HTTP/11\" 200 None\n",
      "https://dagshub.com:443 \"POST /josmunpen/laliga-oracle-dags.mlflow/api/2.0/mlflow/runs/log-batch HTTP/11\" 200 None\n",
      "https://dagshub.com:443 \"GET /josmunpen/laliga-oracle-dags.mlflow/api/2.0/mlflow/runs/get?run_uuid=a005e2f0a66246818aae2a607b455301&run_id=a005e2f0a66246818aae2a607b455301 HTTP/11\" 200 None\n",
      "https://dagshub.com:443 \"PUT /josmunpen/laliga-oracle-dags.mlflow/api/2.0/mlflow-artifacts/artifacts/620ba81b100844bd829f3fedcdac3aab/a005e2f0a66246818aae2a607b455301/artifacts/confusion_matrix.png HTTP/11\" 200 None\n",
      "https://dagshub.com:443 \"POST /josmunpen/laliga-oracle-dags.mlflow/api/2.0/mlflow/runs/update HTTP/11\" 200 None\n",
      "locator: <matplotlib.ticker.AutoLocator object at 0x000002601A363210>\n"
     ]
    },
    {
     "name": "stdout",
     "output_type": "stream",
     "text": [
      "Training knn_3\n"
     ]
    },
    {
     "name": "stderr",
     "output_type": "stream",
     "text": [
      "https://dagshub.com:443 \"POST /josmunpen/laliga-oracle-dags.mlflow/api/2.0/mlflow/runs/create HTTP/11\" 200 None\n",
      "https://dagshub.com:443 \"POST /josmunpen/laliga-oracle-dags.mlflow/api/2.0/mlflow/runs/set-tag HTTP/11\" 200 None\n",
      "https://dagshub.com:443 \"POST /josmunpen/laliga-oracle-dags.mlflow/api/2.0/mlflow/runs/log-batch HTTP/11\" 200 None\n",
      "https://dagshub.com:443 \"POST /josmunpen/laliga-oracle-dags.mlflow/api/2.0/mlflow/runs/log-batch HTTP/11\" 200 None\n",
      "https://dagshub.com:443 \"GET /josmunpen/laliga-oracle-dags.mlflow/api/2.0/mlflow/runs/get?run_uuid=959f24fc973c4b889ce9280af8e2bed2&run_id=959f24fc973c4b889ce9280af8e2bed2 HTTP/11\" 200 None\n",
      "https://dagshub.com:443 \"PUT /josmunpen/laliga-oracle-dags.mlflow/api/2.0/mlflow-artifacts/artifacts/620ba81b100844bd829f3fedcdac3aab/959f24fc973c4b889ce9280af8e2bed2/artifacts/confusion_matrix.png HTTP/11\" 200 None\n",
      "https://dagshub.com:443 \"POST /josmunpen/laliga-oracle-dags.mlflow/api/2.0/mlflow/runs/update HTTP/11\" 200 None\n",
      "locator: <matplotlib.ticker.AutoLocator object at 0x000002601A5A7C90>\n"
     ]
    },
    {
     "name": "stdout",
     "output_type": "stream",
     "text": [
      "Training knn_5\n"
     ]
    },
    {
     "name": "stderr",
     "output_type": "stream",
     "text": [
      "https://dagshub.com:443 \"POST /josmunpen/laliga-oracle-dags.mlflow/api/2.0/mlflow/runs/create HTTP/11\" 200 None\n",
      "https://dagshub.com:443 \"POST /josmunpen/laliga-oracle-dags.mlflow/api/2.0/mlflow/runs/set-tag HTTP/11\" 200 None\n",
      "https://dagshub.com:443 \"POST /josmunpen/laliga-oracle-dags.mlflow/api/2.0/mlflow/runs/log-batch HTTP/11\" 200 None\n",
      "https://dagshub.com:443 \"POST /josmunpen/laliga-oracle-dags.mlflow/api/2.0/mlflow/runs/log-batch HTTP/11\" 200 None\n",
      "https://dagshub.com:443 \"GET /josmunpen/laliga-oracle-dags.mlflow/api/2.0/mlflow/runs/get?run_uuid=23abb3c09fa646a6b6ba4ee0512c1959&run_id=23abb3c09fa646a6b6ba4ee0512c1959 HTTP/11\" 200 None\n",
      "https://dagshub.com:443 \"PUT /josmunpen/laliga-oracle-dags.mlflow/api/2.0/mlflow-artifacts/artifacts/620ba81b100844bd829f3fedcdac3aab/23abb3c09fa646a6b6ba4ee0512c1959/artifacts/confusion_matrix.png HTTP/11\" 200 None\n",
      "https://dagshub.com:443 \"POST /josmunpen/laliga-oracle-dags.mlflow/api/2.0/mlflow/runs/update HTTP/11\" 200 None\n",
      "locator: <matplotlib.ticker.AutoLocator object at 0x000002601B89FC90>\n"
     ]
    },
    {
     "name": "stdout",
     "output_type": "stream",
     "text": [
      "Training knn_15\n"
     ]
    },
    {
     "name": "stderr",
     "output_type": "stream",
     "text": [
      "https://dagshub.com:443 \"POST /josmunpen/laliga-oracle-dags.mlflow/api/2.0/mlflow/runs/create HTTP/11\" 200 None\n",
      "https://dagshub.com:443 \"POST /josmunpen/laliga-oracle-dags.mlflow/api/2.0/mlflow/runs/set-tag HTTP/11\" 200 None\n",
      "https://dagshub.com:443 \"POST /josmunpen/laliga-oracle-dags.mlflow/api/2.0/mlflow/runs/log-batch HTTP/11\" 200 None\n",
      "https://dagshub.com:443 \"POST /josmunpen/laliga-oracle-dags.mlflow/api/2.0/mlflow/runs/log-batch HTTP/11\" 200 None\n",
      "https://dagshub.com:443 \"GET /josmunpen/laliga-oracle-dags.mlflow/api/2.0/mlflow/runs/get?run_uuid=3d98ac6ae3b74598aea2305d6d0854c4&run_id=3d98ac6ae3b74598aea2305d6d0854c4 HTTP/11\" 200 None\n",
      "https://dagshub.com:443 \"PUT /josmunpen/laliga-oracle-dags.mlflow/api/2.0/mlflow-artifacts/artifacts/620ba81b100844bd829f3fedcdac3aab/3d98ac6ae3b74598aea2305d6d0854c4/artifacts/confusion_matrix.png HTTP/11\" 200 None\n",
      "https://dagshub.com:443 \"POST /josmunpen/laliga-oracle-dags.mlflow/api/2.0/mlflow/runs/update HTTP/11\" 200 None\n",
      "locator: <matplotlib.ticker.AutoLocator object at 0x0000026015EE73D0>\n"
     ]
    },
    {
     "name": "stdout",
     "output_type": "stream",
     "text": [
      "Training knn_25\n"
     ]
    },
    {
     "name": "stderr",
     "output_type": "stream",
     "text": [
      "https://dagshub.com:443 \"POST /josmunpen/laliga-oracle-dags.mlflow/api/2.0/mlflow/runs/create HTTP/11\" 200 None\n",
      "https://dagshub.com:443 \"POST /josmunpen/laliga-oracle-dags.mlflow/api/2.0/mlflow/runs/set-tag HTTP/11\" 200 None\n",
      "https://dagshub.com:443 \"POST /josmunpen/laliga-oracle-dags.mlflow/api/2.0/mlflow/runs/log-batch HTTP/11\" 200 None\n",
      "https://dagshub.com:443 \"POST /josmunpen/laliga-oracle-dags.mlflow/api/2.0/mlflow/runs/log-batch HTTP/11\" 200 None\n",
      "https://dagshub.com:443 \"GET /josmunpen/laliga-oracle-dags.mlflow/api/2.0/mlflow/runs/get?run_uuid=a619b69b791949d08224c0c7c5daf4e4&run_id=a619b69b791949d08224c0c7c5daf4e4 HTTP/11\" 200 None\n",
      "https://dagshub.com:443 \"PUT /josmunpen/laliga-oracle-dags.mlflow/api/2.0/mlflow-artifacts/artifacts/620ba81b100844bd829f3fedcdac3aab/a619b69b791949d08224c0c7c5daf4e4/artifacts/confusion_matrix.png HTTP/11\" 200 None\n",
      "https://dagshub.com:443 \"POST /josmunpen/laliga-oracle-dags.mlflow/api/2.0/mlflow/runs/update HTTP/11\" 200 None\n",
      "locator: <matplotlib.ticker.AutoLocator object at 0x000002601A5B7150>\n"
     ]
    },
    {
     "name": "stdout",
     "output_type": "stream",
     "text": [
      "Training knn_50\n"
     ]
    },
    {
     "name": "stderr",
     "output_type": "stream",
     "text": [
      "https://dagshub.com:443 \"POST /josmunpen/laliga-oracle-dags.mlflow/api/2.0/mlflow/runs/create HTTP/11\" 200 None\n",
      "https://dagshub.com:443 \"POST /josmunpen/laliga-oracle-dags.mlflow/api/2.0/mlflow/runs/set-tag HTTP/11\" 200 None\n",
      "https://dagshub.com:443 \"POST /josmunpen/laliga-oracle-dags.mlflow/api/2.0/mlflow/runs/log-batch HTTP/11\" 200 None\n",
      "https://dagshub.com:443 \"POST /josmunpen/laliga-oracle-dags.mlflow/api/2.0/mlflow/runs/log-batch HTTP/11\" 200 None\n",
      "https://dagshub.com:443 \"GET /josmunpen/laliga-oracle-dags.mlflow/api/2.0/mlflow/runs/get?run_uuid=c31381bf9938453e8b9b12f71f4da38e&run_id=c31381bf9938453e8b9b12f71f4da38e HTTP/11\" 200 None\n",
      "https://dagshub.com:443 \"PUT /josmunpen/laliga-oracle-dags.mlflow/api/2.0/mlflow-artifacts/artifacts/620ba81b100844bd829f3fedcdac3aab/c31381bf9938453e8b9b12f71f4da38e/artifacts/confusion_matrix.png HTTP/11\" 200 None\n",
      "https://dagshub.com:443 \"POST /josmunpen/laliga-oracle-dags.mlflow/api/2.0/mlflow/runs/update HTTP/11\" 200 None\n",
      "locator: <matplotlib.ticker.AutoLocator object at 0x000002601BD28290>\n"
     ]
    },
    {
     "name": "stdout",
     "output_type": "stream",
     "text": [
      "Training decision_tree\n"
     ]
    },
    {
     "name": "stderr",
     "output_type": "stream",
     "text": [
      "https://dagshub.com:443 \"POST /josmunpen/laliga-oracle-dags.mlflow/api/2.0/mlflow/runs/create HTTP/11\" 200 None\n",
      "https://dagshub.com:443 \"POST /josmunpen/laliga-oracle-dags.mlflow/api/2.0/mlflow/runs/set-tag HTTP/11\" 200 None\n",
      "https://dagshub.com:443 \"POST /josmunpen/laliga-oracle-dags.mlflow/api/2.0/mlflow/runs/log-batch HTTP/11\" 200 None\n",
      "https://dagshub.com:443 \"POST /josmunpen/laliga-oracle-dags.mlflow/api/2.0/mlflow/runs/log-batch HTTP/11\" 200 None\n",
      "https://dagshub.com:443 \"GET /josmunpen/laliga-oracle-dags.mlflow/api/2.0/mlflow/runs/get?run_uuid=af4c2823cf474a8dbdb36bbefee775a9&run_id=af4c2823cf474a8dbdb36bbefee775a9 HTTP/11\" 200 None\n",
      "https://dagshub.com:443 \"PUT /josmunpen/laliga-oracle-dags.mlflow/api/2.0/mlflow-artifacts/artifacts/620ba81b100844bd829f3fedcdac3aab/af4c2823cf474a8dbdb36bbefee775a9/artifacts/confusion_matrix.png HTTP/11\" 200 None\n",
      "https://dagshub.com:443 \"POST /josmunpen/laliga-oracle-dags.mlflow/api/2.0/mlflow/runs/update HTTP/11\" 200 None\n"
     ]
    },
    {
     "name": "stdout",
     "output_type": "stream",
     "text": [
      "Training rfc_10\n"
     ]
    },
    {
     "name": "stderr",
     "output_type": "stream",
     "text": [
      "locator: <matplotlib.ticker.AutoLocator object at 0x000002601C045750>\n",
      "https://dagshub.com:443 \"POST /josmunpen/laliga-oracle-dags.mlflow/api/2.0/mlflow/runs/create HTTP/11\" 200 None\n",
      "https://dagshub.com:443 \"POST /josmunpen/laliga-oracle-dags.mlflow/api/2.0/mlflow/runs/set-tag HTTP/11\" 200 None\n",
      "https://dagshub.com:443 \"POST /josmunpen/laliga-oracle-dags.mlflow/api/2.0/mlflow/runs/log-batch HTTP/11\" 200 None\n",
      "https://dagshub.com:443 \"POST /josmunpen/laliga-oracle-dags.mlflow/api/2.0/mlflow/runs/log-batch HTTP/11\" 200 None\n",
      "https://dagshub.com:443 \"GET /josmunpen/laliga-oracle-dags.mlflow/api/2.0/mlflow/runs/get?run_uuid=ce82894e381342cfa5462871cf74865e&run_id=ce82894e381342cfa5462871cf74865e HTTP/11\" 200 None\n",
      "https://dagshub.com:443 \"PUT /josmunpen/laliga-oracle-dags.mlflow/api/2.0/mlflow-artifacts/artifacts/620ba81b100844bd829f3fedcdac3aab/ce82894e381342cfa5462871cf74865e/artifacts/confusion_matrix.png HTTP/11\" 200 None\n",
      "https://dagshub.com:443 \"POST /josmunpen/laliga-oracle-dags.mlflow/api/2.0/mlflow/runs/update HTTP/11\" 200 None\n"
     ]
    },
    {
     "name": "stdout",
     "output_type": "stream",
     "text": [
      "Training rfc_100\n"
     ]
    },
    {
     "name": "stderr",
     "output_type": "stream",
     "text": [
      "locator: <matplotlib.ticker.AutoLocator object at 0x000002601C0E3210>\n",
      "https://dagshub.com:443 \"POST /josmunpen/laliga-oracle-dags.mlflow/api/2.0/mlflow/runs/create HTTP/11\" 200 None\n",
      "https://dagshub.com:443 \"POST /josmunpen/laliga-oracle-dags.mlflow/api/2.0/mlflow/runs/set-tag HTTP/11\" 200 None\n",
      "https://dagshub.com:443 \"POST /josmunpen/laliga-oracle-dags.mlflow/api/2.0/mlflow/runs/log-batch HTTP/11\" 200 None\n",
      "https://dagshub.com:443 \"POST /josmunpen/laliga-oracle-dags.mlflow/api/2.0/mlflow/runs/log-batch HTTP/11\" 200 None\n",
      "https://dagshub.com:443 \"GET /josmunpen/laliga-oracle-dags.mlflow/api/2.0/mlflow/runs/get?run_uuid=12649ccb6d1249e3ae10f74ae78eb798&run_id=12649ccb6d1249e3ae10f74ae78eb798 HTTP/11\" 200 None\n",
      "https://dagshub.com:443 \"PUT /josmunpen/laliga-oracle-dags.mlflow/api/2.0/mlflow-artifacts/artifacts/620ba81b100844bd829f3fedcdac3aab/12649ccb6d1249e3ae10f74ae78eb798/artifacts/confusion_matrix.png HTTP/11\" 200 None\n",
      "https://dagshub.com:443 \"POST /josmunpen/laliga-oracle-dags.mlflow/api/2.0/mlflow/runs/update HTTP/11\" 200 None\n"
     ]
    },
    {
     "name": "stdout",
     "output_type": "stream",
     "text": [
      "Training rfc_1000\n"
     ]
    },
    {
     "name": "stderr",
     "output_type": "stream",
     "text": [
      "locator: <matplotlib.ticker.AutoLocator object at 0x000002601C0340D0>\n",
      "https://dagshub.com:443 \"POST /josmunpen/laliga-oracle-dags.mlflow/api/2.0/mlflow/runs/create HTTP/11\" 200 None\n",
      "https://dagshub.com:443 \"POST /josmunpen/laliga-oracle-dags.mlflow/api/2.0/mlflow/runs/set-tag HTTP/11\" 200 None\n",
      "https://dagshub.com:443 \"POST /josmunpen/laliga-oracle-dags.mlflow/api/2.0/mlflow/runs/log-batch HTTP/11\" 200 None\n",
      "https://dagshub.com:443 \"POST /josmunpen/laliga-oracle-dags.mlflow/api/2.0/mlflow/runs/log-batch HTTP/11\" 200 None\n",
      "https://dagshub.com:443 \"GET /josmunpen/laliga-oracle-dags.mlflow/api/2.0/mlflow/runs/get?run_uuid=92abd8eb7a464f97857954d8cc400052&run_id=92abd8eb7a464f97857954d8cc400052 HTTP/11\" 200 None\n",
      "https://dagshub.com:443 \"PUT /josmunpen/laliga-oracle-dags.mlflow/api/2.0/mlflow-artifacts/artifacts/620ba81b100844bd829f3fedcdac3aab/92abd8eb7a464f97857954d8cc400052/artifacts/confusion_matrix.png HTTP/11\" 200 None\n",
      "https://dagshub.com:443 \"POST /josmunpen/laliga-oracle-dags.mlflow/api/2.0/mlflow/runs/update HTTP/11\" 200 None\n"
     ]
    },
    {
     "name": "stdout",
     "output_type": "stream",
     "text": [
      "Training gbr\n"
     ]
    },
    {
     "name": "stderr",
     "output_type": "stream",
     "text": [
      "locator: <matplotlib.ticker.AutoLocator object at 0x000002601C348610>\n",
      "https://dagshub.com:443 \"POST /josmunpen/laliga-oracle-dags.mlflow/api/2.0/mlflow/runs/create HTTP/11\" 200 None\n",
      "https://dagshub.com:443 \"POST /josmunpen/laliga-oracle-dags.mlflow/api/2.0/mlflow/runs/set-tag HTTP/11\" 200 None\n",
      "https://dagshub.com:443 \"POST /josmunpen/laliga-oracle-dags.mlflow/api/2.0/mlflow/runs/log-batch HTTP/11\" 200 None\n",
      "https://dagshub.com:443 \"POST /josmunpen/laliga-oracle-dags.mlflow/api/2.0/mlflow/runs/log-batch HTTP/11\" 200 None\n",
      "https://dagshub.com:443 \"GET /josmunpen/laliga-oracle-dags.mlflow/api/2.0/mlflow/runs/get?run_uuid=0555e37052b84417a0536f143877ccc6&run_id=0555e37052b84417a0536f143877ccc6 HTTP/11\" 200 None\n",
      "https://dagshub.com:443 \"PUT /josmunpen/laliga-oracle-dags.mlflow/api/2.0/mlflow-artifacts/artifacts/620ba81b100844bd829f3fedcdac3aab/0555e37052b84417a0536f143877ccc6/artifacts/confusion_matrix.png HTTP/11\" 200 None\n",
      "https://dagshub.com:443 \"POST /josmunpen/laliga-oracle-dags.mlflow/api/2.0/mlflow/runs/update HTTP/11\" 200 None\n"
     ]
    },
    {
     "name": "stdout",
     "output_type": "stream",
     "text": [
      "Training xgb\n"
     ]
    },
    {
     "name": "stderr",
     "output_type": "stream",
     "text": [
      "locator: <matplotlib.ticker.AutoLocator object at 0x000002601D5A9650>\n",
      "https://dagshub.com:443 \"POST /josmunpen/laliga-oracle-dags.mlflow/api/2.0/mlflow/runs/create HTTP/11\" 200 None\n",
      "https://dagshub.com:443 \"POST /josmunpen/laliga-oracle-dags.mlflow/api/2.0/mlflow/runs/set-tag HTTP/11\" 200 None\n",
      "https://dagshub.com:443 \"POST /josmunpen/laliga-oracle-dags.mlflow/api/2.0/mlflow/runs/log-batch HTTP/11\" 200 None\n",
      "https://dagshub.com:443 \"POST /josmunpen/laliga-oracle-dags.mlflow/api/2.0/mlflow/runs/log-batch HTTP/11\" 200 None\n",
      "https://dagshub.com:443 \"GET /josmunpen/laliga-oracle-dags.mlflow/api/2.0/mlflow/runs/get?run_uuid=d5cb5cf7e0354e0ebf46fa0f85172442&run_id=d5cb5cf7e0354e0ebf46fa0f85172442 HTTP/11\" 200 None\n",
      "https://dagshub.com:443 \"PUT /josmunpen/laliga-oracle-dags.mlflow/api/2.0/mlflow-artifacts/artifacts/620ba81b100844bd829f3fedcdac3aab/d5cb5cf7e0354e0ebf46fa0f85172442/artifacts/confusion_matrix.png HTTP/11\" 200 None\n",
      "https://dagshub.com:443 \"POST /josmunpen/laliga-oracle-dags.mlflow/api/2.0/mlflow/runs/update HTTP/11\" 200 None\n"
     ]
    },
    {
     "data": {
      "image/png": "[encoded data removed]",
      "text/plain": [
       "<Figure size 640x480 with 2 Axes>"
      ]
     },
     "metadata": {},
     "output_type": "display_data"
    },
    {
     "data": {
      "image/png": "[encoded data removed]",
      "text/plain": [
       "<Figure size 640x480 with 2 Axes>"
      ]
     },
     "metadata": {},
     "output_type": "display_data"
    },
    {
     "data": {
      "image/png": "[encoded data removed]",
      "text/plain": [
       "<Figure size 640x480 with 2 Axes>"
      ]
     },
     "metadata": {},
     "output_type": "display_data"
    },
    {
     "data": {
      "image/png": "[encoded data removed]",
      "text/plain": [
       "<Figure size 640x480 with 2 Axes>"
      ]
     },
     "metadata": {},
     "output_type": "display_data"
    },
    {
     "data": {
      "image/png": "[encoded data removed]",
      "text/plain": [
       "<Figure size 640x480 with 2 Axes>"
      ]
     },
     "metadata": {},
     "output_type": "display_data"
    },
    {
     "data": {
      "image/png": "[encoded data removed]",
      "text/plain": [
       "<Figure size 640x480 with 2 Axes>"
      ]
     },
     "metadata": {},
     "output_type": "display_data"
    },
    {
     "data": {
      "image/png": "[encoded data removed]",
      "text/plain": [
       "<Figure size 640x480 with 2 Axes>"
      ]
     },
     "metadata": {},
     "output_type": "display_data"
    },
    {
     "data": {
      "image/png": "[encoded data removed]",
      "text/plain": [
       "<Figure size 640x480 with 2 Axes>"
      ]
     },
     "metadata": {},
     "output_type": "display_data"
    },
    {
     "data": {
      "image/png": "[encoded data removed]",
      "text/plain": [
       "<Figure size 640x480 with 2 Axes>"
      ]
     },
     "metadata": {},
     "output_type": "display_data"
    },
    {
     "data": {
      "image/png": "[encoded data removed]",
      "text/plain": [
       "<Figure size 640x480 with 2 Axes>"
      ]
     },
     "metadata": {},
     "output_type": "display_data"
    },
    {
     "data": {
      "image/png": "[encoded data removed]",
      "text/plain": [
       "<Figure size 640x480 with 2 Axes>"
      ]
     },
     "metadata": {},
     "output_type": "display_data"
    },
    {
     "data": {
      "image/png": "[encoded data removed]",
      "text/plain": [
       "<Figure size 640x480 with 2 Axes>"
      ]
     },
     "metadata": {},
     "output_type": "display_data"
    },
    {
     "data": {
      "image/png": "[encoded data removed]",
      "text/plain": [
       "<Figure size 640x480 with 2 Axes>"
      ]
     },
     "metadata": {},
     "output_type": "display_data"
    }
   ],
   "source": [
    "for classifier, name in classifiers:\n",
    "    print(f\"Training {name}\")\n",
    "    model_metrics = evaluate_classifier(classifier, X, y)\n",
    "    cm = metrics.ConfusionMatrixDisplay(\n",
    "        confusion_matrix=model_metrics[\"confusion_matrix\"]\n",
    "    ).plot()\n",
    "    track_model(\n",
    "        classifier,\n",
    "        name,\n",
    "        log_model=False,\n",
    "        model_metrics=model_metrics,\n",
    "        params={\n",
    "            \"dataset_size\": num_samples,\n",
    "            \"scaled\": scaled,\n",
    "            \"history_feature\": history_feature,\n",
    "        },\n",
    "        figures={\"confusion_matrix\": cm.figure_},\n",
    "    )"
   ]
  },
  {
   "cell_type": "markdown",
   "metadata": {},
   "source": [
    "_______"
   ]
  },
  {
   "cell_type": "markdown",
   "metadata": {},
   "source": [
    "### Inference"
   ]
  },
  {
   "cell_type": "code",
   "execution_count": 52,
   "metadata": {},
   "outputs": [],
   "source": [
    "X_train, X_test, y_train, y_test = train_test_split(X, y, random_state=2024)"
   ]
  },
  {
   "cell_type": "code",
   "execution_count": 53,
   "metadata": {},
   "outputs": [],
   "source": [
    "model = LogisticRegression(max_iter=10000, random_state=2024)"
   ]
  },
  {
   "cell_type": "code",
   "execution_count": 54,
   "metadata": {},
   "outputs": [],
   "source": [
    "trained_model = model.fit(X_train, y_train)"
   ]
  },
  {
   "cell_type": "code",
   "execution_count": 55,
   "metadata": {},
   "outputs": [
    {
     "name": "stderr",
     "output_type": "stream",
     "text": [
      "https://dagshub.com:443 \"POST /josmunpen/laliga-oracle-dags.mlflow/api/2.0/mlflow/runs/create HTTP/11\" 200 None\n",
      "c:\\Users\\josem\\ds\\laliga-oracle\\env_laliga\\Lib\\site-packages\\mlflow\\types\\utils.py:406: UserWarning: Hint: Inferred schema contains integer column(s). Integer columns in Python cannot represent missing values. If your input data contains missing values at inference time, it will be encoded as floats and will cause a schema enforcement error. The best way to avoid this problem is to infer the model schema based on a realistic data sample (training dataset) that includes missing values. Alternatively, you can declare integer columns as doubles (float64) whenever these columns may have missing values. See `Handling Integers With Missing Values <https://www.mlflow.org/docs/latest/models.html#handling-integers-with-missing-values>`_ for more details.\n",
      "  warnings.warn(\n",
      "https://dagshub.com:443 \"GET /josmunpen/laliga-oracle-dags.mlflow/api/2.0/mlflow/runs/get?run_uuid=1f35822d627547c0abb1225f9b7426da&run_id=1f35822d627547c0abb1225f9b7426da HTTP/11\" 200 None\n",
      "https://dagshub.com:443 \"PUT /josmunpen/laliga-oracle-dags.mlflow/api/2.0/mlflow-artifacts/artifacts/620ba81b100844bd829f3fedcdac3aab/1f35822d627547c0abb1225f9b7426da/artifacts/log_reg_def_artifact/conda.yaml HTTP/11\" 200 None\n",
      "https://dagshub.com:443 \"PUT /josmunpen/laliga-oracle-dags.mlflow/api/2.0/mlflow-artifacts/artifacts/620ba81b100844bd829f3fedcdac3aab/1f35822d627547c0abb1225f9b7426da/artifacts/log_reg_def_artifact/input_example.json HTTP/11\" 200 None\n",
      "https://dagshub.com:443 \"PUT /josmunpen/laliga-oracle-dags.mlflow/api/2.0/mlflow-artifacts/artifacts/620ba81b100844bd829f3fedcdac3aab/1f35822d627547c0abb1225f9b7426da/artifacts/log_reg_def_artifact/MLmodel HTTP/11\" 200 None\n",
      "https://dagshub.com:443 \"PUT /josmunpen/laliga-oracle-dags.mlflow/api/2.0/mlflow-artifacts/artifacts/620ba81b100844bd829f3fedcdac3aab/1f35822d627547c0abb1225f9b7426da/artifacts/log_reg_def_artifact/model.pkl HTTP/11\" 200 None\n",
      "https://dagshub.com:443 \"PUT /josmunpen/laliga-oracle-dags.mlflow/api/2.0/mlflow-artifacts/artifacts/620ba81b100844bd829f3fedcdac3aab/1f35822d627547c0abb1225f9b7426da/artifacts/log_reg_def_artifact/python_env.yaml HTTP/11\" 200 None\n",
      "https://dagshub.com:443 \"PUT /josmunpen/laliga-oracle-dags.mlflow/api/2.0/mlflow-artifacts/artifacts/620ba81b100844bd829f3fedcdac3aab/1f35822d627547c0abb1225f9b7426da/artifacts/log_reg_def_artifact/requirements.txt HTTP/11\" 200 None\n",
      "https://dagshub.com:443 \"POST /josmunpen/laliga-oracle-dags.mlflow/api/2.0/mlflow/runs/log-model HTTP/11\" 400 None\n",
      "https://dagshub.com:443 \"GET /josmunpen/laliga-oracle-dags.mlflow/api/2.0/mlflow/runs/get?run_uuid=1f35822d627547c0abb1225f9b7426da&run_id=1f35822d627547c0abb1225f9b7426da HTTP/11\" 200 None\n",
      "2024/08/07 19:01:15 WARNING mlflow.models.model: Logging model metadata to the tracking server has failed. The model artifacts have been logged successfully under mlflow-artifacts:/620ba81b100844bd829f3fedcdac3aab/1f35822d627547c0abb1225f9b7426da/artifacts. Set logging level to DEBUG via `logging.getLogger(\"mlflow\").setLevel(logging.DEBUG)` to see the full traceback.\n",
      "https://dagshub.com:443 \"POST /josmunpen/laliga-oracle-dags.mlflow/api/2.0/mlflow/registered-models/create HTTP/11\" 200 None\n",
      "Successfully registered model 'log_reg_def'.\n",
      "https://dagshub.com:443 \"GET /josmunpen/laliga-oracle-dags.mlflow/api/2.0/mlflow/runs/get?run_uuid=1f35822d627547c0abb1225f9b7426da&run_id=1f35822d627547c0abb1225f9b7426da HTTP/11\" 200 None\n",
      "https://dagshub.com:443 \"POST /josmunpen/laliga-oracle-dags.mlflow/api/2.0/mlflow/model-versions/create HTTP/11\" 200 None\n",
      "2024/08/07 19:01:16 INFO mlflow.store.model_registry.abstract_store: Waiting up to 300 seconds for model version to finish creation. Model name: log_reg_def, version 1\n",
      "Created version '1' of model 'log_reg_def'.\n"
     ]
    }
   ],
   "source": [
    "classifier_name = \"log_reg_def\"\n",
    "\n",
    "\n",
    "# Log the model\n",
    "model_info = mlflow.sklearn.log_model(\n",
    "    sk_model=trained_model,\n",
    "    artifact_path=classifier_name+\"_artifact\",\n",
    "    # signature=signature,\n",
    "    input_example=X,\n",
    "    registered_model_name=classifier_name)"
   ]
  },
  {
   "cell_type": "code",
   "execution_count": null,
   "metadata": {},
   "outputs": [],
   "source": []
  },
  {
   "cell_type": "code",
   "execution_count": null,
   "metadata": {},
   "outputs": [],
   "source": []
  },
  {
   "cell_type": "code",
   "execution_count": 83,
   "metadata": {},
   "outputs": [],
   "source": [
    "y_pred = trained_model.predict(X_test)"
   ]
  },
  {
   "cell_type": "code",
   "execution_count": 84,
   "metadata": {},
   "outputs": [
    {
     "data": {
      "text/plain": [
       "0.5333333333333333"
      ]
     },
     "execution_count": 84,
     "metadata": {},
     "output_type": "execute_result"
    }
   ],
   "source": [
    "trained_model.score(X_test, y_test)"
   ]
  },
  {
   "cell_type": "code",
   "execution_count": 86,
   "metadata": {},
   "outputs": [],
   "source": [
    "import pickle\n",
    "filename = 'log_reg_v1.sav'"
   ]
  },
  {
   "cell_type": "code",
   "execution_count": 87,
   "metadata": {},
   "outputs": [],
   "source": [
    "pickle.dump(trained_model, open(filename, 'wb'))"
   ]
  },
  {
   "cell_type": "code",
   "execution_count": 10,
   "metadata": {},
   "outputs": [],
   "source": [
    "import pickle\n",
    "# some time later...\n",
    " \n",
    "# load the model from disk\n",
    "loaded_model = pickle.load(open(f\"./backend/models/{filename}\", 'rb'))\n",
    "# result = loaded_model.score(X_test, Y_test)\n",
    "# print(result)"
   ]
  },
  {
   "cell_type": "code",
   "execution_count": 11,
   "metadata": {},
   "outputs": [
    {
     "data": {
      "text/plain": [
       "array([0, 1, 2])"
      ]
     },
     "execution_count": 11,
     "metadata": {},
     "output_type": "execute_result"
    }
   ],
   "source": [
    "loaded_model.classes_"
   ]
  },
  {
   "cell_type": "code",
   "execution_count": 60,
   "metadata": {},
   "outputs": [
    {
     "data": {
      "text/plain": [
       "0.0"
      ]
     },
     "execution_count": 60,
     "metadata": {},
     "output_type": "execute_result"
    }
   ],
   "source": [
    "X_test['team_home_531'].iloc[0]"
   ]
  },
  {
   "cell_type": "code",
   "execution_count": 56,
   "metadata": {},
   "outputs": [],
   "source": [
    "# Load MLflow model\n",
    "import mlflow.sklearn\n"
   ]
  },
  {
   "cell_type": "code",
   "execution_count": 57,
   "metadata": {},
   "outputs": [
    {
     "name": "stderr",
     "output_type": "stream",
     "text": [
      "https://dagshub.com:443 \"GET /josmunpen/laliga-oracle-dags.mlflow/api/2.0/mlflow/model-versions/get-download-uri?name=log_reg_def&version=1 HTTP/11\" 200 None\n",
      "https://dagshub.com:443 \"GET /josmunpen/laliga-oracle-dags.mlflow/api/2.0/mlflow-artifacts/artifacts?path=620ba81b100844bd829f3fedcdac3aab%2F1f35822d627547c0abb1225f9b7426da%2Fartifacts%2Flog_reg_def_artifact HTTP/11\" 200 None\n",
      "https://dagshub.com:443 \"GET /josmunpen/laliga-oracle-dags.mlflow/api/2.0/mlflow-artifacts/artifacts?path=620ba81b100844bd829f3fedcdac3aab%2F1f35822d627547c0abb1225f9b7426da%2Fartifacts%2Flog_reg_def_artifact HTTP/11\" 200 None\n",
      "Starting new HTTPS connection (2): dagshub.com:443\n",
      "Starting new HTTPS connection (3): dagshub.com:443\n",
      "Starting new HTTPS connection (4): dagshub.com:443\n",
      "Starting new HTTPS connection (5): dagshub.com:443\n",
      "Starting new HTTPS connection (6): dagshub.com:443\n",
      "https://dagshub.com:443 \"GET /josmunpen/laliga-oracle-dags.mlflow/api/2.0/mlflow-artifacts/artifacts/620ba81b100844bd829f3fedcdac3aab/1f35822d627547c0abb1225f9b7426da/artifacts/log_reg_def_artifact/MLmodel HTTP/11\" 200 None\n",
      "https://dagshub.com:443 \"GET /josmunpen/laliga-oracle-dags.mlflow/api/2.0/mlflow-artifacts/artifacts/620ba81b100844bd829f3fedcdac3aab/1f35822d627547c0abb1225f9b7426da/artifacts/log_reg_def_artifact/conda.yaml HTTP/11\" 200 None\n",
      "https://dagshub.com:443 \"GET /josmunpen/laliga-oracle-dags.mlflow/api/2.0/mlflow-artifacts/artifacts/620ba81b100844bd829f3fedcdac3aab/1f35822d627547c0abb1225f9b7426da/artifacts/log_reg_def_artifact/model.pkl HTTP/11\" 200 None\n",
      "https://dagshub.com:443 \"GET /josmunpen/laliga-oracle-dags.mlflow/api/2.0/mlflow-artifacts/artifacts/620ba81b100844bd829f3fedcdac3aab/1f35822d627547c0abb1225f9b7426da/artifacts/log_reg_def_artifact/requirements.txt HTTP/11\" 200 None\n",
      "https://dagshub.com:443 \"GET /josmunpen/laliga-oracle-dags.mlflow/api/2.0/mlflow-artifacts/artifacts/620ba81b100844bd829f3fedcdac3aab/1f35822d627547c0abb1225f9b7426da/artifacts/log_reg_def_artifact/input_example.json HTTP/11\" 200 None\n",
      "https://dagshub.com:443 \"GET /josmunpen/laliga-oracle-dags.mlflow/api/2.0/mlflow-artifacts/artifacts/620ba81b100844bd829f3fedcdac3aab/1f35822d627547c0abb1225f9b7426da/artifacts/log_reg_def_artifact/python_env.yaml HTTP/11\" 200 None\n"
     ]
    }
   ],
   "source": [
    "test = mlflow.sklearn.load_model(\"models:/log_reg_def/1\")"
   ]
  },
  {
   "cell_type": "code",
   "execution_count": 70,
   "metadata": {},
   "outputs": [
    {
     "name": "stderr",
     "output_type": "stream",
     "text": [
      "https://dagshub.com:443 \"GET /josmunpen/laliga-oracle-dags.mlflow/api/2.0/mlflow-artifacts/artifacts?path=620ba81b100844bd829f3fedcdac3aab%2Fa2f711cd2e5a468f83945402e745506b%2Fartifacts%2FLogistic+Regression+artifact HTTP/11\" 200 None\n",
      "https://dagshub.com:443 \"GET /josmunpen/laliga-oracle-dags.mlflow/api/2.0/mlflow-artifacts/artifacts?path=620ba81b100844bd829f3fedcdac3aab%2Fa2f711cd2e5a468f83945402e745506b%2Fartifacts%2FLogistic+Regression+artifact HTTP/11\" 200 None\n",
      "Resetting dropped connection: dagshub.com\n",
      "Resetting dropped connection: dagshub.com\n",
      "Resetting dropped connection: dagshub.com\n",
      "Resetting dropped connection: dagshub.com\n",
      "Resetting dropped connection: dagshub.com\n",
      "https://dagshub.com:443 \"GET /josmunpen/laliga-oracle-dags.mlflow/api/2.0/mlflow-artifacts/artifacts/620ba81b100844bd829f3fedcdac3aab/a2f711cd2e5a468f83945402e745506b/artifacts/Logistic%20Regression%20artifact/requirements.txt HTTP/11\" 200 None\n",
      "https://dagshub.com:443 \"GET /josmunpen/laliga-oracle-dags.mlflow/api/2.0/mlflow-artifacts/artifacts/620ba81b100844bd829f3fedcdac3aab/a2f711cd2e5a468f83945402e745506b/artifacts/Logistic%20Regression%20artifact/MLmodel HTTP/11\" 200 None\n",
      "https://dagshub.com:443 \"GET /josmunpen/laliga-oracle-dags.mlflow/api/2.0/mlflow-artifacts/artifacts/620ba81b100844bd829f3fedcdac3aab/a2f711cd2e5a468f83945402e745506b/artifacts/Logistic%20Regression%20artifact/input_example.json HTTP/11\" 200 None\n",
      "https://dagshub.com:443 \"GET /josmunpen/laliga-oracle-dags.mlflow/api/2.0/mlflow-artifacts/artifacts/620ba81b100844bd829f3fedcdac3aab/a2f711cd2e5a468f83945402e745506b/artifacts/Logistic%20Regression%20artifact/conda.yaml HTTP/11\" 200 None\n",
      "https://dagshub.com:443 \"GET /josmunpen/laliga-oracle-dags.mlflow/api/2.0/mlflow-artifacts/artifacts/620ba81b100844bd829f3fedcdac3aab/a2f711cd2e5a468f83945402e745506b/artifacts/Logistic%20Regression%20artifact/python_env.yaml HTTP/11\" 200 None\n",
      "https://dagshub.com:443 \"GET /josmunpen/laliga-oracle-dags.mlflow/api/2.0/mlflow-artifacts/artifacts/620ba81b100844bd829f3fedcdac3aab/a2f711cd2e5a468f83945402e745506b/artifacts/Logistic%20Regression%20artifact/model.pkl HTTP/11\" 200 None\n"
     ]
    }
   ],
   "source": [
    "sk_model = mlflow.sklearn.load_model(\"mlflow-artifacts:/620ba81b100844bd829f3fedcdac3aab/a2f711cd2e5a468f83945402e745506b/artifacts/Logistic Regression artifact\")"
   ]
  },
  {
   "cell_type": "code",
   "execution_count": 71,
   "metadata": {},
   "outputs": [
    {
     "data": {
      "text/html": [
       "<style>#sk-container-id-4 {\n",
       "  /* Definition of color scheme common for light and dark mode */\n",
       "  --sklearn-color-text: black;\n",
       "  --sklearn-color-line: gray;\n",
       "  /* Definition of color scheme for unfitted estimators */\n",
       "  --sklearn-color-unfitted-level-0: #fff5e6;\n",
       "  --sklearn-color-unfitted-level-1: #f6e4d2;\n",
       "  --sklearn-color-unfitted-level-2: #ffe0b3;\n",
       "  --sklearn-color-unfitted-level-3: chocolate;\n",
       "  /* Definition of color scheme for fitted estimators */\n",
       "  --sklearn-color-fitted-level-0: #f0f8ff;\n",
       "  --sklearn-color-fitted-level-1: #d4ebff;\n",
       "  --sklearn-color-fitted-level-2: #b3dbfd;\n",
       "  --sklearn-color-fitted-level-3: cornflowerblue;\n",
       "\n",
       "  /* Specific color for light theme */\n",
       "  --sklearn-color-text-on-default-background: var(--sg-text-color, var(--theme-code-foreground, var(--jp-content-font-color1, black)));\n",
       "  --sklearn-color-background: var(--sg-background-color, var(--theme-background, var(--jp-layout-color0, white)));\n",
       "  --sklearn-color-border-box: var(--sg-text-color, var(--theme-code-foreground, var(--jp-content-font-color1, black)));\n",
       "  --sklearn-color-icon: #696969;\n",
       "\n",
       "  @media (prefers-color-scheme: dark) {\n",
       "    /* Redefinition of color scheme for dark theme */\n",
       "    --sklearn-color-text-on-default-background: var(--sg-text-color, var(--theme-code-foreground, var(--jp-content-font-color1, white)));\n",
       "    --sklearn-color-background: var(--sg-background-color, var(--theme-background, var(--jp-layout-color0, #111)));\n",
       "    --sklearn-color-border-box: var(--sg-text-color, var(--theme-code-foreground, var(--jp-content-font-color1, white)));\n",
       "    --sklearn-color-icon: #878787;\n",
       "  }\n",
       "}\n",
       "\n",
       "#sk-container-id-4 {\n",
       "  color: var(--sklearn-color-text);\n",
       "}\n",
       "\n",
       "#sk-container-id-4 pre {\n",
       "  padding: 0;\n",
       "}\n",
       "\n",
       "#sk-container-id-4 input.sk-hidden--visually {\n",
       "  border: 0;\n",
       "  clip: rect(1px 1px 1px 1px);\n",
       "  clip: rect(1px, 1px, 1px, 1px);\n",
       "  height: 1px;\n",
       "  margin: -1px;\n",
       "  overflow: hidden;\n",
       "  padding: 0;\n",
       "  position: absolute;\n",
       "  width: 1px;\n",
       "}\n",
       "\n",
       "#sk-container-id-4 div.sk-dashed-wrapped {\n",
       "  border: 1px dashed var(--sklearn-color-line);\n",
       "  margin: 0 0.4em 0.5em 0.4em;\n",
       "  box-sizing: border-box;\n",
       "  padding-bottom: 0.4em;\n",
       "  background-color: var(--sklearn-color-background);\n",
       "}\n",
       "\n",
       "#sk-container-id-4 div.sk-container {\n",
       "  /* jupyter's `normalize.less` sets `[hidden] { display: none; }`\n",
       "     but bootstrap.min.css set `[hidden] { display: none !important; }`\n",
       "     so we also need the `!important` here to be able to override the\n",
       "     default hidden behavior on the sphinx rendered scikit-learn.org.\n",
       "     See: https://github.com/scikit-learn/scikit-learn/issues/21755 */\n",
       "  display: inline-block !important;\n",
       "  position: relative;\n",
       "}\n",
       "\n",
       "#sk-container-id-4 div.sk-text-repr-fallback {\n",
       "  display: none;\n",
       "}\n",
       "\n",
       "div.sk-parallel-item,\n",
       "div.sk-serial,\n",
       "div.sk-item {\n",
       "  /* draw centered vertical line to link estimators */\n",
       "  background-image: linear-gradient(var(--sklearn-color-text-on-default-background), var(--sklearn-color-text-on-default-background));\n",
       "  background-size: 2px 100%;\n",
       "  background-repeat: no-repeat;\n",
       "  background-position: center center;\n",
       "}\n",
       "\n",
       "/* Parallel-specific style estimator block */\n",
       "\n",
       "#sk-container-id-4 div.sk-parallel-item::after {\n",
       "  content: \"\";\n",
       "  width: 100%;\n",
       "  border-bottom: 2px solid var(--sklearn-color-text-on-default-background);\n",
       "  flex-grow: 1;\n",
       "}\n",
       "\n",
       "#sk-container-id-4 div.sk-parallel {\n",
       "  display: flex;\n",
       "  align-items: stretch;\n",
       "  justify-content: center;\n",
       "  background-color: var(--sklearn-color-background);\n",
       "  position: relative;\n",
       "}\n",
       "\n",
       "#sk-container-id-4 div.sk-parallel-item {\n",
       "  display: flex;\n",
       "  flex-direction: column;\n",
       "}\n",
       "\n",
       "#sk-container-id-4 div.sk-parallel-item:first-child::after {\n",
       "  align-self: flex-end;\n",
       "  width: 50%;\n",
       "}\n",
       "\n",
       "#sk-container-id-4 div.sk-parallel-item:last-child::after {\n",
       "  align-self: flex-start;\n",
       "  width: 50%;\n",
       "}\n",
       "\n",
       "#sk-container-id-4 div.sk-parallel-item:only-child::after {\n",
       "  width: 0;\n",
       "}\n",
       "\n",
       "/* Serial-specific style estimator block */\n",
       "\n",
       "#sk-container-id-4 div.sk-serial {\n",
       "  display: flex;\n",
       "  flex-direction: column;\n",
       "  align-items: center;\n",
       "  background-color: var(--sklearn-color-background);\n",
       "  padding-right: 1em;\n",
       "  padding-left: 1em;\n",
       "}\n",
       "\n",
       "\n",
       "/* Toggleable style: style used for estimator/Pipeline/ColumnTransformer box that is\n",
       "clickable and can be expanded/collapsed.\n",
       "- Pipeline and ColumnTransformer use this feature and define the default style\n",
       "- Estimators will overwrite some part of the style using the `sk-estimator` class\n",
       "*/\n",
       "\n",
       "/* Pipeline and ColumnTransformer style (default) */\n",
       "\n",
       "#sk-container-id-4 div.sk-toggleable {\n",
       "  /* Default theme specific background. It is overwritten whether we have a\n",
       "  specific estimator or a Pipeline/ColumnTransformer */\n",
       "  background-color: var(--sklearn-color-background);\n",
       "}\n",
       "\n",
       "/* Toggleable label */\n",
       "#sk-container-id-4 label.sk-toggleable__label {\n",
       "  cursor: pointer;\n",
       "  display: block;\n",
       "  width: 100%;\n",
       "  margin-bottom: 0;\n",
       "  padding: 0.5em;\n",
       "  box-sizing: border-box;\n",
       "  text-align: center;\n",
       "}\n",
       "\n",
       "#sk-container-id-4 label.sk-toggleable__label-arrow:before {\n",
       "  /* Arrow on the left of the label */\n",
       "  content: \"▸\";\n",
       "  float: left;\n",
       "  margin-right: 0.25em;\n",
       "  color: var(--sklearn-color-icon);\n",
       "}\n",
       "\n",
       "#sk-container-id-4 label.sk-toggleable__label-arrow:hover:before {\n",
       "  color: var(--sklearn-color-text);\n",
       "}\n",
       "\n",
       "/* Toggleable content - dropdown */\n",
       "\n",
       "#sk-container-id-4 div.sk-toggleable__content {\n",
       "  max-height: 0;\n",
       "  max-width: 0;\n",
       "  overflow: hidden;\n",
       "  text-align: left;\n",
       "  /* unfitted */\n",
       "  background-color: var(--sklearn-color-unfitted-level-0);\n",
       "}\n",
       "\n",
       "#sk-container-id-4 div.sk-toggleable__content.fitted {\n",
       "  /* fitted */\n",
       "  background-color: var(--sklearn-color-fitted-level-0);\n",
       "}\n",
       "\n",
       "#sk-container-id-4 div.sk-toggleable__content pre {\n",
       "  margin: 0.2em;\n",
       "  border-radius: 0.25em;\n",
       "  color: var(--sklearn-color-text);\n",
       "  /* unfitted */\n",
       "  background-color: var(--sklearn-color-unfitted-level-0);\n",
       "}\n",
       "\n",
       "#sk-container-id-4 div.sk-toggleable__content.fitted pre {\n",
       "  /* unfitted */\n",
       "  background-color: var(--sklearn-color-fitted-level-0);\n",
       "}\n",
       "\n",
       "#sk-container-id-4 input.sk-toggleable__control:checked~div.sk-toggleable__content {\n",
       "  /* Expand drop-down */\n",
       "  max-height: 200px;\n",
       "  max-width: 100%;\n",
       "  overflow: auto;\n",
       "}\n",
       "\n",
       "#sk-container-id-4 input.sk-toggleable__control:checked~label.sk-toggleable__label-arrow:before {\n",
       "  content: \"▾\";\n",
       "}\n",
       "\n",
       "/* Pipeline/ColumnTransformer-specific style */\n",
       "\n",
       "#sk-container-id-4 div.sk-label input.sk-toggleable__control:checked~label.sk-toggleable__label {\n",
       "  color: var(--sklearn-color-text);\n",
       "  background-color: var(--sklearn-color-unfitted-level-2);\n",
       "}\n",
       "\n",
       "#sk-container-id-4 div.sk-label.fitted input.sk-toggleable__control:checked~label.sk-toggleable__label {\n",
       "  background-color: var(--sklearn-color-fitted-level-2);\n",
       "}\n",
       "\n",
       "/* Estimator-specific style */\n",
       "\n",
       "/* Colorize estimator box */\n",
       "#sk-container-id-4 div.sk-estimator input.sk-toggleable__control:checked~label.sk-toggleable__label {\n",
       "  /* unfitted */\n",
       "  background-color: var(--sklearn-color-unfitted-level-2);\n",
       "}\n",
       "\n",
       "#sk-container-id-4 div.sk-estimator.fitted input.sk-toggleable__control:checked~label.sk-toggleable__label {\n",
       "  /* fitted */\n",
       "  background-color: var(--sklearn-color-fitted-level-2);\n",
       "}\n",
       "\n",
       "#sk-container-id-4 div.sk-label label.sk-toggleable__label,\n",
       "#sk-container-id-4 div.sk-label label {\n",
       "  /* The background is the default theme color */\n",
       "  color: var(--sklearn-color-text-on-default-background);\n",
       "}\n",
       "\n",
       "/* On hover, darken the color of the background */\n",
       "#sk-container-id-4 div.sk-label:hover label.sk-toggleable__label {\n",
       "  color: var(--sklearn-color-text);\n",
       "  background-color: var(--sklearn-color-unfitted-level-2);\n",
       "}\n",
       "\n",
       "/* Label box, darken color on hover, fitted */\n",
       "#sk-container-id-4 div.sk-label.fitted:hover label.sk-toggleable__label.fitted {\n",
       "  color: var(--sklearn-color-text);\n",
       "  background-color: var(--sklearn-color-fitted-level-2);\n",
       "}\n",
       "\n",
       "/* Estimator label */\n",
       "\n",
       "#sk-container-id-4 div.sk-label label {\n",
       "  font-family: monospace;\n",
       "  font-weight: bold;\n",
       "  display: inline-block;\n",
       "  line-height: 1.2em;\n",
       "}\n",
       "\n",
       "#sk-container-id-4 div.sk-label-container {\n",
       "  text-align: center;\n",
       "}\n",
       "\n",
       "/* Estimator-specific */\n",
       "#sk-container-id-4 div.sk-estimator {\n",
       "  font-family: monospace;\n",
       "  border: 1px dotted var(--sklearn-color-border-box);\n",
       "  border-radius: 0.25em;\n",
       "  box-sizing: border-box;\n",
       "  margin-bottom: 0.5em;\n",
       "  /* unfitted */\n",
       "  background-color: var(--sklearn-color-unfitted-level-0);\n",
       "}\n",
       "\n",
       "#sk-container-id-4 div.sk-estimator.fitted {\n",
       "  /* fitted */\n",
       "  background-color: var(--sklearn-color-fitted-level-0);\n",
       "}\n",
       "\n",
       "/* on hover */\n",
       "#sk-container-id-4 div.sk-estimator:hover {\n",
       "  /* unfitted */\n",
       "  background-color: var(--sklearn-color-unfitted-level-2);\n",
       "}\n",
       "\n",
       "#sk-container-id-4 div.sk-estimator.fitted:hover {\n",
       "  /* fitted */\n",
       "  background-color: var(--sklearn-color-fitted-level-2);\n",
       "}\n",
       "\n",
       "/* Specification for estimator info (e.g. \"i\" and \"?\") */\n",
       "\n",
       "/* Common style for \"i\" and \"?\" */\n",
       "\n",
       ".sk-estimator-doc-link,\n",
       "a:link.sk-estimator-doc-link,\n",
       "a:visited.sk-estimator-doc-link {\n",
       "  float: right;\n",
       "  font-size: smaller;\n",
       "  line-height: 1em;\n",
       "  font-family: monospace;\n",
       "  background-color: var(--sklearn-color-background);\n",
       "  border-radius: 1em;\n",
       "  height: 1em;\n",
       "  width: 1em;\n",
       "  text-decoration: none !important;\n",
       "  margin-left: 1ex;\n",
       "  /* unfitted */\n",
       "  border: var(--sklearn-color-unfitted-level-1) 1pt solid;\n",
       "  color: var(--sklearn-color-unfitted-level-1);\n",
       "}\n",
       "\n",
       ".sk-estimator-doc-link.fitted,\n",
       "a:link.sk-estimator-doc-link.fitted,\n",
       "a:visited.sk-estimator-doc-link.fitted {\n",
       "  /* fitted */\n",
       "  border: var(--sklearn-color-fitted-level-1) 1pt solid;\n",
       "  color: var(--sklearn-color-fitted-level-1);\n",
       "}\n",
       "\n",
       "/* On hover */\n",
       "div.sk-estimator:hover .sk-estimator-doc-link:hover,\n",
       ".sk-estimator-doc-link:hover,\n",
       "div.sk-label-container:hover .sk-estimator-doc-link:hover,\n",
       ".sk-estimator-doc-link:hover {\n",
       "  /* unfitted */\n",
       "  background-color: var(--sklearn-color-unfitted-level-3);\n",
       "  color: var(--sklearn-color-background);\n",
       "  text-decoration: none;\n",
       "}\n",
       "\n",
       "div.sk-estimator.fitted:hover .sk-estimator-doc-link.fitted:hover,\n",
       ".sk-estimator-doc-link.fitted:hover,\n",
       "div.sk-label-container:hover .sk-estimator-doc-link.fitted:hover,\n",
       ".sk-estimator-doc-link.fitted:hover {\n",
       "  /* fitted */\n",
       "  background-color: var(--sklearn-color-fitted-level-3);\n",
       "  color: var(--sklearn-color-background);\n",
       "  text-decoration: none;\n",
       "}\n",
       "\n",
       "/* Span, style for the box shown on hovering the info icon */\n",
       ".sk-estimator-doc-link span {\n",
       "  display: none;\n",
       "  z-index: 9999;\n",
       "  position: relative;\n",
       "  font-weight: normal;\n",
       "  right: .2ex;\n",
       "  padding: .5ex;\n",
       "  margin: .5ex;\n",
       "  width: min-content;\n",
       "  min-width: 20ex;\n",
       "  max-width: 50ex;\n",
       "  color: var(--sklearn-color-text);\n",
       "  box-shadow: 2pt 2pt 4pt #999;\n",
       "  /* unfitted */\n",
       "  background: var(--sklearn-color-unfitted-level-0);\n",
       "  border: .5pt solid var(--sklearn-color-unfitted-level-3);\n",
       "}\n",
       "\n",
       ".sk-estimator-doc-link.fitted span {\n",
       "  /* fitted */\n",
       "  background: var(--sklearn-color-fitted-level-0);\n",
       "  border: var(--sklearn-color-fitted-level-3);\n",
       "}\n",
       "\n",
       ".sk-estimator-doc-link:hover span {\n",
       "  display: block;\n",
       "}\n",
       "\n",
       "/* \"?\"-specific style due to the `<a>` HTML tag */\n",
       "\n",
       "#sk-container-id-4 a.estimator_doc_link {\n",
       "  float: right;\n",
       "  font-size: 1rem;\n",
       "  line-height: 1em;\n",
       "  font-family: monospace;\n",
       "  background-color: var(--sklearn-color-background);\n",
       "  border-radius: 1rem;\n",
       "  height: 1rem;\n",
       "  width: 1rem;\n",
       "  text-decoration: none;\n",
       "  /* unfitted */\n",
       "  color: var(--sklearn-color-unfitted-level-1);\n",
       "  border: var(--sklearn-color-unfitted-level-1) 1pt solid;\n",
       "}\n",
       "\n",
       "#sk-container-id-4 a.estimator_doc_link.fitted {\n",
       "  /* fitted */\n",
       "  border: var(--sklearn-color-fitted-level-1) 1pt solid;\n",
       "  color: var(--sklearn-color-fitted-level-1);\n",
       "}\n",
       "\n",
       "/* On hover */\n",
       "#sk-container-id-4 a.estimator_doc_link:hover {\n",
       "  /* unfitted */\n",
       "  background-color: var(--sklearn-color-unfitted-level-3);\n",
       "  color: var(--sklearn-color-background);\n",
       "  text-decoration: none;\n",
       "}\n",
       "\n",
       "#sk-container-id-4 a.estimator_doc_link.fitted:hover {\n",
       "  /* fitted */\n",
       "  background-color: var(--sklearn-color-fitted-level-3);\n",
       "}\n",
       "</style><div id=\"sk-container-id-4\" class=\"sk-top-container\"><div class=\"sk-text-repr-fallback\"><pre>LogisticRegression(max_iter=10000, random_state=2024)</pre><b>In a Jupyter environment, please rerun this cell to show the HTML representation or trust the notebook. <br />On GitHub, the HTML representation is unable to render, please try loading this page with nbviewer.org.</b></div><div class=\"sk-container\" hidden><div class=\"sk-item\"><div class=\"sk-estimator fitted sk-toggleable\"><input class=\"sk-toggleable__control sk-hidden--visually\" id=\"sk-estimator-id-4\" type=\"checkbox\" checked><label for=\"sk-estimator-id-4\" class=\"sk-toggleable__label fitted sk-toggleable__label-arrow fitted\">&nbsp;&nbsp;LogisticRegression<a class=\"sk-estimator-doc-link fitted\" rel=\"noreferrer\" target=\"_blank\" href=\"https://scikit-learn.org/1.5/modules/generated/sklearn.linear_model.LogisticRegression.html\">?<span>Documentation for LogisticRegression</span></a><span class=\"sk-estimator-doc-link fitted\">i<span>Fitted</span></span></label><div class=\"sk-toggleable__content fitted\"><pre>LogisticRegression(max_iter=10000, random_state=2024)</pre></div> </div></div></div></div>"
      ],
      "text/plain": [
       "LogisticRegression(max_iter=10000, random_state=2024)"
      ]
     },
     "execution_count": 71,
     "metadata": {},
     "output_type": "execute_result"
    }
   ],
   "source": [
    "sk_model"
   ]
  },
  {
   "cell_type": "code",
   "execution_count": 74,
   "metadata": {},
   "outputs": [
    {
     "name": "stderr",
     "output_type": "stream",
     "text": [
      "c:\\Users\\josem\\ds\\laliga-oracle\\env_laliga\\Lib\\site-packages\\sklearn\\base.py:493: UserWarning: X does not have valid feature names, but LogisticRegression was fitted with feature names\n",
      "  warnings.warn(\n"
     ]
    }
   ],
   "source": [
    "predictions = sk_model.predict(X_test.iloc[0].values.reshape(1, -1))"
   ]
  },
  {
   "cell_type": "code",
   "execution_count": 76,
   "metadata": {},
   "outputs": [
    {
     "name": "stderr",
     "output_type": "stream",
     "text": [
      "c:\\Users\\josem\\ds\\laliga-oracle\\env_laliga\\Lib\\site-packages\\sklearn\\base.py:493: UserWarning: X does not have valid feature names, but LogisticRegression was fitted with feature names\n",
      "  warnings.warn(\n"
     ]
    }
   ],
   "source": [
    "predictions = sk_model.predict_proba(X_test.iloc[0].values.reshape(1, -1))"
   ]
  },
  {
   "cell_type": "code",
   "execution_count": 77,
   "metadata": {},
   "outputs": [
    {
     "data": {
      "text/plain": [
       "array([[0.04450971, 0.73681219, 0.2186781 ]])"
      ]
     },
     "execution_count": 77,
     "metadata": {},
     "output_type": "execute_result"
    }
   ],
   "source": [
    "predictions"
   ]
  },
  {
   "cell_type": "markdown",
   "metadata": {},
   "source": [
    "_______________"
   ]
  },
  {
   "cell_type": "markdown",
   "metadata": {},
   "source": [
    "### WIP"
   ]
  },
  {
   "cell_type": "code",
   "execution_count": 101,
   "metadata": {},
   "outputs": [],
   "source": [
    "from backend.utils.utils import get_team_data, get_match_data"
   ]
  },
  {
   "cell_type": "code",
   "execution_count": 123,
   "metadata": {},
   "outputs": [],
   "source": [
    "import pickle"
   ]
  },
  {
   "cell_type": "code",
   "execution_count": 124,
   "metadata": {},
   "outputs": [],
   "source": [
    "team_home = 531\n",
    "team_away = 532"
   ]
  },
  {
   "cell_type": "code",
   "execution_count": 128,
   "metadata": {},
   "outputs": [],
   "source": [
    "df_match = get_match_data(team_home, team_away)"
   ]
  },
  {
   "cell_type": "code",
   "execution_count": 164,
   "metadata": {},
   "outputs": [],
   "source": [
    "df_match = pd.concat([df_match, ohe_encoded], axis=1).drop(columns=ohe_cols)"
   ]
  },
  {
   "cell_type": "code",
   "execution_count": 78,
   "metadata": {},
   "outputs": [],
   "source": [
    "from sklearn.pipeline import make_pipeline"
   ]
  },
  {
   "cell_type": "code",
   "execution_count": 116,
   "metadata": {},
   "outputs": [],
   "source": [
    "pipe = make_pipeline(OneHotEncoder())"
   ]
  },
  {
   "cell_type": "code",
   "execution_count": null,
   "metadata": {},
   "outputs": [],
   "source": []
  }
 ],
 "metadata": {
  "kernelspec": {
   "display_name": "env_train",
   "language": "python",
   "name": "python3"
  },
  "language_info": {
   "codemirror_mode": {
    "name": "ipython",
    "version": 3
   },
   "file_extension": ".py",
   "mimetype": "text/x-python",
   "name": "python",
   "nbconvert_exporter": "python",
   "pygments_lexer": "ipython3",
   "version": "3.11.4"
  }
 },
 "nbformat": 4,
 "nbformat_minor": 2
}

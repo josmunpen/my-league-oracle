{
 "cells": [
  {
   "cell_type": "markdown",
   "metadata": {},
   "source": [
    "### Config"
   ]
  },
  {
   "cell_type": "code",
   "execution_count": 4,
   "metadata": {},
   "outputs": [],
   "source": [
    "import pandas as pd\n",
    "import sqlite3\n",
    "import requests\n",
    "\n",
    "import datetime\n",
    "import logging\n",
    "import json\n",
    "import time"
   ]
  },
  {
   "cell_type": "code",
   "execution_count": 5,
   "metadata": {},
   "outputs": [],
   "source": [
    "import mlflow\n",
    "import dagshub\n",
    "from mlflow.client import MlflowClient"
   ]
  },
  {
   "cell_type": "code",
   "execution_count": 6,
   "metadata": {},
   "outputs": [],
   "source": [
    "import os\n",
    "from dotenv import load_dotenv"
   ]
  },
  {
   "cell_type": "code",
   "execution_count": 7,
   "metadata": {},
   "outputs": [],
   "source": [
    "%load_ext autoreload\n",
    "%autoreload 2"
   ]
  },
  {
   "cell_type": "code",
   "execution_count": 8,
   "metadata": {},
   "outputs": [
    {
     "data": {
      "text/plain": [
       "True"
      ]
     },
     "execution_count": 8,
     "metadata": {},
     "output_type": "execute_result"
    }
   ],
   "source": [
    "load_dotenv()"
   ]
  },
  {
   "cell_type": "code",
   "execution_count": 9,
   "metadata": {},
   "outputs": [],
   "source": [
    "import os"
   ]
  },
  {
   "cell_type": "markdown",
   "metadata": {},
   "source": []
  },
  {
   "cell_type": "code",
   "execution_count": 10,
   "metadata": {},
   "outputs": [
    {
     "data": {
      "text/plain": [
       "'9b8ef5e7ef0f8aea4180e2be787184cded5bce07'"
      ]
     },
     "execution_count": 10,
     "metadata": {},
     "output_type": "execute_result"
    }
   ],
   "source": [
    "os.environ[\"MLFLOW_TRACKING_USERNAME\"]"
   ]
  },
  {
   "cell_type": "code",
   "execution_count": 11,
   "metadata": {},
   "outputs": [],
   "source": [
    "log = logging.getLogger(__name__)\n",
    "logging.basicConfig(level=logging.DEBUG, format=\"%(message)s\")"
   ]
  },
  {
   "cell_type": "code",
   "execution_count": 12,
   "metadata": {},
   "outputs": [],
   "source": [
    "mlflow.set_tracking_uri(\"https://dagshub.com/josmunpen/laliga-oracle-dags.mlflow\")"
   ]
  },
  {
   "cell_type": "code",
   "execution_count": 13,
   "metadata": {},
   "outputs": [
    {
     "name": "stderr",
     "output_type": "stream",
     "text": [
      "HTTP Request: GET https://dagshub.com/api/v1/user \"HTTP/1.1 200 OK\"\n"
     ]
    },
    {
     "data": {
      "text/html": [
       "<pre style=\"white-space:pre;overflow-x:auto;line-height:normal;font-family:Menlo,'DejaVu Sans Mono',consolas,'Courier New',monospace\">Accessing as josmunpen\n",
       "</pre>\n"
      ],
      "text/plain": [
       "Accessing as josmunpen\n"
      ]
     },
     "metadata": {},
     "output_type": "display_data"
    },
    {
     "name": "stderr",
     "output_type": "stream",
     "text": [
      "Accessing as josmunpen\n",
      "HTTP Request: GET https://dagshub.com/api/v1/repos/josmunpen/laliga-oracle-dags \"HTTP/1.1 200 OK\"\n",
      "HTTP Request: GET https://dagshub.com/api/v1/user \"HTTP/1.1 200 OK\"\n"
     ]
    },
    {
     "data": {
      "text/html": [
       "<pre style=\"white-space:pre;overflow-x:auto;line-height:normal;font-family:Menlo,'DejaVu Sans Mono',consolas,'Courier New',monospace\">Initialized MLflow to track repo <span style=\"color: #008000; text-decoration-color: #008000\">\"josmunpen/laliga-oracle-dags\"</span>\n",
       "</pre>\n"
      ],
      "text/plain": [
       "Initialized MLflow to track repo \u001b[32m\"josmunpen/laliga-oracle-dags\"\u001b[0m\n"
      ]
     },
     "metadata": {},
     "output_type": "display_data"
    },
    {
     "name": "stderr",
     "output_type": "stream",
     "text": [
      "Initialized MLflow to track repo \"josmunpen/laliga-oracle-dags\"\n"
     ]
    },
    {
     "data": {
      "text/html": [
       "<pre style=\"white-space:pre;overflow-x:auto;line-height:normal;font-family:Menlo,'DejaVu Sans Mono',consolas,'Courier New',monospace\">Repository josmunpen/laliga-oracle-dags initialized!\n",
       "</pre>\n"
      ],
      "text/plain": [
       "Repository josmunpen/laliga-oracle-dags initialized!\n"
      ]
     },
     "metadata": {},
     "output_type": "display_data"
    },
    {
     "name": "stderr",
     "output_type": "stream",
     "text": [
      "Repository josmunpen/laliga-oracle-dags initialized!\n"
     ]
    }
   ],
   "source": [
    "dagshub.init(repo_owner=\"josmunpen\", repo_name=\"laliga-oracle-dags\", mlflow=True)"
   ]
  },
  {
   "cell_type": "code",
   "execution_count": 14,
   "metadata": {},
   "outputs": [],
   "source": [
    "# mlflow.login()"
   ]
  },
  {
   "cell_type": "code",
   "execution_count": 15,
   "metadata": {},
   "outputs": [],
   "source": [
    "date_version = datetime.datetime.now().strftime(\"%Y-%m-%d\")"
   ]
  },
  {
   "cell_type": "code",
   "execution_count": 16,
   "metadata": {},
   "outputs": [
    {
     "name": "stderr",
     "output_type": "stream",
     "text": [
      "Starting new HTTPS connection (1): dagshub.com:443\n",
      "https://dagshub.com:443 \"GET /josmunpen/laliga-oracle-dags.mlflow/api/2.0/mlflow/experiments/get-by-name?experiment_name=LaLigaOracle_2024-11-24 HTTP/11\" 404 None\n",
      "2024/11/24 12:58:00 INFO mlflow.tracking.fluent: Experiment with name 'LaLigaOracle_2024-11-24' does not exist. Creating a new experiment.\n",
      "https://dagshub.com:443 \"POST /josmunpen/laliga-oracle-dags.mlflow/api/2.0/mlflow/experiments/create HTTP/11\" 200 None\n",
      "https://dagshub.com:443 \"GET /josmunpen/laliga-oracle-dags.mlflow/api/2.0/mlflow/experiments/get?experiment_id=6 HTTP/11\" 200 None\n"
     ]
    },
    {
     "data": {
      "text/plain": [
       "<Experiment: artifact_location='mlflow-artifacts:/9b46a3ddf778450bbcb10264d60e58af', creation_time=1732449460355, experiment_id='6', last_update_time=1732449460355, lifecycle_stage='active', name='LaLigaOracle_2024-11-24', tags={}>"
      ]
     },
     "execution_count": 16,
     "metadata": {},
     "output_type": "execute_result"
    }
   ],
   "source": [
    "# Create a new MLflow Experiment\n",
    "mlflow.set_experiment(f\"LaLigaOracle_{date_version}\")"
   ]
  },
  {
   "cell_type": "code",
   "execution_count": 17,
   "metadata": {},
   "outputs": [],
   "source": [
    "mlflow_client = MlflowClient(mlflow.get_tracking_uri())"
   ]
  },
  {
   "cell_type": "markdown",
   "metadata": {},
   "source": [
    "### Read and join data"
   ]
  },
  {
   "cell_type": "code",
   "execution_count": 30,
   "metadata": {},
   "outputs": [],
   "source": [
    "from sqlalchemy import create_engine, URL\n",
    "from sqlalchemy.ext.declarative import declarative_base\n",
    "from sqlalchemy.orm import sessionmaker\n",
    "import os\n",
    "from dotenv import load_dotenv"
   ]
  },
  {
   "cell_type": "code",
   "execution_count": 31,
   "metadata": {},
   "outputs": [],
   "source": [
    "SQLALCHEMY_DATABASE_URL = URL.create(\n",
    "    \"postgresql\",\n",
    "    username=os.getenv(\"PGUSER\"),\n",
    "    password=os.getenv(\"PGPASSWORD\"),\n",
    "    host=os.getenv(\"PGHOST\"),\n",
    "    database=os.getenv(\"PGDATABASE\"),\n",
    "    port=os.getenv(\"PGPORT\"),\n",
    ")\n",
    "\n",
    "engine = create_engine(SQLALCHEMY_DATABASE_URL)\n",
    "\n",
    "SessionLocal = sessionmaker(autocommit=False, autoflush=False, bind=engine)"
   ]
  },
  {
   "cell_type": "code",
   "execution_count": 32,
   "metadata": {},
   "outputs": [],
   "source": [
    "seasons_to_train = [2022, 2023]"
   ]
  },
  {
   "cell_type": "code",
   "execution_count": 33,
   "metadata": {},
   "outputs": [],
   "source": [
    "def get_year_fixtures(season):\n",
    "    with SessionLocal() as session:\n",
    "        available_fixtures = pd.read_sql(\n",
    "            f\"\"\"\n",
    "                                SELECT DISTINCT(fixture)\n",
    "                                FROM matches\n",
    "                                WHERE season={season}\n",
    "                                \"\"\",\n",
    "            con=session.bind,\n",
    "        )\n",
    "\n",
    "    res = [value[0] for value in available_fixtures.values]\n",
    "    return res"
   ]
  },
  {
   "cell_type": "code",
   "execution_count": 34,
   "metadata": {},
   "outputs": [],
   "source": [
    "a =get_year_fixtures(2023)"
   ]
  },
  {
   "cell_type": "code",
   "execution_count": 35,
   "metadata": {},
   "outputs": [],
   "source": [
    "dfs = []\n",
    "for season in seasons_to_train:\n",
    "    available_fixtures = get_year_fixtures(season)\n",
    "    for fixture in available_fixtures:\n",
    "        with SessionLocal() as session:\n",
    "            # Get fixture matches data\n",
    "            df_matches = pd.read_sql(\n",
    "                f\"\"\"\n",
    "                                        SELECT *\n",
    "                                        FROM matches\n",
    "                                        WHERE fixture={fixture} \n",
    "                                            AND season={season}\n",
    "                                        \"\"\",\n",
    "                con=session.bind,\n",
    "            )\n",
    "\n",
    "            # Get teams data (filter by last data available before match date)\n",
    "            df_teams = pd.read_sql(\n",
    "                f\"\"\"\n",
    "                                        SELECT *\n",
    "                                        FROM teams\n",
    "                                        WHERE teams.query_date = (\n",
    "                                            SELECT MAX(teams.query_date)\n",
    "                                            FROM teams\n",
    "                                            WHERE teams.query_date <= (\n",
    "                                                SELECT MAX(matches.match_date)\n",
    "                                                FROM matches\n",
    "                                                WHERE fixture = {fixture}\n",
    "                                            )\n",
    "                                            AND teams.season = {season}\n",
    "                                        )\n",
    "                                    \"\"\",\n",
    "                con=session.bind,\n",
    "            )\n",
    "\n",
    "        df_aux = df_matches.merge(\n",
    "            df_teams,\n",
    "            left_on=\"team_home\",\n",
    "            right_on=\"team_id\",\n",
    "            how=\"left\",\n",
    "            suffixes=(None, \"_index_home\"),\n",
    "        )\n",
    "        df_aux.drop(columns=[\"team_id\", \"id_index_home\"], axis=1, inplace=True)\n",
    "        df_aux.columns = [\n",
    "            \"home_\" + col if ((col in df_teams.columns) and (col != \"id\")) else col\n",
    "            for col in df_aux.columns\n",
    "        ]\n",
    "\n",
    "        df_aux = df_aux.merge(\n",
    "            df_teams,\n",
    "            left_on=\"team_away\",\n",
    "            right_on=\"team_id\",\n",
    "            how=\"left\",\n",
    "            suffixes=(None, \"_index_away\"),\n",
    "        )\n",
    "        df_aux.drop(columns=[\"team_id\", \"id_index_away\"], axis=1, inplace=True)\n",
    "        df_aux.columns = [\n",
    "            \"away_\" + col if ((col in df_teams.columns) and (col != \"id\")) else col\n",
    "            for col in df_aux.columns\n",
    "        ]\n",
    "\n",
    "        dfs.append(df_aux)\n",
    "\n",
    "df = pd.concat(dfs)"
   ]
  },
  {
   "cell_type": "code",
   "execution_count": 36,
   "metadata": {},
   "outputs": [],
   "source": [
    "df = df[\n",
    "    df[\"home_name\"].notnull()\n",
    "    & df[\"away_name\"].notnull()\n",
    "    & df[\"home_history\"].notnull()\n",
    "    & df[\"away_history\"].notnull()\n",
    "]"
   ]
  },
  {
   "cell_type": "code",
   "execution_count": 37,
   "metadata": {},
   "outputs": [],
   "source": [
    "df[\"match_date\"] = pd.to_datetime(df[\"match_date\"])"
   ]
  },
  {
   "cell_type": "markdown",
   "metadata": {},
   "source": []
  },
  {
   "cell_type": "markdown",
   "metadata": {},
   "source": [
    "### Feature engineering"
   ]
  },
  {
   "cell_type": "markdown",
   "metadata": {},
   "source": [
    "\n",
    "Features no necesarias para el modelo: id, fixture, result_predict, result_real, query_date_, name_, \n",
    "\n",
    "OHE: team_home?, team_away?, result_real\n",
    "\n",
    "Nada: total_played_, wins_home_, wins_away_away_, draws_home_, draws_away_, loses_home_, goals_for_home_, goals_for_away_, goals_against_home_, goals_against_away_\n",
    "\n",
    "Otros: history_away_\n",
    "\n",
    "Siguientes fases: fixture, match_date (día de la semana, mes, etc)\n",
    "\n",
    "!!! team_id_away"
   ]
  },
  {
   "cell_type": "code",
   "execution_count": 38,
   "metadata": {},
   "outputs": [],
   "source": [
    "from sklearn.preprocessing import OneHotEncoder, StandardScaler\n",
    "import pickle"
   ]
  },
  {
   "cell_type": "code",
   "execution_count": 39,
   "metadata": {},
   "outputs": [],
   "source": [
    "# Drop unnecesary features for model\n",
    "df.drop(\n",
    "    columns=[\n",
    "        \"id\",\n",
    "        \"fixture\",\n",
    "        \"result_predict\",\n",
    "        \"home_query_date\",\n",
    "        \"away_query_date\",\n",
    "        \"home_name\",\n",
    "        \"away_name\",\n",
    "        \"match_date\",\n",
    "        \"away_season\",\n",
    "        \"season_index_home\"\n",
    "    ],\n",
    "    axis=1,\n",
    "    inplace=True,\n",
    ")"
   ]
  },
  {
   "cell_type": "code",
   "execution_count": 40,
   "metadata": {},
   "outputs": [],
   "source": [
    "df.rename({\"home_season\":\"season\"}, axis=1, inplace=True)"
   ]
  },
  {
   "cell_type": "code",
   "execution_count": 41,
   "metadata": {},
   "outputs": [
    {
     "data": {
      "text/html": [
       "<div>\n",
       "<style scoped>\n",
       "    .dataframe tbody tr th:only-of-type {\n",
       "        vertical-align: middle;\n",
       "    }\n",
       "\n",
       "    .dataframe tbody tr th {\n",
       "        vertical-align: top;\n",
       "    }\n",
       "\n",
       "    .dataframe thead th {\n",
       "        text-align: right;\n",
       "    }\n",
       "</style>\n",
       "<table border=\"1\" class=\"dataframe\">\n",
       "  <thead>\n",
       "    <tr style=\"text-align: right;\">\n",
       "      <th></th>\n",
       "      <th>team_home</th>\n",
       "      <th>team_away</th>\n",
       "      <th>result_real</th>\n",
       "      <th>season</th>\n",
       "      <th>home_history</th>\n",
       "      <th>home_total_played</th>\n",
       "      <th>home_wins_home</th>\n",
       "      <th>home_wins_away</th>\n",
       "      <th>home_draws_home</th>\n",
       "      <th>home_draws_away</th>\n",
       "      <th>...</th>\n",
       "      <th>away_wins_home</th>\n",
       "      <th>away_wins_away</th>\n",
       "      <th>away_draws_home</th>\n",
       "      <th>away_draws_away</th>\n",
       "      <th>away_loses_home</th>\n",
       "      <th>away_loses_away</th>\n",
       "      <th>away_goals_for_home</th>\n",
       "      <th>away_goals_for_away</th>\n",
       "      <th>away_goals_against_home</th>\n",
       "      <th>away_goals_against_away</th>\n",
       "    </tr>\n",
       "  </thead>\n",
       "  <tbody>\n",
       "    <tr>\n",
       "      <th>0</th>\n",
       "      <td>531</td>\n",
       "      <td>548</td>\n",
       "      <td>home_win</td>\n",
       "      <td>2022</td>\n",
       "      <td>DWWLWWWDLDLWLWDDLLLWWLLDLWDWWWLDLLWLLD</td>\n",
       "      <td>38.0</td>\n",
       "      <td>8.0</td>\n",
       "      <td>6.0</td>\n",
       "      <td>3.0</td>\n",
       "      <td>6.0</td>\n",
       "      <td>...</td>\n",
       "      <td>11.0</td>\n",
       "      <td>10.0</td>\n",
       "      <td>5.0</td>\n",
       "      <td>3.0</td>\n",
       "      <td>3.0</td>\n",
       "      <td>6.0</td>\n",
       "      <td>26.0</td>\n",
       "      <td>25.0</td>\n",
       "      <td>16.0</td>\n",
       "      <td>19.0</td>\n",
       "    </tr>\n",
       "    <tr>\n",
       "      <th>1</th>\n",
       "      <td>543</td>\n",
       "      <td>540</td>\n",
       "      <td>home_win</td>\n",
       "      <td>2022</td>\n",
       "      <td>WWWLWWLDWDLWDLDWLWLLWWWDDWLLWLDLWWDLWD</td>\n",
       "      <td>38.0</td>\n",
       "      <td>9.0</td>\n",
       "      <td>8.0</td>\n",
       "      <td>5.0</td>\n",
       "      <td>4.0</td>\n",
       "      <td>...</td>\n",
       "      <td>4.0</td>\n",
       "      <td>4.0</td>\n",
       "      <td>7.0</td>\n",
       "      <td>6.0</td>\n",
       "      <td>8.0</td>\n",
       "      <td>9.0</td>\n",
       "      <td>27.0</td>\n",
       "      <td>25.0</td>\n",
       "      <td>35.0</td>\n",
       "      <td>34.0</td>\n",
       "    </tr>\n",
       "    <tr>\n",
       "      <th>2</th>\n",
       "      <td>538</td>\n",
       "      <td>798</td>\n",
       "      <td>away_win</td>\n",
       "      <td>2022</td>\n",
       "      <td>DLWWLLWLLLDLLDDWDLWWLDWDWWDDLLWLLLLDLW</td>\n",
       "      <td>38.0</td>\n",
       "      <td>7.0</td>\n",
       "      <td>4.0</td>\n",
       "      <td>6.0</td>\n",
       "      <td>4.0</td>\n",
       "      <td>...</td>\n",
       "      <td>10.0</td>\n",
       "      <td>4.0</td>\n",
       "      <td>5.0</td>\n",
       "      <td>3.0</td>\n",
       "      <td>4.0</td>\n",
       "      <td>12.0</td>\n",
       "      <td>22.0</td>\n",
       "      <td>15.0</td>\n",
       "      <td>12.0</td>\n",
       "      <td>31.0</td>\n",
       "    </tr>\n",
       "    <tr>\n",
       "      <th>3</th>\n",
       "      <td>724</td>\n",
       "      <td>541</td>\n",
       "      <td>away_win</td>\n",
       "      <td>2022</td>\n",
       "      <td>LLLLLWDDDDLWDLDWDLWLWLWDDDLWLDLWLLWLWD</td>\n",
       "      <td>38.0</td>\n",
       "      <td>7.0</td>\n",
       "      <td>3.0</td>\n",
       "      <td>6.0</td>\n",
       "      <td>6.0</td>\n",
       "      <td>...</td>\n",
       "      <td>13.0</td>\n",
       "      <td>11.0</td>\n",
       "      <td>5.0</td>\n",
       "      <td>1.0</td>\n",
       "      <td>1.0</td>\n",
       "      <td>7.0</td>\n",
       "      <td>44.0</td>\n",
       "      <td>31.0</td>\n",
       "      <td>16.0</td>\n",
       "      <td>20.0</td>\n",
       "    </tr>\n",
       "    <tr>\n",
       "      <th>4</th>\n",
       "      <td>533</td>\n",
       "      <td>720</td>\n",
       "      <td>away_win</td>\n",
       "      <td>2022</td>\n",
       "      <td>WWDWLDDLWLWLLWWWDWLLLLWWDWWWLLWWDWWWLD</td>\n",
       "      <td>38.0</td>\n",
       "      <td>12.0</td>\n",
       "      <td>7.0</td>\n",
       "      <td>3.0</td>\n",
       "      <td>4.0</td>\n",
       "      <td>...</td>\n",
       "      <td>8.0</td>\n",
       "      <td>3.0</td>\n",
       "      <td>4.0</td>\n",
       "      <td>3.0</td>\n",
       "      <td>7.0</td>\n",
       "      <td>13.0</td>\n",
       "      <td>21.0</td>\n",
       "      <td>12.0</td>\n",
       "      <td>25.0</td>\n",
       "      <td>38.0</td>\n",
       "    </tr>\n",
       "  </tbody>\n",
       "</table>\n",
       "<p>5 rows × 28 columns</p>\n",
       "</div>"
      ],
      "text/plain": [
       "   team_home  team_away result_real  season  \\\n",
       "0        531        548    home_win    2022   \n",
       "1        543        540    home_win    2022   \n",
       "2        538        798    away_win    2022   \n",
       "3        724        541    away_win    2022   \n",
       "4        533        720    away_win    2022   \n",
       "\n",
       "                             home_history  home_total_played  home_wins_home  \\\n",
       "0  DWWLWWWDLDLWLWDDLLLWWLLDLWDWWWLDLLWLLD               38.0             8.0   \n",
       "1  WWWLWWLDWDLWDLDWLWLLWWWDDWLLWLDLWWDLWD               38.0             9.0   \n",
       "2  DLWWLLWLLLDLLDDWDLWWLDWDWWDDLLWLLLLDLW               38.0             7.0   \n",
       "3  LLLLLWDDDDLWDLDWDLWLWLWDDDLWLDLWLLWLWD               38.0             7.0   \n",
       "4  WWDWLDDLWLWLLWWWDWLLLLWWDWWWLLWWDWWWLD               38.0            12.0   \n",
       "\n",
       "   home_wins_away  home_draws_home  home_draws_away  ...  away_wins_home  \\\n",
       "0             6.0              3.0              6.0  ...            11.0   \n",
       "1             8.0              5.0              4.0  ...             4.0   \n",
       "2             4.0              6.0              4.0  ...            10.0   \n",
       "3             3.0              6.0              6.0  ...            13.0   \n",
       "4             7.0              3.0              4.0  ...             8.0   \n",
       "\n",
       "   away_wins_away  away_draws_home  away_draws_away  away_loses_home  \\\n",
       "0            10.0              5.0              3.0              3.0   \n",
       "1             4.0              7.0              6.0              8.0   \n",
       "2             4.0              5.0              3.0              4.0   \n",
       "3            11.0              5.0              1.0              1.0   \n",
       "4             3.0              4.0              3.0              7.0   \n",
       "\n",
       "   away_loses_away away_goals_for_home  away_goals_for_away  \\\n",
       "0              6.0                26.0                 25.0   \n",
       "1              9.0                27.0                 25.0   \n",
       "2             12.0                22.0                 15.0   \n",
       "3              7.0                44.0                 31.0   \n",
       "4             13.0                21.0                 12.0   \n",
       "\n",
       "   away_goals_against_home  away_goals_against_away  \n",
       "0                     16.0                     19.0  \n",
       "1                     35.0                     34.0  \n",
       "2                     12.0                     31.0  \n",
       "3                     16.0                     20.0  \n",
       "4                     25.0                     38.0  \n",
       "\n",
       "[5 rows x 28 columns]"
      ]
     },
     "execution_count": 41,
     "metadata": {},
     "output_type": "execute_result"
    }
   ],
   "source": [
    "df.head()"
   ]
  },
  {
   "cell_type": "code",
   "execution_count": 42,
   "metadata": {},
   "outputs": [
    {
     "data": {
      "text/plain": [
       "season\n",
       "2022    380\n",
       "2023    306\n",
       "Name: count, dtype: int64"
      ]
     },
     "execution_count": 42,
     "metadata": {},
     "output_type": "execute_result"
    }
   ],
   "source": [
    "df[\"season\"].value_counts()"
   ]
  },
  {
   "cell_type": "code",
   "execution_count": 43,
   "metadata": {},
   "outputs": [],
   "source": [
    "# One hot encoding\n",
    "# ohe_cols = [\"team_home\", \"team_away\", \"result_real\"]\n",
    "ohe_cols = [\"team_home\", \"team_away\", \"season\"]\n",
    "ohe_encoder = OneHotEncoder(sparse_output=False).set_output(transform=\"pandas\")"
   ]
  },
  {
   "cell_type": "code",
   "execution_count": 44,
   "metadata": {},
   "outputs": [],
   "source": [
    "ohe_encoder = ohe_encoder.fit(df[ohe_cols])"
   ]
  },
  {
   "cell_type": "code",
   "execution_count": 101,
   "metadata": {},
   "outputs": [],
   "source": [
    "with open(\"ohe_encoder.sav\", \"wb\") as f:\n",
    "    pickle.dump(ohe_encoder, f)"
   ]
  },
  {
   "cell_type": "code",
   "execution_count": null,
   "metadata": {},
   "outputs": [
    {
     "name": "stderr",
     "output_type": "stream",
     "text": [
      "https://dagshub.com:443 \"POST /josmunpen/laliga-oracle-dags.mlflow/api/2.0/mlflow/runs/create HTTP/11\" 200 None\n",
      "2024/11/10 19:36:40 WARNING mlflow.sklearn: Model was missing function: predict. Not logging python_function flavor!\n",
      "2024/11/10 19:36:42 WARNING mlflow.models.model: Model logged without a signature and input example. Please set `input_example` parameter when logging the model to auto infer the model signature.\n",
      "https://dagshub.com:443 \"GET /josmunpen/laliga-oracle-dags.mlflow/api/2.0/mlflow/runs/get?run_uuid=59a5e761a21347909e93ff6743db8dd9&run_id=59a5e761a21347909e93ff6743db8dd9 HTTP/11\" 200 None\n",
      "https://dagshub.com:443 \"PUT /josmunpen/laliga-oracle-dags.mlflow/api/2.0/mlflow-artifacts/artifacts/6d5735cbe89241f69cbbd4214ee6925e/59a5e761a21347909e93ff6743db8dd9/artifacts/ohe_encoder/conda.yaml HTTP/11\" 200 None\n",
      "https://dagshub.com:443 \"PUT /josmunpen/laliga-oracle-dags.mlflow/api/2.0/mlflow-artifacts/artifacts/6d5735cbe89241f69cbbd4214ee6925e/59a5e761a21347909e93ff6743db8dd9/artifacts/ohe_encoder/MLmodel HTTP/11\" 200 None\n",
      "https://dagshub.com:443 \"PUT /josmunpen/laliga-oracle-dags.mlflow/api/2.0/mlflow-artifacts/artifacts/6d5735cbe89241f69cbbd4214ee6925e/59a5e761a21347909e93ff6743db8dd9/artifacts/ohe_encoder/model.pkl HTTP/11\" 200 None\n",
      "https://dagshub.com:443 \"PUT /josmunpen/laliga-oracle-dags.mlflow/api/2.0/mlflow-artifacts/artifacts/6d5735cbe89241f69cbbd4214ee6925e/59a5e761a21347909e93ff6743db8dd9/artifacts/ohe_encoder/python_env.yaml HTTP/11\" 200 None\n",
      "https://dagshub.com:443 \"PUT /josmunpen/laliga-oracle-dags.mlflow/api/2.0/mlflow-artifacts/artifacts/6d5735cbe89241f69cbbd4214ee6925e/59a5e761a21347909e93ff6743db8dd9/artifacts/ohe_encoder/requirements.txt HTTP/11\" 200 None\n",
      "https://dagshub.com:443 \"POST /josmunpen/laliga-oracle-dags.mlflow/api/2.0/mlflow/runs/log-model HTTP/11\" 200 None\n",
      "https://dagshub.com:443 \"POST /josmunpen/laliga-oracle-dags.mlflow/api/2.0/mlflow/registered-models/create HTTP/11\" 200 None\n",
      "Successfully registered model 'ohe_encoder'.\n",
      "https://dagshub.com:443 \"GET /josmunpen/laliga-oracle-dags.mlflow/api/2.0/mlflow/runs/get?run_uuid=59a5e761a21347909e93ff6743db8dd9&run_id=59a5e761a21347909e93ff6743db8dd9 HTTP/11\" 200 None\n",
      "https://dagshub.com:443 \"POST /josmunpen/laliga-oracle-dags.mlflow/api/2.0/mlflow/model-versions/create HTTP/11\" 200 None\n",
      "2024/11/10 19:36:46 INFO mlflow.store.model_registry.abstract_store: Waiting up to 300 seconds for model version to finish creation. Model name: ohe_encoder, version 1\n",
      "Created version '1' of model 'ohe_encoder'.\n"
     ]
    }
   ],
   "source": [
    "mlflow.sklearn.log_model(\n",
    "    sk_model=ohe_encoder,\n",
    "    artifact_path=\"ohe_encoder\",\n",
    "    registered_model_name=\"ohe_encoder\",\n",
    ")"
   ]
  },
  {
   "cell_type": "code",
   "execution_count": 64,
   "metadata": {},
   "outputs": [
    {
     "name": "stderr",
     "output_type": "stream",
     "text": [
      "C:\\Users\\josem\\AppData\\Local\\Temp\\ipykernel_34636\\2929197148.py:1: FutureWarning: ``mlflow.tracking.client.MlflowClient.get_latest_versions`` is deprecated since 2.9.0. Model registry stages will be removed in a future major release. To learn more about the deprecation of model registry stages, see our migration guide here: https://mlflow.org/docs/latest/model-registry.html#migrating-from-stages\n",
      "  ohe_info = mlflow_client.get_latest_versions(\"ohe_encoder\")[0]\n",
      "https://dagshub.com:443 \"POST /josmunpen/laliga-oracle-dags.mlflow/api/2.0/mlflow/registered-models/get-latest-versions HTTP/11\" 200 None\n"
     ]
    }
   ],
   "source": [
    "ohe_info = mlflow_client.get_latest_versions(\"ohe_encoder\")[0]"
   ]
  },
  {
   "cell_type": "code",
   "execution_count": 65,
   "metadata": {},
   "outputs": [
    {
     "name": "stderr",
     "output_type": "stream",
     "text": [
      "https://dagshub.com:443 \"POST /josmunpen/laliga-oracle-dags.mlflow/api/2.0/mlflow/model-versions/set-tag HTTP/11\" 200 None\n"
     ]
    }
   ],
   "source": [
    "mlflow_client.set_model_version_tag(\n",
    "    name=\"ohe_encoder\",\n",
    "    version=ohe_info.version,\n",
    "    key=\"date_version\",\n",
    "    value=date_version\n",
    ")"
   ]
  },
  {
   "cell_type": "code",
   "execution_count": 102,
   "metadata": {},
   "outputs": [],
   "source": [
    "ohe_encoded = ohe_encoder.transform(df[ohe_cols])"
   ]
  },
  {
   "cell_type": "code",
   "execution_count": 103,
   "metadata": {},
   "outputs": [],
   "source": [
    "df = pd.concat([df, ohe_encoded], axis=1).drop(columns=ohe_cols)"
   ]
  },
  {
   "cell_type": "code",
   "execution_count": 104,
   "metadata": {},
   "outputs": [],
   "source": [
    "df[\"home_history\"] = df[\"home_history\"].apply(lambda x: list(x)[:6])\n",
    "df[\"away_history\"] = df[\"away_history\"].apply(lambda x: list(x)[:6])"
   ]
  },
  {
   "cell_type": "code",
   "execution_count": 105,
   "metadata": {},
   "outputs": [],
   "source": [
    "df[\n",
    "    [\n",
    "        \"home_last_1\",\n",
    "        \"home_last_2\",\n",
    "        \"home_last_3\",\n",
    "        \"home_last_4\",\n",
    "        \"home_last_5\",\n",
    "        \"home_last_6\",\n",
    "    ]\n",
    "] = df[\"home_history\"].apply(pd.Series)\n",
    "df[\n",
    "    [\n",
    "        \"away_last_1\",\n",
    "        \"away_last_2\",\n",
    "        \"away_last_3\",\n",
    "        \"away_last_4\",\n",
    "        \"away_last_5\",\n",
    "        \"away_last_6\",\n",
    "    ]\n",
    "] = df[\"away_history\"].apply(pd.Series)"
   ]
  },
  {
   "cell_type": "code",
   "execution_count": 106,
   "metadata": {},
   "outputs": [],
   "source": [
    "df.drop([\"home_history\", \"away_history\"], axis=1, inplace=True)"
   ]
  },
  {
   "cell_type": "code",
   "execution_count": 107,
   "metadata": {},
   "outputs": [],
   "source": [
    "label_cols = [\n",
    "    \"home_last_1\",\n",
    "    \"home_last_2\",\n",
    "    \"home_last_3\",\n",
    "    \"home_last_4\",\n",
    "    \"home_last_5\",\n",
    "    \"home_last_6\",\n",
    "    \"away_last_1\",\n",
    "    \"away_last_2\",\n",
    "    \"away_last_3\",\n",
    "    \"away_last_4\",\n",
    "    \"away_last_5\",\n",
    "    \"away_last_6\",\n",
    "]"
   ]
  },
  {
   "cell_type": "code",
   "execution_count": 108,
   "metadata": {},
   "outputs": [
    {
     "name": "stderr",
     "output_type": "stream",
     "text": [
      "C:\\Users\\josem\\AppData\\Local\\Temp\\ipykernel_19444\\2677193521.py:1: FutureWarning: Downcasting behavior in `replace` is deprecated and will be removed in a future version. To retain the old behavior, explicitly call `result.infer_objects(copy=False)`. To opt-in to the future behavior, set `pd.set_option('future.no_silent_downcasting', True)`\n",
      "  df.replace({\"L\": 0, \"D\": 1, \"W\": 2}, inplace=True)\n"
     ]
    }
   ],
   "source": [
    "df.replace({\"L\": 0, \"D\": 1, \"W\": 2}, inplace=True)"
   ]
  },
  {
   "cell_type": "code",
   "execution_count": 109,
   "metadata": {},
   "outputs": [
    {
     "data": {
      "text/html": [
       "<style>#sk-container-id-2 {\n",
       "  /* Definition of color scheme common for light and dark mode */\n",
       "  --sklearn-color-text: black;\n",
       "  --sklearn-color-line: gray;\n",
       "  /* Definition of color scheme for unfitted estimators */\n",
       "  --sklearn-color-unfitted-level-0: #fff5e6;\n",
       "  --sklearn-color-unfitted-level-1: #f6e4d2;\n",
       "  --sklearn-color-unfitted-level-2: #ffe0b3;\n",
       "  --sklearn-color-unfitted-level-3: chocolate;\n",
       "  /* Definition of color scheme for fitted estimators */\n",
       "  --sklearn-color-fitted-level-0: #f0f8ff;\n",
       "  --sklearn-color-fitted-level-1: #d4ebff;\n",
       "  --sklearn-color-fitted-level-2: #b3dbfd;\n",
       "  --sklearn-color-fitted-level-3: cornflowerblue;\n",
       "\n",
       "  /* Specific color for light theme */\n",
       "  --sklearn-color-text-on-default-background: var(--sg-text-color, var(--theme-code-foreground, var(--jp-content-font-color1, black)));\n",
       "  --sklearn-color-background: var(--sg-background-color, var(--theme-background, var(--jp-layout-color0, white)));\n",
       "  --sklearn-color-border-box: var(--sg-text-color, var(--theme-code-foreground, var(--jp-content-font-color1, black)));\n",
       "  --sklearn-color-icon: #696969;\n",
       "\n",
       "  @media (prefers-color-scheme: dark) {\n",
       "    /* Redefinition of color scheme for dark theme */\n",
       "    --sklearn-color-text-on-default-background: var(--sg-text-color, var(--theme-code-foreground, var(--jp-content-font-color1, white)));\n",
       "    --sklearn-color-background: var(--sg-background-color, var(--theme-background, var(--jp-layout-color0, #111)));\n",
       "    --sklearn-color-border-box: var(--sg-text-color, var(--theme-code-foreground, var(--jp-content-font-color1, white)));\n",
       "    --sklearn-color-icon: #878787;\n",
       "  }\n",
       "}\n",
       "\n",
       "#sk-container-id-2 {\n",
       "  color: var(--sklearn-color-text);\n",
       "}\n",
       "\n",
       "#sk-container-id-2 pre {\n",
       "  padding: 0;\n",
       "}\n",
       "\n",
       "#sk-container-id-2 input.sk-hidden--visually {\n",
       "  border: 0;\n",
       "  clip: rect(1px 1px 1px 1px);\n",
       "  clip: rect(1px, 1px, 1px, 1px);\n",
       "  height: 1px;\n",
       "  margin: -1px;\n",
       "  overflow: hidden;\n",
       "  padding: 0;\n",
       "  position: absolute;\n",
       "  width: 1px;\n",
       "}\n",
       "\n",
       "#sk-container-id-2 div.sk-dashed-wrapped {\n",
       "  border: 1px dashed var(--sklearn-color-line);\n",
       "  margin: 0 0.4em 0.5em 0.4em;\n",
       "  box-sizing: border-box;\n",
       "  padding-bottom: 0.4em;\n",
       "  background-color: var(--sklearn-color-background);\n",
       "}\n",
       "\n",
       "#sk-container-id-2 div.sk-container {\n",
       "  /* jupyter's `normalize.less` sets `[hidden] { display: none; }`\n",
       "     but bootstrap.min.css set `[hidden] { display: none !important; }`\n",
       "     so we also need the `!important` here to be able to override the\n",
       "     default hidden behavior on the sphinx rendered scikit-learn.org.\n",
       "     See: https://github.com/scikit-learn/scikit-learn/issues/21755 */\n",
       "  display: inline-block !important;\n",
       "  position: relative;\n",
       "}\n",
       "\n",
       "#sk-container-id-2 div.sk-text-repr-fallback {\n",
       "  display: none;\n",
       "}\n",
       "\n",
       "div.sk-parallel-item,\n",
       "div.sk-serial,\n",
       "div.sk-item {\n",
       "  /* draw centered vertical line to link estimators */\n",
       "  background-image: linear-gradient(var(--sklearn-color-text-on-default-background), var(--sklearn-color-text-on-default-background));\n",
       "  background-size: 2px 100%;\n",
       "  background-repeat: no-repeat;\n",
       "  background-position: center center;\n",
       "}\n",
       "\n",
       "/* Parallel-specific style estimator block */\n",
       "\n",
       "#sk-container-id-2 div.sk-parallel-item::after {\n",
       "  content: \"\";\n",
       "  width: 100%;\n",
       "  border-bottom: 2px solid var(--sklearn-color-text-on-default-background);\n",
       "  flex-grow: 1;\n",
       "}\n",
       "\n",
       "#sk-container-id-2 div.sk-parallel {\n",
       "  display: flex;\n",
       "  align-items: stretch;\n",
       "  justify-content: center;\n",
       "  background-color: var(--sklearn-color-background);\n",
       "  position: relative;\n",
       "}\n",
       "\n",
       "#sk-container-id-2 div.sk-parallel-item {\n",
       "  display: flex;\n",
       "  flex-direction: column;\n",
       "}\n",
       "\n",
       "#sk-container-id-2 div.sk-parallel-item:first-child::after {\n",
       "  align-self: flex-end;\n",
       "  width: 50%;\n",
       "}\n",
       "\n",
       "#sk-container-id-2 div.sk-parallel-item:last-child::after {\n",
       "  align-self: flex-start;\n",
       "  width: 50%;\n",
       "}\n",
       "\n",
       "#sk-container-id-2 div.sk-parallel-item:only-child::after {\n",
       "  width: 0;\n",
       "}\n",
       "\n",
       "/* Serial-specific style estimator block */\n",
       "\n",
       "#sk-container-id-2 div.sk-serial {\n",
       "  display: flex;\n",
       "  flex-direction: column;\n",
       "  align-items: center;\n",
       "  background-color: var(--sklearn-color-background);\n",
       "  padding-right: 1em;\n",
       "  padding-left: 1em;\n",
       "}\n",
       "\n",
       "\n",
       "/* Toggleable style: style used for estimator/Pipeline/ColumnTransformer box that is\n",
       "clickable and can be expanded/collapsed.\n",
       "- Pipeline and ColumnTransformer use this feature and define the default style\n",
       "- Estimators will overwrite some part of the style using the `sk-estimator` class\n",
       "*/\n",
       "\n",
       "/* Pipeline and ColumnTransformer style (default) */\n",
       "\n",
       "#sk-container-id-2 div.sk-toggleable {\n",
       "  /* Default theme specific background. It is overwritten whether we have a\n",
       "  specific estimator or a Pipeline/ColumnTransformer */\n",
       "  background-color: var(--sklearn-color-background);\n",
       "}\n",
       "\n",
       "/* Toggleable label */\n",
       "#sk-container-id-2 label.sk-toggleable__label {\n",
       "  cursor: pointer;\n",
       "  display: block;\n",
       "  width: 100%;\n",
       "  margin-bottom: 0;\n",
       "  padding: 0.5em;\n",
       "  box-sizing: border-box;\n",
       "  text-align: center;\n",
       "}\n",
       "\n",
       "#sk-container-id-2 label.sk-toggleable__label-arrow:before {\n",
       "  /* Arrow on the left of the label */\n",
       "  content: \"▸\";\n",
       "  float: left;\n",
       "  margin-right: 0.25em;\n",
       "  color: var(--sklearn-color-icon);\n",
       "}\n",
       "\n",
       "#sk-container-id-2 label.sk-toggleable__label-arrow:hover:before {\n",
       "  color: var(--sklearn-color-text);\n",
       "}\n",
       "\n",
       "/* Toggleable content - dropdown */\n",
       "\n",
       "#sk-container-id-2 div.sk-toggleable__content {\n",
       "  max-height: 0;\n",
       "  max-width: 0;\n",
       "  overflow: hidden;\n",
       "  text-align: left;\n",
       "  /* unfitted */\n",
       "  background-color: var(--sklearn-color-unfitted-level-0);\n",
       "}\n",
       "\n",
       "#sk-container-id-2 div.sk-toggleable__content.fitted {\n",
       "  /* fitted */\n",
       "  background-color: var(--sklearn-color-fitted-level-0);\n",
       "}\n",
       "\n",
       "#sk-container-id-2 div.sk-toggleable__content pre {\n",
       "  margin: 0.2em;\n",
       "  border-radius: 0.25em;\n",
       "  color: var(--sklearn-color-text);\n",
       "  /* unfitted */\n",
       "  background-color: var(--sklearn-color-unfitted-level-0);\n",
       "}\n",
       "\n",
       "#sk-container-id-2 div.sk-toggleable__content.fitted pre {\n",
       "  /* unfitted */\n",
       "  background-color: var(--sklearn-color-fitted-level-0);\n",
       "}\n",
       "\n",
       "#sk-container-id-2 input.sk-toggleable__control:checked~div.sk-toggleable__content {\n",
       "  /* Expand drop-down */\n",
       "  max-height: 200px;\n",
       "  max-width: 100%;\n",
       "  overflow: auto;\n",
       "}\n",
       "\n",
       "#sk-container-id-2 input.sk-toggleable__control:checked~label.sk-toggleable__label-arrow:before {\n",
       "  content: \"▾\";\n",
       "}\n",
       "\n",
       "/* Pipeline/ColumnTransformer-specific style */\n",
       "\n",
       "#sk-container-id-2 div.sk-label input.sk-toggleable__control:checked~label.sk-toggleable__label {\n",
       "  color: var(--sklearn-color-text);\n",
       "  background-color: var(--sklearn-color-unfitted-level-2);\n",
       "}\n",
       "\n",
       "#sk-container-id-2 div.sk-label.fitted input.sk-toggleable__control:checked~label.sk-toggleable__label {\n",
       "  background-color: var(--sklearn-color-fitted-level-2);\n",
       "}\n",
       "\n",
       "/* Estimator-specific style */\n",
       "\n",
       "/* Colorize estimator box */\n",
       "#sk-container-id-2 div.sk-estimator input.sk-toggleable__control:checked~label.sk-toggleable__label {\n",
       "  /* unfitted */\n",
       "  background-color: var(--sklearn-color-unfitted-level-2);\n",
       "}\n",
       "\n",
       "#sk-container-id-2 div.sk-estimator.fitted input.sk-toggleable__control:checked~label.sk-toggleable__label {\n",
       "  /* fitted */\n",
       "  background-color: var(--sklearn-color-fitted-level-2);\n",
       "}\n",
       "\n",
       "#sk-container-id-2 div.sk-label label.sk-toggleable__label,\n",
       "#sk-container-id-2 div.sk-label label {\n",
       "  /* The background is the default theme color */\n",
       "  color: var(--sklearn-color-text-on-default-background);\n",
       "}\n",
       "\n",
       "/* On hover, darken the color of the background */\n",
       "#sk-container-id-2 div.sk-label:hover label.sk-toggleable__label {\n",
       "  color: var(--sklearn-color-text);\n",
       "  background-color: var(--sklearn-color-unfitted-level-2);\n",
       "}\n",
       "\n",
       "/* Label box, darken color on hover, fitted */\n",
       "#sk-container-id-2 div.sk-label.fitted:hover label.sk-toggleable__label.fitted {\n",
       "  color: var(--sklearn-color-text);\n",
       "  background-color: var(--sklearn-color-fitted-level-2);\n",
       "}\n",
       "\n",
       "/* Estimator label */\n",
       "\n",
       "#sk-container-id-2 div.sk-label label {\n",
       "  font-family: monospace;\n",
       "  font-weight: bold;\n",
       "  display: inline-block;\n",
       "  line-height: 1.2em;\n",
       "}\n",
       "\n",
       "#sk-container-id-2 div.sk-label-container {\n",
       "  text-align: center;\n",
       "}\n",
       "\n",
       "/* Estimator-specific */\n",
       "#sk-container-id-2 div.sk-estimator {\n",
       "  font-family: monospace;\n",
       "  border: 1px dotted var(--sklearn-color-border-box);\n",
       "  border-radius: 0.25em;\n",
       "  box-sizing: border-box;\n",
       "  margin-bottom: 0.5em;\n",
       "  /* unfitted */\n",
       "  background-color: var(--sklearn-color-unfitted-level-0);\n",
       "}\n",
       "\n",
       "#sk-container-id-2 div.sk-estimator.fitted {\n",
       "  /* fitted */\n",
       "  background-color: var(--sklearn-color-fitted-level-0);\n",
       "}\n",
       "\n",
       "/* on hover */\n",
       "#sk-container-id-2 div.sk-estimator:hover {\n",
       "  /* unfitted */\n",
       "  background-color: var(--sklearn-color-unfitted-level-2);\n",
       "}\n",
       "\n",
       "#sk-container-id-2 div.sk-estimator.fitted:hover {\n",
       "  /* fitted */\n",
       "  background-color: var(--sklearn-color-fitted-level-2);\n",
       "}\n",
       "\n",
       "/* Specification for estimator info (e.g. \"i\" and \"?\") */\n",
       "\n",
       "/* Common style for \"i\" and \"?\" */\n",
       "\n",
       ".sk-estimator-doc-link,\n",
       "a:link.sk-estimator-doc-link,\n",
       "a:visited.sk-estimator-doc-link {\n",
       "  float: right;\n",
       "  font-size: smaller;\n",
       "  line-height: 1em;\n",
       "  font-family: monospace;\n",
       "  background-color: var(--sklearn-color-background);\n",
       "  border-radius: 1em;\n",
       "  height: 1em;\n",
       "  width: 1em;\n",
       "  text-decoration: none !important;\n",
       "  margin-left: 1ex;\n",
       "  /* unfitted */\n",
       "  border: var(--sklearn-color-unfitted-level-1) 1pt solid;\n",
       "  color: var(--sklearn-color-unfitted-level-1);\n",
       "}\n",
       "\n",
       ".sk-estimator-doc-link.fitted,\n",
       "a:link.sk-estimator-doc-link.fitted,\n",
       "a:visited.sk-estimator-doc-link.fitted {\n",
       "  /* fitted */\n",
       "  border: var(--sklearn-color-fitted-level-1) 1pt solid;\n",
       "  color: var(--sklearn-color-fitted-level-1);\n",
       "}\n",
       "\n",
       "/* On hover */\n",
       "div.sk-estimator:hover .sk-estimator-doc-link:hover,\n",
       ".sk-estimator-doc-link:hover,\n",
       "div.sk-label-container:hover .sk-estimator-doc-link:hover,\n",
       ".sk-estimator-doc-link:hover {\n",
       "  /* unfitted */\n",
       "  background-color: var(--sklearn-color-unfitted-level-3);\n",
       "  color: var(--sklearn-color-background);\n",
       "  text-decoration: none;\n",
       "}\n",
       "\n",
       "div.sk-estimator.fitted:hover .sk-estimator-doc-link.fitted:hover,\n",
       ".sk-estimator-doc-link.fitted:hover,\n",
       "div.sk-label-container:hover .sk-estimator-doc-link.fitted:hover,\n",
       ".sk-estimator-doc-link.fitted:hover {\n",
       "  /* fitted */\n",
       "  background-color: var(--sklearn-color-fitted-level-3);\n",
       "  color: var(--sklearn-color-background);\n",
       "  text-decoration: none;\n",
       "}\n",
       "\n",
       "/* Span, style for the box shown on hovering the info icon */\n",
       ".sk-estimator-doc-link span {\n",
       "  display: none;\n",
       "  z-index: 9999;\n",
       "  position: relative;\n",
       "  font-weight: normal;\n",
       "  right: .2ex;\n",
       "  padding: .5ex;\n",
       "  margin: .5ex;\n",
       "  width: min-content;\n",
       "  min-width: 20ex;\n",
       "  max-width: 50ex;\n",
       "  color: var(--sklearn-color-text);\n",
       "  box-shadow: 2pt 2pt 4pt #999;\n",
       "  /* unfitted */\n",
       "  background: var(--sklearn-color-unfitted-level-0);\n",
       "  border: .5pt solid var(--sklearn-color-unfitted-level-3);\n",
       "}\n",
       "\n",
       ".sk-estimator-doc-link.fitted span {\n",
       "  /* fitted */\n",
       "  background: var(--sklearn-color-fitted-level-0);\n",
       "  border: var(--sklearn-color-fitted-level-3);\n",
       "}\n",
       "\n",
       ".sk-estimator-doc-link:hover span {\n",
       "  display: block;\n",
       "}\n",
       "\n",
       "/* \"?\"-specific style due to the `<a>` HTML tag */\n",
       "\n",
       "#sk-container-id-2 a.estimator_doc_link {\n",
       "  float: right;\n",
       "  font-size: 1rem;\n",
       "  line-height: 1em;\n",
       "  font-family: monospace;\n",
       "  background-color: var(--sklearn-color-background);\n",
       "  border-radius: 1rem;\n",
       "  height: 1rem;\n",
       "  width: 1rem;\n",
       "  text-decoration: none;\n",
       "  /* unfitted */\n",
       "  color: var(--sklearn-color-unfitted-level-1);\n",
       "  border: var(--sklearn-color-unfitted-level-1) 1pt solid;\n",
       "}\n",
       "\n",
       "#sk-container-id-2 a.estimator_doc_link.fitted {\n",
       "  /* fitted */\n",
       "  border: var(--sklearn-color-fitted-level-1) 1pt solid;\n",
       "  color: var(--sklearn-color-fitted-level-1);\n",
       "}\n",
       "\n",
       "/* On hover */\n",
       "#sk-container-id-2 a.estimator_doc_link:hover {\n",
       "  /* unfitted */\n",
       "  background-color: var(--sklearn-color-unfitted-level-3);\n",
       "  color: var(--sklearn-color-background);\n",
       "  text-decoration: none;\n",
       "}\n",
       "\n",
       "#sk-container-id-2 a.estimator_doc_link.fitted:hover {\n",
       "  /* fitted */\n",
       "  background-color: var(--sklearn-color-fitted-level-3);\n",
       "}\n",
       "</style><div id=\"sk-container-id-2\" class=\"sk-top-container\"><div class=\"sk-text-repr-fallback\"><pre>LabelEncoder()</pre><b>In a Jupyter environment, please rerun this cell to show the HTML representation or trust the notebook. <br />On GitHub, the HTML representation is unable to render, please try loading this page with nbviewer.org.</b></div><div class=\"sk-container\" hidden><div class=\"sk-item\"><div class=\"sk-estimator fitted sk-toggleable\"><input class=\"sk-toggleable__control sk-hidden--visually\" id=\"sk-estimator-id-2\" type=\"checkbox\" checked><label for=\"sk-estimator-id-2\" class=\"sk-toggleable__label fitted sk-toggleable__label-arrow fitted\">&nbsp;&nbsp;LabelEncoder<a class=\"sk-estimator-doc-link fitted\" rel=\"noreferrer\" target=\"_blank\" href=\"https://scikit-learn.org/1.5/modules/generated/sklearn.preprocessing.LabelEncoder.html\">?<span>Documentation for LabelEncoder</span></a><span class=\"sk-estimator-doc-link fitted\">i<span>Fitted</span></span></label><div class=\"sk-toggleable__content fitted\"><pre>LabelEncoder()</pre></div> </div></div></div></div>"
      ],
      "text/plain": [
       "LabelEncoder()"
      ]
     },
     "execution_count": 109,
     "metadata": {},
     "output_type": "execute_result"
    }
   ],
   "source": [
    "from sklearn.preprocessing import LabelEncoder\n",
    "\n",
    "# TODO: label encoder\n",
    "le = LabelEncoder()\n",
    "le.fit(df[\"result_real\"])"
   ]
  },
  {
   "cell_type": "code",
   "execution_count": 110,
   "metadata": {},
   "outputs": [],
   "source": [
    "df[\"result_real\"] = le.transform(df[\"result_real\"])"
   ]
  },
  {
   "cell_type": "code",
   "execution_count": 111,
   "metadata": {},
   "outputs": [],
   "source": [
    "# History feature\n",
    "cols_home_last = [\n",
    "    \"home_last_1\",\n",
    "    \"home_last_2\",\n",
    "    \"home_last_3\",\n",
    "    \"home_last_4\",\n",
    "    \"home_last_5\",\n",
    "    \"home_last_6\",\n",
    "]\n",
    "cols_away_last = [\n",
    "    \"away_last_1\",\n",
    "    \"away_last_2\",\n",
    "    \"away_last_3\",\n",
    "    \"away_last_4\",\n",
    "    \"away_last_5\",\n",
    "    \"away_last_6\",\n",
    "]\n",
    "\n",
    "df[\"home_last_avg\"] = df[cols_home_last].mean(axis=1, skipna=True)\n",
    "df[\"away_last_avg\"] = df[cols_away_last].mean(axis=1, skipna=True)\n",
    "\n",
    "df.drop(columns=cols_home_last, axis=1, inplace=True)\n",
    "df.drop(columns=cols_away_last, axis=1, inplace=True)"
   ]
  },
  {
   "cell_type": "code",
   "execution_count": 112,
   "metadata": {},
   "outputs": [],
   "source": [
    "history_feature = \"Avg last 6 matches\""
   ]
  },
  {
   "cell_type": "code",
   "execution_count": 113,
   "metadata": {},
   "outputs": [
    {
     "data": {
      "text/html": [
       "<div>\n",
       "<style scoped>\n",
       "    .dataframe tbody tr th:only-of-type {\n",
       "        vertical-align: middle;\n",
       "    }\n",
       "\n",
       "    .dataframe tbody tr th {\n",
       "        vertical-align: top;\n",
       "    }\n",
       "\n",
       "    .dataframe thead th {\n",
       "        text-align: right;\n",
       "    }\n",
       "</style>\n",
       "<table border=\"1\" class=\"dataframe\">\n",
       "  <thead>\n",
       "    <tr style=\"text-align: right;\">\n",
       "      <th></th>\n",
       "      <th>result_real</th>\n",
       "      <th>home_total_played</th>\n",
       "      <th>home_wins_home</th>\n",
       "      <th>home_wins_away</th>\n",
       "      <th>home_draws_home</th>\n",
       "      <th>home_draws_away</th>\n",
       "      <th>home_loses_home</th>\n",
       "      <th>home_loses_away</th>\n",
       "      <th>home_goals_for_home</th>\n",
       "      <th>home_goals_for_away</th>\n",
       "      <th>...</th>\n",
       "      <th>team_away_723</th>\n",
       "      <th>team_away_724</th>\n",
       "      <th>team_away_727</th>\n",
       "      <th>team_away_728</th>\n",
       "      <th>team_away_797</th>\n",
       "      <th>team_away_798</th>\n",
       "      <th>season_2022</th>\n",
       "      <th>season_2023</th>\n",
       "      <th>home_last_avg</th>\n",
       "      <th>away_last_avg</th>\n",
       "    </tr>\n",
       "  </thead>\n",
       "  <tbody>\n",
       "    <tr>\n",
       "      <th>0</th>\n",
       "      <td>2</td>\n",
       "      <td>38.0</td>\n",
       "      <td>8.0</td>\n",
       "      <td>6.0</td>\n",
       "      <td>3.0</td>\n",
       "      <td>6.0</td>\n",
       "      <td>8.0</td>\n",
       "      <td>7.0</td>\n",
       "      <td>22.0</td>\n",
       "      <td>25.0</td>\n",
       "      <td>...</td>\n",
       "      <td>0.0</td>\n",
       "      <td>0.0</td>\n",
       "      <td>0.0</td>\n",
       "      <td>0.0</td>\n",
       "      <td>0.0</td>\n",
       "      <td>0.0</td>\n",
       "      <td>1.0</td>\n",
       "      <td>0.0</td>\n",
       "      <td>1.500000</td>\n",
       "      <td>1.166667</td>\n",
       "    </tr>\n",
       "    <tr>\n",
       "      <th>1</th>\n",
       "      <td>2</td>\n",
       "      <td>38.0</td>\n",
       "      <td>9.0</td>\n",
       "      <td>8.0</td>\n",
       "      <td>5.0</td>\n",
       "      <td>4.0</td>\n",
       "      <td>5.0</td>\n",
       "      <td>7.0</td>\n",
       "      <td>26.0</td>\n",
       "      <td>20.0</td>\n",
       "      <td>...</td>\n",
       "      <td>0.0</td>\n",
       "      <td>0.0</td>\n",
       "      <td>0.0</td>\n",
       "      <td>0.0</td>\n",
       "      <td>0.0</td>\n",
       "      <td>0.0</td>\n",
       "      <td>1.0</td>\n",
       "      <td>0.0</td>\n",
       "      <td>1.666667</td>\n",
       "      <td>0.500000</td>\n",
       "    </tr>\n",
       "    <tr>\n",
       "      <th>2</th>\n",
       "      <td>0</td>\n",
       "      <td>38.0</td>\n",
       "      <td>7.0</td>\n",
       "      <td>4.0</td>\n",
       "      <td>6.0</td>\n",
       "      <td>4.0</td>\n",
       "      <td>6.0</td>\n",
       "      <td>11.0</td>\n",
       "      <td>26.0</td>\n",
       "      <td>17.0</td>\n",
       "      <td>...</td>\n",
       "      <td>0.0</td>\n",
       "      <td>0.0</td>\n",
       "      <td>0.0</td>\n",
       "      <td>0.0</td>\n",
       "      <td>0.0</td>\n",
       "      <td>1.0</td>\n",
       "      <td>1.0</td>\n",
       "      <td>0.0</td>\n",
       "      <td>0.833333</td>\n",
       "      <td>1.000000</td>\n",
       "    </tr>\n",
       "    <tr>\n",
       "      <th>3</th>\n",
       "      <td>0</td>\n",
       "      <td>38.0</td>\n",
       "      <td>7.0</td>\n",
       "      <td>3.0</td>\n",
       "      <td>6.0</td>\n",
       "      <td>6.0</td>\n",
       "      <td>6.0</td>\n",
       "      <td>10.0</td>\n",
       "      <td>19.0</td>\n",
       "      <td>11.0</td>\n",
       "      <td>...</td>\n",
       "      <td>0.0</td>\n",
       "      <td>0.0</td>\n",
       "      <td>0.0</td>\n",
       "      <td>0.0</td>\n",
       "      <td>0.0</td>\n",
       "      <td>0.0</td>\n",
       "      <td>1.0</td>\n",
       "      <td>0.0</td>\n",
       "      <td>0.333333</td>\n",
       "      <td>2.000000</td>\n",
       "    </tr>\n",
       "    <tr>\n",
       "      <th>4</th>\n",
       "      <td>0</td>\n",
       "      <td>38.0</td>\n",
       "      <td>12.0</td>\n",
       "      <td>7.0</td>\n",
       "      <td>3.0</td>\n",
       "      <td>4.0</td>\n",
       "      <td>4.0</td>\n",
       "      <td>8.0</td>\n",
       "      <td>36.0</td>\n",
       "      <td>23.0</td>\n",
       "      <td>...</td>\n",
       "      <td>0.0</td>\n",
       "      <td>0.0</td>\n",
       "      <td>0.0</td>\n",
       "      <td>0.0</td>\n",
       "      <td>0.0</td>\n",
       "      <td>0.0</td>\n",
       "      <td>1.0</td>\n",
       "      <td>0.0</td>\n",
       "      <td>1.333333</td>\n",
       "      <td>0.500000</td>\n",
       "    </tr>\n",
       "  </tbody>\n",
       "</table>\n",
       "<p>5 rows × 73 columns</p>\n",
       "</div>"
      ],
      "text/plain": [
       "   result_real  home_total_played  home_wins_home  home_wins_away  \\\n",
       "0            2               38.0             8.0             6.0   \n",
       "1            2               38.0             9.0             8.0   \n",
       "2            0               38.0             7.0             4.0   \n",
       "3            0               38.0             7.0             3.0   \n",
       "4            0               38.0            12.0             7.0   \n",
       "\n",
       "   home_draws_home  home_draws_away  home_loses_home  home_loses_away  \\\n",
       "0              3.0              6.0              8.0              7.0   \n",
       "1              5.0              4.0              5.0              7.0   \n",
       "2              6.0              4.0              6.0             11.0   \n",
       "3              6.0              6.0              6.0             10.0   \n",
       "4              3.0              4.0              4.0              8.0   \n",
       "\n",
       "   home_goals_for_home  home_goals_for_away  ...  team_away_723  \\\n",
       "0                 22.0                 25.0  ...            0.0   \n",
       "1                 26.0                 20.0  ...            0.0   \n",
       "2                 26.0                 17.0  ...            0.0   \n",
       "3                 19.0                 11.0  ...            0.0   \n",
       "4                 36.0                 23.0  ...            0.0   \n",
       "\n",
       "   team_away_724  team_away_727  team_away_728  team_away_797  team_away_798  \\\n",
       "0            0.0            0.0            0.0            0.0            0.0   \n",
       "1            0.0            0.0            0.0            0.0            0.0   \n",
       "2            0.0            0.0            0.0            0.0            1.0   \n",
       "3            0.0            0.0            0.0            0.0            0.0   \n",
       "4            0.0            0.0            0.0            0.0            0.0   \n",
       "\n",
       "   season_2022  season_2023  home_last_avg  away_last_avg  \n",
       "0          1.0          0.0       1.500000       1.166667  \n",
       "1          1.0          0.0       1.666667       0.500000  \n",
       "2          1.0          0.0       0.833333       1.000000  \n",
       "3          1.0          0.0       0.333333       2.000000  \n",
       "4          1.0          0.0       1.333333       0.500000  \n",
       "\n",
       "[5 rows x 73 columns]"
      ]
     },
     "execution_count": 113,
     "metadata": {},
     "output_type": "execute_result"
    }
   ],
   "source": [
    "df.head()"
   ]
  },
  {
   "cell_type": "markdown",
   "metadata": {},
   "source": [
    "### Train and predict"
   ]
  },
  {
   "cell_type": "code",
   "execution_count": null,
   "metadata": {},
   "outputs": [],
   "source": []
  },
  {
   "cell_type": "code",
   "execution_count": 239,
   "metadata": {},
   "outputs": [],
   "source": [
    "from sklearn import metrics\n",
    "\n",
    "# from sklearn.metrics import ConfusionMatrixDisplay\n",
    "from sklearn.model_selection import (\n",
    "    train_test_split,\n",
    "    cross_val_predict,\n",
    "    cross_val_score,\n",
    "    learning_curve,\n",
    ")\n",
    "\n",
    "from sklearn.linear_model import LogisticRegression, SGDClassifier\n",
    "from sklearn.ensemble import (\n",
    "    RandomForestClassifier,\n",
    "    ExtraTreesClassifier,\n",
    "    GradientBoostingClassifier,\n",
    ")\n",
    "from sklearn.tree import DecisionTreeClassifier\n",
    "from sklearn import tree\n",
    "#import xgboost as xgb\n",
    "from sklearn.model_selection import RandomizedSearchCV\n",
    "\n",
    "\n",
    "from sklearn.neighbors import KNeighborsClassifier\n",
    "from sklearn.svm import SVC\n",
    "\n",
    "from mlflow.models import infer_signature\n",
    "\n",
    "import secrets"
   ]
  },
  {
   "cell_type": "code",
   "execution_count": null,
   "metadata": {},
   "outputs": [],
   "source": [
    "# Split by target variable\n",
    "target_variable = \"result_real\"\n",
    "\n",
    "X, y = df.loc[:, df.columns != target_variable], df[target_variable]"
   ]
  },
  {
   "cell_type": "code",
   "execution_count": 241,
   "metadata": {},
   "outputs": [],
   "source": [
    "# Scale\n",
    "scaled = False\n",
    "if scaled == True:\n",
    "    scaler = StandardScaler()\n",
    "    X = pd.DataFrame(scaler.fit_transform(X), columns=X.columns)"
   ]
  },
  {
   "cell_type": "code",
   "execution_count": 242,
   "metadata": {},
   "outputs": [],
   "source": [
    "num_samples = len(X)"
   ]
  },
  {
   "cell_type": "code",
   "execution_count": 243,
   "metadata": {},
   "outputs": [],
   "source": [
    "classifiers = {\n",
    "    \"logistic_regression\": LogisticRegression(\n",
    "        max_iter=10000,\n",
    "    ),\n",
    "    \"knn_1\": KNeighborsClassifier(1),\n",
    "\n",
    "    \"knn_3\": KNeighborsClassifier(3),\n",
    "\n",
    "    \"knn_5\": KNeighborsClassifier(5),\n",
    "\n",
    "    \"knn_15\": KNeighborsClassifier(15),\n",
    "\n",
    "    \"knn_25\": KNeighborsClassifier(25),\n",
    "\n",
    "    \"knn_50\": KNeighborsClassifier(50),\n",
    "    \"knn_50\": KNeighborsClassifier(100),\n",
    "\n",
    "    \"decision_tree\": DecisionTreeClassifier(),\n",
    "\n",
    "    \"rfc_10\": RandomForestClassifier(n_estimators=10),\n",
    "\n",
    "    \"rfc_100\": RandomForestClassifier(n_estimators=100),\n",
    "\n",
    "    \"rfc_1000\": RandomForestClassifier(n_estimators=1000),\n",
    "\n",
    "    \"gbr\": GradientBoostingClassifier(),\n",
    "\n",
    "    # (xgb.XGBClassifier(), \"xgb\"),\n",
    "\n",
    "    # TODO: EXTREME GRADIENT BOOSTING\n",
    "\n",
    "}"
   ]
  },
  {
   "cell_type": "code",
   "execution_count": 244,
   "metadata": {},
   "outputs": [],
   "source": [
    "import matplotlib.pyplot as plt\n",
    "\n",
    "\n",
    "def evaluate_classifier(classifier, X, y):\n",
    "    start = time.time()\n",
    "    y_pred = cross_val_predict(classifier, X, y, cv=10)\n",
    "    y_pred_proba = cross_val_predict(classifier, X, y, cv=10, method=\"predict_proba\")\n",
    "    acc = metrics.accuracy_score(y, y_pred)\n",
    "    precision = metrics.precision_score(y, y_pred, average=\"macro\")\n",
    "    recall = metrics.recall_score(y, y_pred, average=\"macro\")\n",
    "    f1 = metrics.f1_score(y, y_pred, average=\"macro\")\n",
    "    # roc = metrics.roc_auc_score(y, y_pred_proba[:,1], average=\"macro\", multi_class=\"ovo\")\n",
    "    cm = metrics.confusion_matrix(y, y_pred)\n",
    "\n",
    "    X_train, X_test, y_train, y_test = train_test_split(X, y, random_state=2024)\n",
    "    trained_model = classifier.fit(X_train, y_train)\n",
    "    \n",
    "    end = time.time()\n",
    "\n",
    "    model_metrics = {\n",
    "        \"accuracy\": acc,\n",
    "        \"precision\": precision,\n",
    "        \"recall\": recall,\n",
    "        \"f1\": f1,\n",
    "        \"confusion_matrix\": cm,\n",
    "        \"elapsed_time\": end - start,\n",
    "    }\n",
    "\n",
    "    return trained_model, model_metrics"
   ]
  },
  {
   "cell_type": "code",
   "execution_count": 308,
   "metadata": {},
   "outputs": [],
   "source": [
    "def track_run(classifier, classifier_name, mlflow_client, log_model=True,  **kwargs):\n",
    "    model_metrics = kwargs.get(\"model_metrics\")\n",
    "    model_metrics.pop(\"confusion_matrix\")\n",
    "    params = kwargs.get(\"params\")\n",
    "    tags = kwargs.get(\"tags\")\n",
    "    model_data = kwargs.get(\"model_data\")\n",
    "    figures = kwargs.get(\"figures\")\n",
    "\n",
    "    # Start an MLflow run\n",
    "    with mlflow.start_run():\n",
    "        mlflow.set_tag(\"mlflow.runName\", f\"{classifier_name}_{secrets.token_hex(16)}\")\n",
    "\n",
    "        # Log metrics\n",
    "        if model_metrics:\n",
    "            mlflow.log_metrics(model_metrics)\n",
    "\n",
    "        # Log params\n",
    "        if params:\n",
    "            mlflow.log_params(params)\n",
    "        # size, scale, history\n",
    "\n",
    "        if figures:\n",
    "            for name, fig in figures.items():\n",
    "                mlflow.log_figure(fig, \"confusion_matrix.png\")\n",
    "\n",
    "        # Infer the model signature\n",
    "        # signature = infer_signature(X, classifier.predict(X))\n",
    "\n",
    "        # Log the model\n",
    "        if log_model:\n",
    "            model_info = mlflow.sklearn.log_model(\n",
    "                sk_model=classifier,\n",
    "                artifact_path=classifier_name,\n",
    "                # signature=signature,\n",
    "                input_example=X,\n",
    "                registered_model_name=classifier_name,\n",
    "            )\n",
    "            model_info = mlflow_client.get_latest_versions(classifier_name)[0]\n",
    "            for key, value in tags.items():\n",
    "                mlflow_client.set_model_version_tag(\n",
    "                    name=classifier_name,\n",
    "                    version=model_info.version,\n",
    "                    key=key,\n",
    "                    value=value\n",
    "                )\n",
    "\n",
    "        return mlflow.active_run().info.run_id"
   ]
  },
  {
   "cell_type": "code",
   "execution_count": null,
   "metadata": {},
   "outputs": [],
   "source": [
    "\n",
    "runs = pd.DataFrame(columns=[\"run_id\", \"accuracy\", \"precision\", \"recall\", \"f1\", \"confusion_matrix\", \"elapsed_time\"])"
   ]
  },
  {
   "cell_type": "code",
   "execution_count": null,
   "metadata": {},
   "outputs": [
    {
     "name": "stdout",
     "output_type": "stream",
     "text": [
      "Training logistic_regression\n"
     ]
    },
    {
     "name": "stderr",
     "output_type": "stream",
     "text": [
      "https://dagshub.com:443 \"POST /josmunpen/laliga-oracle-dags.mlflow/api/2.0/mlflow/runs/create HTTP/11\" 200 None\n",
      "https://dagshub.com:443 \"POST /josmunpen/laliga-oracle-dags.mlflow/api/2.0/mlflow/runs/set-tag HTTP/11\" 200 None\n",
      "https://dagshub.com:443 \"POST /josmunpen/laliga-oracle-dags.mlflow/api/2.0/mlflow/runs/log-batch HTTP/11\" 200 None\n",
      "https://dagshub.com:443 \"POST /josmunpen/laliga-oracle-dags.mlflow/api/2.0/mlflow/runs/log-batch HTTP/11\" 200 None\n",
      "c:\\Users\\josem\\ds\\my-league-oracle\\env_train\\Lib\\site-packages\\mlflow\\types\\utils.py:407: UserWarning: Hint: Inferred schema contains integer column(s). Integer columns in Python cannot represent missing values. If your input data contains missing values at inference time, it will be encoded as floats and will cause a schema enforcement error. The best way to avoid this problem is to infer the model schema based on a realistic data sample (training dataset) that includes missing values. Alternatively, you can declare integer columns as doubles (float64) whenever these columns may have missing values. See `Handling Integers With Missing Values <https://www.mlflow.org/docs/latest/models.html#handling-integers-with-missing-values>`_ for more details.\n",
      "  warnings.warn(\n",
      "https://dagshub.com:443 \"GET /josmunpen/laliga-oracle-dags.mlflow/api/2.0/mlflow/runs/get?run_uuid=72df9d81703646058461d53081662405&run_id=72df9d81703646058461d53081662405 HTTP/11\" 200 None\n",
      "https://dagshub.com:443 \"PUT /josmunpen/laliga-oracle-dags.mlflow/api/2.0/mlflow-artifacts/artifacts/6d5735cbe89241f69cbbd4214ee6925e/72df9d81703646058461d53081662405/artifacts/logistic_regression/conda.yaml HTTP/11\" 200 None\n",
      "https://dagshub.com:443 \"PUT /josmunpen/laliga-oracle-dags.mlflow/api/2.0/mlflow-artifacts/artifacts/6d5735cbe89241f69cbbd4214ee6925e/72df9d81703646058461d53081662405/artifacts/logistic_regression/input_example.json HTTP/11\" 200 None\n",
      "https://dagshub.com:443 \"PUT /josmunpen/laliga-oracle-dags.mlflow/api/2.0/mlflow-artifacts/artifacts/6d5735cbe89241f69cbbd4214ee6925e/72df9d81703646058461d53081662405/artifacts/logistic_regression/MLmodel HTTP/11\" 200 None\n",
      "https://dagshub.com:443 \"PUT /josmunpen/laliga-oracle-dags.mlflow/api/2.0/mlflow-artifacts/artifacts/6d5735cbe89241f69cbbd4214ee6925e/72df9d81703646058461d53081662405/artifacts/logistic_regression/model.pkl HTTP/11\" 200 None\n",
      "https://dagshub.com:443 \"PUT /josmunpen/laliga-oracle-dags.mlflow/api/2.0/mlflow-artifacts/artifacts/6d5735cbe89241f69cbbd4214ee6925e/72df9d81703646058461d53081662405/artifacts/logistic_regression/python_env.yaml HTTP/11\" 200 None\n",
      "https://dagshub.com:443 \"PUT /josmunpen/laliga-oracle-dags.mlflow/api/2.0/mlflow-artifacts/artifacts/6d5735cbe89241f69cbbd4214ee6925e/72df9d81703646058461d53081662405/artifacts/logistic_regression/requirements.txt HTTP/11\" 200 None\n",
      "https://dagshub.com:443 \"PUT /josmunpen/laliga-oracle-dags.mlflow/api/2.0/mlflow-artifacts/artifacts/6d5735cbe89241f69cbbd4214ee6925e/72df9d81703646058461d53081662405/artifacts/logistic_regression/serving_input_example.json HTTP/11\" 200 None\n",
      "https://dagshub.com:443 \"POST /josmunpen/laliga-oracle-dags.mlflow/api/2.0/mlflow/runs/log-model HTTP/11\" 200 None\n",
      "https://dagshub.com:443 \"POST /josmunpen/laliga-oracle-dags.mlflow/api/2.0/mlflow/registered-models/create HTTP/11\" 400 None\n",
      "Registered model 'logistic_regression' already exists. Creating a new version of this model...\n",
      "https://dagshub.com:443 \"GET /josmunpen/laliga-oracle-dags.mlflow/api/2.0/mlflow/runs/get?run_uuid=72df9d81703646058461d53081662405&run_id=72df9d81703646058461d53081662405 HTTP/11\" 200 None\n",
      "https://dagshub.com:443 \"POST /josmunpen/laliga-oracle-dags.mlflow/api/2.0/mlflow/model-versions/create HTTP/11\" 200 None\n",
      "2024/11/10 18:08:00 INFO mlflow.store.model_registry.abstract_store: Waiting up to 300 seconds for model version to finish creation. Model name: logistic_regression, version 2\n",
      "Created version '2' of model 'logistic_regression'.\n",
      "https://dagshub.com:443 \"GET /josmunpen/laliga-oracle-dags.mlflow/api/2.0/mlflow/runs/get?run_uuid=72df9d81703646058461d53081662405&run_id=72df9d81703646058461d53081662405 HTTP/11\" 200 None\n",
      "https://dagshub.com:443 \"GET /josmunpen/laliga-oracle-dags.mlflow/api/2.0/mlflow-artifacts/artifacts?path=6d5735cbe89241f69cbbd4214ee6925e%2F72df9d81703646058461d53081662405%2Fartifacts%2Flogistic_regression HTTP/11\" 200 None\n",
      "https://dagshub.com:443 \"GET /josmunpen/laliga-oracle-dags.mlflow/api/2.0/mlflow-artifacts/artifacts?path=6d5735cbe89241f69cbbd4214ee6925e%2F72df9d81703646058461d53081662405%2Fartifacts%2Flogistic_regression HTTP/11\" 200 None\n",
      "https://dagshub.com:443 \"GET /josmunpen/laliga-oracle-dags.mlflow/api/2.0/mlflow-artifacts/artifacts/6d5735cbe89241f69cbbd4214ee6925e/72df9d81703646058461d53081662405/artifacts/logistic_regression/input_example.json HTTP/11\" 200 None\n",
      "https://dagshub.com:443 \"GET /josmunpen/laliga-oracle-dags.mlflow/api/2.0/mlflow-artifacts/artifacts/6d5735cbe89241f69cbbd4214ee6925e/72df9d81703646058461d53081662405/artifacts/logistic_regression/model.pkl HTTP/11\" 200 None\n",
      "https://dagshub.com:443 \"GET /josmunpen/laliga-oracle-dags.mlflow/api/2.0/mlflow-artifacts/artifacts/6d5735cbe89241f69cbbd4214ee6925e/72df9d81703646058461d53081662405/artifacts/logistic_regression/MLmodel HTTP/11\" 200 None\n",
      "https://dagshub.com:443 \"GET /josmunpen/laliga-oracle-dags.mlflow/api/2.0/mlflow-artifacts/artifacts/6d5735cbe89241f69cbbd4214ee6925e/72df9d81703646058461d53081662405/artifacts/logistic_regression/requirements.txt HTTP/11\" 200 None\n",
      "https://dagshub.com:443 \"GET /josmunpen/laliga-oracle-dags.mlflow/api/2.0/mlflow-artifacts/artifacts/6d5735cbe89241f69cbbd4214ee6925e/72df9d81703646058461d53081662405/artifacts/logistic_regression/python_env.yaml HTTP/11\" 200 None\n",
      "https://dagshub.com:443 \"GET /josmunpen/laliga-oracle-dags.mlflow/api/2.0/mlflow-artifacts/artifacts/6d5735cbe89241f69cbbd4214ee6925e/72df9d81703646058461d53081662405/artifacts/logistic_regression/conda.yaml HTTP/11\" 200 None\n",
      "https://dagshub.com:443 \"GET /josmunpen/laliga-oracle-dags.mlflow/api/2.0/mlflow-artifacts/artifacts/6d5735cbe89241f69cbbd4214ee6925e/72df9d81703646058461d53081662405/artifacts/logistic_regression/serving_input_example.json HTTP/11\" 200 None\n",
      "C:\\Users\\josem\\AppData\\Local\\Temp\\ipykernel_19444\\2287690251.py:38: FutureWarning: ``mlflow.tracking.client.MlflowClient.get_latest_versions`` is deprecated since 2.9.0. Model registry stages will be removed in a future major release. To learn more about the deprecation of model registry stages, see our migration guide here: https://mlflow.org/docs/latest/model-registry.html#migrating-from-stages\n",
      "  model_info = mlflow_client.get_latest_versions(classifier_name)[0]\n",
      "https://dagshub.com:443 \"POST /josmunpen/laliga-oracle-dags.mlflow/api/2.0/mlflow/registered-models/get-latest-versions HTTP/11\" 200 None\n",
      "https://dagshub.com:443 \"POST /josmunpen/laliga-oracle-dags.mlflow/api/2.0/mlflow/model-versions/set-tag HTTP/11\" 200 None\n",
      "https://dagshub.com:443 \"GET /josmunpen/laliga-oracle-dags.mlflow/api/2.0/mlflow/runs/get?run_uuid=72df9d81703646058461d53081662405&run_id=72df9d81703646058461d53081662405 HTTP/11\" 200 None\n",
      "2024/11/10 18:08:12 INFO mlflow.tracking._tracking_service.client: 🏃 View run logistic_regression_f328a7e783a568332e9dd54ec864caf9 at: https://dagshub.com/josmunpen/laliga-oracle-dags.mlflow/#/experiments/5/runs/72df9d81703646058461d53081662405.\n",
      "2024/11/10 18:08:12 INFO mlflow.tracking._tracking_service.client: 🧪 View experiment at: https://dagshub.com/josmunpen/laliga-oracle-dags.mlflow/#/experiments/5.\n",
      "https://dagshub.com:443 \"POST /josmunpen/laliga-oracle-dags.mlflow/api/2.0/mlflow/runs/update HTTP/11\" 200 None\n"
     ]
    },
    {
     "name": "stdout",
     "output_type": "stream",
     "text": [
      "Training knn_1\n"
     ]
    },
    {
     "name": "stderr",
     "output_type": "stream",
     "text": [
      "https://dagshub.com:443 \"POST /josmunpen/laliga-oracle-dags.mlflow/api/2.0/mlflow/runs/create HTTP/11\" 200 None\n",
      "https://dagshub.com:443 \"POST /josmunpen/laliga-oracle-dags.mlflow/api/2.0/mlflow/runs/set-tag HTTP/11\" 200 None\n",
      "https://dagshub.com:443 \"POST /josmunpen/laliga-oracle-dags.mlflow/api/2.0/mlflow/runs/log-batch HTTP/11\" 200 None\n",
      "https://dagshub.com:443 \"POST /josmunpen/laliga-oracle-dags.mlflow/api/2.0/mlflow/runs/log-batch HTTP/11\" 200 None\n",
      "c:\\Users\\josem\\ds\\my-league-oracle\\env_train\\Lib\\site-packages\\mlflow\\types\\utils.py:407: UserWarning: Hint: Inferred schema contains integer column(s). Integer columns in Python cannot represent missing values. If your input data contains missing values at inference time, it will be encoded as floats and will cause a schema enforcement error. The best way to avoid this problem is to infer the model schema based on a realistic data sample (training dataset) that includes missing values. Alternatively, you can declare integer columns as doubles (float64) whenever these columns may have missing values. See `Handling Integers With Missing Values <https://www.mlflow.org/docs/latest/models.html#handling-integers-with-missing-values>`_ for more details.\n",
      "  warnings.warn(\n",
      "https://dagshub.com:443 \"GET /josmunpen/laliga-oracle-dags.mlflow/api/2.0/mlflow/runs/get?run_uuid=47a59f95dbcc46ffb3f5d20123d2ed90&run_id=47a59f95dbcc46ffb3f5d20123d2ed90 HTTP/11\" 200 None\n",
      "https://dagshub.com:443 \"PUT /josmunpen/laliga-oracle-dags.mlflow/api/2.0/mlflow-artifacts/artifacts/6d5735cbe89241f69cbbd4214ee6925e/47a59f95dbcc46ffb3f5d20123d2ed90/artifacts/knn_1/conda.yaml HTTP/11\" 200 None\n",
      "https://dagshub.com:443 \"PUT /josmunpen/laliga-oracle-dags.mlflow/api/2.0/mlflow-artifacts/artifacts/6d5735cbe89241f69cbbd4214ee6925e/47a59f95dbcc46ffb3f5d20123d2ed90/artifacts/knn_1/input_example.json HTTP/11\" 200 None\n",
      "https://dagshub.com:443 \"PUT /josmunpen/laliga-oracle-dags.mlflow/api/2.0/mlflow-artifacts/artifacts/6d5735cbe89241f69cbbd4214ee6925e/47a59f95dbcc46ffb3f5d20123d2ed90/artifacts/knn_1/MLmodel HTTP/11\" 200 None\n",
      "https://dagshub.com:443 \"PUT /josmunpen/laliga-oracle-dags.mlflow/api/2.0/mlflow-artifacts/artifacts/6d5735cbe89241f69cbbd4214ee6925e/47a59f95dbcc46ffb3f5d20123d2ed90/artifacts/knn_1/model.pkl HTTP/11\" 200 None\n",
      "https://dagshub.com:443 \"PUT /josmunpen/laliga-oracle-dags.mlflow/api/2.0/mlflow-artifacts/artifacts/6d5735cbe89241f69cbbd4214ee6925e/47a59f95dbcc46ffb3f5d20123d2ed90/artifacts/knn_1/python_env.yaml HTTP/11\" 200 None\n",
      "https://dagshub.com:443 \"PUT /josmunpen/laliga-oracle-dags.mlflow/api/2.0/mlflow-artifacts/artifacts/6d5735cbe89241f69cbbd4214ee6925e/47a59f95dbcc46ffb3f5d20123d2ed90/artifacts/knn_1/requirements.txt HTTP/11\" 200 None\n",
      "https://dagshub.com:443 \"PUT /josmunpen/laliga-oracle-dags.mlflow/api/2.0/mlflow-artifacts/artifacts/6d5735cbe89241f69cbbd4214ee6925e/47a59f95dbcc46ffb3f5d20123d2ed90/artifacts/knn_1/serving_input_example.json HTTP/11\" 200 None\n",
      "https://dagshub.com:443 \"POST /josmunpen/laliga-oracle-dags.mlflow/api/2.0/mlflow/runs/log-model HTTP/11\" 200 None\n",
      "https://dagshub.com:443 \"POST /josmunpen/laliga-oracle-dags.mlflow/api/2.0/mlflow/registered-models/create HTTP/11\" 400 None\n",
      "Registered model 'knn_1' already exists. Creating a new version of this model...\n",
      "https://dagshub.com:443 \"GET /josmunpen/laliga-oracle-dags.mlflow/api/2.0/mlflow/runs/get?run_uuid=47a59f95dbcc46ffb3f5d20123d2ed90&run_id=47a59f95dbcc46ffb3f5d20123d2ed90 HTTP/11\" 200 None\n",
      "https://dagshub.com:443 \"POST /josmunpen/laliga-oracle-dags.mlflow/api/2.0/mlflow/model-versions/create HTTP/11\" 200 None\n",
      "2024/11/10 18:08:28 INFO mlflow.store.model_registry.abstract_store: Waiting up to 300 seconds for model version to finish creation. Model name: knn_1, version 2\n",
      "Created version '2' of model 'knn_1'.\n",
      "https://dagshub.com:443 \"GET /josmunpen/laliga-oracle-dags.mlflow/api/2.0/mlflow/runs/get?run_uuid=47a59f95dbcc46ffb3f5d20123d2ed90&run_id=47a59f95dbcc46ffb3f5d20123d2ed90 HTTP/11\" 200 None\n",
      "https://dagshub.com:443 \"GET /josmunpen/laliga-oracle-dags.mlflow/api/2.0/mlflow-artifacts/artifacts?path=6d5735cbe89241f69cbbd4214ee6925e%2F47a59f95dbcc46ffb3f5d20123d2ed90%2Fartifacts%2Fknn_1 HTTP/11\" 200 None\n",
      "https://dagshub.com:443 \"GET /josmunpen/laliga-oracle-dags.mlflow/api/2.0/mlflow-artifacts/artifacts?path=6d5735cbe89241f69cbbd4214ee6925e%2F47a59f95dbcc46ffb3f5d20123d2ed90%2Fartifacts%2Fknn_1 HTTP/11\" 200 None\n",
      "https://dagshub.com:443 \"GET /josmunpen/laliga-oracle-dags.mlflow/api/2.0/mlflow-artifacts/artifacts/6d5735cbe89241f69cbbd4214ee6925e/47a59f95dbcc46ffb3f5d20123d2ed90/artifacts/knn_1/python_env.yaml HTTP/11\" 200 None\n",
      "https://dagshub.com:443 \"GET /josmunpen/laliga-oracle-dags.mlflow/api/2.0/mlflow-artifacts/artifacts/6d5735cbe89241f69cbbd4214ee6925e/47a59f95dbcc46ffb3f5d20123d2ed90/artifacts/knn_1/serving_input_example.json HTTP/11\" 200 None\n",
      "https://dagshub.com:443 \"GET /josmunpen/laliga-oracle-dags.mlflow/api/2.0/mlflow-artifacts/artifacts/6d5735cbe89241f69cbbd4214ee6925e/47a59f95dbcc46ffb3f5d20123d2ed90/artifacts/knn_1/model.pkl HTTP/11\" 200 None\n",
      "https://dagshub.com:443 \"GET /josmunpen/laliga-oracle-dags.mlflow/api/2.0/mlflow-artifacts/artifacts/6d5735cbe89241f69cbbd4214ee6925e/47a59f95dbcc46ffb3f5d20123d2ed90/artifacts/knn_1/MLmodel HTTP/11\" 200 None\n",
      "https://dagshub.com:443 \"GET /josmunpen/laliga-oracle-dags.mlflow/api/2.0/mlflow-artifacts/artifacts/6d5735cbe89241f69cbbd4214ee6925e/47a59f95dbcc46ffb3f5d20123d2ed90/artifacts/knn_1/conda.yaml HTTP/11\" 200 None\n",
      "https://dagshub.com:443 \"GET /josmunpen/laliga-oracle-dags.mlflow/api/2.0/mlflow-artifacts/artifacts/6d5735cbe89241f69cbbd4214ee6925e/47a59f95dbcc46ffb3f5d20123d2ed90/artifacts/knn_1/input_example.json HTTP/11\" 200 None\n",
      "https://dagshub.com:443 \"GET /josmunpen/laliga-oracle-dags.mlflow/api/2.0/mlflow-artifacts/artifacts/6d5735cbe89241f69cbbd4214ee6925e/47a59f95dbcc46ffb3f5d20123d2ed90/artifacts/knn_1/requirements.txt HTTP/11\" 200 None\n",
      "C:\\Users\\josem\\AppData\\Local\\Temp\\ipykernel_19444\\2287690251.py:38: FutureWarning: ``mlflow.tracking.client.MlflowClient.get_latest_versions`` is deprecated since 2.9.0. Model registry stages will be removed in a future major release. To learn more about the deprecation of model registry stages, see our migration guide here: https://mlflow.org/docs/latest/model-registry.html#migrating-from-stages\n",
      "  model_info = mlflow_client.get_latest_versions(classifier_name)[0]\n",
      "https://dagshub.com:443 \"POST /josmunpen/laliga-oracle-dags.mlflow/api/2.0/mlflow/registered-models/get-latest-versions HTTP/11\" 200 None\n",
      "https://dagshub.com:443 \"POST /josmunpen/laliga-oracle-dags.mlflow/api/2.0/mlflow/model-versions/set-tag HTTP/11\" 200 None\n",
      "https://dagshub.com:443 \"GET /josmunpen/laliga-oracle-dags.mlflow/api/2.0/mlflow/runs/get?run_uuid=47a59f95dbcc46ffb3f5d20123d2ed90&run_id=47a59f95dbcc46ffb3f5d20123d2ed90 HTTP/11\" 200 None\n",
      "2024/11/10 18:08:41 INFO mlflow.tracking._tracking_service.client: 🏃 View run knn_1_701a3eb0be2cddc4ef5ff20aaafa7695 at: https://dagshub.com/josmunpen/laliga-oracle-dags.mlflow/#/experiments/5/runs/47a59f95dbcc46ffb3f5d20123d2ed90.\n",
      "2024/11/10 18:08:41 INFO mlflow.tracking._tracking_service.client: 🧪 View experiment at: https://dagshub.com/josmunpen/laliga-oracle-dags.mlflow/#/experiments/5.\n",
      "https://dagshub.com:443 \"POST /josmunpen/laliga-oracle-dags.mlflow/api/2.0/mlflow/runs/update HTTP/11\" 200 None\n"
     ]
    },
    {
     "name": "stdout",
     "output_type": "stream",
     "text": [
      "Training knn_3\n"
     ]
    },
    {
     "name": "stderr",
     "output_type": "stream",
     "text": [
      "https://dagshub.com:443 \"POST /josmunpen/laliga-oracle-dags.mlflow/api/2.0/mlflow/runs/create HTTP/11\" 200 None\n",
      "https://dagshub.com:443 \"POST /josmunpen/laliga-oracle-dags.mlflow/api/2.0/mlflow/runs/set-tag HTTP/11\" 200 None\n",
      "https://dagshub.com:443 \"POST /josmunpen/laliga-oracle-dags.mlflow/api/2.0/mlflow/runs/log-batch HTTP/11\" 200 None\n",
      "https://dagshub.com:443 \"POST /josmunpen/laliga-oracle-dags.mlflow/api/2.0/mlflow/runs/log-batch HTTP/11\" 200 None\n",
      "c:\\Users\\josem\\ds\\my-league-oracle\\env_train\\Lib\\site-packages\\mlflow\\types\\utils.py:407: UserWarning: Hint: Inferred schema contains integer column(s). Integer columns in Python cannot represent missing values. If your input data contains missing values at inference time, it will be encoded as floats and will cause a schema enforcement error. The best way to avoid this problem is to infer the model schema based on a realistic data sample (training dataset) that includes missing values. Alternatively, you can declare integer columns as doubles (float64) whenever these columns may have missing values. See `Handling Integers With Missing Values <https://www.mlflow.org/docs/latest/models.html#handling-integers-with-missing-values>`_ for more details.\n",
      "  warnings.warn(\n",
      "https://dagshub.com:443 \"GET /josmunpen/laliga-oracle-dags.mlflow/api/2.0/mlflow/runs/get?run_uuid=54f36ebb86a649629de1a8e859e50f6d&run_id=54f36ebb86a649629de1a8e859e50f6d HTTP/11\" 200 None\n",
      "https://dagshub.com:443 \"PUT /josmunpen/laliga-oracle-dags.mlflow/api/2.0/mlflow-artifacts/artifacts/6d5735cbe89241f69cbbd4214ee6925e/54f36ebb86a649629de1a8e859e50f6d/artifacts/knn_3/conda.yaml HTTP/11\" 200 None\n",
      "https://dagshub.com:443 \"PUT /josmunpen/laliga-oracle-dags.mlflow/api/2.0/mlflow-artifacts/artifacts/6d5735cbe89241f69cbbd4214ee6925e/54f36ebb86a649629de1a8e859e50f6d/artifacts/knn_3/input_example.json HTTP/11\" 200 None\n",
      "https://dagshub.com:443 \"PUT /josmunpen/laliga-oracle-dags.mlflow/api/2.0/mlflow-artifacts/artifacts/6d5735cbe89241f69cbbd4214ee6925e/54f36ebb86a649629de1a8e859e50f6d/artifacts/knn_3/MLmodel HTTP/11\" 200 None\n",
      "https://dagshub.com:443 \"PUT /josmunpen/laliga-oracle-dags.mlflow/api/2.0/mlflow-artifacts/artifacts/6d5735cbe89241f69cbbd4214ee6925e/54f36ebb86a649629de1a8e859e50f6d/artifacts/knn_3/model.pkl HTTP/11\" 200 None\n",
      "https://dagshub.com:443 \"PUT /josmunpen/laliga-oracle-dags.mlflow/api/2.0/mlflow-artifacts/artifacts/6d5735cbe89241f69cbbd4214ee6925e/54f36ebb86a649629de1a8e859e50f6d/artifacts/knn_3/python_env.yaml HTTP/11\" 200 None\n",
      "https://dagshub.com:443 \"PUT /josmunpen/laliga-oracle-dags.mlflow/api/2.0/mlflow-artifacts/artifacts/6d5735cbe89241f69cbbd4214ee6925e/54f36ebb86a649629de1a8e859e50f6d/artifacts/knn_3/requirements.txt HTTP/11\" 200 None\n",
      "https://dagshub.com:443 \"PUT /josmunpen/laliga-oracle-dags.mlflow/api/2.0/mlflow-artifacts/artifacts/6d5735cbe89241f69cbbd4214ee6925e/54f36ebb86a649629de1a8e859e50f6d/artifacts/knn_3/serving_input_example.json HTTP/11\" 200 None\n",
      "https://dagshub.com:443 \"POST /josmunpen/laliga-oracle-dags.mlflow/api/2.0/mlflow/runs/log-model HTTP/11\" 200 None\n",
      "https://dagshub.com:443 \"POST /josmunpen/laliga-oracle-dags.mlflow/api/2.0/mlflow/registered-models/create HTTP/11\" 400 None\n",
      "Registered model 'knn_3' already exists. Creating a new version of this model...\n",
      "https://dagshub.com:443 \"GET /josmunpen/laliga-oracle-dags.mlflow/api/2.0/mlflow/runs/get?run_uuid=54f36ebb86a649629de1a8e859e50f6d&run_id=54f36ebb86a649629de1a8e859e50f6d HTTP/11\" 200 None\n",
      "https://dagshub.com:443 \"POST /josmunpen/laliga-oracle-dags.mlflow/api/2.0/mlflow/model-versions/create HTTP/11\" 200 None\n",
      "2024/11/10 18:08:58 INFO mlflow.store.model_registry.abstract_store: Waiting up to 300 seconds for model version to finish creation. Model name: knn_3, version 2\n",
      "Created version '2' of model 'knn_3'.\n",
      "https://dagshub.com:443 \"GET /josmunpen/laliga-oracle-dags.mlflow/api/2.0/mlflow/runs/get?run_uuid=54f36ebb86a649629de1a8e859e50f6d&run_id=54f36ebb86a649629de1a8e859e50f6d HTTP/11\" 200 None\n",
      "https://dagshub.com:443 \"GET /josmunpen/laliga-oracle-dags.mlflow/api/2.0/mlflow-artifacts/artifacts?path=6d5735cbe89241f69cbbd4214ee6925e%2F54f36ebb86a649629de1a8e859e50f6d%2Fartifacts%2Fknn_3 HTTP/11\" 200 None\n",
      "https://dagshub.com:443 \"GET /josmunpen/laliga-oracle-dags.mlflow/api/2.0/mlflow-artifacts/artifacts?path=6d5735cbe89241f69cbbd4214ee6925e%2F54f36ebb86a649629de1a8e859e50f6d%2Fartifacts%2Fknn_3 HTTP/11\" 200 None\n",
      "https://dagshub.com:443 \"GET /josmunpen/laliga-oracle-dags.mlflow/api/2.0/mlflow-artifacts/artifacts/6d5735cbe89241f69cbbd4214ee6925e/54f36ebb86a649629de1a8e859e50f6d/artifacts/knn_3/conda.yaml HTTP/11\" 200 None\n",
      "https://dagshub.com:443 \"GET /josmunpen/laliga-oracle-dags.mlflow/api/2.0/mlflow-artifacts/artifacts/6d5735cbe89241f69cbbd4214ee6925e/54f36ebb86a649629de1a8e859e50f6d/artifacts/knn_3/input_example.json HTTP/11\" 200 None\n",
      "https://dagshub.com:443 \"GET /josmunpen/laliga-oracle-dags.mlflow/api/2.0/mlflow-artifacts/artifacts/6d5735cbe89241f69cbbd4214ee6925e/54f36ebb86a649629de1a8e859e50f6d/artifacts/knn_3/model.pkl HTTP/11\" 200 None\n",
      "https://dagshub.com:443 \"GET /josmunpen/laliga-oracle-dags.mlflow/api/2.0/mlflow-artifacts/artifacts/6d5735cbe89241f69cbbd4214ee6925e/54f36ebb86a649629de1a8e859e50f6d/artifacts/knn_3/requirements.txt HTTP/11\" 200 None\n",
      "https://dagshub.com:443 \"GET /josmunpen/laliga-oracle-dags.mlflow/api/2.0/mlflow-artifacts/artifacts/6d5735cbe89241f69cbbd4214ee6925e/54f36ebb86a649629de1a8e859e50f6d/artifacts/knn_3/MLmodel HTTP/11\" 200 None\n",
      "https://dagshub.com:443 \"GET /josmunpen/laliga-oracle-dags.mlflow/api/2.0/mlflow-artifacts/artifacts/6d5735cbe89241f69cbbd4214ee6925e/54f36ebb86a649629de1a8e859e50f6d/artifacts/knn_3/serving_input_example.json HTTP/11\" 200 None\n",
      "https://dagshub.com:443 \"GET /josmunpen/laliga-oracle-dags.mlflow/api/2.0/mlflow-artifacts/artifacts/6d5735cbe89241f69cbbd4214ee6925e/54f36ebb86a649629de1a8e859e50f6d/artifacts/knn_3/python_env.yaml HTTP/11\" 200 None\n",
      "C:\\Users\\josem\\AppData\\Local\\Temp\\ipykernel_19444\\2287690251.py:38: FutureWarning: ``mlflow.tracking.client.MlflowClient.get_latest_versions`` is deprecated since 2.9.0. Model registry stages will be removed in a future major release. To learn more about the deprecation of model registry stages, see our migration guide here: https://mlflow.org/docs/latest/model-registry.html#migrating-from-stages\n",
      "  model_info = mlflow_client.get_latest_versions(classifier_name)[0]\n",
      "https://dagshub.com:443 \"POST /josmunpen/laliga-oracle-dags.mlflow/api/2.0/mlflow/registered-models/get-latest-versions HTTP/11\" 200 None\n",
      "https://dagshub.com:443 \"POST /josmunpen/laliga-oracle-dags.mlflow/api/2.0/mlflow/model-versions/set-tag HTTP/11\" 200 None\n",
      "https://dagshub.com:443 \"GET /josmunpen/laliga-oracle-dags.mlflow/api/2.0/mlflow/runs/get?run_uuid=54f36ebb86a649629de1a8e859e50f6d&run_id=54f36ebb86a649629de1a8e859e50f6d HTTP/11\" 200 None\n",
      "2024/11/10 18:09:11 INFO mlflow.tracking._tracking_service.client: 🏃 View run knn_3_37fbcfbf68b0c6880fc844a8d4dbf864 at: https://dagshub.com/josmunpen/laliga-oracle-dags.mlflow/#/experiments/5/runs/54f36ebb86a649629de1a8e859e50f6d.\n",
      "2024/11/10 18:09:11 INFO mlflow.tracking._tracking_service.client: 🧪 View experiment at: https://dagshub.com/josmunpen/laliga-oracle-dags.mlflow/#/experiments/5.\n",
      "https://dagshub.com:443 \"POST /josmunpen/laliga-oracle-dags.mlflow/api/2.0/mlflow/runs/update HTTP/11\" 200 None\n"
     ]
    },
    {
     "name": "stdout",
     "output_type": "stream",
     "text": [
      "Training knn_5\n"
     ]
    },
    {
     "name": "stderr",
     "output_type": "stream",
     "text": [
      "https://dagshub.com:443 \"POST /josmunpen/laliga-oracle-dags.mlflow/api/2.0/mlflow/runs/create HTTP/11\" 200 None\n",
      "https://dagshub.com:443 \"POST /josmunpen/laliga-oracle-dags.mlflow/api/2.0/mlflow/runs/set-tag HTTP/11\" 200 None\n",
      "https://dagshub.com:443 \"POST /josmunpen/laliga-oracle-dags.mlflow/api/2.0/mlflow/runs/log-batch HTTP/11\" 200 None\n",
      "https://dagshub.com:443 \"POST /josmunpen/laliga-oracle-dags.mlflow/api/2.0/mlflow/runs/log-batch HTTP/11\" 200 None\n",
      "c:\\Users\\josem\\ds\\my-league-oracle\\env_train\\Lib\\site-packages\\mlflow\\types\\utils.py:407: UserWarning: Hint: Inferred schema contains integer column(s). Integer columns in Python cannot represent missing values. If your input data contains missing values at inference time, it will be encoded as floats and will cause a schema enforcement error. The best way to avoid this problem is to infer the model schema based on a realistic data sample (training dataset) that includes missing values. Alternatively, you can declare integer columns as doubles (float64) whenever these columns may have missing values. See `Handling Integers With Missing Values <https://www.mlflow.org/docs/latest/models.html#handling-integers-with-missing-values>`_ for more details.\n",
      "  warnings.warn(\n",
      "https://dagshub.com:443 \"GET /josmunpen/laliga-oracle-dags.mlflow/api/2.0/mlflow/runs/get?run_uuid=a9b674fbd5494733b5f5cd8a8d5ce2c5&run_id=a9b674fbd5494733b5f5cd8a8d5ce2c5 HTTP/11\" 200 None\n",
      "https://dagshub.com:443 \"PUT /josmunpen/laliga-oracle-dags.mlflow/api/2.0/mlflow-artifacts/artifacts/6d5735cbe89241f69cbbd4214ee6925e/a9b674fbd5494733b5f5cd8a8d5ce2c5/artifacts/knn_5/conda.yaml HTTP/11\" 200 None\n",
      "https://dagshub.com:443 \"PUT /josmunpen/laliga-oracle-dags.mlflow/api/2.0/mlflow-artifacts/artifacts/6d5735cbe89241f69cbbd4214ee6925e/a9b674fbd5494733b5f5cd8a8d5ce2c5/artifacts/knn_5/input_example.json HTTP/11\" 200 None\n",
      "https://dagshub.com:443 \"PUT /josmunpen/laliga-oracle-dags.mlflow/api/2.0/mlflow-artifacts/artifacts/6d5735cbe89241f69cbbd4214ee6925e/a9b674fbd5494733b5f5cd8a8d5ce2c5/artifacts/knn_5/MLmodel HTTP/11\" 200 None\n",
      "https://dagshub.com:443 \"PUT /josmunpen/laliga-oracle-dags.mlflow/api/2.0/mlflow-artifacts/artifacts/6d5735cbe89241f69cbbd4214ee6925e/a9b674fbd5494733b5f5cd8a8d5ce2c5/artifacts/knn_5/model.pkl HTTP/11\" 200 None\n",
      "https://dagshub.com:443 \"PUT /josmunpen/laliga-oracle-dags.mlflow/api/2.0/mlflow-artifacts/artifacts/6d5735cbe89241f69cbbd4214ee6925e/a9b674fbd5494733b5f5cd8a8d5ce2c5/artifacts/knn_5/python_env.yaml HTTP/11\" 200 None\n",
      "https://dagshub.com:443 \"PUT /josmunpen/laliga-oracle-dags.mlflow/api/2.0/mlflow-artifacts/artifacts/6d5735cbe89241f69cbbd4214ee6925e/a9b674fbd5494733b5f5cd8a8d5ce2c5/artifacts/knn_5/requirements.txt HTTP/11\" 200 None\n",
      "https://dagshub.com:443 \"PUT /josmunpen/laliga-oracle-dags.mlflow/api/2.0/mlflow-artifacts/artifacts/6d5735cbe89241f69cbbd4214ee6925e/a9b674fbd5494733b5f5cd8a8d5ce2c5/artifacts/knn_5/serving_input_example.json HTTP/11\" 200 None\n",
      "https://dagshub.com:443 \"POST /josmunpen/laliga-oracle-dags.mlflow/api/2.0/mlflow/runs/log-model HTTP/11\" 200 None\n",
      "https://dagshub.com:443 \"POST /josmunpen/laliga-oracle-dags.mlflow/api/2.0/mlflow/registered-models/create HTTP/11\" 400 None\n",
      "Registered model 'knn_5' already exists. Creating a new version of this model...\n",
      "https://dagshub.com:443 \"GET /josmunpen/laliga-oracle-dags.mlflow/api/2.0/mlflow/runs/get?run_uuid=a9b674fbd5494733b5f5cd8a8d5ce2c5&run_id=a9b674fbd5494733b5f5cd8a8d5ce2c5 HTTP/11\" 200 None\n",
      "https://dagshub.com:443 \"POST /josmunpen/laliga-oracle-dags.mlflow/api/2.0/mlflow/model-versions/create HTTP/11\" 200 None\n",
      "2024/11/10 18:09:28 INFO mlflow.store.model_registry.abstract_store: Waiting up to 300 seconds for model version to finish creation. Model name: knn_5, version 2\n",
      "Created version '2' of model 'knn_5'.\n",
      "https://dagshub.com:443 \"GET /josmunpen/laliga-oracle-dags.mlflow/api/2.0/mlflow/runs/get?run_uuid=a9b674fbd5494733b5f5cd8a8d5ce2c5&run_id=a9b674fbd5494733b5f5cd8a8d5ce2c5 HTTP/11\" 200 None\n",
      "https://dagshub.com:443 \"GET /josmunpen/laliga-oracle-dags.mlflow/api/2.0/mlflow-artifacts/artifacts?path=6d5735cbe89241f69cbbd4214ee6925e%2Fa9b674fbd5494733b5f5cd8a8d5ce2c5%2Fartifacts%2Fknn_5 HTTP/11\" 200 None\n",
      "https://dagshub.com:443 \"GET /josmunpen/laliga-oracle-dags.mlflow/api/2.0/mlflow-artifacts/artifacts?path=6d5735cbe89241f69cbbd4214ee6925e%2Fa9b674fbd5494733b5f5cd8a8d5ce2c5%2Fartifacts%2Fknn_5 HTTP/11\" 200 None\n",
      "https://dagshub.com:443 \"GET /josmunpen/laliga-oracle-dags.mlflow/api/2.0/mlflow-artifacts/artifacts/6d5735cbe89241f69cbbd4214ee6925e/a9b674fbd5494733b5f5cd8a8d5ce2c5/artifacts/knn_5/MLmodel HTTP/11\" 200 None\n",
      "https://dagshub.com:443 \"GET /josmunpen/laliga-oracle-dags.mlflow/api/2.0/mlflow-artifacts/artifacts/6d5735cbe89241f69cbbd4214ee6925e/a9b674fbd5494733b5f5cd8a8d5ce2c5/artifacts/knn_5/python_env.yaml HTTP/11\" 200 None\n",
      "https://dagshub.com:443 \"GET /josmunpen/laliga-oracle-dags.mlflow/api/2.0/mlflow-artifacts/artifacts/6d5735cbe89241f69cbbd4214ee6925e/a9b674fbd5494733b5f5cd8a8d5ce2c5/artifacts/knn_5/model.pkl HTTP/11\" 200 None\n",
      "https://dagshub.com:443 \"GET /josmunpen/laliga-oracle-dags.mlflow/api/2.0/mlflow-artifacts/artifacts/6d5735cbe89241f69cbbd4214ee6925e/a9b674fbd5494733b5f5cd8a8d5ce2c5/artifacts/knn_5/requirements.txt HTTP/11\" 200 None\n",
      "https://dagshub.com:443 \"GET /josmunpen/laliga-oracle-dags.mlflow/api/2.0/mlflow-artifacts/artifacts/6d5735cbe89241f69cbbd4214ee6925e/a9b674fbd5494733b5f5cd8a8d5ce2c5/artifacts/knn_5/input_example.json HTTP/11\" 200 None\n",
      "https://dagshub.com:443 \"GET /josmunpen/laliga-oracle-dags.mlflow/api/2.0/mlflow-artifacts/artifacts/6d5735cbe89241f69cbbd4214ee6925e/a9b674fbd5494733b5f5cd8a8d5ce2c5/artifacts/knn_5/conda.yaml HTTP/11\" 200 None\n",
      "https://dagshub.com:443 \"GET /josmunpen/laliga-oracle-dags.mlflow/api/2.0/mlflow-artifacts/artifacts/6d5735cbe89241f69cbbd4214ee6925e/a9b674fbd5494733b5f5cd8a8d5ce2c5/artifacts/knn_5/serving_input_example.json HTTP/11\" 200 None\n",
      "C:\\Users\\josem\\AppData\\Local\\Temp\\ipykernel_19444\\2287690251.py:38: FutureWarning: ``mlflow.tracking.client.MlflowClient.get_latest_versions`` is deprecated since 2.9.0. Model registry stages will be removed in a future major release. To learn more about the deprecation of model registry stages, see our migration guide here: https://mlflow.org/docs/latest/model-registry.html#migrating-from-stages\n",
      "  model_info = mlflow_client.get_latest_versions(classifier_name)[0]\n",
      "https://dagshub.com:443 \"POST /josmunpen/laliga-oracle-dags.mlflow/api/2.0/mlflow/registered-models/get-latest-versions HTTP/11\" 200 None\n",
      "https://dagshub.com:443 \"POST /josmunpen/laliga-oracle-dags.mlflow/api/2.0/mlflow/model-versions/set-tag HTTP/11\" 200 None\n",
      "https://dagshub.com:443 \"GET /josmunpen/laliga-oracle-dags.mlflow/api/2.0/mlflow/runs/get?run_uuid=a9b674fbd5494733b5f5cd8a8d5ce2c5&run_id=a9b674fbd5494733b5f5cd8a8d5ce2c5 HTTP/11\" 200 None\n",
      "2024/11/10 18:09:41 INFO mlflow.tracking._tracking_service.client: 🏃 View run knn_5_aef24b5132996c03b542aeb0d0c02cdd at: https://dagshub.com/josmunpen/laliga-oracle-dags.mlflow/#/experiments/5/runs/a9b674fbd5494733b5f5cd8a8d5ce2c5.\n",
      "2024/11/10 18:09:41 INFO mlflow.tracking._tracking_service.client: 🧪 View experiment at: https://dagshub.com/josmunpen/laliga-oracle-dags.mlflow/#/experiments/5.\n",
      "https://dagshub.com:443 \"POST /josmunpen/laliga-oracle-dags.mlflow/api/2.0/mlflow/runs/update HTTP/11\" 200 None\n"
     ]
    },
    {
     "name": "stdout",
     "output_type": "stream",
     "text": [
      "Training knn_15\n"
     ]
    },
    {
     "name": "stderr",
     "output_type": "stream",
     "text": [
      "https://dagshub.com:443 \"POST /josmunpen/laliga-oracle-dags.mlflow/api/2.0/mlflow/runs/create HTTP/11\" 200 None\n",
      "https://dagshub.com:443 \"POST /josmunpen/laliga-oracle-dags.mlflow/api/2.0/mlflow/runs/set-tag HTTP/11\" 200 None\n",
      "https://dagshub.com:443 \"POST /josmunpen/laliga-oracle-dags.mlflow/api/2.0/mlflow/runs/log-batch HTTP/11\" 200 None\n",
      "https://dagshub.com:443 \"POST /josmunpen/laliga-oracle-dags.mlflow/api/2.0/mlflow/runs/log-batch HTTP/11\" 200 None\n",
      "c:\\Users\\josem\\ds\\my-league-oracle\\env_train\\Lib\\site-packages\\mlflow\\types\\utils.py:407: UserWarning: Hint: Inferred schema contains integer column(s). Integer columns in Python cannot represent missing values. If your input data contains missing values at inference time, it will be encoded as floats and will cause a schema enforcement error. The best way to avoid this problem is to infer the model schema based on a realistic data sample (training dataset) that includes missing values. Alternatively, you can declare integer columns as doubles (float64) whenever these columns may have missing values. See `Handling Integers With Missing Values <https://www.mlflow.org/docs/latest/models.html#handling-integers-with-missing-values>`_ for more details.\n",
      "  warnings.warn(\n",
      "https://dagshub.com:443 \"GET /josmunpen/laliga-oracle-dags.mlflow/api/2.0/mlflow/runs/get?run_uuid=6faeb32195034e3695802cb254537352&run_id=6faeb32195034e3695802cb254537352 HTTP/11\" 200 None\n",
      "https://dagshub.com:443 \"PUT /josmunpen/laliga-oracle-dags.mlflow/api/2.0/mlflow-artifacts/artifacts/6d5735cbe89241f69cbbd4214ee6925e/6faeb32195034e3695802cb254537352/artifacts/knn_15/conda.yaml HTTP/11\" 200 None\n",
      "https://dagshub.com:443 \"PUT /josmunpen/laliga-oracle-dags.mlflow/api/2.0/mlflow-artifacts/artifacts/6d5735cbe89241f69cbbd4214ee6925e/6faeb32195034e3695802cb254537352/artifacts/knn_15/input_example.json HTTP/11\" 200 None\n",
      "https://dagshub.com:443 \"PUT /josmunpen/laliga-oracle-dags.mlflow/api/2.0/mlflow-artifacts/artifacts/6d5735cbe89241f69cbbd4214ee6925e/6faeb32195034e3695802cb254537352/artifacts/knn_15/MLmodel HTTP/11\" 200 None\n",
      "https://dagshub.com:443 \"PUT /josmunpen/laliga-oracle-dags.mlflow/api/2.0/mlflow-artifacts/artifacts/6d5735cbe89241f69cbbd4214ee6925e/6faeb32195034e3695802cb254537352/artifacts/knn_15/model.pkl HTTP/11\" 200 None\n",
      "https://dagshub.com:443 \"PUT /josmunpen/laliga-oracle-dags.mlflow/api/2.0/mlflow-artifacts/artifacts/6d5735cbe89241f69cbbd4214ee6925e/6faeb32195034e3695802cb254537352/artifacts/knn_15/python_env.yaml HTTP/11\" 200 None\n",
      "https://dagshub.com:443 \"PUT /josmunpen/laliga-oracle-dags.mlflow/api/2.0/mlflow-artifacts/artifacts/6d5735cbe89241f69cbbd4214ee6925e/6faeb32195034e3695802cb254537352/artifacts/knn_15/requirements.txt HTTP/11\" 200 None\n",
      "https://dagshub.com:443 \"PUT /josmunpen/laliga-oracle-dags.mlflow/api/2.0/mlflow-artifacts/artifacts/6d5735cbe89241f69cbbd4214ee6925e/6faeb32195034e3695802cb254537352/artifacts/knn_15/serving_input_example.json HTTP/11\" 200 None\n",
      "https://dagshub.com:443 \"POST /josmunpen/laliga-oracle-dags.mlflow/api/2.0/mlflow/runs/log-model HTTP/11\" 200 None\n",
      "https://dagshub.com:443 \"POST /josmunpen/laliga-oracle-dags.mlflow/api/2.0/mlflow/registered-models/create HTTP/11\" 400 None\n",
      "Registered model 'knn_15' already exists. Creating a new version of this model...\n",
      "https://dagshub.com:443 \"GET /josmunpen/laliga-oracle-dags.mlflow/api/2.0/mlflow/runs/get?run_uuid=6faeb32195034e3695802cb254537352&run_id=6faeb32195034e3695802cb254537352 HTTP/11\" 200 None\n",
      "https://dagshub.com:443 \"POST /josmunpen/laliga-oracle-dags.mlflow/api/2.0/mlflow/model-versions/create HTTP/11\" 200 None\n",
      "2024/11/10 18:09:58 INFO mlflow.store.model_registry.abstract_store: Waiting up to 300 seconds for model version to finish creation. Model name: knn_15, version 2\n",
      "Created version '2' of model 'knn_15'.\n",
      "https://dagshub.com:443 \"GET /josmunpen/laliga-oracle-dags.mlflow/api/2.0/mlflow/runs/get?run_uuid=6faeb32195034e3695802cb254537352&run_id=6faeb32195034e3695802cb254537352 HTTP/11\" 200 None\n",
      "https://dagshub.com:443 \"GET /josmunpen/laliga-oracle-dags.mlflow/api/2.0/mlflow-artifacts/artifacts?path=6d5735cbe89241f69cbbd4214ee6925e%2F6faeb32195034e3695802cb254537352%2Fartifacts%2Fknn_15 HTTP/11\" 200 None\n",
      "https://dagshub.com:443 \"GET /josmunpen/laliga-oracle-dags.mlflow/api/2.0/mlflow-artifacts/artifacts?path=6d5735cbe89241f69cbbd4214ee6925e%2F6faeb32195034e3695802cb254537352%2Fartifacts%2Fknn_15 HTTP/11\" 200 None\n",
      "https://dagshub.com:443 \"GET /josmunpen/laliga-oracle-dags.mlflow/api/2.0/mlflow-artifacts/artifacts/6d5735cbe89241f69cbbd4214ee6925e/6faeb32195034e3695802cb254537352/artifacts/knn_15/requirements.txt HTTP/11\" 200 None\n",
      "https://dagshub.com:443 \"GET /josmunpen/laliga-oracle-dags.mlflow/api/2.0/mlflow-artifacts/artifacts/6d5735cbe89241f69cbbd4214ee6925e/6faeb32195034e3695802cb254537352/artifacts/knn_15/input_example.json HTTP/11\" 200 None\n",
      "https://dagshub.com:443 \"GET /josmunpen/laliga-oracle-dags.mlflow/api/2.0/mlflow-artifacts/artifacts/6d5735cbe89241f69cbbd4214ee6925e/6faeb32195034e3695802cb254537352/artifacts/knn_15/serving_input_example.json HTTP/11\" 200 None\n",
      "https://dagshub.com:443 \"GET /josmunpen/laliga-oracle-dags.mlflow/api/2.0/mlflow-artifacts/artifacts/6d5735cbe89241f69cbbd4214ee6925e/6faeb32195034e3695802cb254537352/artifacts/knn_15/model.pkl HTTP/11\" 200 None\n",
      "https://dagshub.com:443 \"GET /josmunpen/laliga-oracle-dags.mlflow/api/2.0/mlflow-artifacts/artifacts/6d5735cbe89241f69cbbd4214ee6925e/6faeb32195034e3695802cb254537352/artifacts/knn_15/python_env.yaml HTTP/11\" 200 None\n",
      "https://dagshub.com:443 \"GET /josmunpen/laliga-oracle-dags.mlflow/api/2.0/mlflow-artifacts/artifacts/6d5735cbe89241f69cbbd4214ee6925e/6faeb32195034e3695802cb254537352/artifacts/knn_15/conda.yaml HTTP/11\" 200 None\n",
      "https://dagshub.com:443 \"GET /josmunpen/laliga-oracle-dags.mlflow/api/2.0/mlflow-artifacts/artifacts/6d5735cbe89241f69cbbd4214ee6925e/6faeb32195034e3695802cb254537352/artifacts/knn_15/MLmodel HTTP/11\" 200 None\n",
      "C:\\Users\\josem\\AppData\\Local\\Temp\\ipykernel_19444\\2287690251.py:38: FutureWarning: ``mlflow.tracking.client.MlflowClient.get_latest_versions`` is deprecated since 2.9.0. Model registry stages will be removed in a future major release. To learn more about the deprecation of model registry stages, see our migration guide here: https://mlflow.org/docs/latest/model-registry.html#migrating-from-stages\n",
      "  model_info = mlflow_client.get_latest_versions(classifier_name)[0]\n",
      "https://dagshub.com:443 \"POST /josmunpen/laliga-oracle-dags.mlflow/api/2.0/mlflow/registered-models/get-latest-versions HTTP/11\" 200 None\n",
      "https://dagshub.com:443 \"POST /josmunpen/laliga-oracle-dags.mlflow/api/2.0/mlflow/model-versions/set-tag HTTP/11\" 200 None\n",
      "https://dagshub.com:443 \"GET /josmunpen/laliga-oracle-dags.mlflow/api/2.0/mlflow/runs/get?run_uuid=6faeb32195034e3695802cb254537352&run_id=6faeb32195034e3695802cb254537352 HTTP/11\" 200 None\n",
      "2024/11/10 18:10:11 INFO mlflow.tracking._tracking_service.client: 🏃 View run knn_15_364c735726dc5e1095907c6f48c24900 at: https://dagshub.com/josmunpen/laliga-oracle-dags.mlflow/#/experiments/5/runs/6faeb32195034e3695802cb254537352.\n",
      "2024/11/10 18:10:11 INFO mlflow.tracking._tracking_service.client: 🧪 View experiment at: https://dagshub.com/josmunpen/laliga-oracle-dags.mlflow/#/experiments/5.\n",
      "https://dagshub.com:443 \"POST /josmunpen/laliga-oracle-dags.mlflow/api/2.0/mlflow/runs/update HTTP/11\" 200 None\n"
     ]
    },
    {
     "name": "stdout",
     "output_type": "stream",
     "text": [
      "Training knn_25\n"
     ]
    },
    {
     "name": "stderr",
     "output_type": "stream",
     "text": [
      "https://dagshub.com:443 \"POST /josmunpen/laliga-oracle-dags.mlflow/api/2.0/mlflow/runs/create HTTP/11\" 200 None\n",
      "https://dagshub.com:443 \"POST /josmunpen/laliga-oracle-dags.mlflow/api/2.0/mlflow/runs/set-tag HTTP/11\" 200 None\n",
      "https://dagshub.com:443 \"POST /josmunpen/laliga-oracle-dags.mlflow/api/2.0/mlflow/runs/log-batch HTTP/11\" 200 None\n",
      "https://dagshub.com:443 \"POST /josmunpen/laliga-oracle-dags.mlflow/api/2.0/mlflow/runs/log-batch HTTP/11\" 200 None\n",
      "c:\\Users\\josem\\ds\\my-league-oracle\\env_train\\Lib\\site-packages\\mlflow\\types\\utils.py:407: UserWarning: Hint: Inferred schema contains integer column(s). Integer columns in Python cannot represent missing values. If your input data contains missing values at inference time, it will be encoded as floats and will cause a schema enforcement error. The best way to avoid this problem is to infer the model schema based on a realistic data sample (training dataset) that includes missing values. Alternatively, you can declare integer columns as doubles (float64) whenever these columns may have missing values. See `Handling Integers With Missing Values <https://www.mlflow.org/docs/latest/models.html#handling-integers-with-missing-values>`_ for more details.\n",
      "  warnings.warn(\n",
      "https://dagshub.com:443 \"GET /josmunpen/laliga-oracle-dags.mlflow/api/2.0/mlflow/runs/get?run_uuid=5050f778b80b4ac6ada464355ba4b031&run_id=5050f778b80b4ac6ada464355ba4b031 HTTP/11\" 200 None\n",
      "https://dagshub.com:443 \"PUT /josmunpen/laliga-oracle-dags.mlflow/api/2.0/mlflow-artifacts/artifacts/6d5735cbe89241f69cbbd4214ee6925e/5050f778b80b4ac6ada464355ba4b031/artifacts/knn_25/conda.yaml HTTP/11\" 200 None\n",
      "https://dagshub.com:443 \"PUT /josmunpen/laliga-oracle-dags.mlflow/api/2.0/mlflow-artifacts/artifacts/6d5735cbe89241f69cbbd4214ee6925e/5050f778b80b4ac6ada464355ba4b031/artifacts/knn_25/input_example.json HTTP/11\" 200 None\n",
      "https://dagshub.com:443 \"PUT /josmunpen/laliga-oracle-dags.mlflow/api/2.0/mlflow-artifacts/artifacts/6d5735cbe89241f69cbbd4214ee6925e/5050f778b80b4ac6ada464355ba4b031/artifacts/knn_25/MLmodel HTTP/11\" 200 None\n",
      "https://dagshub.com:443 \"PUT /josmunpen/laliga-oracle-dags.mlflow/api/2.0/mlflow-artifacts/artifacts/6d5735cbe89241f69cbbd4214ee6925e/5050f778b80b4ac6ada464355ba4b031/artifacts/knn_25/model.pkl HTTP/11\" 200 None\n",
      "https://dagshub.com:443 \"PUT /josmunpen/laliga-oracle-dags.mlflow/api/2.0/mlflow-artifacts/artifacts/6d5735cbe89241f69cbbd4214ee6925e/5050f778b80b4ac6ada464355ba4b031/artifacts/knn_25/python_env.yaml HTTP/11\" 200 None\n",
      "https://dagshub.com:443 \"PUT /josmunpen/laliga-oracle-dags.mlflow/api/2.0/mlflow-artifacts/artifacts/6d5735cbe89241f69cbbd4214ee6925e/5050f778b80b4ac6ada464355ba4b031/artifacts/knn_25/requirements.txt HTTP/11\" 200 None\n",
      "https://dagshub.com:443 \"PUT /josmunpen/laliga-oracle-dags.mlflow/api/2.0/mlflow-artifacts/artifacts/6d5735cbe89241f69cbbd4214ee6925e/5050f778b80b4ac6ada464355ba4b031/artifacts/knn_25/serving_input_example.json HTTP/11\" 200 None\n",
      "https://dagshub.com:443 \"POST /josmunpen/laliga-oracle-dags.mlflow/api/2.0/mlflow/runs/log-model HTTP/11\" 200 None\n",
      "https://dagshub.com:443 \"POST /josmunpen/laliga-oracle-dags.mlflow/api/2.0/mlflow/registered-models/create HTTP/11\" 400 None\n",
      "Registered model 'knn_25' already exists. Creating a new version of this model...\n",
      "https://dagshub.com:443 \"GET /josmunpen/laliga-oracle-dags.mlflow/api/2.0/mlflow/runs/get?run_uuid=5050f778b80b4ac6ada464355ba4b031&run_id=5050f778b80b4ac6ada464355ba4b031 HTTP/11\" 200 None\n",
      "https://dagshub.com:443 \"POST /josmunpen/laliga-oracle-dags.mlflow/api/2.0/mlflow/model-versions/create HTTP/11\" 200 None\n",
      "2024/11/10 18:10:28 INFO mlflow.store.model_registry.abstract_store: Waiting up to 300 seconds for model version to finish creation. Model name: knn_25, version 4\n",
      "Created version '4' of model 'knn_25'.\n",
      "https://dagshub.com:443 \"GET /josmunpen/laliga-oracle-dags.mlflow/api/2.0/mlflow/runs/get?run_uuid=5050f778b80b4ac6ada464355ba4b031&run_id=5050f778b80b4ac6ada464355ba4b031 HTTP/11\" 200 None\n",
      "https://dagshub.com:443 \"GET /josmunpen/laliga-oracle-dags.mlflow/api/2.0/mlflow-artifacts/artifacts?path=6d5735cbe89241f69cbbd4214ee6925e%2F5050f778b80b4ac6ada464355ba4b031%2Fartifacts%2Fknn_25 HTTP/11\" 200 None\n",
      "https://dagshub.com:443 \"GET /josmunpen/laliga-oracle-dags.mlflow/api/2.0/mlflow-artifacts/artifacts?path=6d5735cbe89241f69cbbd4214ee6925e%2F5050f778b80b4ac6ada464355ba4b031%2Fartifacts%2Fknn_25 HTTP/11\" 200 None\n",
      "https://dagshub.com:443 \"GET /josmunpen/laliga-oracle-dags.mlflow/api/2.0/mlflow-artifacts/artifacts/6d5735cbe89241f69cbbd4214ee6925e/5050f778b80b4ac6ada464355ba4b031/artifacts/knn_25/MLmodel HTTP/11\" 200 None\n",
      "https://dagshub.com:443 \"GET /josmunpen/laliga-oracle-dags.mlflow/api/2.0/mlflow-artifacts/artifacts/6d5735cbe89241f69cbbd4214ee6925e/5050f778b80b4ac6ada464355ba4b031/artifacts/knn_25/conda.yaml HTTP/11\" 200 None\n",
      "https://dagshub.com:443 \"GET /josmunpen/laliga-oracle-dags.mlflow/api/2.0/mlflow-artifacts/artifacts/6d5735cbe89241f69cbbd4214ee6925e/5050f778b80b4ac6ada464355ba4b031/artifacts/knn_25/input_example.json HTTP/11\" 200 None\n",
      "https://dagshub.com:443 \"GET /josmunpen/laliga-oracle-dags.mlflow/api/2.0/mlflow-artifacts/artifacts/6d5735cbe89241f69cbbd4214ee6925e/5050f778b80b4ac6ada464355ba4b031/artifacts/knn_25/requirements.txt HTTP/11\" 200 None\n",
      "https://dagshub.com:443 \"GET /josmunpen/laliga-oracle-dags.mlflow/api/2.0/mlflow-artifacts/artifacts/6d5735cbe89241f69cbbd4214ee6925e/5050f778b80b4ac6ada464355ba4b031/artifacts/knn_25/model.pkl HTTP/11\" 200 None\n",
      "https://dagshub.com:443 \"GET /josmunpen/laliga-oracle-dags.mlflow/api/2.0/mlflow-artifacts/artifacts/6d5735cbe89241f69cbbd4214ee6925e/5050f778b80b4ac6ada464355ba4b031/artifacts/knn_25/serving_input_example.json HTTP/11\" 200 None\n",
      "https://dagshub.com:443 \"GET /josmunpen/laliga-oracle-dags.mlflow/api/2.0/mlflow-artifacts/artifacts/6d5735cbe89241f69cbbd4214ee6925e/5050f778b80b4ac6ada464355ba4b031/artifacts/knn_25/python_env.yaml HTTP/11\" 200 None\n",
      "C:\\Users\\josem\\AppData\\Local\\Temp\\ipykernel_19444\\2287690251.py:38: FutureWarning: ``mlflow.tracking.client.MlflowClient.get_latest_versions`` is deprecated since 2.9.0. Model registry stages will be removed in a future major release. To learn more about the deprecation of model registry stages, see our migration guide here: https://mlflow.org/docs/latest/model-registry.html#migrating-from-stages\n",
      "  model_info = mlflow_client.get_latest_versions(classifier_name)[0]\n",
      "https://dagshub.com:443 \"POST /josmunpen/laliga-oracle-dags.mlflow/api/2.0/mlflow/registered-models/get-latest-versions HTTP/11\" 200 None\n",
      "https://dagshub.com:443 \"POST /josmunpen/laliga-oracle-dags.mlflow/api/2.0/mlflow/model-versions/set-tag HTTP/11\" 200 None\n",
      "https://dagshub.com:443 \"GET /josmunpen/laliga-oracle-dags.mlflow/api/2.0/mlflow/runs/get?run_uuid=5050f778b80b4ac6ada464355ba4b031&run_id=5050f778b80b4ac6ada464355ba4b031 HTTP/11\" 200 None\n",
      "2024/11/10 18:10:41 INFO mlflow.tracking._tracking_service.client: 🏃 View run knn_25_f08df94c10f9d288c6a12d30de6fafad at: https://dagshub.com/josmunpen/laliga-oracle-dags.mlflow/#/experiments/5/runs/5050f778b80b4ac6ada464355ba4b031.\n",
      "2024/11/10 18:10:41 INFO mlflow.tracking._tracking_service.client: 🧪 View experiment at: https://dagshub.com/josmunpen/laliga-oracle-dags.mlflow/#/experiments/5.\n",
      "https://dagshub.com:443 \"POST /josmunpen/laliga-oracle-dags.mlflow/api/2.0/mlflow/runs/update HTTP/11\" 200 None\n"
     ]
    },
    {
     "name": "stdout",
     "output_type": "stream",
     "text": [
      "Training knn_50\n"
     ]
    },
    {
     "name": "stderr",
     "output_type": "stream",
     "text": [
      "https://dagshub.com:443 \"POST /josmunpen/laliga-oracle-dags.mlflow/api/2.0/mlflow/runs/create HTTP/11\" 200 None\n",
      "https://dagshub.com:443 \"POST /josmunpen/laliga-oracle-dags.mlflow/api/2.0/mlflow/runs/set-tag HTTP/11\" 200 None\n",
      "https://dagshub.com:443 \"POST /josmunpen/laliga-oracle-dags.mlflow/api/2.0/mlflow/runs/log-batch HTTP/11\" 200 None\n",
      "https://dagshub.com:443 \"POST /josmunpen/laliga-oracle-dags.mlflow/api/2.0/mlflow/runs/log-batch HTTP/11\" 200 None\n",
      "c:\\Users\\josem\\ds\\my-league-oracle\\env_train\\Lib\\site-packages\\mlflow\\types\\utils.py:407: UserWarning: Hint: Inferred schema contains integer column(s). Integer columns in Python cannot represent missing values. If your input data contains missing values at inference time, it will be encoded as floats and will cause a schema enforcement error. The best way to avoid this problem is to infer the model schema based on a realistic data sample (training dataset) that includes missing values. Alternatively, you can declare integer columns as doubles (float64) whenever these columns may have missing values. See `Handling Integers With Missing Values <https://www.mlflow.org/docs/latest/models.html#handling-integers-with-missing-values>`_ for more details.\n",
      "  warnings.warn(\n",
      "https://dagshub.com:443 \"GET /josmunpen/laliga-oracle-dags.mlflow/api/2.0/mlflow/runs/get?run_uuid=87fda7ee184f4cd492b32a5c187dc877&run_id=87fda7ee184f4cd492b32a5c187dc877 HTTP/11\" 200 None\n",
      "https://dagshub.com:443 \"PUT /josmunpen/laliga-oracle-dags.mlflow/api/2.0/mlflow-artifacts/artifacts/6d5735cbe89241f69cbbd4214ee6925e/87fda7ee184f4cd492b32a5c187dc877/artifacts/knn_50/conda.yaml HTTP/11\" 200 None\n",
      "https://dagshub.com:443 \"PUT /josmunpen/laliga-oracle-dags.mlflow/api/2.0/mlflow-artifacts/artifacts/6d5735cbe89241f69cbbd4214ee6925e/87fda7ee184f4cd492b32a5c187dc877/artifacts/knn_50/input_example.json HTTP/11\" 200 None\n",
      "https://dagshub.com:443 \"PUT /josmunpen/laliga-oracle-dags.mlflow/api/2.0/mlflow-artifacts/artifacts/6d5735cbe89241f69cbbd4214ee6925e/87fda7ee184f4cd492b32a5c187dc877/artifacts/knn_50/MLmodel HTTP/11\" 200 None\n",
      "https://dagshub.com:443 \"PUT /josmunpen/laliga-oracle-dags.mlflow/api/2.0/mlflow-artifacts/artifacts/6d5735cbe89241f69cbbd4214ee6925e/87fda7ee184f4cd492b32a5c187dc877/artifacts/knn_50/model.pkl HTTP/11\" 200 None\n",
      "https://dagshub.com:443 \"PUT /josmunpen/laliga-oracle-dags.mlflow/api/2.0/mlflow-artifacts/artifacts/6d5735cbe89241f69cbbd4214ee6925e/87fda7ee184f4cd492b32a5c187dc877/artifacts/knn_50/python_env.yaml HTTP/11\" 200 None\n",
      "https://dagshub.com:443 \"PUT /josmunpen/laliga-oracle-dags.mlflow/api/2.0/mlflow-artifacts/artifacts/6d5735cbe89241f69cbbd4214ee6925e/87fda7ee184f4cd492b32a5c187dc877/artifacts/knn_50/requirements.txt HTTP/11\" 200 None\n",
      "https://dagshub.com:443 \"PUT /josmunpen/laliga-oracle-dags.mlflow/api/2.0/mlflow-artifacts/artifacts/6d5735cbe89241f69cbbd4214ee6925e/87fda7ee184f4cd492b32a5c187dc877/artifacts/knn_50/serving_input_example.json HTTP/11\" 200 None\n",
      "https://dagshub.com:443 \"POST /josmunpen/laliga-oracle-dags.mlflow/api/2.0/mlflow/runs/log-model HTTP/11\" 200 None\n",
      "https://dagshub.com:443 \"POST /josmunpen/laliga-oracle-dags.mlflow/api/2.0/mlflow/registered-models/create HTTP/11\" 400 None\n",
      "Registered model 'knn_50' already exists. Creating a new version of this model...\n",
      "https://dagshub.com:443 \"GET /josmunpen/laliga-oracle-dags.mlflow/api/2.0/mlflow/runs/get?run_uuid=87fda7ee184f4cd492b32a5c187dc877&run_id=87fda7ee184f4cd492b32a5c187dc877 HTTP/11\" 200 None\n",
      "https://dagshub.com:443 \"POST /josmunpen/laliga-oracle-dags.mlflow/api/2.0/mlflow/model-versions/create HTTP/11\" 200 None\n",
      "2024/11/10 18:10:58 INFO mlflow.store.model_registry.abstract_store: Waiting up to 300 seconds for model version to finish creation. Model name: knn_50, version 2\n",
      "Created version '2' of model 'knn_50'.\n",
      "https://dagshub.com:443 \"GET /josmunpen/laliga-oracle-dags.mlflow/api/2.0/mlflow/runs/get?run_uuid=87fda7ee184f4cd492b32a5c187dc877&run_id=87fda7ee184f4cd492b32a5c187dc877 HTTP/11\" 200 None\n",
      "https://dagshub.com:443 \"GET /josmunpen/laliga-oracle-dags.mlflow/api/2.0/mlflow-artifacts/artifacts?path=6d5735cbe89241f69cbbd4214ee6925e%2F87fda7ee184f4cd492b32a5c187dc877%2Fartifacts%2Fknn_50 HTTP/11\" 200 None\n",
      "https://dagshub.com:443 \"GET /josmunpen/laliga-oracle-dags.mlflow/api/2.0/mlflow-artifacts/artifacts?path=6d5735cbe89241f69cbbd4214ee6925e%2F87fda7ee184f4cd492b32a5c187dc877%2Fartifacts%2Fknn_50 HTTP/11\" 200 None\n",
      "https://dagshub.com:443 \"GET /josmunpen/laliga-oracle-dags.mlflow/api/2.0/mlflow-artifacts/artifacts/6d5735cbe89241f69cbbd4214ee6925e/87fda7ee184f4cd492b32a5c187dc877/artifacts/knn_50/serving_input_example.json HTTP/11\" 200 None\n",
      "https://dagshub.com:443 \"GET /josmunpen/laliga-oracle-dags.mlflow/api/2.0/mlflow-artifacts/artifacts/6d5735cbe89241f69cbbd4214ee6925e/87fda7ee184f4cd492b32a5c187dc877/artifacts/knn_50/model.pkl HTTP/11\" 200 None\n",
      "https://dagshub.com:443 \"GET /josmunpen/laliga-oracle-dags.mlflow/api/2.0/mlflow-artifacts/artifacts/6d5735cbe89241f69cbbd4214ee6925e/87fda7ee184f4cd492b32a5c187dc877/artifacts/knn_50/python_env.yaml HTTP/11\" 200 None\n",
      "https://dagshub.com:443 \"GET /josmunpen/laliga-oracle-dags.mlflow/api/2.0/mlflow-artifacts/artifacts/6d5735cbe89241f69cbbd4214ee6925e/87fda7ee184f4cd492b32a5c187dc877/artifacts/knn_50/requirements.txt HTTP/11\" 200 None\n",
      "https://dagshub.com:443 \"GET /josmunpen/laliga-oracle-dags.mlflow/api/2.0/mlflow-artifacts/artifacts/6d5735cbe89241f69cbbd4214ee6925e/87fda7ee184f4cd492b32a5c187dc877/artifacts/knn_50/MLmodel HTTP/11\" 200 None\n",
      "https://dagshub.com:443 \"GET /josmunpen/laliga-oracle-dags.mlflow/api/2.0/mlflow-artifacts/artifacts/6d5735cbe89241f69cbbd4214ee6925e/87fda7ee184f4cd492b32a5c187dc877/artifacts/knn_50/conda.yaml HTTP/11\" 200 None\n",
      "https://dagshub.com:443 \"GET /josmunpen/laliga-oracle-dags.mlflow/api/2.0/mlflow-artifacts/artifacts/6d5735cbe89241f69cbbd4214ee6925e/87fda7ee184f4cd492b32a5c187dc877/artifacts/knn_50/input_example.json HTTP/11\" 200 None\n",
      "C:\\Users\\josem\\AppData\\Local\\Temp\\ipykernel_19444\\2287690251.py:38: FutureWarning: ``mlflow.tracking.client.MlflowClient.get_latest_versions`` is deprecated since 2.9.0. Model registry stages will be removed in a future major release. To learn more about the deprecation of model registry stages, see our migration guide here: https://mlflow.org/docs/latest/model-registry.html#migrating-from-stages\n",
      "  model_info = mlflow_client.get_latest_versions(classifier_name)[0]\n",
      "https://dagshub.com:443 \"POST /josmunpen/laliga-oracle-dags.mlflow/api/2.0/mlflow/registered-models/get-latest-versions HTTP/11\" 200 None\n",
      "https://dagshub.com:443 \"POST /josmunpen/laliga-oracle-dags.mlflow/api/2.0/mlflow/model-versions/set-tag HTTP/11\" 200 None\n",
      "https://dagshub.com:443 \"GET /josmunpen/laliga-oracle-dags.mlflow/api/2.0/mlflow/runs/get?run_uuid=87fda7ee184f4cd492b32a5c187dc877&run_id=87fda7ee184f4cd492b32a5c187dc877 HTTP/11\" 200 None\n",
      "2024/11/10 18:11:11 INFO mlflow.tracking._tracking_service.client: 🏃 View run knn_50_710946b1792f1ecce2f3abcb4bb7e631 at: https://dagshub.com/josmunpen/laliga-oracle-dags.mlflow/#/experiments/5/runs/87fda7ee184f4cd492b32a5c187dc877.\n",
      "2024/11/10 18:11:11 INFO mlflow.tracking._tracking_service.client: 🧪 View experiment at: https://dagshub.com/josmunpen/laliga-oracle-dags.mlflow/#/experiments/5.\n",
      "https://dagshub.com:443 \"POST /josmunpen/laliga-oracle-dags.mlflow/api/2.0/mlflow/runs/update HTTP/11\" 200 None\n"
     ]
    },
    {
     "name": "stdout",
     "output_type": "stream",
     "text": [
      "Training decision_tree\n"
     ]
    },
    {
     "name": "stderr",
     "output_type": "stream",
     "text": [
      "https://dagshub.com:443 \"POST /josmunpen/laliga-oracle-dags.mlflow/api/2.0/mlflow/runs/create HTTP/11\" 200 None\n",
      "https://dagshub.com:443 \"POST /josmunpen/laliga-oracle-dags.mlflow/api/2.0/mlflow/runs/set-tag HTTP/11\" 200 None\n",
      "https://dagshub.com:443 \"POST /josmunpen/laliga-oracle-dags.mlflow/api/2.0/mlflow/runs/log-batch HTTP/11\" 200 None\n",
      "https://dagshub.com:443 \"POST /josmunpen/laliga-oracle-dags.mlflow/api/2.0/mlflow/runs/log-batch HTTP/11\" 200 None\n",
      "c:\\Users\\josem\\ds\\my-league-oracle\\env_train\\Lib\\site-packages\\mlflow\\types\\utils.py:407: UserWarning: Hint: Inferred schema contains integer column(s). Integer columns in Python cannot represent missing values. If your input data contains missing values at inference time, it will be encoded as floats and will cause a schema enforcement error. The best way to avoid this problem is to infer the model schema based on a realistic data sample (training dataset) that includes missing values. Alternatively, you can declare integer columns as doubles (float64) whenever these columns may have missing values. See `Handling Integers With Missing Values <https://www.mlflow.org/docs/latest/models.html#handling-integers-with-missing-values>`_ for more details.\n",
      "  warnings.warn(\n",
      "https://dagshub.com:443 \"GET /josmunpen/laliga-oracle-dags.mlflow/api/2.0/mlflow/runs/get?run_uuid=71760d2f368441bb927e2c13e787bb99&run_id=71760d2f368441bb927e2c13e787bb99 HTTP/11\" 200 None\n",
      "https://dagshub.com:443 \"PUT /josmunpen/laliga-oracle-dags.mlflow/api/2.0/mlflow-artifacts/artifacts/6d5735cbe89241f69cbbd4214ee6925e/71760d2f368441bb927e2c13e787bb99/artifacts/decision_tree/conda.yaml HTTP/11\" 200 None\n",
      "https://dagshub.com:443 \"PUT /josmunpen/laliga-oracle-dags.mlflow/api/2.0/mlflow-artifacts/artifacts/6d5735cbe89241f69cbbd4214ee6925e/71760d2f368441bb927e2c13e787bb99/artifacts/decision_tree/input_example.json HTTP/11\" 200 None\n",
      "https://dagshub.com:443 \"PUT /josmunpen/laliga-oracle-dags.mlflow/api/2.0/mlflow-artifacts/artifacts/6d5735cbe89241f69cbbd4214ee6925e/71760d2f368441bb927e2c13e787bb99/artifacts/decision_tree/MLmodel HTTP/11\" 200 None\n",
      "https://dagshub.com:443 \"PUT /josmunpen/laliga-oracle-dags.mlflow/api/2.0/mlflow-artifacts/artifacts/6d5735cbe89241f69cbbd4214ee6925e/71760d2f368441bb927e2c13e787bb99/artifacts/decision_tree/model.pkl HTTP/11\" 200 None\n",
      "https://dagshub.com:443 \"PUT /josmunpen/laliga-oracle-dags.mlflow/api/2.0/mlflow-artifacts/artifacts/6d5735cbe89241f69cbbd4214ee6925e/71760d2f368441bb927e2c13e787bb99/artifacts/decision_tree/python_env.yaml HTTP/11\" 200 None\n",
      "https://dagshub.com:443 \"PUT /josmunpen/laliga-oracle-dags.mlflow/api/2.0/mlflow-artifacts/artifacts/6d5735cbe89241f69cbbd4214ee6925e/71760d2f368441bb927e2c13e787bb99/artifacts/decision_tree/requirements.txt HTTP/11\" 200 None\n",
      "https://dagshub.com:443 \"PUT /josmunpen/laliga-oracle-dags.mlflow/api/2.0/mlflow-artifacts/artifacts/6d5735cbe89241f69cbbd4214ee6925e/71760d2f368441bb927e2c13e787bb99/artifacts/decision_tree/serving_input_example.json HTTP/11\" 200 None\n",
      "https://dagshub.com:443 \"POST /josmunpen/laliga-oracle-dags.mlflow/api/2.0/mlflow/runs/log-model HTTP/11\" 200 None\n",
      "https://dagshub.com:443 \"POST /josmunpen/laliga-oracle-dags.mlflow/api/2.0/mlflow/registered-models/create HTTP/11\" 400 None\n",
      "Registered model 'decision_tree' already exists. Creating a new version of this model...\n",
      "https://dagshub.com:443 \"GET /josmunpen/laliga-oracle-dags.mlflow/api/2.0/mlflow/runs/get?run_uuid=71760d2f368441bb927e2c13e787bb99&run_id=71760d2f368441bb927e2c13e787bb99 HTTP/11\" 200 None\n",
      "https://dagshub.com:443 \"POST /josmunpen/laliga-oracle-dags.mlflow/api/2.0/mlflow/model-versions/create HTTP/11\" 200 None\n",
      "2024/11/10 18:11:28 INFO mlflow.store.model_registry.abstract_store: Waiting up to 300 seconds for model version to finish creation. Model name: decision_tree, version 2\n",
      "Created version '2' of model 'decision_tree'.\n",
      "https://dagshub.com:443 \"GET /josmunpen/laliga-oracle-dags.mlflow/api/2.0/mlflow/runs/get?run_uuid=71760d2f368441bb927e2c13e787bb99&run_id=71760d2f368441bb927e2c13e787bb99 HTTP/11\" 200 None\n",
      "https://dagshub.com:443 \"GET /josmunpen/laliga-oracle-dags.mlflow/api/2.0/mlflow-artifacts/artifacts?path=6d5735cbe89241f69cbbd4214ee6925e%2F71760d2f368441bb927e2c13e787bb99%2Fartifacts%2Fdecision_tree HTTP/11\" 200 None\n",
      "https://dagshub.com:443 \"GET /josmunpen/laliga-oracle-dags.mlflow/api/2.0/mlflow-artifacts/artifacts?path=6d5735cbe89241f69cbbd4214ee6925e%2F71760d2f368441bb927e2c13e787bb99%2Fartifacts%2Fdecision_tree HTTP/11\" 200 None\n",
      "https://dagshub.com:443 \"GET /josmunpen/laliga-oracle-dags.mlflow/api/2.0/mlflow-artifacts/artifacts/6d5735cbe89241f69cbbd4214ee6925e/71760d2f368441bb927e2c13e787bb99/artifacts/decision_tree/conda.yaml HTTP/11\" 200 None\n",
      "https://dagshub.com:443 \"GET /josmunpen/laliga-oracle-dags.mlflow/api/2.0/mlflow-artifacts/artifacts/6d5735cbe89241f69cbbd4214ee6925e/71760d2f368441bb927e2c13e787bb99/artifacts/decision_tree/serving_input_example.json HTTP/11\" 200 None\n",
      "https://dagshub.com:443 \"GET /josmunpen/laliga-oracle-dags.mlflow/api/2.0/mlflow-artifacts/artifacts/6d5735cbe89241f69cbbd4214ee6925e/71760d2f368441bb927e2c13e787bb99/artifacts/decision_tree/requirements.txt HTTP/11\" 200 None\n",
      "https://dagshub.com:443 \"GET /josmunpen/laliga-oracle-dags.mlflow/api/2.0/mlflow-artifacts/artifacts/6d5735cbe89241f69cbbd4214ee6925e/71760d2f368441bb927e2c13e787bb99/artifacts/decision_tree/MLmodel HTTP/11\" 200 None\n",
      "https://dagshub.com:443 \"GET /josmunpen/laliga-oracle-dags.mlflow/api/2.0/mlflow-artifacts/artifacts/6d5735cbe89241f69cbbd4214ee6925e/71760d2f368441bb927e2c13e787bb99/artifacts/decision_tree/input_example.json HTTP/11\" 200 None\n",
      "https://dagshub.com:443 \"GET /josmunpen/laliga-oracle-dags.mlflow/api/2.0/mlflow-artifacts/artifacts/6d5735cbe89241f69cbbd4214ee6925e/71760d2f368441bb927e2c13e787bb99/artifacts/decision_tree/model.pkl HTTP/11\" 200 None\n",
      "https://dagshub.com:443 \"GET /josmunpen/laliga-oracle-dags.mlflow/api/2.0/mlflow-artifacts/artifacts/6d5735cbe89241f69cbbd4214ee6925e/71760d2f368441bb927e2c13e787bb99/artifacts/decision_tree/python_env.yaml HTTP/11\" 200 None\n",
      "C:\\Users\\josem\\AppData\\Local\\Temp\\ipykernel_19444\\2287690251.py:38: FutureWarning: ``mlflow.tracking.client.MlflowClient.get_latest_versions`` is deprecated since 2.9.0. Model registry stages will be removed in a future major release. To learn more about the deprecation of model registry stages, see our migration guide here: https://mlflow.org/docs/latest/model-registry.html#migrating-from-stages\n",
      "  model_info = mlflow_client.get_latest_versions(classifier_name)[0]\n",
      "https://dagshub.com:443 \"POST /josmunpen/laliga-oracle-dags.mlflow/api/2.0/mlflow/registered-models/get-latest-versions HTTP/11\" 200 None\n",
      "https://dagshub.com:443 \"POST /josmunpen/laliga-oracle-dags.mlflow/api/2.0/mlflow/model-versions/set-tag HTTP/11\" 200 None\n",
      "https://dagshub.com:443 \"GET /josmunpen/laliga-oracle-dags.mlflow/api/2.0/mlflow/runs/get?run_uuid=71760d2f368441bb927e2c13e787bb99&run_id=71760d2f368441bb927e2c13e787bb99 HTTP/11\" 200 None\n",
      "2024/11/10 18:11:41 INFO mlflow.tracking._tracking_service.client: 🏃 View run decision_tree_bd3cc05d1f8a3f0ad3a04912fcaef3a2 at: https://dagshub.com/josmunpen/laliga-oracle-dags.mlflow/#/experiments/5/runs/71760d2f368441bb927e2c13e787bb99.\n",
      "2024/11/10 18:11:41 INFO mlflow.tracking._tracking_service.client: 🧪 View experiment at: https://dagshub.com/josmunpen/laliga-oracle-dags.mlflow/#/experiments/5.\n",
      "https://dagshub.com:443 \"POST /josmunpen/laliga-oracle-dags.mlflow/api/2.0/mlflow/runs/update HTTP/11\" 200 None\n"
     ]
    },
    {
     "name": "stdout",
     "output_type": "stream",
     "text": [
      "Training rfc_10\n"
     ]
    },
    {
     "name": "stderr",
     "output_type": "stream",
     "text": [
      "https://dagshub.com:443 \"POST /josmunpen/laliga-oracle-dags.mlflow/api/2.0/mlflow/runs/create HTTP/11\" 200 None\n",
      "https://dagshub.com:443 \"POST /josmunpen/laliga-oracle-dags.mlflow/api/2.0/mlflow/runs/set-tag HTTP/11\" 200 None\n",
      "https://dagshub.com:443 \"POST /josmunpen/laliga-oracle-dags.mlflow/api/2.0/mlflow/runs/log-batch HTTP/11\" 200 None\n",
      "https://dagshub.com:443 \"POST /josmunpen/laliga-oracle-dags.mlflow/api/2.0/mlflow/runs/log-batch HTTP/11\" 200 None\n",
      "c:\\Users\\josem\\ds\\my-league-oracle\\env_train\\Lib\\site-packages\\mlflow\\types\\utils.py:407: UserWarning: Hint: Inferred schema contains integer column(s). Integer columns in Python cannot represent missing values. If your input data contains missing values at inference time, it will be encoded as floats and will cause a schema enforcement error. The best way to avoid this problem is to infer the model schema based on a realistic data sample (training dataset) that includes missing values. Alternatively, you can declare integer columns as doubles (float64) whenever these columns may have missing values. See `Handling Integers With Missing Values <https://www.mlflow.org/docs/latest/models.html#handling-integers-with-missing-values>`_ for more details.\n",
      "  warnings.warn(\n",
      "https://dagshub.com:443 \"GET /josmunpen/laliga-oracle-dags.mlflow/api/2.0/mlflow/runs/get?run_uuid=9b3e3cd788664f06955681455f203c5c&run_id=9b3e3cd788664f06955681455f203c5c HTTP/11\" 200 None\n",
      "https://dagshub.com:443 \"PUT /josmunpen/laliga-oracle-dags.mlflow/api/2.0/mlflow-artifacts/artifacts/6d5735cbe89241f69cbbd4214ee6925e/9b3e3cd788664f06955681455f203c5c/artifacts/rfc_10/conda.yaml HTTP/11\" 200 None\n",
      "https://dagshub.com:443 \"PUT /josmunpen/laliga-oracle-dags.mlflow/api/2.0/mlflow-artifacts/artifacts/6d5735cbe89241f69cbbd4214ee6925e/9b3e3cd788664f06955681455f203c5c/artifacts/rfc_10/input_example.json HTTP/11\" 200 None\n",
      "https://dagshub.com:443 \"PUT /josmunpen/laliga-oracle-dags.mlflow/api/2.0/mlflow-artifacts/artifacts/6d5735cbe89241f69cbbd4214ee6925e/9b3e3cd788664f06955681455f203c5c/artifacts/rfc_10/MLmodel HTTP/11\" 200 None\n",
      "https://dagshub.com:443 \"PUT /josmunpen/laliga-oracle-dags.mlflow/api/2.0/mlflow-artifacts/artifacts/6d5735cbe89241f69cbbd4214ee6925e/9b3e3cd788664f06955681455f203c5c/artifacts/rfc_10/model.pkl HTTP/11\" 200 None\n",
      "https://dagshub.com:443 \"PUT /josmunpen/laliga-oracle-dags.mlflow/api/2.0/mlflow-artifacts/artifacts/6d5735cbe89241f69cbbd4214ee6925e/9b3e3cd788664f06955681455f203c5c/artifacts/rfc_10/python_env.yaml HTTP/11\" 200 None\n",
      "https://dagshub.com:443 \"PUT /josmunpen/laliga-oracle-dags.mlflow/api/2.0/mlflow-artifacts/artifacts/6d5735cbe89241f69cbbd4214ee6925e/9b3e3cd788664f06955681455f203c5c/artifacts/rfc_10/requirements.txt HTTP/11\" 200 None\n",
      "https://dagshub.com:443 \"PUT /josmunpen/laliga-oracle-dags.mlflow/api/2.0/mlflow-artifacts/artifacts/6d5735cbe89241f69cbbd4214ee6925e/9b3e3cd788664f06955681455f203c5c/artifacts/rfc_10/serving_input_example.json HTTP/11\" 200 None\n",
      "https://dagshub.com:443 \"POST /josmunpen/laliga-oracle-dags.mlflow/api/2.0/mlflow/runs/log-model HTTP/11\" 200 None\n",
      "https://dagshub.com:443 \"POST /josmunpen/laliga-oracle-dags.mlflow/api/2.0/mlflow/registered-models/create HTTP/11\" 400 None\n",
      "Registered model 'rfc_10' already exists. Creating a new version of this model...\n",
      "https://dagshub.com:443 \"GET /josmunpen/laliga-oracle-dags.mlflow/api/2.0/mlflow/runs/get?run_uuid=9b3e3cd788664f06955681455f203c5c&run_id=9b3e3cd788664f06955681455f203c5c HTTP/11\" 200 None\n",
      "https://dagshub.com:443 \"POST /josmunpen/laliga-oracle-dags.mlflow/api/2.0/mlflow/model-versions/create HTTP/11\" 200 None\n",
      "2024/11/10 18:11:58 INFO mlflow.store.model_registry.abstract_store: Waiting up to 300 seconds for model version to finish creation. Model name: rfc_10, version 2\n",
      "Created version '2' of model 'rfc_10'.\n",
      "https://dagshub.com:443 \"GET /josmunpen/laliga-oracle-dags.mlflow/api/2.0/mlflow/runs/get?run_uuid=9b3e3cd788664f06955681455f203c5c&run_id=9b3e3cd788664f06955681455f203c5c HTTP/11\" 200 None\n",
      "https://dagshub.com:443 \"GET /josmunpen/laliga-oracle-dags.mlflow/api/2.0/mlflow-artifacts/artifacts?path=6d5735cbe89241f69cbbd4214ee6925e%2F9b3e3cd788664f06955681455f203c5c%2Fartifacts%2Frfc_10 HTTP/11\" 200 None\n",
      "https://dagshub.com:443 \"GET /josmunpen/laliga-oracle-dags.mlflow/api/2.0/mlflow-artifacts/artifacts?path=6d5735cbe89241f69cbbd4214ee6925e%2F9b3e3cd788664f06955681455f203c5c%2Fartifacts%2Frfc_10 HTTP/11\" 200 None\n",
      "https://dagshub.com:443 \"GET /josmunpen/laliga-oracle-dags.mlflow/api/2.0/mlflow-artifacts/artifacts/6d5735cbe89241f69cbbd4214ee6925e/9b3e3cd788664f06955681455f203c5c/artifacts/rfc_10/python_env.yaml HTTP/11\" 200 None\n",
      "https://dagshub.com:443 \"GET /josmunpen/laliga-oracle-dags.mlflow/api/2.0/mlflow-artifacts/artifacts/6d5735cbe89241f69cbbd4214ee6925e/9b3e3cd788664f06955681455f203c5c/artifacts/rfc_10/conda.yaml HTTP/11\" 200 None\n",
      "https://dagshub.com:443 \"GET /josmunpen/laliga-oracle-dags.mlflow/api/2.0/mlflow-artifacts/artifacts/6d5735cbe89241f69cbbd4214ee6925e/9b3e3cd788664f06955681455f203c5c/artifacts/rfc_10/model.pkl HTTP/11\" 200 None\n",
      "https://dagshub.com:443 \"GET /josmunpen/laliga-oracle-dags.mlflow/api/2.0/mlflow-artifacts/artifacts/6d5735cbe89241f69cbbd4214ee6925e/9b3e3cd788664f06955681455f203c5c/artifacts/rfc_10/requirements.txt HTTP/11\" 200 None\n",
      "https://dagshub.com:443 \"GET /josmunpen/laliga-oracle-dags.mlflow/api/2.0/mlflow-artifacts/artifacts/6d5735cbe89241f69cbbd4214ee6925e/9b3e3cd788664f06955681455f203c5c/artifacts/rfc_10/serving_input_example.json HTTP/11\" 200 None\n",
      "https://dagshub.com:443 \"GET /josmunpen/laliga-oracle-dags.mlflow/api/2.0/mlflow-artifacts/artifacts/6d5735cbe89241f69cbbd4214ee6925e/9b3e3cd788664f06955681455f203c5c/artifacts/rfc_10/MLmodel HTTP/11\" 200 None\n",
      "https://dagshub.com:443 \"GET /josmunpen/laliga-oracle-dags.mlflow/api/2.0/mlflow-artifacts/artifacts/6d5735cbe89241f69cbbd4214ee6925e/9b3e3cd788664f06955681455f203c5c/artifacts/rfc_10/input_example.json HTTP/11\" 200 None\n",
      "C:\\Users\\josem\\AppData\\Local\\Temp\\ipykernel_19444\\2287690251.py:38: FutureWarning: ``mlflow.tracking.client.MlflowClient.get_latest_versions`` is deprecated since 2.9.0. Model registry stages will be removed in a future major release. To learn more about the deprecation of model registry stages, see our migration guide here: https://mlflow.org/docs/latest/model-registry.html#migrating-from-stages\n",
      "  model_info = mlflow_client.get_latest_versions(classifier_name)[0]\n",
      "https://dagshub.com:443 \"POST /josmunpen/laliga-oracle-dags.mlflow/api/2.0/mlflow/registered-models/get-latest-versions HTTP/11\" 200 None\n",
      "https://dagshub.com:443 \"POST /josmunpen/laliga-oracle-dags.mlflow/api/2.0/mlflow/model-versions/set-tag HTTP/11\" 200 None\n",
      "https://dagshub.com:443 \"GET /josmunpen/laliga-oracle-dags.mlflow/api/2.0/mlflow/runs/get?run_uuid=9b3e3cd788664f06955681455f203c5c&run_id=9b3e3cd788664f06955681455f203c5c HTTP/11\" 200 None\n",
      "2024/11/10 18:12:11 INFO mlflow.tracking._tracking_service.client: 🏃 View run rfc_10_d87ecac55ca29aebe09d2dc640f42dc2 at: https://dagshub.com/josmunpen/laliga-oracle-dags.mlflow/#/experiments/5/runs/9b3e3cd788664f06955681455f203c5c.\n",
      "2024/11/10 18:12:11 INFO mlflow.tracking._tracking_service.client: 🧪 View experiment at: https://dagshub.com/josmunpen/laliga-oracle-dags.mlflow/#/experiments/5.\n",
      "https://dagshub.com:443 \"POST /josmunpen/laliga-oracle-dags.mlflow/api/2.0/mlflow/runs/update HTTP/11\" 200 None\n"
     ]
    },
    {
     "name": "stdout",
     "output_type": "stream",
     "text": [
      "Training rfc_100\n"
     ]
    },
    {
     "name": "stderr",
     "output_type": "stream",
     "text": [
      "https://dagshub.com:443 \"POST /josmunpen/laliga-oracle-dags.mlflow/api/2.0/mlflow/runs/create HTTP/11\" 200 None\n",
      "https://dagshub.com:443 \"POST /josmunpen/laliga-oracle-dags.mlflow/api/2.0/mlflow/runs/set-tag HTTP/11\" 200 None\n",
      "https://dagshub.com:443 \"POST /josmunpen/laliga-oracle-dags.mlflow/api/2.0/mlflow/runs/log-batch HTTP/11\" 200 None\n",
      "https://dagshub.com:443 \"POST /josmunpen/laliga-oracle-dags.mlflow/api/2.0/mlflow/runs/log-batch HTTP/11\" 200 None\n",
      "c:\\Users\\josem\\ds\\my-league-oracle\\env_train\\Lib\\site-packages\\mlflow\\types\\utils.py:407: UserWarning: Hint: Inferred schema contains integer column(s). Integer columns in Python cannot represent missing values. If your input data contains missing values at inference time, it will be encoded as floats and will cause a schema enforcement error. The best way to avoid this problem is to infer the model schema based on a realistic data sample (training dataset) that includes missing values. Alternatively, you can declare integer columns as doubles (float64) whenever these columns may have missing values. See `Handling Integers With Missing Values <https://www.mlflow.org/docs/latest/models.html#handling-integers-with-missing-values>`_ for more details.\n",
      "  warnings.warn(\n",
      "https://dagshub.com:443 \"GET /josmunpen/laliga-oracle-dags.mlflow/api/2.0/mlflow/runs/get?run_uuid=36fe7036cfc74793b043a0073646615b&run_id=36fe7036cfc74793b043a0073646615b HTTP/11\" 200 None\n",
      "https://dagshub.com:443 \"PUT /josmunpen/laliga-oracle-dags.mlflow/api/2.0/mlflow-artifacts/artifacts/6d5735cbe89241f69cbbd4214ee6925e/36fe7036cfc74793b043a0073646615b/artifacts/rfc_100/conda.yaml HTTP/11\" 200 None\n",
      "https://dagshub.com:443 \"PUT /josmunpen/laliga-oracle-dags.mlflow/api/2.0/mlflow-artifacts/artifacts/6d5735cbe89241f69cbbd4214ee6925e/36fe7036cfc74793b043a0073646615b/artifacts/rfc_100/input_example.json HTTP/11\" 200 None\n",
      "https://dagshub.com:443 \"PUT /josmunpen/laliga-oracle-dags.mlflow/api/2.0/mlflow-artifacts/artifacts/6d5735cbe89241f69cbbd4214ee6925e/36fe7036cfc74793b043a0073646615b/artifacts/rfc_100/MLmodel HTTP/11\" 200 None\n",
      "https://dagshub.com:443 \"PUT /josmunpen/laliga-oracle-dags.mlflow/api/2.0/mlflow-artifacts/artifacts/6d5735cbe89241f69cbbd4214ee6925e/36fe7036cfc74793b043a0073646615b/artifacts/rfc_100/model.pkl HTTP/11\" 200 None\n",
      "https://dagshub.com:443 \"PUT /josmunpen/laliga-oracle-dags.mlflow/api/2.0/mlflow-artifacts/artifacts/6d5735cbe89241f69cbbd4214ee6925e/36fe7036cfc74793b043a0073646615b/artifacts/rfc_100/python_env.yaml HTTP/11\" 200 None\n",
      "https://dagshub.com:443 \"PUT /josmunpen/laliga-oracle-dags.mlflow/api/2.0/mlflow-artifacts/artifacts/6d5735cbe89241f69cbbd4214ee6925e/36fe7036cfc74793b043a0073646615b/artifacts/rfc_100/requirements.txt HTTP/11\" 200 None\n",
      "https://dagshub.com:443 \"PUT /josmunpen/laliga-oracle-dags.mlflow/api/2.0/mlflow-artifacts/artifacts/6d5735cbe89241f69cbbd4214ee6925e/36fe7036cfc74793b043a0073646615b/artifacts/rfc_100/serving_input_example.json HTTP/11\" 200 None\n",
      "https://dagshub.com:443 \"POST /josmunpen/laliga-oracle-dags.mlflow/api/2.0/mlflow/runs/log-model HTTP/11\" 200 None\n",
      "https://dagshub.com:443 \"POST /josmunpen/laliga-oracle-dags.mlflow/api/2.0/mlflow/registered-models/create HTTP/11\" 400 None\n",
      "Registered model 'rfc_100' already exists. Creating a new version of this model...\n",
      "https://dagshub.com:443 \"GET /josmunpen/laliga-oracle-dags.mlflow/api/2.0/mlflow/runs/get?run_uuid=36fe7036cfc74793b043a0073646615b&run_id=36fe7036cfc74793b043a0073646615b HTTP/11\" 200 None\n",
      "https://dagshub.com:443 \"POST /josmunpen/laliga-oracle-dags.mlflow/api/2.0/mlflow/model-versions/create HTTP/11\" 200 None\n",
      "2024/11/10 18:12:28 INFO mlflow.store.model_registry.abstract_store: Waiting up to 300 seconds for model version to finish creation. Model name: rfc_100, version 2\n",
      "Created version '2' of model 'rfc_100'.\n",
      "https://dagshub.com:443 \"GET /josmunpen/laliga-oracle-dags.mlflow/api/2.0/mlflow/runs/get?run_uuid=36fe7036cfc74793b043a0073646615b&run_id=36fe7036cfc74793b043a0073646615b HTTP/11\" 200 None\n",
      "https://dagshub.com:443 \"GET /josmunpen/laliga-oracle-dags.mlflow/api/2.0/mlflow-artifacts/artifacts?path=6d5735cbe89241f69cbbd4214ee6925e%2F36fe7036cfc74793b043a0073646615b%2Fartifacts%2Frfc_100 HTTP/11\" 200 None\n",
      "https://dagshub.com:443 \"GET /josmunpen/laliga-oracle-dags.mlflow/api/2.0/mlflow-artifacts/artifacts?path=6d5735cbe89241f69cbbd4214ee6925e%2F36fe7036cfc74793b043a0073646615b%2Fartifacts%2Frfc_100 HTTP/11\" 200 None\n",
      "https://dagshub.com:443 \"GET /josmunpen/laliga-oracle-dags.mlflow/api/2.0/mlflow-artifacts/artifacts/6d5735cbe89241f69cbbd4214ee6925e/36fe7036cfc74793b043a0073646615b/artifacts/rfc_100/requirements.txt HTTP/11\" 200 None\n",
      "https://dagshub.com:443 \"GET /josmunpen/laliga-oracle-dags.mlflow/api/2.0/mlflow-artifacts/artifacts/6d5735cbe89241f69cbbd4214ee6925e/36fe7036cfc74793b043a0073646615b/artifacts/rfc_100/model.pkl HTTP/11\" 200 None\n",
      "https://dagshub.com:443 \"GET /josmunpen/laliga-oracle-dags.mlflow/api/2.0/mlflow-artifacts/artifacts/6d5735cbe89241f69cbbd4214ee6925e/36fe7036cfc74793b043a0073646615b/artifacts/rfc_100/MLmodel HTTP/11\" 200 None\n",
      "https://dagshub.com:443 \"GET /josmunpen/laliga-oracle-dags.mlflow/api/2.0/mlflow-artifacts/artifacts/6d5735cbe89241f69cbbd4214ee6925e/36fe7036cfc74793b043a0073646615b/artifacts/rfc_100/serving_input_example.json HTTP/11\" 200 None\n",
      "https://dagshub.com:443 \"GET /josmunpen/laliga-oracle-dags.mlflow/api/2.0/mlflow-artifacts/artifacts/6d5735cbe89241f69cbbd4214ee6925e/36fe7036cfc74793b043a0073646615b/artifacts/rfc_100/conda.yaml HTTP/11\" 200 None\n",
      "https://dagshub.com:443 \"GET /josmunpen/laliga-oracle-dags.mlflow/api/2.0/mlflow-artifacts/artifacts/6d5735cbe89241f69cbbd4214ee6925e/36fe7036cfc74793b043a0073646615b/artifacts/rfc_100/python_env.yaml HTTP/11\" 200 None\n",
      "https://dagshub.com:443 \"GET /josmunpen/laliga-oracle-dags.mlflow/api/2.0/mlflow-artifacts/artifacts/6d5735cbe89241f69cbbd4214ee6925e/36fe7036cfc74793b043a0073646615b/artifacts/rfc_100/input_example.json HTTP/11\" 200 None\n",
      "C:\\Users\\josem\\AppData\\Local\\Temp\\ipykernel_19444\\2287690251.py:38: FutureWarning: ``mlflow.tracking.client.MlflowClient.get_latest_versions`` is deprecated since 2.9.0. Model registry stages will be removed in a future major release. To learn more about the deprecation of model registry stages, see our migration guide here: https://mlflow.org/docs/latest/model-registry.html#migrating-from-stages\n",
      "  model_info = mlflow_client.get_latest_versions(classifier_name)[0]\n",
      "https://dagshub.com:443 \"POST /josmunpen/laliga-oracle-dags.mlflow/api/2.0/mlflow/registered-models/get-latest-versions HTTP/11\" 200 None\n",
      "https://dagshub.com:443 \"POST /josmunpen/laliga-oracle-dags.mlflow/api/2.0/mlflow/model-versions/set-tag HTTP/11\" 200 None\n",
      "https://dagshub.com:443 \"GET /josmunpen/laliga-oracle-dags.mlflow/api/2.0/mlflow/runs/get?run_uuid=36fe7036cfc74793b043a0073646615b&run_id=36fe7036cfc74793b043a0073646615b HTTP/11\" 200 None\n",
      "2024/11/10 18:12:41 INFO mlflow.tracking._tracking_service.client: 🏃 View run rfc_100_ebcc1a8bec5546ca401decd4a82ce9c4 at: https://dagshub.com/josmunpen/laliga-oracle-dags.mlflow/#/experiments/5/runs/36fe7036cfc74793b043a0073646615b.\n",
      "2024/11/10 18:12:41 INFO mlflow.tracking._tracking_service.client: 🧪 View experiment at: https://dagshub.com/josmunpen/laliga-oracle-dags.mlflow/#/experiments/5.\n",
      "https://dagshub.com:443 \"POST /josmunpen/laliga-oracle-dags.mlflow/api/2.0/mlflow/runs/update HTTP/11\" 200 None\n"
     ]
    },
    {
     "name": "stdout",
     "output_type": "stream",
     "text": [
      "Training rfc_1000\n"
     ]
    },
    {
     "name": "stderr",
     "output_type": "stream",
     "text": [
      "https://dagshub.com:443 \"POST /josmunpen/laliga-oracle-dags.mlflow/api/2.0/mlflow/runs/create HTTP/11\" 200 None\n",
      "https://dagshub.com:443 \"POST /josmunpen/laliga-oracle-dags.mlflow/api/2.0/mlflow/runs/set-tag HTTP/11\" 200 None\n",
      "https://dagshub.com:443 \"POST /josmunpen/laliga-oracle-dags.mlflow/api/2.0/mlflow/runs/log-batch HTTP/11\" 200 None\n",
      "https://dagshub.com:443 \"POST /josmunpen/laliga-oracle-dags.mlflow/api/2.0/mlflow/runs/log-batch HTTP/11\" 200 None\n",
      "c:\\Users\\josem\\ds\\my-league-oracle\\env_train\\Lib\\site-packages\\mlflow\\types\\utils.py:407: UserWarning: Hint: Inferred schema contains integer column(s). Integer columns in Python cannot represent missing values. If your input data contains missing values at inference time, it will be encoded as floats and will cause a schema enforcement error. The best way to avoid this problem is to infer the model schema based on a realistic data sample (training dataset) that includes missing values. Alternatively, you can declare integer columns as doubles (float64) whenever these columns may have missing values. See `Handling Integers With Missing Values <https://www.mlflow.org/docs/latest/models.html#handling-integers-with-missing-values>`_ for more details.\n",
      "  warnings.warn(\n",
      "https://dagshub.com:443 \"GET /josmunpen/laliga-oracle-dags.mlflow/api/2.0/mlflow/runs/get?run_uuid=30998ffe63e14db9a42e69b6d6095381&run_id=30998ffe63e14db9a42e69b6d6095381 HTTP/11\" 200 None\n",
      "https://dagshub.com:443 \"PUT /josmunpen/laliga-oracle-dags.mlflow/api/2.0/mlflow-artifacts/artifacts/6d5735cbe89241f69cbbd4214ee6925e/30998ffe63e14db9a42e69b6d6095381/artifacts/rfc_1000/conda.yaml HTTP/11\" 200 None\n",
      "https://dagshub.com:443 \"PUT /josmunpen/laliga-oracle-dags.mlflow/api/2.0/mlflow-artifacts/artifacts/6d5735cbe89241f69cbbd4214ee6925e/30998ffe63e14db9a42e69b6d6095381/artifacts/rfc_1000/input_example.json HTTP/11\" 200 None\n",
      "https://dagshub.com:443 \"PUT /josmunpen/laliga-oracle-dags.mlflow/api/2.0/mlflow-artifacts/artifacts/6d5735cbe89241f69cbbd4214ee6925e/30998ffe63e14db9a42e69b6d6095381/artifacts/rfc_1000/MLmodel HTTP/11\" 200 None\n",
      "https://dagshub.com:443 \"PUT /josmunpen/laliga-oracle-dags.mlflow/api/2.0/mlflow-artifacts/artifacts/6d5735cbe89241f69cbbd4214ee6925e/30998ffe63e14db9a42e69b6d6095381/artifacts/rfc_1000/model.pkl HTTP/11\" 200 None\n",
      "https://dagshub.com:443 \"PUT /josmunpen/laliga-oracle-dags.mlflow/api/2.0/mlflow-artifacts/artifacts/6d5735cbe89241f69cbbd4214ee6925e/30998ffe63e14db9a42e69b6d6095381/artifacts/rfc_1000/python_env.yaml HTTP/11\" 200 None\n",
      "https://dagshub.com:443 \"PUT /josmunpen/laliga-oracle-dags.mlflow/api/2.0/mlflow-artifacts/artifacts/6d5735cbe89241f69cbbd4214ee6925e/30998ffe63e14db9a42e69b6d6095381/artifacts/rfc_1000/requirements.txt HTTP/11\" 200 None\n",
      "https://dagshub.com:443 \"PUT /josmunpen/laliga-oracle-dags.mlflow/api/2.0/mlflow-artifacts/artifacts/6d5735cbe89241f69cbbd4214ee6925e/30998ffe63e14db9a42e69b6d6095381/artifacts/rfc_1000/serving_input_example.json HTTP/11\" 200 None\n",
      "https://dagshub.com:443 \"POST /josmunpen/laliga-oracle-dags.mlflow/api/2.0/mlflow/runs/log-model HTTP/11\" 200 None\n",
      "https://dagshub.com:443 \"POST /josmunpen/laliga-oracle-dags.mlflow/api/2.0/mlflow/registered-models/create HTTP/11\" 400 None\n",
      "Registered model 'rfc_1000' already exists. Creating a new version of this model...\n",
      "https://dagshub.com:443 \"GET /josmunpen/laliga-oracle-dags.mlflow/api/2.0/mlflow/runs/get?run_uuid=30998ffe63e14db9a42e69b6d6095381&run_id=30998ffe63e14db9a42e69b6d6095381 HTTP/11\" 200 None\n",
      "https://dagshub.com:443 \"POST /josmunpen/laliga-oracle-dags.mlflow/api/2.0/mlflow/model-versions/create HTTP/11\" 200 None\n",
      "2024/11/10 18:13:27 INFO mlflow.store.model_registry.abstract_store: Waiting up to 300 seconds for model version to finish creation. Model name: rfc_1000, version 2\n",
      "Created version '2' of model 'rfc_1000'.\n",
      "https://dagshub.com:443 \"GET /josmunpen/laliga-oracle-dags.mlflow/api/2.0/mlflow/runs/get?run_uuid=30998ffe63e14db9a42e69b6d6095381&run_id=30998ffe63e14db9a42e69b6d6095381 HTTP/11\" 200 None\n",
      "https://dagshub.com:443 \"GET /josmunpen/laliga-oracle-dags.mlflow/api/2.0/mlflow-artifacts/artifacts?path=6d5735cbe89241f69cbbd4214ee6925e%2F30998ffe63e14db9a42e69b6d6095381%2Fartifacts%2Frfc_1000 HTTP/11\" 200 None\n",
      "https://dagshub.com:443 \"GET /josmunpen/laliga-oracle-dags.mlflow/api/2.0/mlflow-artifacts/artifacts?path=6d5735cbe89241f69cbbd4214ee6925e%2F30998ffe63e14db9a42e69b6d6095381%2Fartifacts%2Frfc_1000 HTTP/11\" 200 None\n",
      "https://dagshub.com:443 \"GET /josmunpen/laliga-oracle-dags.mlflow/api/2.0/mlflow-artifacts/artifacts/6d5735cbe89241f69cbbd4214ee6925e/30998ffe63e14db9a42e69b6d6095381/artifacts/rfc_1000/MLmodel HTTP/11\" 200 None\n",
      "https://dagshub.com:443 \"GET /josmunpen/laliga-oracle-dags.mlflow/api/2.0/mlflow-artifacts/artifacts/6d5735cbe89241f69cbbd4214ee6925e/30998ffe63e14db9a42e69b6d6095381/artifacts/rfc_1000/requirements.txt HTTP/11\" 200 None\n",
      "https://dagshub.com:443 \"GET /josmunpen/laliga-oracle-dags.mlflow/api/2.0/mlflow-artifacts/artifacts/6d5735cbe89241f69cbbd4214ee6925e/30998ffe63e14db9a42e69b6d6095381/artifacts/rfc_1000/conda.yaml HTTP/11\" 200 None\n",
      "https://dagshub.com:443 \"GET /josmunpen/laliga-oracle-dags.mlflow/api/2.0/mlflow-artifacts/artifacts/6d5735cbe89241f69cbbd4214ee6925e/30998ffe63e14db9a42e69b6d6095381/artifacts/rfc_1000/serving_input_example.json HTTP/11\" 200 None\n",
      "https://dagshub.com:443 \"GET /josmunpen/laliga-oracle-dags.mlflow/api/2.0/mlflow-artifacts/artifacts/6d5735cbe89241f69cbbd4214ee6925e/30998ffe63e14db9a42e69b6d6095381/artifacts/rfc_1000/input_example.json HTTP/11\" 200 None\n",
      "https://dagshub.com:443 \"GET /josmunpen/laliga-oracle-dags.mlflow/api/2.0/mlflow-artifacts/artifacts/6d5735cbe89241f69cbbd4214ee6925e/30998ffe63e14db9a42e69b6d6095381/artifacts/rfc_1000/model.pkl HTTP/11\" 200 None\n",
      "https://dagshub.com:443 \"GET /josmunpen/laliga-oracle-dags.mlflow/api/2.0/mlflow-artifacts/artifacts/6d5735cbe89241f69cbbd4214ee6925e/30998ffe63e14db9a42e69b6d6095381/artifacts/rfc_1000/python_env.yaml HTTP/11\" 200 None\n",
      "C:\\Users\\josem\\AppData\\Local\\Temp\\ipykernel_19444\\2287690251.py:38: FutureWarning: ``mlflow.tracking.client.MlflowClient.get_latest_versions`` is deprecated since 2.9.0. Model registry stages will be removed in a future major release. To learn more about the deprecation of model registry stages, see our migration guide here: https://mlflow.org/docs/latest/model-registry.html#migrating-from-stages\n",
      "  model_info = mlflow_client.get_latest_versions(classifier_name)[0]\n",
      "https://dagshub.com:443 \"POST /josmunpen/laliga-oracle-dags.mlflow/api/2.0/mlflow/registered-models/get-latest-versions HTTP/11\" 200 None\n",
      "https://dagshub.com:443 \"POST /josmunpen/laliga-oracle-dags.mlflow/api/2.0/mlflow/model-versions/set-tag HTTP/11\" 200 None\n",
      "https://dagshub.com:443 \"GET /josmunpen/laliga-oracle-dags.mlflow/api/2.0/mlflow/runs/get?run_uuid=30998ffe63e14db9a42e69b6d6095381&run_id=30998ffe63e14db9a42e69b6d6095381 HTTP/11\" 200 None\n",
      "2024/11/10 18:13:34 INFO mlflow.tracking._tracking_service.client: 🏃 View run rfc_1000_53143ad6a4b4958742c03434dde01d86 at: https://dagshub.com/josmunpen/laliga-oracle-dags.mlflow/#/experiments/5/runs/30998ffe63e14db9a42e69b6d6095381.\n",
      "2024/11/10 18:13:34 INFO mlflow.tracking._tracking_service.client: 🧪 View experiment at: https://dagshub.com/josmunpen/laliga-oracle-dags.mlflow/#/experiments/5.\n",
      "https://dagshub.com:443 \"POST /josmunpen/laliga-oracle-dags.mlflow/api/2.0/mlflow/runs/update HTTP/11\" 200 None\n"
     ]
    },
    {
     "name": "stdout",
     "output_type": "stream",
     "text": [
      "Training gbr\n"
     ]
    },
    {
     "name": "stderr",
     "output_type": "stream",
     "text": [
      "https://dagshub.com:443 \"POST /josmunpen/laliga-oracle-dags.mlflow/api/2.0/mlflow/runs/create HTTP/11\" 200 None\n",
      "https://dagshub.com:443 \"POST /josmunpen/laliga-oracle-dags.mlflow/api/2.0/mlflow/runs/set-tag HTTP/11\" 200 None\n",
      "https://dagshub.com:443 \"POST /josmunpen/laliga-oracle-dags.mlflow/api/2.0/mlflow/runs/log-batch HTTP/11\" 200 None\n",
      "https://dagshub.com:443 \"POST /josmunpen/laliga-oracle-dags.mlflow/api/2.0/mlflow/runs/log-batch HTTP/11\" 200 None\n",
      "c:\\Users\\josem\\ds\\my-league-oracle\\env_train\\Lib\\site-packages\\mlflow\\types\\utils.py:407: UserWarning: Hint: Inferred schema contains integer column(s). Integer columns in Python cannot represent missing values. If your input data contains missing values at inference time, it will be encoded as floats and will cause a schema enforcement error. The best way to avoid this problem is to infer the model schema based on a realistic data sample (training dataset) that includes missing values. Alternatively, you can declare integer columns as doubles (float64) whenever these columns may have missing values. See `Handling Integers With Missing Values <https://www.mlflow.org/docs/latest/models.html#handling-integers-with-missing-values>`_ for more details.\n",
      "  warnings.warn(\n",
      "https://dagshub.com:443 \"GET /josmunpen/laliga-oracle-dags.mlflow/api/2.0/mlflow/runs/get?run_uuid=851c479a82a74237bb34e9215232de3d&run_id=851c479a82a74237bb34e9215232de3d HTTP/11\" 200 None\n",
      "https://dagshub.com:443 \"PUT /josmunpen/laliga-oracle-dags.mlflow/api/2.0/mlflow-artifacts/artifacts/6d5735cbe89241f69cbbd4214ee6925e/851c479a82a74237bb34e9215232de3d/artifacts/gbr/conda.yaml HTTP/11\" 200 None\n",
      "https://dagshub.com:443 \"PUT /josmunpen/laliga-oracle-dags.mlflow/api/2.0/mlflow-artifacts/artifacts/6d5735cbe89241f69cbbd4214ee6925e/851c479a82a74237bb34e9215232de3d/artifacts/gbr/input_example.json HTTP/11\" 200 None\n",
      "https://dagshub.com:443 \"PUT /josmunpen/laliga-oracle-dags.mlflow/api/2.0/mlflow-artifacts/artifacts/6d5735cbe89241f69cbbd4214ee6925e/851c479a82a74237bb34e9215232de3d/artifacts/gbr/MLmodel HTTP/11\" 200 None\n",
      "https://dagshub.com:443 \"PUT /josmunpen/laliga-oracle-dags.mlflow/api/2.0/mlflow-artifacts/artifacts/6d5735cbe89241f69cbbd4214ee6925e/851c479a82a74237bb34e9215232de3d/artifacts/gbr/model.pkl HTTP/11\" 200 None\n",
      "https://dagshub.com:443 \"PUT /josmunpen/laliga-oracle-dags.mlflow/api/2.0/mlflow-artifacts/artifacts/6d5735cbe89241f69cbbd4214ee6925e/851c479a82a74237bb34e9215232de3d/artifacts/gbr/python_env.yaml HTTP/11\" 200 None\n",
      "https://dagshub.com:443 \"PUT /josmunpen/laliga-oracle-dags.mlflow/api/2.0/mlflow-artifacts/artifacts/6d5735cbe89241f69cbbd4214ee6925e/851c479a82a74237bb34e9215232de3d/artifacts/gbr/requirements.txt HTTP/11\" 200 None\n",
      "https://dagshub.com:443 \"PUT /josmunpen/laliga-oracle-dags.mlflow/api/2.0/mlflow-artifacts/artifacts/6d5735cbe89241f69cbbd4214ee6925e/851c479a82a74237bb34e9215232de3d/artifacts/gbr/serving_input_example.json HTTP/11\" 200 None\n",
      "https://dagshub.com:443 \"POST /josmunpen/laliga-oracle-dags.mlflow/api/2.0/mlflow/runs/log-model HTTP/11\" 200 None\n",
      "https://dagshub.com:443 \"POST /josmunpen/laliga-oracle-dags.mlflow/api/2.0/mlflow/registered-models/create HTTP/11\" 400 None\n",
      "Registered model 'gbr' already exists. Creating a new version of this model...\n",
      "https://dagshub.com:443 \"GET /josmunpen/laliga-oracle-dags.mlflow/api/2.0/mlflow/runs/get?run_uuid=851c479a82a74237bb34e9215232de3d&run_id=851c479a82a74237bb34e9215232de3d HTTP/11\" 200 None\n",
      "https://dagshub.com:443 \"POST /josmunpen/laliga-oracle-dags.mlflow/api/2.0/mlflow/model-versions/create HTTP/11\" 200 None\n",
      "2024/11/10 18:13:53 INFO mlflow.store.model_registry.abstract_store: Waiting up to 300 seconds for model version to finish creation. Model name: gbr, version 2\n",
      "Created version '2' of model 'gbr'.\n",
      "https://dagshub.com:443 \"GET /josmunpen/laliga-oracle-dags.mlflow/api/2.0/mlflow/runs/get?run_uuid=851c479a82a74237bb34e9215232de3d&run_id=851c479a82a74237bb34e9215232de3d HTTP/11\" 200 None\n",
      "https://dagshub.com:443 \"GET /josmunpen/laliga-oracle-dags.mlflow/api/2.0/mlflow-artifacts/artifacts?path=6d5735cbe89241f69cbbd4214ee6925e%2F851c479a82a74237bb34e9215232de3d%2Fartifacts%2Fgbr HTTP/11\" 200 None\n",
      "https://dagshub.com:443 \"GET /josmunpen/laliga-oracle-dags.mlflow/api/2.0/mlflow-artifacts/artifacts?path=6d5735cbe89241f69cbbd4214ee6925e%2F851c479a82a74237bb34e9215232de3d%2Fartifacts%2Fgbr HTTP/11\" 200 None\n",
      "https://dagshub.com:443 \"GET /josmunpen/laliga-oracle-dags.mlflow/api/2.0/mlflow-artifacts/artifacts/6d5735cbe89241f69cbbd4214ee6925e/851c479a82a74237bb34e9215232de3d/artifacts/gbr/MLmodel HTTP/11\" 200 None\n",
      "https://dagshub.com:443 \"GET /josmunpen/laliga-oracle-dags.mlflow/api/2.0/mlflow-artifacts/artifacts/6d5735cbe89241f69cbbd4214ee6925e/851c479a82a74237bb34e9215232de3d/artifacts/gbr/input_example.json HTTP/11\" 200 None\n",
      "https://dagshub.com:443 \"GET /josmunpen/laliga-oracle-dags.mlflow/api/2.0/mlflow-artifacts/artifacts/6d5735cbe89241f69cbbd4214ee6925e/851c479a82a74237bb34e9215232de3d/artifacts/gbr/serving_input_example.json HTTP/11\" 200 None\n",
      "https://dagshub.com:443 \"GET /josmunpen/laliga-oracle-dags.mlflow/api/2.0/mlflow-artifacts/artifacts/6d5735cbe89241f69cbbd4214ee6925e/851c479a82a74237bb34e9215232de3d/artifacts/gbr/model.pkl HTTP/11\" 200 None\n",
      "https://dagshub.com:443 \"GET /josmunpen/laliga-oracle-dags.mlflow/api/2.0/mlflow-artifacts/artifacts/6d5735cbe89241f69cbbd4214ee6925e/851c479a82a74237bb34e9215232de3d/artifacts/gbr/requirements.txt HTTP/11\" 200 None\n",
      "https://dagshub.com:443 \"GET /josmunpen/laliga-oracle-dags.mlflow/api/2.0/mlflow-artifacts/artifacts/6d5735cbe89241f69cbbd4214ee6925e/851c479a82a74237bb34e9215232de3d/artifacts/gbr/conda.yaml HTTP/11\" 200 None\n",
      "https://dagshub.com:443 \"GET /josmunpen/laliga-oracle-dags.mlflow/api/2.0/mlflow-artifacts/artifacts/6d5735cbe89241f69cbbd4214ee6925e/851c479a82a74237bb34e9215232de3d/artifacts/gbr/python_env.yaml HTTP/11\" 200 None\n",
      "C:\\Users\\josem\\AppData\\Local\\Temp\\ipykernel_19444\\2287690251.py:38: FutureWarning: ``mlflow.tracking.client.MlflowClient.get_latest_versions`` is deprecated since 2.9.0. Model registry stages will be removed in a future major release. To learn more about the deprecation of model registry stages, see our migration guide here: https://mlflow.org/docs/latest/model-registry.html#migrating-from-stages\n",
      "  model_info = mlflow_client.get_latest_versions(classifier_name)[0]\n",
      "https://dagshub.com:443 \"POST /josmunpen/laliga-oracle-dags.mlflow/api/2.0/mlflow/registered-models/get-latest-versions HTTP/11\" 200 None\n",
      "https://dagshub.com:443 \"POST /josmunpen/laliga-oracle-dags.mlflow/api/2.0/mlflow/model-versions/set-tag HTTP/11\" 200 None\n",
      "https://dagshub.com:443 \"GET /josmunpen/laliga-oracle-dags.mlflow/api/2.0/mlflow/runs/get?run_uuid=851c479a82a74237bb34e9215232de3d&run_id=851c479a82a74237bb34e9215232de3d HTTP/11\" 200 None\n",
      "2024/11/10 18:14:04 INFO mlflow.tracking._tracking_service.client: 🏃 View run gbr_0d8dde951a0499b3b6a44e3b610dcd5f at: https://dagshub.com/josmunpen/laliga-oracle-dags.mlflow/#/experiments/5/runs/851c479a82a74237bb34e9215232de3d.\n",
      "2024/11/10 18:14:04 INFO mlflow.tracking._tracking_service.client: 🧪 View experiment at: https://dagshub.com/josmunpen/laliga-oracle-dags.mlflow/#/experiments/5.\n",
      "https://dagshub.com:443 \"POST /josmunpen/laliga-oracle-dags.mlflow/api/2.0/mlflow/runs/update HTTP/11\" 200 None\n"
     ]
    }
   ],
   "source": [
    "for name, classifier in classifiers.items():\n",
    "    print(f\"Training {name}\")\n",
    "    trained_model, model_metrics = evaluate_classifier(classifier, X, y)\n",
    "\n",
    "    # cm = metrics.ConfusionMatrixDisplay(\n",
    "    #     confusion_matrix=model_metrics[\"confusion_matrix\"]\n",
    "    # ).plot()\n",
    "    run_id = track_run(\n",
    "        trained_model,\n",
    "        name,\n",
    "        log_model=True,\n",
    "        model_metrics=model_metrics,\n",
    "        mlflow_client=mlflow_client,\n",
    "        params={\n",
    "            \"dataset_size\": num_samples,\n",
    "            \"scaled\": scaled,\n",
    "            \"history_feature\": history_feature,\n",
    "        },\n",
    "        tags = {\n",
    "            \"date_version\": datetime.datetime.now().strftime(\"%Y-%m-%d\")\n",
    "        }\n",
    "        # figures={\"confusion_matrix\": cm.figure_},\n",
    "    )\n",
    "    row_dict = model_metrics.copy()\n",
    "    row_dict[\"run_id\"] = run_id\n",
    "    runs.loc[name] = row_dict\n",
    "    "
   ]
  },
  {
   "cell_type": "code",
   "execution_count": 311,
   "metadata": {},
   "outputs": [
    {
     "data": {
      "text/html": [
       "<div>\n",
       "<style scoped>\n",
       "    .dataframe tbody tr th:only-of-type {\n",
       "        vertical-align: middle;\n",
       "    }\n",
       "\n",
       "    .dataframe tbody tr th {\n",
       "        vertical-align: top;\n",
       "    }\n",
       "\n",
       "    .dataframe thead th {\n",
       "        text-align: right;\n",
       "    }\n",
       "</style>\n",
       "<table border=\"1\" class=\"dataframe\">\n",
       "  <thead>\n",
       "    <tr style=\"text-align: right;\">\n",
       "      <th></th>\n",
       "      <th>run_id</th>\n",
       "      <th>accuracy</th>\n",
       "      <th>precision</th>\n",
       "      <th>recall</th>\n",
       "      <th>f1</th>\n",
       "      <th>confusion_matrix</th>\n",
       "      <th>elapsed_time</th>\n",
       "    </tr>\n",
       "  </thead>\n",
       "  <tbody>\n",
       "    <tr>\n",
       "      <th>logistic_regression</th>\n",
       "      <td>72df9d81703646058461d53081662405</td>\n",
       "      <td>0.507289</td>\n",
       "      <td>0.440315</td>\n",
       "      <td>0.447630</td>\n",
       "      <td>0.438651</td>\n",
       "      <td>NaN</td>\n",
       "      <td>4.315142</td>\n",
       "    </tr>\n",
       "    <tr>\n",
       "      <th>knn_1</th>\n",
       "      <td>47a59f95dbcc46ffb3f5d20123d2ed90</td>\n",
       "      <td>0.448980</td>\n",
       "      <td>0.406475</td>\n",
       "      <td>0.406684</td>\n",
       "      <td>0.406366</td>\n",
       "      <td>NaN</td>\n",
       "      <td>0.244204</td>\n",
       "    </tr>\n",
       "    <tr>\n",
       "      <th>knn_3</th>\n",
       "      <td>54f36ebb86a649629de1a8e859e50f6d</td>\n",
       "      <td>0.450437</td>\n",
       "      <td>0.377473</td>\n",
       "      <td>0.403610</td>\n",
       "      <td>0.384709</td>\n",
       "      <td>NaN</td>\n",
       "      <td>0.152957</td>\n",
       "    </tr>\n",
       "    <tr>\n",
       "      <th>knn_5</th>\n",
       "      <td>a9b674fbd5494733b5f5cd8a8d5ce2c5</td>\n",
       "      <td>0.469388</td>\n",
       "      <td>0.421772</td>\n",
       "      <td>0.430470</td>\n",
       "      <td>0.423358</td>\n",
       "      <td>NaN</td>\n",
       "      <td>0.153561</td>\n",
       "    </tr>\n",
       "    <tr>\n",
       "      <th>knn_15</th>\n",
       "      <td>6faeb32195034e3695802cb254537352</td>\n",
       "      <td>0.524781</td>\n",
       "      <td>0.451065</td>\n",
       "      <td>0.465454</td>\n",
       "      <td>0.446386</td>\n",
       "      <td>NaN</td>\n",
       "      <td>0.167260</td>\n",
       "    </tr>\n",
       "    <tr>\n",
       "      <th>knn_25</th>\n",
       "      <td>5050f778b80b4ac6ada464355ba4b031</td>\n",
       "      <td>0.556851</td>\n",
       "      <td>0.482427</td>\n",
       "      <td>0.491513</td>\n",
       "      <td>0.471496</td>\n",
       "      <td>NaN</td>\n",
       "      <td>0.300390</td>\n",
       "    </tr>\n",
       "    <tr>\n",
       "      <th>knn_50</th>\n",
       "      <td>87fda7ee184f4cd492b32a5c187dc877</td>\n",
       "      <td>0.556851</td>\n",
       "      <td>0.452035</td>\n",
       "      <td>0.470179</td>\n",
       "      <td>0.430264</td>\n",
       "      <td>NaN</td>\n",
       "      <td>0.187964</td>\n",
       "    </tr>\n",
       "    <tr>\n",
       "      <th>decision_tree</th>\n",
       "      <td>71760d2f368441bb927e2c13e787bb99</td>\n",
       "      <td>0.413994</td>\n",
       "      <td>0.389600</td>\n",
       "      <td>0.390486</td>\n",
       "      <td>0.389926</td>\n",
       "      <td>NaN</td>\n",
       "      <td>0.213328</td>\n",
       "    </tr>\n",
       "    <tr>\n",
       "      <th>rfc_10</th>\n",
       "      <td>9b3e3cd788664f06955681455f203c5c</td>\n",
       "      <td>0.469388</td>\n",
       "      <td>0.416445</td>\n",
       "      <td>0.426578</td>\n",
       "      <td>0.418934</td>\n",
       "      <td>NaN</td>\n",
       "      <td>0.251100</td>\n",
       "    </tr>\n",
       "    <tr>\n",
       "      <th>rfc_100</th>\n",
       "      <td>36fe7036cfc74793b043a0073646615b</td>\n",
       "      <td>0.497085</td>\n",
       "      <td>0.427177</td>\n",
       "      <td>0.437854</td>\n",
       "      <td>0.426289</td>\n",
       "      <td>NaN</td>\n",
       "      <td>3.958200</td>\n",
       "    </tr>\n",
       "    <tr>\n",
       "      <th>rfc_1000</th>\n",
       "      <td>30998ffe63e14db9a42e69b6d6095381</td>\n",
       "      <td>0.502915</td>\n",
       "      <td>0.417865</td>\n",
       "      <td>0.437544</td>\n",
       "      <td>0.419573</td>\n",
       "      <td>NaN</td>\n",
       "      <td>33.636255</td>\n",
       "    </tr>\n",
       "    <tr>\n",
       "      <th>gbr</th>\n",
       "      <td>851c479a82a74237bb34e9215232de3d</td>\n",
       "      <td>0.470845</td>\n",
       "      <td>0.401292</td>\n",
       "      <td>0.413966</td>\n",
       "      <td>0.404672</td>\n",
       "      <td>NaN</td>\n",
       "      <td>10.049565</td>\n",
       "    </tr>\n",
       "  </tbody>\n",
       "</table>\n",
       "</div>"
      ],
      "text/plain": [
       "                                               run_id  accuracy  precision  \\\n",
       "logistic_regression  72df9d81703646058461d53081662405  0.507289   0.440315   \n",
       "knn_1                47a59f95dbcc46ffb3f5d20123d2ed90  0.448980   0.406475   \n",
       "knn_3                54f36ebb86a649629de1a8e859e50f6d  0.450437   0.377473   \n",
       "knn_5                a9b674fbd5494733b5f5cd8a8d5ce2c5  0.469388   0.421772   \n",
       "knn_15               6faeb32195034e3695802cb254537352  0.524781   0.451065   \n",
       "knn_25               5050f778b80b4ac6ada464355ba4b031  0.556851   0.482427   \n",
       "knn_50               87fda7ee184f4cd492b32a5c187dc877  0.556851   0.452035   \n",
       "decision_tree        71760d2f368441bb927e2c13e787bb99  0.413994   0.389600   \n",
       "rfc_10               9b3e3cd788664f06955681455f203c5c  0.469388   0.416445   \n",
       "rfc_100              36fe7036cfc74793b043a0073646615b  0.497085   0.427177   \n",
       "rfc_1000             30998ffe63e14db9a42e69b6d6095381  0.502915   0.417865   \n",
       "gbr                  851c479a82a74237bb34e9215232de3d  0.470845   0.401292   \n",
       "\n",
       "                       recall        f1  confusion_matrix  elapsed_time  \n",
       "logistic_regression  0.447630  0.438651               NaN      4.315142  \n",
       "knn_1                0.406684  0.406366               NaN      0.244204  \n",
       "knn_3                0.403610  0.384709               NaN      0.152957  \n",
       "knn_5                0.430470  0.423358               NaN      0.153561  \n",
       "knn_15               0.465454  0.446386               NaN      0.167260  \n",
       "knn_25               0.491513  0.471496               NaN      0.300390  \n",
       "knn_50               0.470179  0.430264               NaN      0.187964  \n",
       "decision_tree        0.390486  0.389926               NaN      0.213328  \n",
       "rfc_10               0.426578  0.418934               NaN      0.251100  \n",
       "rfc_100              0.437854  0.426289               NaN      3.958200  \n",
       "rfc_1000             0.437544  0.419573               NaN     33.636255  \n",
       "gbr                  0.413966  0.404672               NaN     10.049565  "
      ]
     },
     "execution_count": 311,
     "metadata": {},
     "output_type": "execute_result"
    }
   ],
   "source": [
    "runs"
   ]
  },
  {
   "cell_type": "code",
   "execution_count": 312,
   "metadata": {},
   "outputs": [],
   "source": [
    "best_model_name = runs[\"f1\"].idxmax()"
   ]
  },
  {
   "cell_type": "code",
   "execution_count": 313,
   "metadata": {},
   "outputs": [],
   "source": [
    "best_model_run_id = runs.loc[runs[\"f1\"].idxmax(), \"run_id\"]"
   ]
  },
  {
   "cell_type": "code",
   "execution_count": null,
   "metadata": {},
   "outputs": [],
   "source": [
    "best_model = mlflow_client.search_model_versions(f\"run_id='{best_model_run_id}'\")[0]"
   ]
  },
  {
   "cell_type": "code",
   "execution_count": 13,
   "metadata": {},
   "outputs": [
    {
     "data": {
      "text/plain": [
       "<ModelVersion: aliases=[], creation_timestamp=1731258626219, current_stage='None', description='', last_updated_timestamp=1731258626219, name='knn_25', run_id='5050f778b80b4ac6ada464355ba4b031', run_link='', source='mlflow-artifacts:/6d5735cbe89241f69cbbd4214ee6925e/5050f778b80b4ac6ada464355ba4b031/artifacts/knn_25', status='READY', status_message='', tags={'date_version': '2024-11-10'}, user_id='', version='4'>"
      ]
     },
     "execution_count": 13,
     "metadata": {},
     "output_type": "execute_result"
    }
   ],
   "source": [
    "best_model"
   ]
  },
  {
   "cell_type": "code",
   "execution_count": 14,
   "metadata": {},
   "outputs": [],
   "source": [
    "mlflow_client.set_model_version_tag(\n",
    "    name=best_model.name,\n",
    "    version=best_model.version,\n",
    "    key=\"weekly_best\",\n",
    "    value=True\n",
    ")"
   ]
  },
  {
   "cell_type": "code",
   "execution_count": 15,
   "metadata": {},
   "outputs": [
    {
     "name": "stderr",
     "output_type": "stream",
     "text": [
      "Successfully registered model 'oracle-model-production'.\n",
      "Copied version '4' of model 'knn_25' to version '1' of model 'oracle-model-production'.\n"
     ]
    },
    {
     "data": {
      "text/plain": [
       "<ModelVersion: aliases=[], creation_timestamp=1731262502288, current_stage='None', description='', last_updated_timestamp=1731262502288, name='oracle-model-production', run_id='5050f778b80b4ac6ada464355ba4b031', run_link='', source='models:/knn_25/4', status='READY', status_message='', tags={'date_version': '2024-11-10', 'weekly_best': 'True'}, user_id='', version='1'>"
      ]
     },
     "execution_count": 15,
     "metadata": {},
     "output_type": "execute_result"
    }
   ],
   "source": [
    "mlflow_client.copy_model_version(\n",
    "    src_model_uri=f\"models:/{best_model.name}/{best_model.version}\",\n",
    "    dst_name=\"oracle-model-production\",\n",
    ")"
   ]
  },
  {
   "cell_type": "code",
   "execution_count": 72,
   "metadata": {},
   "outputs": [
    {
     "name": "stderr",
     "output_type": "stream",
     "text": [
      "https://dagshub.com:443 \"GET /josmunpen/laliga-oracle-dags.mlflow/api/2.0/mlflow/model-versions/get?name=ohe_encoder&version=1 HTTP/11\" 200 None\n",
      "https://dagshub.com:443 \"POST /josmunpen/laliga-oracle-dags.mlflow/api/2.0/mlflow/registered-models/create HTTP/11\" 200 None\n",
      "Successfully registered model 'oracle-ohe-production'.\n",
      "https://dagshub.com:443 \"POST /josmunpen/laliga-oracle-dags.mlflow/api/2.0/mlflow/model-versions/create HTTP/11\" 200 None\n",
      "Copied version '1' of model 'ohe_encoder' to version '1' of model 'oracle-ohe-production'.\n"
     ]
    },
    {
     "data": {
      "text/plain": [
       "<ModelVersion: aliases=[], creation_timestamp=1731264802140, current_stage='None', description='', last_updated_timestamp=1731264802140, name='oracle-ohe-production', run_id='59a5e761a21347909e93ff6743db8dd9', run_link='', source='models:/ohe_encoder/1', status='READY', status_message='', tags={'date_version': '2024-11-10'}, user_id='', version='1'>"
      ]
     },
     "execution_count": 72,
     "metadata": {},
     "output_type": "execute_result"
    }
   ],
   "source": [
    "mlflow_client.copy_model_version(\n",
    "    src_model_uri=f\"models:/ohe_encoder/{ohe_info.version}\",\n",
    "    dst_name=\"oracle-ohe-production\",\n",
    ")"
   ]
  },
  {
   "cell_type": "code",
   "execution_count": 70,
   "metadata": {},
   "outputs": [
    {
     "data": {
      "text/plain": [
       "'49093_ohe_encoder'"
      ]
     },
     "execution_count": 70,
     "metadata": {},
     "output_type": "execute_result"
    }
   ],
   "source": [
    "ohe_info.name"
   ]
  },
  {
   "cell_type": "markdown",
   "metadata": {},
   "source": [
    "### Get last PRO model"
   ]
  },
  {
   "cell_type": "code",
   "execution_count": 18,
   "metadata": {},
   "outputs": [],
   "source": [
    "import mlflow.sklearn\n",
    "import dagshub"
   ]
  },
  {
   "cell_type": "code",
   "execution_count": null,
   "metadata": {},
   "outputs": [],
   "source": [
    "dagshub.auth.add_app_token(token: str, host: str | None = None, **kwargs)"
   ]
  },
  {
   "cell_type": "code",
   "execution_count": 19,
   "metadata": {},
   "outputs": [
    {
     "name": "stderr",
     "output_type": "stream",
     "text": [
      "HTTP Request: GET https://dagshub.com/api/v1/user \"HTTP/1.1 200 OK\"\n",
      "HTTP Request: GET https://dagshub.com/api/v1/repos/josmunpen/laliga-oracle-dags \"HTTP/1.1 200 OK\"\n",
      "HTTP Request: GET https://dagshub.com/api/v1/user \"HTTP/1.1 200 OK\"\n"
     ]
    },
    {
     "data": {
      "text/html": [
       "<pre style=\"white-space:pre;overflow-x:auto;line-height:normal;font-family:Menlo,'DejaVu Sans Mono',consolas,'Courier New',monospace\">Initialized MLflow to track repo <span style=\"color: #008000; text-decoration-color: #008000\">\"josmunpen/laliga-oracle-dags\"</span>\n",
       "</pre>\n"
      ],
      "text/plain": [
       "Initialized MLflow to track repo \u001b[32m\"josmunpen/laliga-oracle-dags\"\u001b[0m\n"
      ]
     },
     "metadata": {},
     "output_type": "display_data"
    },
    {
     "name": "stderr",
     "output_type": "stream",
     "text": [
      "Initialized MLflow to track repo \"josmunpen/laliga-oracle-dags\"\n"
     ]
    },
    {
     "data": {
      "text/html": [
       "<pre style=\"white-space:pre;overflow-x:auto;line-height:normal;font-family:Menlo,'DejaVu Sans Mono',consolas,'Courier New',monospace\">Repository josmunpen/laliga-oracle-dags initialized!\n",
       "</pre>\n"
      ],
      "text/plain": [
       "Repository josmunpen/laliga-oracle-dags initialized!\n"
      ]
     },
     "metadata": {},
     "output_type": "display_data"
    },
    {
     "name": "stderr",
     "output_type": "stream",
     "text": [
      "Repository josmunpen/laliga-oracle-dags initialized!\n"
     ]
    }
   ],
   "source": [
    "mlflow.set_tracking_uri(\"https://dagshub.com/josmunpen/laliga-oracle-dags.mlflow\")\n",
    "dagshub.init(repo_owner=\"josmunpen\", repo_name=\"laliga-oracle-dags\", mlflow=True)"
   ]
  },
  {
   "cell_type": "code",
   "execution_count": 8,
   "metadata": {},
   "outputs": [
    {
     "name": "stderr",
     "output_type": "stream",
     "text": [
      "c:\\Users\\josem\\ds\\my-league-oracle\\env_train\\Lib\\site-packages\\mlflow\\store\\artifact\\utils\\models.py:31: FutureWarning: ``mlflow.tracking.client.MlflowClient.get_latest_versions`` is deprecated since 2.9.0. Model registry stages will be removed in a future major release. To learn more about the deprecation of model registry stages, see our migration guide here: https://mlflow.org/docs/latest/model-registry.html#migrating-from-stages\n",
      "  latest = client.get_latest_versions(name, None if stage is None else [stage])\n"
     ]
    }
   ],
   "source": [
    "back_model = mlflow.sklearn.load_model(\"models:/oracle-model-production/latest\")\n",
    "# Alternative: latest_mv = mlflow_client.get_latest_versions(\"oracle-model-production\", stages=None)[0] "
   ]
  },
  {
   "cell_type": "code",
   "execution_count": 2,
   "metadata": {},
   "outputs": [],
   "source": [
    "import mlflow.sklearn"
   ]
  },
  {
   "cell_type": "code",
   "execution_count": 6,
   "metadata": {},
   "outputs": [],
   "source": [
    "# ohe_model = mlflow.sklearn.load_model(\"models:/ohe_encoder/latest\")\n",
    "ohe_model = mlflow.sklearn.load_model(\"models:/oracle-ohe-production/latest\")\n",
    "# Alternative: ohe_model = mlflow_client.get_latest_versions(\"ohe_encoder\")[0]"
   ]
  },
  {
   "cell_type": "code",
   "execution_count": 9,
   "metadata": {},
   "outputs": [
    {
     "data": {
      "text/plain": [
       "[array([529, 530, 531, 532, 533, 534, 536, 538, 540, 541, 542, 543, 546,\n",
       "        547, 548, 715, 720, 723, 724, 727, 728, 797, 798]),\n",
       " array([529, 530, 531, 532, 533, 534, 536, 538, 540, 541, 542, 543, 546,\n",
       "        547, 548, 715, 720, 723, 724, 727, 728, 797, 798]),\n",
       " array([2022, 2023])]"
      ]
     },
     "execution_count": 9,
     "metadata": {},
     "output_type": "execute_result"
    }
   ],
   "source": [
    "ohe_model.categories_"
   ]
  },
  {
   "cell_type": "code",
   "execution_count": 17,
   "metadata": {},
   "outputs": [],
   "source": [
    "import pandas as pd\n",
    "\n",
    "df = pd.read_csv(\"before_ohe.csv\")"
   ]
  },
  {
   "cell_type": "code",
   "execution_count": 21,
   "metadata": {},
   "outputs": [
    {
     "ename": "ValueError",
     "evalue": "Found unknown categories [np.int64(2024)] in column 2 during transform",
     "output_type": "error",
     "traceback": [
      "\u001b[1;31m---------------------------------------------------------------------------\u001b[0m",
      "\u001b[1;31mValueError\u001b[0m                                Traceback (most recent call last)",
      "Cell \u001b[1;32mIn[21], line 1\u001b[0m\n\u001b[1;32m----> 1\u001b[0m \u001b[43mohe_model\u001b[49m\u001b[38;5;241;43m.\u001b[39;49m\u001b[43mtransform\u001b[49m\u001b[43m(\u001b[49m\u001b[43mdf\u001b[49m\u001b[43m[\u001b[49m\u001b[43m[\u001b[49m\u001b[38;5;124;43m\"\u001b[39;49m\u001b[38;5;124;43mteam_home\u001b[39;49m\u001b[38;5;124;43m\"\u001b[39;49m\u001b[43m,\u001b[49m\u001b[43m \u001b[49m\u001b[38;5;124;43m\"\u001b[39;49m\u001b[38;5;124;43mteam_away\u001b[39;49m\u001b[38;5;124;43m\"\u001b[39;49m\u001b[43m,\u001b[49m\u001b[43m \u001b[49m\u001b[38;5;124;43m\"\u001b[39;49m\u001b[38;5;124;43mseason\u001b[39;49m\u001b[38;5;124;43m\"\u001b[39;49m\u001b[43m]\u001b[49m\u001b[43m]\u001b[49m\u001b[43m)\u001b[49m\n",
      "File \u001b[1;32mc:\\Users\\josem\\ds\\my-league-oracle\\env_train\\Lib\\site-packages\\sklearn\\utils\\_set_output.py:316\u001b[0m, in \u001b[0;36m_wrap_method_output.<locals>.wrapped\u001b[1;34m(self, X, *args, **kwargs)\u001b[0m\n\u001b[0;32m    314\u001b[0m \u001b[38;5;129m@wraps\u001b[39m(f)\n\u001b[0;32m    315\u001b[0m \u001b[38;5;28;01mdef\u001b[39;00m \u001b[38;5;21mwrapped\u001b[39m(\u001b[38;5;28mself\u001b[39m, X, \u001b[38;5;241m*\u001b[39margs, \u001b[38;5;241m*\u001b[39m\u001b[38;5;241m*\u001b[39mkwargs):\n\u001b[1;32m--> 316\u001b[0m     data_to_wrap \u001b[38;5;241m=\u001b[39m \u001b[43mf\u001b[49m\u001b[43m(\u001b[49m\u001b[38;5;28;43mself\u001b[39;49m\u001b[43m,\u001b[49m\u001b[43m \u001b[49m\u001b[43mX\u001b[49m\u001b[43m,\u001b[49m\u001b[43m \u001b[49m\u001b[38;5;241;43m*\u001b[39;49m\u001b[43margs\u001b[49m\u001b[43m,\u001b[49m\u001b[43m \u001b[49m\u001b[38;5;241;43m*\u001b[39;49m\u001b[38;5;241;43m*\u001b[39;49m\u001b[43mkwargs\u001b[49m\u001b[43m)\u001b[49m\n\u001b[0;32m    317\u001b[0m     \u001b[38;5;28;01mif\u001b[39;00m \u001b[38;5;28misinstance\u001b[39m(data_to_wrap, \u001b[38;5;28mtuple\u001b[39m):\n\u001b[0;32m    318\u001b[0m         \u001b[38;5;66;03m# only wrap the first output for cross decomposition\u001b[39;00m\n\u001b[0;32m    319\u001b[0m         return_tuple \u001b[38;5;241m=\u001b[39m (\n\u001b[0;32m    320\u001b[0m             _wrap_data_with_container(method, data_to_wrap[\u001b[38;5;241m0\u001b[39m], X, \u001b[38;5;28mself\u001b[39m),\n\u001b[0;32m    321\u001b[0m             \u001b[38;5;241m*\u001b[39mdata_to_wrap[\u001b[38;5;241m1\u001b[39m:],\n\u001b[0;32m    322\u001b[0m         )\n",
      "File \u001b[1;32mc:\\Users\\josem\\ds\\my-league-oracle\\env_train\\Lib\\site-packages\\sklearn\\preprocessing\\_encoders.py:1024\u001b[0m, in \u001b[0;36mOneHotEncoder.transform\u001b[1;34m(self, X)\u001b[0m\n\u001b[0;32m   1019\u001b[0m \u001b[38;5;66;03m# validation of X happens in _check_X called by _transform\u001b[39;00m\n\u001b[0;32m   1020\u001b[0m warn_on_unknown \u001b[38;5;241m=\u001b[39m \u001b[38;5;28mself\u001b[39m\u001b[38;5;241m.\u001b[39mdrop \u001b[38;5;129;01mis\u001b[39;00m \u001b[38;5;129;01mnot\u001b[39;00m \u001b[38;5;28;01mNone\u001b[39;00m \u001b[38;5;129;01mand\u001b[39;00m \u001b[38;5;28mself\u001b[39m\u001b[38;5;241m.\u001b[39mhandle_unknown \u001b[38;5;129;01min\u001b[39;00m {\n\u001b[0;32m   1021\u001b[0m     \u001b[38;5;124m\"\u001b[39m\u001b[38;5;124mignore\u001b[39m\u001b[38;5;124m\"\u001b[39m,\n\u001b[0;32m   1022\u001b[0m     \u001b[38;5;124m\"\u001b[39m\u001b[38;5;124minfrequent_if_exist\u001b[39m\u001b[38;5;124m\"\u001b[39m,\n\u001b[0;32m   1023\u001b[0m }\n\u001b[1;32m-> 1024\u001b[0m X_int, X_mask \u001b[38;5;241m=\u001b[39m \u001b[38;5;28;43mself\u001b[39;49m\u001b[38;5;241;43m.\u001b[39;49m\u001b[43m_transform\u001b[49m\u001b[43m(\u001b[49m\n\u001b[0;32m   1025\u001b[0m \u001b[43m    \u001b[49m\u001b[43mX\u001b[49m\u001b[43m,\u001b[49m\n\u001b[0;32m   1026\u001b[0m \u001b[43m    \u001b[49m\u001b[43mhandle_unknown\u001b[49m\u001b[38;5;241;43m=\u001b[39;49m\u001b[38;5;28;43mself\u001b[39;49m\u001b[38;5;241;43m.\u001b[39;49m\u001b[43mhandle_unknown\u001b[49m\u001b[43m,\u001b[49m\n\u001b[0;32m   1027\u001b[0m \u001b[43m    \u001b[49m\u001b[43mforce_all_finite\u001b[49m\u001b[38;5;241;43m=\u001b[39;49m\u001b[38;5;124;43m\"\u001b[39;49m\u001b[38;5;124;43mallow-nan\u001b[39;49m\u001b[38;5;124;43m\"\u001b[39;49m\u001b[43m,\u001b[49m\n\u001b[0;32m   1028\u001b[0m \u001b[43m    \u001b[49m\u001b[43mwarn_on_unknown\u001b[49m\u001b[38;5;241;43m=\u001b[39;49m\u001b[43mwarn_on_unknown\u001b[49m\u001b[43m,\u001b[49m\n\u001b[0;32m   1029\u001b[0m \u001b[43m\u001b[49m\u001b[43m)\u001b[49m\n\u001b[0;32m   1031\u001b[0m n_samples, n_features \u001b[38;5;241m=\u001b[39m X_int\u001b[38;5;241m.\u001b[39mshape\n\u001b[0;32m   1033\u001b[0m \u001b[38;5;28;01mif\u001b[39;00m \u001b[38;5;28mself\u001b[39m\u001b[38;5;241m.\u001b[39m_drop_idx_after_grouping \u001b[38;5;129;01mis\u001b[39;00m \u001b[38;5;129;01mnot\u001b[39;00m \u001b[38;5;28;01mNone\u001b[39;00m:\n",
      "File \u001b[1;32mc:\\Users\\josem\\ds\\my-league-oracle\\env_train\\Lib\\site-packages\\sklearn\\preprocessing\\_encoders.py:214\u001b[0m, in \u001b[0;36m_BaseEncoder._transform\u001b[1;34m(self, X, handle_unknown, force_all_finite, warn_on_unknown, ignore_category_indices)\u001b[0m\n\u001b[0;32m    209\u001b[0m \u001b[38;5;28;01mif\u001b[39;00m handle_unknown \u001b[38;5;241m==\u001b[39m \u001b[38;5;124m\"\u001b[39m\u001b[38;5;124merror\u001b[39m\u001b[38;5;124m\"\u001b[39m:\n\u001b[0;32m    210\u001b[0m     msg \u001b[38;5;241m=\u001b[39m (\n\u001b[0;32m    211\u001b[0m         \u001b[38;5;124m\"\u001b[39m\u001b[38;5;124mFound unknown categories \u001b[39m\u001b[38;5;132;01m{0}\u001b[39;00m\u001b[38;5;124m in column \u001b[39m\u001b[38;5;132;01m{1}\u001b[39;00m\u001b[38;5;124m\"\u001b[39m\n\u001b[0;32m    212\u001b[0m         \u001b[38;5;124m\"\u001b[39m\u001b[38;5;124m during transform\u001b[39m\u001b[38;5;124m\"\u001b[39m\u001b[38;5;241m.\u001b[39mformat(diff, i)\n\u001b[0;32m    213\u001b[0m     )\n\u001b[1;32m--> 214\u001b[0m     \u001b[38;5;28;01mraise\u001b[39;00m \u001b[38;5;167;01mValueError\u001b[39;00m(msg)\n\u001b[0;32m    215\u001b[0m \u001b[38;5;28;01melse\u001b[39;00m:\n\u001b[0;32m    216\u001b[0m     \u001b[38;5;28;01mif\u001b[39;00m warn_on_unknown:\n",
      "\u001b[1;31mValueError\u001b[0m: Found unknown categories [np.int64(2024)] in column 2 during transform"
     ]
    }
   ],
   "source": [
    "ohe_model.transform(df[[\"team_home\", \"team_away\", \"season\"]])"
   ]
  },
  {
   "cell_type": "code",
   "execution_count": 10,
   "metadata": {},
   "outputs": [
    {
     "name": "stderr",
     "output_type": "stream",
     "text": [
      "c:\\Users\\josem\\ds\\my-league-oracle\\env_train\\Lib\\site-packages\\mlflow\\store\\artifact\\utils\\models.py:31: FutureWarning: ``mlflow.tracking.client.MlflowClient.get_latest_versions`` is deprecated since 2.9.0. Model registry stages will be removed in a future major release. To learn more about the deprecation of model registry stages, see our migration guide here: https://mlflow.org/docs/latest/model-registry.html#migrating-from-stages\n",
      "  latest = client.get_latest_versions(name, None if stage is None else [stage])\n"
     ]
    }
   ],
   "source": [
    "ohe_model_old = mlflow.sklearn.load_model(\"models:/ohe_encoder/latest\")"
   ]
  },
  {
   "cell_type": "code",
   "execution_count": 11,
   "metadata": {},
   "outputs": [
    {
     "data": {
      "text/plain": [
       "[array([529, 530, 531, 532, 533, 534, 536, 538, 540, 541, 542, 543, 546,\n",
       "        547, 548, 715, 720, 723, 724, 727, 728, 797, 798]),\n",
       " array([529, 530, 531, 532, 533, 534, 536, 538, 540, 541, 542, 543, 546,\n",
       "        547, 548, 715, 720, 723, 724, 727, 728, 797, 798]),\n",
       " array([2022, 2023])]"
      ]
     },
     "execution_count": 11,
     "metadata": {},
     "output_type": "execute_result"
    }
   ],
   "source": [
    "ohe_model_old.categories_"
   ]
  },
  {
   "cell_type": "code",
   "execution_count": 11,
   "metadata": {},
   "outputs": [
    {
     "name": "stdout",
     "output_type": "stream",
     "text": [
      "2024-11-23 00:15:38.127352\n"
     ]
    }
   ],
   "source": [
    "print(datetime.datetime.now())"
   ]
  },
  {
   "cell_type": "markdown",
   "metadata": {},
   "source": [
    "### Get best model"
   ]
  },
  {
   "cell_type": "code",
   "execution_count": null,
   "metadata": {},
   "outputs": [],
   "source": [
    "def get_last_model(mlflow_client):\n",
    "    for mv in mlflow_client.search_model_versions(\"tag.weekly_best='True'\"):\n",
    "        if mv.last_updated_timestamp > last_ts:\n",
    "            last_model = mv\n",
    "    \n",
    "    print(f\"Last model found: {mv.name} (date version {mv.tags.get('date_version')}, version {mv.version})\")\n",
    "\n",
    "    return last_model"
   ]
  },
  {
   "cell_type": "code",
   "execution_count": null,
   "metadata": {},
   "outputs": [
    {
     "name": "stderr",
     "output_type": "stream",
     "text": [
      "Incremented Retry for (url='/josmunpen/laliga-oracle-dags.mlflow/api/2.0/mlflow/registered-models/search?max_results=100'): Retry(total=4, connect=5, read=4, redirect=5, status=5)\n",
      "Retrying (Retry(total=4, connect=5, read=4, redirect=5, status=5)) after connection broken by 'RemoteDisconnected('Remote end closed connection without response')': /josmunpen/laliga-oracle-dags.mlflow/api/2.0/mlflow/registered-models/search?max_results=100\n",
      "Starting new HTTPS connection (9): dagshub.com:443\n",
      "https://dagshub.com:443 \"GET /josmunpen/laliga-oracle-dags.mlflow/api/2.0/mlflow/registered-models/search?max_results=100 HTTP/11\" 200 None\n"
     ]
    },
    {
     "name": "stdout",
     "output_type": "stream",
     "text": [
      "{   'aliases': {},\n",
      "    'creation_timestamp': 1731239168501,\n",
      "    'description': '',\n",
      "    'last_updated_timestamp': 1731239170503,\n",
      "    'latest_versions': [   <ModelVersion: aliases=[], creation_timestamp=1731239170503, current_stage='None', description='', last_updated_timestamp=1731239170503, name='decision_tree', run_id='d7044785730e46399232a39f6d417ce7', run_link='', source='mlflow-artifacts:/70aadf01ff15477898d0ebd15cd32289/d7044785730e46399232a39f6d417ce7/artifacts/decision_tree', status='READY', status_message='', tags={'date_version': '2024-11-10'}, user_id='', version='1'>],\n",
      "    'name': 'decision_tree',\n",
      "    'tags': {}}\n",
      "{   'aliases': {},\n",
      "    'creation_timestamp': 1722788340294,\n",
      "    'description': '',\n",
      "    'last_updated_timestamp': 1722893390838,\n",
      "    'latest_versions': [   <ModelVersion: aliases=[], creation_timestamp=1722893390838, current_stage='None', description='', last_updated_timestamp=1722893390838, name='Decision tree', run_id='889d32a0ed984ccca90d22b79f32bcc0', run_link='', source=('mlflow-artifacts:/620ba81b100844bd829f3fedcdac3aab/889d32a0ed984ccca90d22b79f32bcc0/artifacts/Decision '\n",
      " 'tree'), status='READY', status_message='', tags={}, user_id='', version='2'>],\n",
      "    'name': 'Decision tree',\n",
      "    'tags': {}}\n",
      "{   'aliases': {},\n",
      "    'creation_timestamp': 1731239316151,\n",
      "    'description': '',\n",
      "    'last_updated_timestamp': 1731239317023,\n",
      "    'latest_versions': [   <ModelVersion: aliases=[], creation_timestamp=1731239317023, current_stage='None', description='', last_updated_timestamp=1731239317023, name='gbr', run_id='28a3cbc6fd7348e5b3f2d8055a4467ce', run_link='', source='mlflow-artifacts:/70aadf01ff15477898d0ebd15cd32289/28a3cbc6fd7348e5b3f2d8055a4467ce/artifacts/gbr', status='READY', status_message='', tags={'date_version': '2024-11-10'}, user_id='', version='1'>],\n",
      "    'name': 'gbr',\n",
      "    'tags': {}}\n",
      "{   'aliases': {},\n",
      "    'creation_timestamp': 1722788409301,\n",
      "    'description': '',\n",
      "    'last_updated_timestamp': 1722893446428,\n",
      "    'latest_versions': [   <ModelVersion: aliases=[], creation_timestamp=1722893446428, current_stage='None', description='', last_updated_timestamp=1722893446428, name='GBR', run_id='15cec1de9cd54ab8b0eb5b328f6d2a8a', run_link='', source='mlflow-artifacts:/620ba81b100844bd829f3fedcdac3aab/15cec1de9cd54ab8b0eb5b328f6d2a8a/artifacts/GBR', status='READY', status_message='', tags={}, user_id='', version='2'>],\n",
      "    'name': 'GBR',\n",
      "    'tags': {}}\n",
      "{   'aliases': {},\n",
      "    'creation_timestamp': 1731238988506,\n",
      "    'description': '',\n",
      "    'last_updated_timestamp': 1731238990507,\n",
      "    'latest_versions': [   <ModelVersion: aliases=[], creation_timestamp=1731238990507, current_stage='None', description='', last_updated_timestamp=1731238990507, name='knn_1', run_id='047b7419f8964591aed9f64130b80eef', run_link='', source='mlflow-artifacts:/70aadf01ff15477898d0ebd15cd32289/047b7419f8964591aed9f64130b80eef/artifacts/knn_1', status='READY', status_message='', tags={'date_version': '2024-11-10'}, user_id='', version='1'>],\n",
      "    'name': 'knn_1',\n",
      "    'tags': {}}\n",
      "{   'aliases': {},\n",
      "    'creation_timestamp': 1722788295348,\n",
      "    'description': '',\n",
      "    'last_updated_timestamp': 1722893342725,\n",
      "    'latest_versions': [   <ModelVersion: aliases=[], creation_timestamp=1722893342725, current_stage='None', description='', last_updated_timestamp=1722893342725, name='KNN - 1', run_id='07be6d5e1b4a48d3bac7cf056edf9555', run_link='', source=('mlflow-artifacts:/620ba81b100844bd829f3fedcdac3aab/07be6d5e1b4a48d3bac7cf056edf9555/artifacts/KNN '\n",
      " '- 1'), status='READY', status_message='', tags={}, user_id='', version='2'>],\n",
      "    'name': 'KNN - 1',\n",
      "    'tags': {}}\n",
      "{   'aliases': {},\n",
      "    'creation_timestamp': 1731239078503,\n",
      "    'description': '',\n",
      "    'last_updated_timestamp': 1731239080543,\n",
      "    'latest_versions': [   <ModelVersion: aliases=[], creation_timestamp=1731239080543, current_stage='None', description='', last_updated_timestamp=1731239080543, name='knn_15', run_id='a0c40755b2694a49b3d98bbc9bb575f3', run_link='', source='mlflow-artifacts:/70aadf01ff15477898d0ebd15cd32289/a0c40755b2694a49b3d98bbc9bb575f3/artifacts/knn_15', status='READY', status_message='', tags={'date_version': '2024-11-10'}, user_id='', version='1'>],\n",
      "    'name': 'knn_15',\n",
      "    'tags': {}}\n",
      "{   'aliases': {},\n",
      "    'creation_timestamp': 1722788317798,\n",
      "    'description': '',\n",
      "    'last_updated_timestamp': 1722893367136,\n",
      "    'latest_versions': [   <ModelVersion: aliases=[], creation_timestamp=1722893367136, current_stage='None', description='', last_updated_timestamp=1722893367136, name='KNN - 15', run_id='d5ebcd4d6b814fa284bcac9b3f0ba1e4', run_link='', source=('mlflow-artifacts:/620ba81b100844bd829f3fedcdac3aab/d5ebcd4d6b814fa284bcac9b3f0ba1e4/artifacts/KNN '\n",
      " '- 15'), status='READY', status_message='', tags={}, user_id='', version='2'>],\n",
      "    'name': 'KNN - 15',\n",
      "    'tags': {}}\n",
      "{   'aliases': {},\n",
      "    'creation_timestamp': 1731235703898,\n",
      "    'description': '',\n",
      "    'last_updated_timestamp': 1731243783694,\n",
      "    'latest_versions': [   <ModelVersion: aliases=[], creation_timestamp=1731243783694, current_stage='None', description='', last_updated_timestamp=1731243783694, name='knn_25', run_id='aa97c6011e7e4f9ca86c99b0848ef27f', run_link='', source='mlflow-artifacts:/6d5735cbe89241f69cbbd4214ee6925e/aa97c6011e7e4f9ca86c99b0848ef27f/artifacts/sklearn-model', status='READY', status_message='', tags={'date_version': '2024-11-10', 'weekly_best': 'True'}, user_id='', version='3'>],\n",
      "    'name': 'knn_25',\n",
      "    'tags': {}}\n",
      "{   'aliases': {},\n",
      "    'creation_timestamp': 1722788325344,\n",
      "    'description': '',\n",
      "    'last_updated_timestamp': 1722893375202,\n",
      "    'latest_versions': [   <ModelVersion: aliases=[], creation_timestamp=1722893375202, current_stage='None', description='', last_updated_timestamp=1722893375202, name='KNN - 25', run_id='cf2de4b6b7f745b0897c75dbb24cf803', run_link='', source=('mlflow-artifacts:/620ba81b100844bd829f3fedcdac3aab/cf2de4b6b7f745b0897c75dbb24cf803/artifacts/KNN '\n",
      " '- 25'), status='READY', status_message='', tags={}, user_id='', version='2'>],\n",
      "    'name': 'KNN - 25',\n",
      "    'tags': {}}\n",
      "{   'aliases': {},\n",
      "    'creation_timestamp': 1731239018499,\n",
      "    'description': '',\n",
      "    'last_updated_timestamp': 1731239020502,\n",
      "    'latest_versions': [   <ModelVersion: aliases=[], creation_timestamp=1731239020502, current_stage='None', description='', last_updated_timestamp=1731239020502, name='knn_3', run_id='7182feeab09841daae8d0db0184a0ae6', run_link='', source='mlflow-artifacts:/70aadf01ff15477898d0ebd15cd32289/7182feeab09841daae8d0db0184a0ae6/artifacts/knn_3', status='READY', status_message='', tags={'date_version': '2024-11-10'}, user_id='', version='1'>],\n",
      "    'name': 'knn_3',\n",
      "    'tags': {}}\n",
      "{   'aliases': {},\n",
      "    'creation_timestamp': 1722788302684,\n",
      "    'description': '',\n",
      "    'last_updated_timestamp': 1722893350695,\n",
      "    'latest_versions': [   <ModelVersion: aliases=[], creation_timestamp=1722893350695, current_stage='None', description='', last_updated_timestamp=1722893350695, name='KNN - 3', run_id='e85f87ae67c842c09d326b55a9b7f248', run_link='', source=('mlflow-artifacts:/620ba81b100844bd829f3fedcdac3aab/e85f87ae67c842c09d326b55a9b7f248/artifacts/KNN '\n",
      " '- 3'), status='READY', status_message='', tags={}, user_id='', version='2'>],\n",
      "    'name': 'KNN - 3',\n",
      "    'tags': {}}\n",
      "{   'aliases': {},\n",
      "    'creation_timestamp': 1731239048505,\n",
      "    'description': '',\n",
      "    'last_updated_timestamp': 1731239050502,\n",
      "    'latest_versions': [   <ModelVersion: aliases=[], creation_timestamp=1731239050502, current_stage='None', description='', last_updated_timestamp=1731239050502, name='knn_5', run_id='257511a3bb8748f0b02eb4377e74b873', run_link='', source='mlflow-artifacts:/70aadf01ff15477898d0ebd15cd32289/257511a3bb8748f0b02eb4377e74b873/artifacts/knn_5', status='READY', status_message='', tags={'date_version': '2024-11-10'}, user_id='', version='1'>],\n",
      "    'name': 'knn_5',\n",
      "    'tags': {}}\n",
      "{   'aliases': {},\n",
      "    'creation_timestamp': 1722788310105,\n",
      "    'description': '',\n",
      "    'last_updated_timestamp': 1722893358824,\n",
      "    'latest_versions': [   <ModelVersion: aliases=[], creation_timestamp=1722893358824, current_stage='None', description='', last_updated_timestamp=1722893358824, name='KNN - 5', run_id='85fa60b0e72640adad65be30aba822da', run_link='', source=('mlflow-artifacts:/620ba81b100844bd829f3fedcdac3aab/85fa60b0e72640adad65be30aba822da/artifacts/KNN '\n",
      " '- 5'), status='READY', status_message='', tags={}, user_id='', version='2'>],\n",
      "    'name': 'KNN - 5',\n",
      "    'tags': {}}\n",
      "{   'aliases': {},\n",
      "    'creation_timestamp': 1731239138538,\n",
      "    'description': '',\n",
      "    'last_updated_timestamp': 1731239140502,\n",
      "    'latest_versions': [   <ModelVersion: aliases=[], creation_timestamp=1731239140502, current_stage='None', description='', last_updated_timestamp=1731239140502, name='knn_50', run_id='fc1d85ad44cf45448dd2c08559a07a3a', run_link='', source='mlflow-artifacts:/70aadf01ff15477898d0ebd15cd32289/fc1d85ad44cf45448dd2c08559a07a3a/artifacts/knn_50', status='READY', status_message='', tags={'date_version': '2024-11-10'}, user_id='', version='1'>],\n",
      "    'name': 'knn_50',\n",
      "    'tags': {}}\n",
      "{   'aliases': {},\n",
      "    'creation_timestamp': 1722788332836,\n",
      "    'description': '',\n",
      "    'last_updated_timestamp': 1722893383052,\n",
      "    'latest_versions': [   <ModelVersion: aliases=[], creation_timestamp=1722893383052, current_stage='None', description='', last_updated_timestamp=1722893383052, name='KNN - 50', run_id='ff92a4c19126417c84f7c14b80df1055', run_link='', source=('mlflow-artifacts:/620ba81b100844bd829f3fedcdac3aab/ff92a4c19126417c84f7c14b80df1055/artifacts/KNN '\n",
      " '- 50'), status='READY', status_message='', tags={}, user_id='', version='2'>],\n",
      "    'name': 'KNN - 50',\n",
      "    'tags': {}}\n",
      "{   'aliases': {},\n",
      "    'creation_timestamp': 1731238962562,\n",
      "    'description': '',\n",
      "    'last_updated_timestamp': 1731238962915,\n",
      "    'latest_versions': [   <ModelVersion: aliases=[], creation_timestamp=1731238962915, current_stage='None', description='', last_updated_timestamp=1731238962915, name='logistic_regression', run_id='f707b2ffcb7f4db1a740e311ccf1ac3e', run_link='', source='mlflow-artifacts:/70aadf01ff15477898d0ebd15cd32289/f707b2ffcb7f4db1a740e311ccf1ac3e/artifacts/logistic_regression', status='READY', status_message='', tags={'date_version': '2024-11-10'}, user_id='', version='1'>],\n",
      "    'name': 'logistic_regression',\n",
      "    'tags': {}}\n",
      "{   'aliases': {'best_model': '2'},\n",
      "    'creation_timestamp': 1722788287968,\n",
      "    'description': '',\n",
      "    'last_updated_timestamp': 1722893334859,\n",
      "    'latest_versions': [   <ModelVersion: aliases=[], creation_timestamp=1722893334859, current_stage='None', description='', last_updated_timestamp=1722893334859, name='Logistic regression', run_id='d01e6f886c4747fb93abd6270fa9ba64', run_link='', source=('mlflow-artifacts:/620ba81b100844bd829f3fedcdac3aab/d01e6f886c4747fb93abd6270fa9ba64/artifacts/Logistic '\n",
      " 'regression'), status='READY', status_message='', tags={'deployment': '2024-08-05'}, user_id='', version='2'>],\n",
      "    'name': 'Logistic regression',\n",
      "    'tags': {}}\n",
      "{   'aliases': {},\n",
      "    'creation_timestamp': 1722895603423,\n",
      "    'description': '',\n",
      "    'last_updated_timestamp': 1722895603812,\n",
      "    'latest_versions': [   <ModelVersion: aliases=[], creation_timestamp=1722895603812, current_stage='None', description='', last_updated_timestamp=1722895603812, name='Logistic Regression', run_id='a2f711cd2e5a468f83945402e745506b', run_link='', source=('mlflow-artifacts:/620ba81b100844bd829f3fedcdac3aab/a2f711cd2e5a468f83945402e745506b/artifacts/Logistic '\n",
      " 'Regression artifact'), status='READY', status_message='', tags={}, user_id='', version='1'>],\n",
      "    'name': 'Logistic Regression',\n",
      "    'tags': {}}\n",
      "{   'aliases': {},\n",
      "    'creation_timestamp': 1723050028845,\n",
      "    'description': '',\n",
      "    'last_updated_timestamp': 1723050029262,\n",
      "    'latest_versions': [   <ModelVersion: aliases=[], creation_timestamp=1723050029262, current_stage='None', description='', last_updated_timestamp=1723050029262, name='log_reg_def', run_id='1f35822d627547c0abb1225f9b7426da', run_link='', source='mlflow-artifacts:/620ba81b100844bd829f3fedcdac3aab/1f35822d627547c0abb1225f9b7426da/artifacts/log_reg_def_artifact', status='READY', status_message='', tags={}, user_id='', version='1'>],\n",
      "    'name': 'log_reg_def',\n",
      "    'tags': {}}\n",
      "{   'aliases': {},\n",
      "    'creation_timestamp': 1723051729649,\n",
      "    'description': '',\n",
      "    'last_updated_timestamp': 1723051730031,\n",
      "    'latest_versions': [   <ModelVersion: aliases=[], creation_timestamp=1723051730031, current_stage='None', description='', last_updated_timestamp=1723051730031, name='ohe', run_id='1f35822d627547c0abb1225f9b7426da', run_link='', source='mlflow-artifacts:/620ba81b100844bd829f3fedcdac3aab/1f35822d627547c0abb1225f9b7426da/artifacts/ohe_artifact', status='READY', status_message='', tags={}, user_id='', version='1'>],\n",
      "    'name': 'ohe',\n",
      "    'tags': {}}\n",
      "{   'aliases': {},\n",
      "    'creation_timestamp': 1731239198509,\n",
      "    'description': '',\n",
      "    'last_updated_timestamp': 1731239200500,\n",
      "    'latest_versions': [   <ModelVersion: aliases=[], creation_timestamp=1731239200500, current_stage='None', description='', last_updated_timestamp=1731239200500, name='rfc_10', run_id='a9341b70244b4e218b7510afa59c7491', run_link='', source='mlflow-artifacts:/70aadf01ff15477898d0ebd15cd32289/a9341b70244b4e218b7510afa59c7491/artifacts/rfc_10', status='READY', status_message='', tags={'date_version': '2024-11-10'}, user_id='', version='1'>],\n",
      "    'name': 'rfc_10',\n",
      "    'tags': {}}\n",
      "{   'aliases': {},\n",
      "    'creation_timestamp': 1722788347783,\n",
      "    'description': '',\n",
      "    'last_updated_timestamp': 1722893398736,\n",
      "    'latest_versions': [   <ModelVersion: aliases=[], creation_timestamp=1722893398736, current_stage='None', description='', last_updated_timestamp=1722893398736, name='RFC - 10', run_id='20bd3e8c8c184479afd5ecc2e75f2dbf', run_link='', source=('mlflow-artifacts:/620ba81b100844bd829f3fedcdac3aab/20bd3e8c8c184479afd5ecc2e75f2dbf/artifacts/RFC '\n",
      " '- 10'), status='READY', status_message='', tags={}, user_id='', version='2'>],\n",
      "    'name': 'RFC - 10',\n",
      "    'tags': {}}\n",
      "{   'aliases': {},\n",
      "    'creation_timestamp': 1731239228723,\n",
      "    'description': '',\n",
      "    'last_updated_timestamp': 1731239230507,\n",
      "    'latest_versions': [   <ModelVersion: aliases=[], creation_timestamp=1731239230507, current_stage='None', description='', last_updated_timestamp=1731239230507, name='rfc_100', run_id='268cee6fd6e043a9abdeaa3391b64c02', run_link='', source='mlflow-artifacts:/70aadf01ff15477898d0ebd15cd32289/268cee6fd6e043a9abdeaa3391b64c02/artifacts/rfc_100', status='READY', status_message='', tags={'date_version': '2024-11-10'}, user_id='', version='1'>],\n",
      "    'name': 'rfc_100',\n",
      "    'tags': {}}\n",
      "{   'aliases': {},\n",
      "    'creation_timestamp': 1722788357901,\n",
      "    'description': '',\n",
      "    'last_updated_timestamp': 1722893408932,\n",
      "    'latest_versions': [   <ModelVersion: aliases=[], creation_timestamp=1722893408932, current_stage='None', description='', last_updated_timestamp=1722893408932, name='RFC - 100', run_id='82ae1728b2f94903abccd351e96cfeb9', run_link='', source=('mlflow-artifacts:/620ba81b100844bd829f3fedcdac3aab/82ae1728b2f94903abccd351e96cfeb9/artifacts/RFC '\n",
      " '- 100'), status='READY', status_message='', tags={}, user_id='', version='2'>],\n",
      "    'name': 'RFC - 100',\n",
      "    'tags': {}}\n",
      "{   'aliases': {},\n",
      "    'creation_timestamp': 1731239282223,\n",
      "    'description': '',\n",
      "    'last_updated_timestamp': 1731239282582,\n",
      "    'latest_versions': [   <ModelVersion: aliases=[], creation_timestamp=1731239282582, current_stage='None', description='', last_updated_timestamp=1731239282582, name='rfc_1000', run_id='6c31e0e76f3b484abe93bf4e68cf1acd', run_link='', source='mlflow-artifacts:/70aadf01ff15477898d0ebd15cd32289/6c31e0e76f3b484abe93bf4e68cf1acd/artifacts/rfc_1000', status='READY', status_message='', tags={'date_version': '2024-11-10'}, user_id='', version='1'>],\n",
      "    'name': 'rfc_1000',\n",
      "    'tags': {}}\n",
      "{   'aliases': {},\n",
      "    'creation_timestamp': 1722788392201,\n",
      "    'description': '',\n",
      "    'last_updated_timestamp': 1722893433262,\n",
      "    'latest_versions': [   <ModelVersion: aliases=[], creation_timestamp=1722893433262, current_stage='None', description='', last_updated_timestamp=1722893433262, name='RFC - 1000', run_id='1eac8d1391d34db39eadeaafdc3ec0bb', run_link='', source=('mlflow-artifacts:/620ba81b100844bd829f3fedcdac3aab/1eac8d1391d34db39eadeaafdc3ec0bb/artifacts/RFC '\n",
      " '- 1000'), status='READY', status_message='', tags={}, user_id='', version='2'>],\n",
      "    'name': 'RFC - 1000',\n",
      "    'tags': {}}\n",
      "{   'aliases': {},\n",
      "    'creation_timestamp': 1722788422145,\n",
      "    'description': '',\n",
      "    'last_updated_timestamp': 1722893455861,\n",
      "    'latest_versions': [   <ModelVersion: aliases=[], creation_timestamp=1722893455861, current_stage='None', description='', last_updated_timestamp=1722893455861, name='XGB', run_id='e52dab16e6df401f8e6ad41d098eae4a', run_link='', source='mlflow-artifacts:/620ba81b100844bd829f3fedcdac3aab/e52dab16e6df401f8e6ad41d098eae4a/artifacts/XGB', status='READY', status_message='', tags={}, user_id='', version='2'>],\n",
      "    'name': 'XGB',\n",
      "    'tags': {}}\n"
     ]
    }
   ],
   "source": [
    "from pprint import pprint\n",
    "\n",
    "for rm in mlflow_client.search_registered_models():\n",
    "    pprint(dict(rm), indent=4)"
   ]
  },
  {
   "cell_type": "code",
   "execution_count": null,
   "metadata": {},
   "outputs": [],
   "source": [
    "# def get_last_model(mlflow_client):\n",
    "#     last_model = None\n",
    "#     last_ts = 0\n",
    "#     for mv in mlflow_client.search_model_versions(\"tag.weekly_best='True'\"):\n",
    "#         if mv.last_updated_timestamp > last_ts:\n",
    "#             last_model = mv\n",
    "    \n",
    "#     print(f\"Last model found: {mv.name} (date version {mv.tags.get('date_version')}, version {mv.version})\")\n",
    "\n",
    "#     return last_model"
   ]
  },
  {
   "cell_type": "code",
   "execution_count": 276,
   "metadata": {},
   "outputs": [
    {
     "name": "stderr",
     "output_type": "stream",
     "text": [
      "Resetting dropped connection: dagshub.com\n",
      "https://dagshub.com:443 \"GET /josmunpen/laliga-oracle-dags.mlflow/api/2.0/mlflow/model-versions/search?filter=tag.weekly_best%3D%27True%27&max_results=10000 HTTP/11\" 200 None\n"
     ]
    },
    {
     "name": "stdout",
     "output_type": "stream",
     "text": [
      "Last model found: knn_25 (date version 2024-11-10, version 3)\n"
     ]
    }
   ],
   "source": [
    "best_last_model = get_last_model(mlflow_client=mlflow_client)"
   ]
  },
  {
   "cell_type": "code",
   "execution_count": 277,
   "metadata": {},
   "outputs": [
    {
     "data": {
      "text/plain": [
       "'mlflow-artifacts:/6d5735cbe89241f69cbbd4214ee6925e/aa97c6011e7e4f9ca86c99b0848ef27f/artifacts/sklearn-model'"
      ]
     },
     "execution_count": 277,
     "metadata": {},
     "output_type": "execute_result"
    }
   ],
   "source": [
    "best_last_model.source"
   ]
  },
  {
   "cell_type": "code",
   "execution_count": 278,
   "metadata": {},
   "outputs": [
    {
     "data": {
      "text/plain": [
       "'None'"
      ]
     },
     "execution_count": 278,
     "metadata": {},
     "output_type": "execute_result"
    }
   ],
   "source": [
    "best_last_model.current_stage"
   ]
  },
  {
   "cell_type": "code",
   "execution_count": 285,
   "metadata": {},
   "outputs": [
    {
     "data": {
      "text/plain": [
       "'aa97c6011e7e4f9ca86c99b0848ef27f'"
      ]
     },
     "execution_count": 285,
     "metadata": {},
     "output_type": "execute_result"
    }
   ],
   "source": [
    "best_last_model.run_id"
   ]
  },
  {
   "cell_type": "code",
   "execution_count": 318,
   "metadata": {},
   "outputs": [
    {
     "data": {
      "text/plain": [
       "'3'"
      ]
     },
     "execution_count": 318,
     "metadata": {},
     "output_type": "execute_result"
    }
   ],
   "source": [
    "best_last_model.version"
   ]
  },
  {
   "cell_type": "code",
   "execution_count": 295,
   "metadata": {},
   "outputs": [
    {
     "name": "stderr",
     "output_type": "stream",
     "text": [
      "https://dagshub.com:443 \"GET /josmunpen/laliga-oracle-dags.mlflow/api/2.0/mlflow/runs/get?run_uuid=aa97c6011e7e4f9ca86c99b0848ef27f&run_id=aa97c6011e7e4f9ca86c99b0848ef27f HTTP/11\" 200 None\n",
      "https://dagshub.com:443 \"GET /josmunpen/laliga-oracle-dags.mlflow/api/2.0/mlflow-artifacts/artifacts?path=6d5735cbe89241f69cbbd4214ee6925e%2Faa97c6011e7e4f9ca86c99b0848ef27f%2Fartifacts%2Fmodel HTTP/11\" 200 None\n",
      "https://dagshub.com:443 \"GET /josmunpen/laliga-oracle-dags.mlflow/api/2.0/mlflow-artifacts/artifacts/6d5735cbe89241f69cbbd4214ee6925e/aa97c6011e7e4f9ca86c99b0848ef27f/artifacts/model HTTP/11\" 500 None\n",
      "Incremented Retry for (url='/josmunpen/laliga-oracle-dags.mlflow/api/2.0/mlflow-artifacts/artifacts/6d5735cbe89241f69cbbd4214ee6925e/aa97c6011e7e4f9ca86c99b0848ef27f/artifacts/model'): Retry(total=4, connect=5, read=5, redirect=5, status=4)\n",
      "Retry: /josmunpen/laliga-oracle-dags.mlflow/api/2.0/mlflow-artifacts/artifacts/6d5735cbe89241f69cbbd4214ee6925e/aa97c6011e7e4f9ca86c99b0848ef27f/artifacts/model\n",
      "https://dagshub.com:443 \"GET /josmunpen/laliga-oracle-dags.mlflow/api/2.0/mlflow-artifacts/artifacts/6d5735cbe89241f69cbbd4214ee6925e/aa97c6011e7e4f9ca86c99b0848ef27f/artifacts/model HTTP/11\" 500 None\n",
      "Incremented Retry for (url='/josmunpen/laliga-oracle-dags.mlflow/api/2.0/mlflow-artifacts/artifacts/6d5735cbe89241f69cbbd4214ee6925e/aa97c6011e7e4f9ca86c99b0848ef27f/artifacts/model'): Retry(total=3, connect=5, read=5, redirect=5, status=3)\n",
      "Retry: /josmunpen/laliga-oracle-dags.mlflow/api/2.0/mlflow-artifacts/artifacts/6d5735cbe89241f69cbbd4214ee6925e/aa97c6011e7e4f9ca86c99b0848ef27f/artifacts/model\n",
      "https://dagshub.com:443 \"GET /josmunpen/laliga-oracle-dags.mlflow/api/2.0/mlflow-artifacts/artifacts/6d5735cbe89241f69cbbd4214ee6925e/aa97c6011e7e4f9ca86c99b0848ef27f/artifacts/model HTTP/11\" 500 None\n",
      "Incremented Retry for (url='/josmunpen/laliga-oracle-dags.mlflow/api/2.0/mlflow-artifacts/artifacts/6d5735cbe89241f69cbbd4214ee6925e/aa97c6011e7e4f9ca86c99b0848ef27f/artifacts/model'): Retry(total=2, connect=5, read=5, redirect=5, status=2)\n",
      "Retry: /josmunpen/laliga-oracle-dags.mlflow/api/2.0/mlflow-artifacts/artifacts/6d5735cbe89241f69cbbd4214ee6925e/aa97c6011e7e4f9ca86c99b0848ef27f/artifacts/model\n",
      "https://dagshub.com:443 \"GET /josmunpen/laliga-oracle-dags.mlflow/api/2.0/mlflow-artifacts/artifacts/6d5735cbe89241f69cbbd4214ee6925e/aa97c6011e7e4f9ca86c99b0848ef27f/artifacts/model HTTP/11\" 500 None\n",
      "Incremented Retry for (url='/josmunpen/laliga-oracle-dags.mlflow/api/2.0/mlflow-artifacts/artifacts/6d5735cbe89241f69cbbd4214ee6925e/aa97c6011e7e4f9ca86c99b0848ef27f/artifacts/model'): Retry(total=1, connect=5, read=5, redirect=5, status=1)\n",
      "Retry: /josmunpen/laliga-oracle-dags.mlflow/api/2.0/mlflow-artifacts/artifacts/6d5735cbe89241f69cbbd4214ee6925e/aa97c6011e7e4f9ca86c99b0848ef27f/artifacts/model\n",
      "https://dagshub.com:443 \"GET /josmunpen/laliga-oracle-dags.mlflow/api/2.0/mlflow-artifacts/artifacts/6d5735cbe89241f69cbbd4214ee6925e/aa97c6011e7e4f9ca86c99b0848ef27f/artifacts/model HTTP/11\" 500 None\n",
      "Incremented Retry for (url='/josmunpen/laliga-oracle-dags.mlflow/api/2.0/mlflow-artifacts/artifacts/6d5735cbe89241f69cbbd4214ee6925e/aa97c6011e7e4f9ca86c99b0848ef27f/artifacts/model'): Retry(total=0, connect=5, read=5, redirect=5, status=0)\n",
      "Retry: /josmunpen/laliga-oracle-dags.mlflow/api/2.0/mlflow-artifacts/artifacts/6d5735cbe89241f69cbbd4214ee6925e/aa97c6011e7e4f9ca86c99b0848ef27f/artifacts/model\n",
      "https://dagshub.com:443 \"GET /josmunpen/laliga-oracle-dags.mlflow/api/2.0/mlflow-artifacts/artifacts/6d5735cbe89241f69cbbd4214ee6925e/aa97c6011e7e4f9ca86c99b0848ef27f/artifacts/model HTTP/11\" 500 None\n"
     ]
    },
    {
     "ename": "MlflowException",
     "evalue": "The following failures occurred while downloading one or more artifacts from https://dagshub.com/josmunpen/laliga-oracle-dags.mlflow/api/2.0/mlflow-artifacts/artifacts/6d5735cbe89241f69cbbd4214ee6925e/aa97c6011e7e4f9ca86c99b0848ef27f/artifacts:\n##### File model #####\nAPI request to https://dagshub.com/josmunpen/laliga-oracle-dags.mlflow/api/2.0/mlflow-artifacts/artifacts/6d5735cbe89241f69cbbd4214ee6925e/aa97c6011e7e4f9ca86c99b0848ef27f/artifacts/model failed with exception HTTPSConnectionPool(host='dagshub.com', port=443): Max retries exceeded with url: /josmunpen/laliga-oracle-dags.mlflow/api/2.0/mlflow-artifacts/artifacts/6d5735cbe89241f69cbbd4214ee6925e/aa97c6011e7e4f9ca86c99b0848ef27f/artifacts/model (Caused by ResponseError('too many 500 error responses'))",
     "output_type": "error",
     "traceback": [
      "\u001b[1;31m---------------------------------------------------------------------------\u001b[0m",
      "\u001b[1;31mMlflowException\u001b[0m                           Traceback (most recent call last)",
      "Cell \u001b[1;32mIn[295], line 2\u001b[0m\n\u001b[0;32m      1\u001b[0m model_uri \u001b[38;5;241m=\u001b[39m \u001b[38;5;124mf\u001b[39m\u001b[38;5;124m\"\u001b[39m\u001b[38;5;124mruns:/\u001b[39m\u001b[38;5;132;01m{\u001b[39;00mbest_last_model\u001b[38;5;241m.\u001b[39mrun_id\u001b[38;5;132;01m}\u001b[39;00m\u001b[38;5;124m/model\u001b[39m\u001b[38;5;124m\"\u001b[39m\n\u001b[1;32m----> 2\u001b[0m model \u001b[38;5;241m=\u001b[39m \u001b[43mmlflow\u001b[49m\u001b[38;5;241;43m.\u001b[39;49m\u001b[43msklearn\u001b[49m\u001b[38;5;241;43m.\u001b[39;49m\u001b[43mload_model\u001b[49m\u001b[43m(\u001b[49m\u001b[43mmodel_uri\u001b[49m\u001b[38;5;241;43m=\u001b[39;49m\u001b[43mmodel_uri\u001b[49m\u001b[43m)\u001b[49m\n",
      "File \u001b[1;32mc:\\Users\\josem\\ds\\my-league-oracle\\env_train\\Lib\\site-packages\\mlflow\\sklearn\\__init__.py:632\u001b[0m, in \u001b[0;36mload_model\u001b[1;34m(model_uri, dst_path)\u001b[0m\n\u001b[0;32m    597\u001b[0m \u001b[38;5;28;01mdef\u001b[39;00m \u001b[38;5;21mload_model\u001b[39m(model_uri, dst_path\u001b[38;5;241m=\u001b[39m\u001b[38;5;28;01mNone\u001b[39;00m):\n\u001b[0;32m    598\u001b[0m \u001b[38;5;250m    \u001b[39m\u001b[38;5;124;03m\"\"\"\u001b[39;00m\n\u001b[0;32m    599\u001b[0m \u001b[38;5;124;03m    Load a scikit-learn model from a local file or a run.\u001b[39;00m\n\u001b[0;32m    600\u001b[0m \n\u001b[1;32m   (...)\u001b[0m\n\u001b[0;32m    630\u001b[0m \u001b[38;5;124;03m        predictions = sk_model.predict(pandas_df)\u001b[39;00m\n\u001b[0;32m    631\u001b[0m \u001b[38;5;124;03m    \"\"\"\u001b[39;00m\n\u001b[1;32m--> 632\u001b[0m     local_model_path \u001b[38;5;241m=\u001b[39m \u001b[43m_download_artifact_from_uri\u001b[49m\u001b[43m(\u001b[49m\u001b[43martifact_uri\u001b[49m\u001b[38;5;241;43m=\u001b[39;49m\u001b[43mmodel_uri\u001b[49m\u001b[43m,\u001b[49m\u001b[43m \u001b[49m\u001b[43moutput_path\u001b[49m\u001b[38;5;241;43m=\u001b[39;49m\u001b[43mdst_path\u001b[49m\u001b[43m)\u001b[49m\n\u001b[0;32m    633\u001b[0m     flavor_conf \u001b[38;5;241m=\u001b[39m _get_flavor_configuration(model_path\u001b[38;5;241m=\u001b[39mlocal_model_path, flavor_name\u001b[38;5;241m=\u001b[39mFLAVOR_NAME)\n\u001b[0;32m    634\u001b[0m     _add_code_from_conf_to_system_path(local_model_path, flavor_conf)\n",
      "File \u001b[1;32mc:\\Users\\josem\\ds\\my-league-oracle\\env_train\\Lib\\site-packages\\mlflow\\tracking\\artifact_utils.py:116\u001b[0m, in \u001b[0;36m_download_artifact_from_uri\u001b[1;34m(artifact_uri, output_path, lineage_header_info)\u001b[0m\n\u001b[0;32m    110\u001b[0m \u001b[38;5;28;01mif\u001b[39;00m \u001b[38;5;28misinstance\u001b[39m(repo, ModelsArtifactRepository):\n\u001b[0;32m    111\u001b[0m     \u001b[38;5;28;01mreturn\u001b[39;00m repo\u001b[38;5;241m.\u001b[39mdownload_artifacts(\n\u001b[0;32m    112\u001b[0m         artifact_path\u001b[38;5;241m=\u001b[39martifact_path,\n\u001b[0;32m    113\u001b[0m         dst_path\u001b[38;5;241m=\u001b[39moutput_path,\n\u001b[0;32m    114\u001b[0m         lineage_header_info\u001b[38;5;241m=\u001b[39mlineage_header_info,\n\u001b[0;32m    115\u001b[0m     )\n\u001b[1;32m--> 116\u001b[0m \u001b[38;5;28;01mreturn\u001b[39;00m \u001b[43mrepo\u001b[49m\u001b[38;5;241;43m.\u001b[39;49m\u001b[43mdownload_artifacts\u001b[49m\u001b[43m(\u001b[49m\u001b[43martifact_path\u001b[49m\u001b[38;5;241;43m=\u001b[39;49m\u001b[43martifact_path\u001b[49m\u001b[43m,\u001b[49m\u001b[43m \u001b[49m\u001b[43mdst_path\u001b[49m\u001b[38;5;241;43m=\u001b[39;49m\u001b[43moutput_path\u001b[49m\u001b[43m)\u001b[49m\n",
      "File \u001b[1;32mc:\\Users\\josem\\ds\\my-league-oracle\\env_train\\Lib\\site-packages\\mlflow\\store\\artifact\\runs_artifact_repo.py:131\u001b[0m, in \u001b[0;36mRunsArtifactRepository.download_artifacts\u001b[1;34m(self, artifact_path, dst_path)\u001b[0m\n\u001b[0;32m    114\u001b[0m \u001b[38;5;28;01mdef\u001b[39;00m \u001b[38;5;21mdownload_artifacts\u001b[39m(\u001b[38;5;28mself\u001b[39m, artifact_path, dst_path\u001b[38;5;241m=\u001b[39m\u001b[38;5;28;01mNone\u001b[39;00m):\n\u001b[0;32m    115\u001b[0m \u001b[38;5;250m    \u001b[39m\u001b[38;5;124;03m\"\"\"\u001b[39;00m\n\u001b[0;32m    116\u001b[0m \u001b[38;5;124;03m    Download an artifact file or directory to a local directory if applicable, and return a\u001b[39;00m\n\u001b[0;32m    117\u001b[0m \u001b[38;5;124;03m    local path for it.\u001b[39;00m\n\u001b[1;32m   (...)\u001b[0m\n\u001b[0;32m    129\u001b[0m \u001b[38;5;124;03m        Absolute path of the local filesystem location containing the desired artifacts.\u001b[39;00m\n\u001b[0;32m    130\u001b[0m \u001b[38;5;124;03m    \"\"\"\u001b[39;00m\n\u001b[1;32m--> 131\u001b[0m     \u001b[38;5;28;01mreturn\u001b[39;00m \u001b[38;5;28;43mself\u001b[39;49m\u001b[38;5;241;43m.\u001b[39;49m\u001b[43mrepo\u001b[49m\u001b[38;5;241;43m.\u001b[39;49m\u001b[43mdownload_artifacts\u001b[49m\u001b[43m(\u001b[49m\u001b[43martifact_path\u001b[49m\u001b[43m,\u001b[49m\u001b[43m \u001b[49m\u001b[43mdst_path\u001b[49m\u001b[43m)\u001b[49m\n",
      "File \u001b[1;32mc:\\Users\\josem\\ds\\my-league-oracle\\env_train\\Lib\\site-packages\\mlflow\\store\\artifact\\artifact_repo.py:284\u001b[0m, in \u001b[0;36mArtifactRepository.download_artifacts\u001b[1;34m(self, artifact_path, dst_path)\u001b[0m\n\u001b[0;32m    278\u001b[0m         template \u001b[38;5;241m=\u001b[39m \u001b[38;5;124m\"\u001b[39m\u001b[38;5;124m##### File \u001b[39m\u001b[38;5;132;01m{path}\u001b[39;00m\u001b[38;5;124m #####\u001b[39m\u001b[38;5;130;01m\\n\u001b[39;00m\u001b[38;5;132;01m{error}\u001b[39;00m\u001b[38;5;124m\"\u001b[39m\n\u001b[0;32m    280\u001b[0m     failures \u001b[38;5;241m=\u001b[39m \u001b[38;5;124m\"\u001b[39m\u001b[38;5;130;01m\\n\u001b[39;00m\u001b[38;5;124m\"\u001b[39m\u001b[38;5;241m.\u001b[39mjoin(\n\u001b[0;32m    281\u001b[0m         template\u001b[38;5;241m.\u001b[39mformat(path\u001b[38;5;241m=\u001b[39mpath, error\u001b[38;5;241m=\u001b[39merror, traceback\u001b[38;5;241m=\u001b[39mtracebacks[path])\n\u001b[0;32m    282\u001b[0m         \u001b[38;5;28;01mfor\u001b[39;00m path, error \u001b[38;5;129;01min\u001b[39;00m failed_downloads\u001b[38;5;241m.\u001b[39mitems()\n\u001b[0;32m    283\u001b[0m     )\n\u001b[1;32m--> 284\u001b[0m     \u001b[38;5;28;01mraise\u001b[39;00m MlflowException(\n\u001b[0;32m    285\u001b[0m         message\u001b[38;5;241m=\u001b[39m(\n\u001b[0;32m    286\u001b[0m             \u001b[38;5;124m\"\u001b[39m\u001b[38;5;124mThe following failures occurred while downloading one or more\u001b[39m\u001b[38;5;124m\"\u001b[39m\n\u001b[0;32m    287\u001b[0m             \u001b[38;5;124mf\u001b[39m\u001b[38;5;124m\"\u001b[39m\u001b[38;5;124m artifacts from \u001b[39m\u001b[38;5;132;01m{\u001b[39;00m\u001b[38;5;28mself\u001b[39m\u001b[38;5;241m.\u001b[39martifact_uri\u001b[38;5;132;01m}\u001b[39;00m\u001b[38;5;124m:\u001b[39m\u001b[38;5;130;01m\\n\u001b[39;00m\u001b[38;5;132;01m{\u001b[39;00m_truncate_error(failures)\u001b[38;5;132;01m}\u001b[39;00m\u001b[38;5;124m\"\u001b[39m\n\u001b[0;32m    288\u001b[0m         )\n\u001b[0;32m    289\u001b[0m     )\n\u001b[0;32m    291\u001b[0m \u001b[38;5;28;01mreturn\u001b[39;00m os\u001b[38;5;241m.\u001b[39mpath\u001b[38;5;241m.\u001b[39mjoin(dst_path, artifact_path)\n",
      "\u001b[1;31mMlflowException\u001b[0m: The following failures occurred while downloading one or more artifacts from https://dagshub.com/josmunpen/laliga-oracle-dags.mlflow/api/2.0/mlflow-artifacts/artifacts/6d5735cbe89241f69cbbd4214ee6925e/aa97c6011e7e4f9ca86c99b0848ef27f/artifacts:\n##### File model #####\nAPI request to https://dagshub.com/josmunpen/laliga-oracle-dags.mlflow/api/2.0/mlflow-artifacts/artifacts/6d5735cbe89241f69cbbd4214ee6925e/aa97c6011e7e4f9ca86c99b0848ef27f/artifacts/model failed with exception HTTPSConnectionPool(host='dagshub.com', port=443): Max retries exceeded with url: /josmunpen/laliga-oracle-dags.mlflow/api/2.0/mlflow-artifacts/artifacts/6d5735cbe89241f69cbbd4214ee6925e/aa97c6011e7e4f9ca86c99b0848ef27f/artifacts/model (Caused by ResponseError('too many 500 error responses'))"
     ]
    }
   ],
   "source": [
    "model_uri = f\"runs:/{best_last_model.run_id}/model\"\n",
    "model = mlflow.sklearn.load_model(model_uri=model_uri)"
   ]
  },
  {
   "cell_type": "code",
   "execution_count": 296,
   "metadata": {},
   "outputs": [
    {
     "data": {
      "text/plain": [
       "'models:/knn_25/3'"
      ]
     },
     "execution_count": 296,
     "metadata": {},
     "output_type": "execute_result"
    }
   ],
   "source": [
    "f\"models:/{best_last_model.name}/{best_last_model.version}\""
   ]
  },
  {
   "cell_type": "code",
   "execution_count": 300,
   "metadata": {},
   "outputs": [
    {
     "name": "stderr",
     "output_type": "stream",
     "text": [
      "https://dagshub.com:443 \"GET /josmunpen/laliga-oracle-dags.mlflow/api/2.0/mlflow/model-versions/get-download-uri?name=knn_25&version=3 HTTP/11\" 200 None\n",
      "https://dagshub.com:443 \"GET /josmunpen/laliga-oracle-dags.mlflow/api/2.0/mlflow-artifacts/artifacts?path=6d5735cbe89241f69cbbd4214ee6925e%2Faa97c6011e7e4f9ca86c99b0848ef27f%2Fartifacts%2Fsklearn-model HTTP/11\" 200 None\n",
      "https://dagshub.com:443 \"GET /josmunpen/laliga-oracle-dags.mlflow/api/2.0/mlflow-artifacts/artifacts/6d5735cbe89241f69cbbd4214ee6925e/aa97c6011e7e4f9ca86c99b0848ef27f/artifacts/sklearn-model/ HTTP/11\" 500 None\n",
      "Incremented Retry for (url='/josmunpen/laliga-oracle-dags.mlflow/api/2.0/mlflow-artifacts/artifacts/6d5735cbe89241f69cbbd4214ee6925e/aa97c6011e7e4f9ca86c99b0848ef27f/artifacts/sklearn-model/'): Retry(total=4, connect=5, read=5, redirect=5, status=4)\n",
      "Retry: /josmunpen/laliga-oracle-dags.mlflow/api/2.0/mlflow-artifacts/artifacts/6d5735cbe89241f69cbbd4214ee6925e/aa97c6011e7e4f9ca86c99b0848ef27f/artifacts/sklearn-model/\n",
      "https://dagshub.com:443 \"GET /josmunpen/laliga-oracle-dags.mlflow/api/2.0/mlflow-artifacts/artifacts/6d5735cbe89241f69cbbd4214ee6925e/aa97c6011e7e4f9ca86c99b0848ef27f/artifacts/sklearn-model/ HTTP/11\" 500 None\n",
      "Incremented Retry for (url='/josmunpen/laliga-oracle-dags.mlflow/api/2.0/mlflow-artifacts/artifacts/6d5735cbe89241f69cbbd4214ee6925e/aa97c6011e7e4f9ca86c99b0848ef27f/artifacts/sklearn-model/'): Retry(total=3, connect=5, read=5, redirect=5, status=3)\n",
      "Retry: /josmunpen/laliga-oracle-dags.mlflow/api/2.0/mlflow-artifacts/artifacts/6d5735cbe89241f69cbbd4214ee6925e/aa97c6011e7e4f9ca86c99b0848ef27f/artifacts/sklearn-model/\n",
      "https://dagshub.com:443 \"GET /josmunpen/laliga-oracle-dags.mlflow/api/2.0/mlflow-artifacts/artifacts/6d5735cbe89241f69cbbd4214ee6925e/aa97c6011e7e4f9ca86c99b0848ef27f/artifacts/sklearn-model/ HTTP/11\" 500 None\n",
      "Incremented Retry for (url='/josmunpen/laliga-oracle-dags.mlflow/api/2.0/mlflow-artifacts/artifacts/6d5735cbe89241f69cbbd4214ee6925e/aa97c6011e7e4f9ca86c99b0848ef27f/artifacts/sklearn-model/'): Retry(total=2, connect=5, read=5, redirect=5, status=2)\n",
      "Retry: /josmunpen/laliga-oracle-dags.mlflow/api/2.0/mlflow-artifacts/artifacts/6d5735cbe89241f69cbbd4214ee6925e/aa97c6011e7e4f9ca86c99b0848ef27f/artifacts/sklearn-model/\n",
      "https://dagshub.com:443 \"GET /josmunpen/laliga-oracle-dags.mlflow/api/2.0/mlflow-artifacts/artifacts/6d5735cbe89241f69cbbd4214ee6925e/aa97c6011e7e4f9ca86c99b0848ef27f/artifacts/sklearn-model/ HTTP/11\" 500 None\n",
      "Incremented Retry for (url='/josmunpen/laliga-oracle-dags.mlflow/api/2.0/mlflow-artifacts/artifacts/6d5735cbe89241f69cbbd4214ee6925e/aa97c6011e7e4f9ca86c99b0848ef27f/artifacts/sklearn-model/'): Retry(total=1, connect=5, read=5, redirect=5, status=1)\n",
      "Retry: /josmunpen/laliga-oracle-dags.mlflow/api/2.0/mlflow-artifacts/artifacts/6d5735cbe89241f69cbbd4214ee6925e/aa97c6011e7e4f9ca86c99b0848ef27f/artifacts/sklearn-model/\n",
      "https://dagshub.com:443 \"GET /josmunpen/laliga-oracle-dags.mlflow/api/2.0/mlflow-artifacts/artifacts/6d5735cbe89241f69cbbd4214ee6925e/aa97c6011e7e4f9ca86c99b0848ef27f/artifacts/sklearn-model/ HTTP/11\" 500 None\n",
      "Incremented Retry for (url='/josmunpen/laliga-oracle-dags.mlflow/api/2.0/mlflow-artifacts/artifacts/6d5735cbe89241f69cbbd4214ee6925e/aa97c6011e7e4f9ca86c99b0848ef27f/artifacts/sklearn-model/'): Retry(total=0, connect=5, read=5, redirect=5, status=0)\n",
      "Retry: /josmunpen/laliga-oracle-dags.mlflow/api/2.0/mlflow-artifacts/artifacts/6d5735cbe89241f69cbbd4214ee6925e/aa97c6011e7e4f9ca86c99b0848ef27f/artifacts/sklearn-model/\n",
      "https://dagshub.com:443 \"GET /josmunpen/laliga-oracle-dags.mlflow/api/2.0/mlflow-artifacts/artifacts/6d5735cbe89241f69cbbd4214ee6925e/aa97c6011e7e4f9ca86c99b0848ef27f/artifacts/sklearn-model/ HTTP/11\" 500 None\n"
     ]
    },
    {
     "ename": "MlflowException",
     "evalue": "The following failures occurred while downloading one or more artifacts from https://dagshub.com/josmunpen/laliga-oracle-dags.mlflow/api/2.0/mlflow-artifacts/artifacts/6d5735cbe89241f69cbbd4214ee6925e/aa97c6011e7e4f9ca86c99b0848ef27f/artifacts/sklearn-model:\n##### File  #####\nAPI request to https://dagshub.com/josmunpen/laliga-oracle-dags.mlflow/api/2.0/mlflow-artifacts/artifacts/6d5735cbe89241f69cbbd4214ee6925e/aa97c6011e7e4f9ca86c99b0848ef27f/artifacts/sklearn-model/ failed with exception HTTPSConnectionPool(host='dagshub.com', port=443): Max retries exceeded with url: /josmunpen/laliga-oracle-dags.mlflow/api/2.0/mlflow-artifacts/artifacts/6d5735cbe89241f69cbbd4214ee6925e/aa97c6011e7e4f9ca86c99b0848ef27f/artifacts/sklearn-model/ (Caused by ResponseError('too many 500 error responses'))",
     "output_type": "error",
     "traceback": [
      "\u001b[1;31m---------------------------------------------------------------------------\u001b[0m",
      "\u001b[1;31mMlflowException\u001b[0m                           Traceback (most recent call last)",
      "Cell \u001b[1;32mIn[300], line 1\u001b[0m\n\u001b[1;32m----> 1\u001b[0m test \u001b[38;5;241m=\u001b[39m \u001b[43mmlflow\u001b[49m\u001b[38;5;241;43m.\u001b[39;49m\u001b[43msklearn\u001b[49m\u001b[38;5;241;43m.\u001b[39;49m\u001b[43mload_model\u001b[49m\u001b[43m(\u001b[49m\u001b[38;5;124;43m\"\u001b[39;49m\u001b[38;5;124;43mmodels:/knn_25/3\u001b[39;49m\u001b[38;5;124;43m\"\u001b[39;49m\u001b[43m)\u001b[49m\n",
      "File \u001b[1;32mc:\\Users\\josem\\ds\\my-league-oracle\\env_train\\Lib\\site-packages\\mlflow\\sklearn\\__init__.py:632\u001b[0m, in \u001b[0;36mload_model\u001b[1;34m(model_uri, dst_path)\u001b[0m\n\u001b[0;32m    597\u001b[0m \u001b[38;5;28;01mdef\u001b[39;00m \u001b[38;5;21mload_model\u001b[39m(model_uri, dst_path\u001b[38;5;241m=\u001b[39m\u001b[38;5;28;01mNone\u001b[39;00m):\n\u001b[0;32m    598\u001b[0m \u001b[38;5;250m    \u001b[39m\u001b[38;5;124;03m\"\"\"\u001b[39;00m\n\u001b[0;32m    599\u001b[0m \u001b[38;5;124;03m    Load a scikit-learn model from a local file or a run.\u001b[39;00m\n\u001b[0;32m    600\u001b[0m \n\u001b[1;32m   (...)\u001b[0m\n\u001b[0;32m    630\u001b[0m \u001b[38;5;124;03m        predictions = sk_model.predict(pandas_df)\u001b[39;00m\n\u001b[0;32m    631\u001b[0m \u001b[38;5;124;03m    \"\"\"\u001b[39;00m\n\u001b[1;32m--> 632\u001b[0m     local_model_path \u001b[38;5;241m=\u001b[39m \u001b[43m_download_artifact_from_uri\u001b[49m\u001b[43m(\u001b[49m\u001b[43martifact_uri\u001b[49m\u001b[38;5;241;43m=\u001b[39;49m\u001b[43mmodel_uri\u001b[49m\u001b[43m,\u001b[49m\u001b[43m \u001b[49m\u001b[43moutput_path\u001b[49m\u001b[38;5;241;43m=\u001b[39;49m\u001b[43mdst_path\u001b[49m\u001b[43m)\u001b[49m\n\u001b[0;32m    633\u001b[0m     flavor_conf \u001b[38;5;241m=\u001b[39m _get_flavor_configuration(model_path\u001b[38;5;241m=\u001b[39mlocal_model_path, flavor_name\u001b[38;5;241m=\u001b[39mFLAVOR_NAME)\n\u001b[0;32m    634\u001b[0m     _add_code_from_conf_to_system_path(local_model_path, flavor_conf)\n",
      "File \u001b[1;32mc:\\Users\\josem\\ds\\my-league-oracle\\env_train\\Lib\\site-packages\\mlflow\\tracking\\artifact_utils.py:111\u001b[0m, in \u001b[0;36m_download_artifact_from_uri\u001b[1;34m(artifact_uri, output_path, lineage_header_info)\u001b[0m\n\u001b[0;32m    108\u001b[0m repo \u001b[38;5;241m=\u001b[39m get_artifact_repository(artifact_uri\u001b[38;5;241m=\u001b[39mroot_uri)\n\u001b[0;32m    110\u001b[0m \u001b[38;5;28;01mif\u001b[39;00m \u001b[38;5;28misinstance\u001b[39m(repo, ModelsArtifactRepository):\n\u001b[1;32m--> 111\u001b[0m     \u001b[38;5;28;01mreturn\u001b[39;00m \u001b[43mrepo\u001b[49m\u001b[38;5;241;43m.\u001b[39;49m\u001b[43mdownload_artifacts\u001b[49m\u001b[43m(\u001b[49m\n\u001b[0;32m    112\u001b[0m \u001b[43m        \u001b[49m\u001b[43martifact_path\u001b[49m\u001b[38;5;241;43m=\u001b[39;49m\u001b[43martifact_path\u001b[49m\u001b[43m,\u001b[49m\n\u001b[0;32m    113\u001b[0m \u001b[43m        \u001b[49m\u001b[43mdst_path\u001b[49m\u001b[38;5;241;43m=\u001b[39;49m\u001b[43moutput_path\u001b[49m\u001b[43m,\u001b[49m\n\u001b[0;32m    114\u001b[0m \u001b[43m        \u001b[49m\u001b[43mlineage_header_info\u001b[49m\u001b[38;5;241;43m=\u001b[39;49m\u001b[43mlineage_header_info\u001b[49m\u001b[43m,\u001b[49m\n\u001b[0;32m    115\u001b[0m \u001b[43m    \u001b[49m\u001b[43m)\u001b[49m\n\u001b[0;32m    116\u001b[0m \u001b[38;5;28;01mreturn\u001b[39;00m repo\u001b[38;5;241m.\u001b[39mdownload_artifacts(artifact_path\u001b[38;5;241m=\u001b[39martifact_path, dst_path\u001b[38;5;241m=\u001b[39moutput_path)\n",
      "File \u001b[1;32mc:\\Users\\josem\\ds\\my-league-oracle\\env_train\\Lib\\site-packages\\mlflow\\store\\artifact\\models_artifact_repo.py:200\u001b[0m, in \u001b[0;36mModelsArtifactRepository.download_artifacts\u001b[1;34m(self, artifact_path, dst_path, lineage_header_info)\u001b[0m\n\u001b[0;32m    196\u001b[0m     model_path \u001b[38;5;241m=\u001b[39m \u001b[38;5;28mself\u001b[39m\u001b[38;5;241m.\u001b[39mrepo\u001b[38;5;241m.\u001b[39mdownload_artifacts(\n\u001b[0;32m    197\u001b[0m         artifact_path, dst_path, lineage_header_info\u001b[38;5;241m=\u001b[39mlineage_header_info\n\u001b[0;32m    198\u001b[0m     )\n\u001b[0;32m    199\u001b[0m \u001b[38;5;28;01melse\u001b[39;00m:\n\u001b[1;32m--> 200\u001b[0m     model_path \u001b[38;5;241m=\u001b[39m \u001b[38;5;28;43mself\u001b[39;49m\u001b[38;5;241;43m.\u001b[39;49m\u001b[43mrepo\u001b[49m\u001b[38;5;241;43m.\u001b[39;49m\u001b[43mdownload_artifacts\u001b[49m\u001b[43m(\u001b[49m\u001b[43martifact_path\u001b[49m\u001b[43m,\u001b[49m\u001b[43m \u001b[49m\u001b[43mdst_path\u001b[49m\u001b[43m)\u001b[49m\n\u001b[0;32m    201\u001b[0m \u001b[38;5;66;03m# NB: only add the registered model metadata iff the artifact path is at the root model\u001b[39;00m\n\u001b[0;32m    202\u001b[0m \u001b[38;5;66;03m# directory. For individual files or subdirectories within the model directory, do not\u001b[39;00m\n\u001b[0;32m    203\u001b[0m \u001b[38;5;66;03m# create the metadata file.\u001b[39;00m\n\u001b[0;32m    204\u001b[0m \u001b[38;5;28;01mif\u001b[39;00m os\u001b[38;5;241m.\u001b[39mpath\u001b[38;5;241m.\u001b[39misdir(model_path) \u001b[38;5;129;01mand\u001b[39;00m MLMODEL_FILE_NAME \u001b[38;5;129;01min\u001b[39;00m os\u001b[38;5;241m.\u001b[39mlistdir(model_path):\n",
      "File \u001b[1;32mc:\\Users\\josem\\ds\\my-league-oracle\\env_train\\Lib\\site-packages\\mlflow\\store\\artifact\\artifact_repo.py:284\u001b[0m, in \u001b[0;36mArtifactRepository.download_artifacts\u001b[1;34m(self, artifact_path, dst_path)\u001b[0m\n\u001b[0;32m    278\u001b[0m         template \u001b[38;5;241m=\u001b[39m \u001b[38;5;124m\"\u001b[39m\u001b[38;5;124m##### File \u001b[39m\u001b[38;5;132;01m{path}\u001b[39;00m\u001b[38;5;124m #####\u001b[39m\u001b[38;5;130;01m\\n\u001b[39;00m\u001b[38;5;132;01m{error}\u001b[39;00m\u001b[38;5;124m\"\u001b[39m\n\u001b[0;32m    280\u001b[0m     failures \u001b[38;5;241m=\u001b[39m \u001b[38;5;124m\"\u001b[39m\u001b[38;5;130;01m\\n\u001b[39;00m\u001b[38;5;124m\"\u001b[39m\u001b[38;5;241m.\u001b[39mjoin(\n\u001b[0;32m    281\u001b[0m         template\u001b[38;5;241m.\u001b[39mformat(path\u001b[38;5;241m=\u001b[39mpath, error\u001b[38;5;241m=\u001b[39merror, traceback\u001b[38;5;241m=\u001b[39mtracebacks[path])\n\u001b[0;32m    282\u001b[0m         \u001b[38;5;28;01mfor\u001b[39;00m path, error \u001b[38;5;129;01min\u001b[39;00m failed_downloads\u001b[38;5;241m.\u001b[39mitems()\n\u001b[0;32m    283\u001b[0m     )\n\u001b[1;32m--> 284\u001b[0m     \u001b[38;5;28;01mraise\u001b[39;00m MlflowException(\n\u001b[0;32m    285\u001b[0m         message\u001b[38;5;241m=\u001b[39m(\n\u001b[0;32m    286\u001b[0m             \u001b[38;5;124m\"\u001b[39m\u001b[38;5;124mThe following failures occurred while downloading one or more\u001b[39m\u001b[38;5;124m\"\u001b[39m\n\u001b[0;32m    287\u001b[0m             \u001b[38;5;124mf\u001b[39m\u001b[38;5;124m\"\u001b[39m\u001b[38;5;124m artifacts from \u001b[39m\u001b[38;5;132;01m{\u001b[39;00m\u001b[38;5;28mself\u001b[39m\u001b[38;5;241m.\u001b[39martifact_uri\u001b[38;5;132;01m}\u001b[39;00m\u001b[38;5;124m:\u001b[39m\u001b[38;5;130;01m\\n\u001b[39;00m\u001b[38;5;132;01m{\u001b[39;00m_truncate_error(failures)\u001b[38;5;132;01m}\u001b[39;00m\u001b[38;5;124m\"\u001b[39m\n\u001b[0;32m    288\u001b[0m         )\n\u001b[0;32m    289\u001b[0m     )\n\u001b[0;32m    291\u001b[0m \u001b[38;5;28;01mreturn\u001b[39;00m os\u001b[38;5;241m.\u001b[39mpath\u001b[38;5;241m.\u001b[39mjoin(dst_path, artifact_path)\n",
      "\u001b[1;31mMlflowException\u001b[0m: The following failures occurred while downloading one or more artifacts from https://dagshub.com/josmunpen/laliga-oracle-dags.mlflow/api/2.0/mlflow-artifacts/artifacts/6d5735cbe89241f69cbbd4214ee6925e/aa97c6011e7e4f9ca86c99b0848ef27f/artifacts/sklearn-model:\n##### File  #####\nAPI request to https://dagshub.com/josmunpen/laliga-oracle-dags.mlflow/api/2.0/mlflow-artifacts/artifacts/6d5735cbe89241f69cbbd4214ee6925e/aa97c6011e7e4f9ca86c99b0848ef27f/artifacts/sklearn-model/ failed with exception HTTPSConnectionPool(host='dagshub.com', port=443): Max retries exceeded with url: /josmunpen/laliga-oracle-dags.mlflow/api/2.0/mlflow-artifacts/artifacts/6d5735cbe89241f69cbbd4214ee6925e/aa97c6011e7e4f9ca86c99b0848ef27f/artifacts/sklearn-model/ (Caused by ResponseError('too many 500 error responses'))"
     ]
    }
   ],
   "source": [
    "test = mlflow.sklearn.load_model(\"models:/knn_25/1\")"
   ]
  },
  {
   "cell_type": "code",
   "execution_count": 299,
   "metadata": {},
   "outputs": [
    {
     "data": {
      "text/plain": [
       "'models:/knn_25/3'"
      ]
     },
     "execution_count": 299,
     "metadata": {},
     "output_type": "execute_result"
    }
   ],
   "source": [
    "f\"models:/{best_last_model.name}/{best_last_model.version}\""
   ]
  },
  {
   "cell_type": "code",
   "execution_count": 317,
   "metadata": {},
   "outputs": [
    {
     "data": {
      "text/plain": [
       "'3'"
      ]
     },
     "execution_count": 317,
     "metadata": {},
     "output_type": "execute_result"
    }
   ],
   "source": [
    "best_last_model.version"
   ]
  },
  {
   "cell_type": "code",
   "execution_count": 297,
   "metadata": {},
   "outputs": [
    {
     "name": "stderr",
     "output_type": "stream",
     "text": [
      "https://dagshub.com:443 \"GET /josmunpen/laliga-oracle-dags.mlflow/api/2.0/mlflow/model-versions/get-download-uri?name=knn_25&version=3 HTTP/11\" 200 None\n",
      "https://dagshub.com:443 \"GET /josmunpen/laliga-oracle-dags.mlflow/api/2.0/mlflow-artifacts/artifacts?path=6d5735cbe89241f69cbbd4214ee6925e%2Faa97c6011e7e4f9ca86c99b0848ef27f%2Fartifacts%2Fsklearn-model HTTP/11\" 200 None\n",
      "https://dagshub.com:443 \"GET /josmunpen/laliga-oracle-dags.mlflow/api/2.0/mlflow-artifacts/artifacts/6d5735cbe89241f69cbbd4214ee6925e/aa97c6011e7e4f9ca86c99b0848ef27f/artifacts/sklearn-model/ HTTP/11\" 500 None\n",
      "Incremented Retry for (url='/josmunpen/laliga-oracle-dags.mlflow/api/2.0/mlflow-artifacts/artifacts/6d5735cbe89241f69cbbd4214ee6925e/aa97c6011e7e4f9ca86c99b0848ef27f/artifacts/sklearn-model/'): Retry(total=4, connect=5, read=5, redirect=5, status=4)\n",
      "Retry: /josmunpen/laliga-oracle-dags.mlflow/api/2.0/mlflow-artifacts/artifacts/6d5735cbe89241f69cbbd4214ee6925e/aa97c6011e7e4f9ca86c99b0848ef27f/artifacts/sklearn-model/\n",
      "https://dagshub.com:443 \"GET /josmunpen/laliga-oracle-dags.mlflow/api/2.0/mlflow-artifacts/artifacts/6d5735cbe89241f69cbbd4214ee6925e/aa97c6011e7e4f9ca86c99b0848ef27f/artifacts/sklearn-model/ HTTP/11\" 500 None\n",
      "Incremented Retry for (url='/josmunpen/laliga-oracle-dags.mlflow/api/2.0/mlflow-artifacts/artifacts/6d5735cbe89241f69cbbd4214ee6925e/aa97c6011e7e4f9ca86c99b0848ef27f/artifacts/sklearn-model/'): Retry(total=3, connect=5, read=5, redirect=5, status=3)\n",
      "Retry: /josmunpen/laliga-oracle-dags.mlflow/api/2.0/mlflow-artifacts/artifacts/6d5735cbe89241f69cbbd4214ee6925e/aa97c6011e7e4f9ca86c99b0848ef27f/artifacts/sklearn-model/\n",
      "https://dagshub.com:443 \"GET /josmunpen/laliga-oracle-dags.mlflow/api/2.0/mlflow-artifacts/artifacts/6d5735cbe89241f69cbbd4214ee6925e/aa97c6011e7e4f9ca86c99b0848ef27f/artifacts/sklearn-model/ HTTP/11\" 500 None\n",
      "Incremented Retry for (url='/josmunpen/laliga-oracle-dags.mlflow/api/2.0/mlflow-artifacts/artifacts/6d5735cbe89241f69cbbd4214ee6925e/aa97c6011e7e4f9ca86c99b0848ef27f/artifacts/sklearn-model/'): Retry(total=2, connect=5, read=5, redirect=5, status=2)\n",
      "Retry: /josmunpen/laliga-oracle-dags.mlflow/api/2.0/mlflow-artifacts/artifacts/6d5735cbe89241f69cbbd4214ee6925e/aa97c6011e7e4f9ca86c99b0848ef27f/artifacts/sklearn-model/\n",
      "https://dagshub.com:443 \"GET /josmunpen/laliga-oracle-dags.mlflow/api/2.0/mlflow-artifacts/artifacts/6d5735cbe89241f69cbbd4214ee6925e/aa97c6011e7e4f9ca86c99b0848ef27f/artifacts/sklearn-model/ HTTP/11\" 500 None\n",
      "Incremented Retry for (url='/josmunpen/laliga-oracle-dags.mlflow/api/2.0/mlflow-artifacts/artifacts/6d5735cbe89241f69cbbd4214ee6925e/aa97c6011e7e4f9ca86c99b0848ef27f/artifacts/sklearn-model/'): Retry(total=1, connect=5, read=5, redirect=5, status=1)\n",
      "Retry: /josmunpen/laliga-oracle-dags.mlflow/api/2.0/mlflow-artifacts/artifacts/6d5735cbe89241f69cbbd4214ee6925e/aa97c6011e7e4f9ca86c99b0848ef27f/artifacts/sklearn-model/\n",
      "https://dagshub.com:443 \"GET /josmunpen/laliga-oracle-dags.mlflow/api/2.0/mlflow-artifacts/artifacts/6d5735cbe89241f69cbbd4214ee6925e/aa97c6011e7e4f9ca86c99b0848ef27f/artifacts/sklearn-model/ HTTP/11\" 500 None\n",
      "Incremented Retry for (url='/josmunpen/laliga-oracle-dags.mlflow/api/2.0/mlflow-artifacts/artifacts/6d5735cbe89241f69cbbd4214ee6925e/aa97c6011e7e4f9ca86c99b0848ef27f/artifacts/sklearn-model/'): Retry(total=0, connect=5, read=5, redirect=5, status=0)\n",
      "Retry: /josmunpen/laliga-oracle-dags.mlflow/api/2.0/mlflow-artifacts/artifacts/6d5735cbe89241f69cbbd4214ee6925e/aa97c6011e7e4f9ca86c99b0848ef27f/artifacts/sklearn-model/\n",
      "https://dagshub.com:443 \"GET /josmunpen/laliga-oracle-dags.mlflow/api/2.0/mlflow-artifacts/artifacts/6d5735cbe89241f69cbbd4214ee6925e/aa97c6011e7e4f9ca86c99b0848ef27f/artifacts/sklearn-model/ HTTP/11\" 500 None\n"
     ]
    },
    {
     "ename": "MlflowException",
     "evalue": "The following failures occurred while downloading one or more artifacts from https://dagshub.com/josmunpen/laliga-oracle-dags.mlflow/api/2.0/mlflow-artifacts/artifacts/6d5735cbe89241f69cbbd4214ee6925e/aa97c6011e7e4f9ca86c99b0848ef27f/artifacts/sklearn-model:\n##### File  #####\nAPI request to https://dagshub.com/josmunpen/laliga-oracle-dags.mlflow/api/2.0/mlflow-artifacts/artifacts/6d5735cbe89241f69cbbd4214ee6925e/aa97c6011e7e4f9ca86c99b0848ef27f/artifacts/sklearn-model/ failed with exception HTTPSConnectionPool(host='dagshub.com', port=443): Max retries exceeded with url: /josmunpen/laliga-oracle-dags.mlflow/api/2.0/mlflow-artifacts/artifacts/6d5735cbe89241f69cbbd4214ee6925e/aa97c6011e7e4f9ca86c99b0848ef27f/artifacts/sklearn-model/ (Caused by ResponseError('too many 500 error responses'))",
     "output_type": "error",
     "traceback": [
      "\u001b[1;31m---------------------------------------------------------------------------\u001b[0m",
      "\u001b[1;31mMlflowException\u001b[0m                           Traceback (most recent call last)",
      "Cell \u001b[1;32mIn[297], line 1\u001b[0m\n\u001b[1;32m----> 1\u001b[0m test \u001b[38;5;241m=\u001b[39m \u001b[43mmlflow\u001b[49m\u001b[38;5;241;43m.\u001b[39;49m\u001b[43msklearn\u001b[49m\u001b[38;5;241;43m.\u001b[39;49m\u001b[43mload_model\u001b[49m\u001b[43m(\u001b[49m\u001b[38;5;124;43mf\u001b[39;49m\u001b[38;5;124;43m\"\u001b[39;49m\u001b[38;5;124;43mmodels:/\u001b[39;49m\u001b[38;5;132;43;01m{\u001b[39;49;00m\u001b[43mbest_last_model\u001b[49m\u001b[38;5;241;43m.\u001b[39;49m\u001b[43mname\u001b[49m\u001b[38;5;132;43;01m}\u001b[39;49;00m\u001b[38;5;124;43m/\u001b[39;49m\u001b[38;5;132;43;01m{\u001b[39;49;00m\u001b[43mbest_last_model\u001b[49m\u001b[38;5;241;43m.\u001b[39;49m\u001b[43mversion\u001b[49m\u001b[38;5;132;43;01m}\u001b[39;49;00m\u001b[38;5;124;43m\"\u001b[39;49m\u001b[43m)\u001b[49m\n",
      "File \u001b[1;32mc:\\Users\\josem\\ds\\my-league-oracle\\env_train\\Lib\\site-packages\\mlflow\\sklearn\\__init__.py:632\u001b[0m, in \u001b[0;36mload_model\u001b[1;34m(model_uri, dst_path)\u001b[0m\n\u001b[0;32m    597\u001b[0m \u001b[38;5;28;01mdef\u001b[39;00m \u001b[38;5;21mload_model\u001b[39m(model_uri, dst_path\u001b[38;5;241m=\u001b[39m\u001b[38;5;28;01mNone\u001b[39;00m):\n\u001b[0;32m    598\u001b[0m \u001b[38;5;250m    \u001b[39m\u001b[38;5;124;03m\"\"\"\u001b[39;00m\n\u001b[0;32m    599\u001b[0m \u001b[38;5;124;03m    Load a scikit-learn model from a local file or a run.\u001b[39;00m\n\u001b[0;32m    600\u001b[0m \n\u001b[1;32m   (...)\u001b[0m\n\u001b[0;32m    630\u001b[0m \u001b[38;5;124;03m        predictions = sk_model.predict(pandas_df)\u001b[39;00m\n\u001b[0;32m    631\u001b[0m \u001b[38;5;124;03m    \"\"\"\u001b[39;00m\n\u001b[1;32m--> 632\u001b[0m     local_model_path \u001b[38;5;241m=\u001b[39m \u001b[43m_download_artifact_from_uri\u001b[49m\u001b[43m(\u001b[49m\u001b[43martifact_uri\u001b[49m\u001b[38;5;241;43m=\u001b[39;49m\u001b[43mmodel_uri\u001b[49m\u001b[43m,\u001b[49m\u001b[43m \u001b[49m\u001b[43moutput_path\u001b[49m\u001b[38;5;241;43m=\u001b[39;49m\u001b[43mdst_path\u001b[49m\u001b[43m)\u001b[49m\n\u001b[0;32m    633\u001b[0m     flavor_conf \u001b[38;5;241m=\u001b[39m _get_flavor_configuration(model_path\u001b[38;5;241m=\u001b[39mlocal_model_path, flavor_name\u001b[38;5;241m=\u001b[39mFLAVOR_NAME)\n\u001b[0;32m    634\u001b[0m     _add_code_from_conf_to_system_path(local_model_path, flavor_conf)\n",
      "File \u001b[1;32mc:\\Users\\josem\\ds\\my-league-oracle\\env_train\\Lib\\site-packages\\mlflow\\tracking\\artifact_utils.py:111\u001b[0m, in \u001b[0;36m_download_artifact_from_uri\u001b[1;34m(artifact_uri, output_path, lineage_header_info)\u001b[0m\n\u001b[0;32m    108\u001b[0m repo \u001b[38;5;241m=\u001b[39m get_artifact_repository(artifact_uri\u001b[38;5;241m=\u001b[39mroot_uri)\n\u001b[0;32m    110\u001b[0m \u001b[38;5;28;01mif\u001b[39;00m \u001b[38;5;28misinstance\u001b[39m(repo, ModelsArtifactRepository):\n\u001b[1;32m--> 111\u001b[0m     \u001b[38;5;28;01mreturn\u001b[39;00m \u001b[43mrepo\u001b[49m\u001b[38;5;241;43m.\u001b[39;49m\u001b[43mdownload_artifacts\u001b[49m\u001b[43m(\u001b[49m\n\u001b[0;32m    112\u001b[0m \u001b[43m        \u001b[49m\u001b[43martifact_path\u001b[49m\u001b[38;5;241;43m=\u001b[39;49m\u001b[43martifact_path\u001b[49m\u001b[43m,\u001b[49m\n\u001b[0;32m    113\u001b[0m \u001b[43m        \u001b[49m\u001b[43mdst_path\u001b[49m\u001b[38;5;241;43m=\u001b[39;49m\u001b[43moutput_path\u001b[49m\u001b[43m,\u001b[49m\n\u001b[0;32m    114\u001b[0m \u001b[43m        \u001b[49m\u001b[43mlineage_header_info\u001b[49m\u001b[38;5;241;43m=\u001b[39;49m\u001b[43mlineage_header_info\u001b[49m\u001b[43m,\u001b[49m\n\u001b[0;32m    115\u001b[0m \u001b[43m    \u001b[49m\u001b[43m)\u001b[49m\n\u001b[0;32m    116\u001b[0m \u001b[38;5;28;01mreturn\u001b[39;00m repo\u001b[38;5;241m.\u001b[39mdownload_artifacts(artifact_path\u001b[38;5;241m=\u001b[39martifact_path, dst_path\u001b[38;5;241m=\u001b[39moutput_path)\n",
      "File \u001b[1;32mc:\\Users\\josem\\ds\\my-league-oracle\\env_train\\Lib\\site-packages\\mlflow\\store\\artifact\\models_artifact_repo.py:200\u001b[0m, in \u001b[0;36mModelsArtifactRepository.download_artifacts\u001b[1;34m(self, artifact_path, dst_path, lineage_header_info)\u001b[0m\n\u001b[0;32m    196\u001b[0m     model_path \u001b[38;5;241m=\u001b[39m \u001b[38;5;28mself\u001b[39m\u001b[38;5;241m.\u001b[39mrepo\u001b[38;5;241m.\u001b[39mdownload_artifacts(\n\u001b[0;32m    197\u001b[0m         artifact_path, dst_path, lineage_header_info\u001b[38;5;241m=\u001b[39mlineage_header_info\n\u001b[0;32m    198\u001b[0m     )\n\u001b[0;32m    199\u001b[0m \u001b[38;5;28;01melse\u001b[39;00m:\n\u001b[1;32m--> 200\u001b[0m     model_path \u001b[38;5;241m=\u001b[39m \u001b[38;5;28;43mself\u001b[39;49m\u001b[38;5;241;43m.\u001b[39;49m\u001b[43mrepo\u001b[49m\u001b[38;5;241;43m.\u001b[39;49m\u001b[43mdownload_artifacts\u001b[49m\u001b[43m(\u001b[49m\u001b[43martifact_path\u001b[49m\u001b[43m,\u001b[49m\u001b[43m \u001b[49m\u001b[43mdst_path\u001b[49m\u001b[43m)\u001b[49m\n\u001b[0;32m    201\u001b[0m \u001b[38;5;66;03m# NB: only add the registered model metadata iff the artifact path is at the root model\u001b[39;00m\n\u001b[0;32m    202\u001b[0m \u001b[38;5;66;03m# directory. For individual files or subdirectories within the model directory, do not\u001b[39;00m\n\u001b[0;32m    203\u001b[0m \u001b[38;5;66;03m# create the metadata file.\u001b[39;00m\n\u001b[0;32m    204\u001b[0m \u001b[38;5;28;01mif\u001b[39;00m os\u001b[38;5;241m.\u001b[39mpath\u001b[38;5;241m.\u001b[39misdir(model_path) \u001b[38;5;129;01mand\u001b[39;00m MLMODEL_FILE_NAME \u001b[38;5;129;01min\u001b[39;00m os\u001b[38;5;241m.\u001b[39mlistdir(model_path):\n",
      "File \u001b[1;32mc:\\Users\\josem\\ds\\my-league-oracle\\env_train\\Lib\\site-packages\\mlflow\\store\\artifact\\artifact_repo.py:284\u001b[0m, in \u001b[0;36mArtifactRepository.download_artifacts\u001b[1;34m(self, artifact_path, dst_path)\u001b[0m\n\u001b[0;32m    278\u001b[0m         template \u001b[38;5;241m=\u001b[39m \u001b[38;5;124m\"\u001b[39m\u001b[38;5;124m##### File \u001b[39m\u001b[38;5;132;01m{path}\u001b[39;00m\u001b[38;5;124m #####\u001b[39m\u001b[38;5;130;01m\\n\u001b[39;00m\u001b[38;5;132;01m{error}\u001b[39;00m\u001b[38;5;124m\"\u001b[39m\n\u001b[0;32m    280\u001b[0m     failures \u001b[38;5;241m=\u001b[39m \u001b[38;5;124m\"\u001b[39m\u001b[38;5;130;01m\\n\u001b[39;00m\u001b[38;5;124m\"\u001b[39m\u001b[38;5;241m.\u001b[39mjoin(\n\u001b[0;32m    281\u001b[0m         template\u001b[38;5;241m.\u001b[39mformat(path\u001b[38;5;241m=\u001b[39mpath, error\u001b[38;5;241m=\u001b[39merror, traceback\u001b[38;5;241m=\u001b[39mtracebacks[path])\n\u001b[0;32m    282\u001b[0m         \u001b[38;5;28;01mfor\u001b[39;00m path, error \u001b[38;5;129;01min\u001b[39;00m failed_downloads\u001b[38;5;241m.\u001b[39mitems()\n\u001b[0;32m    283\u001b[0m     )\n\u001b[1;32m--> 284\u001b[0m     \u001b[38;5;28;01mraise\u001b[39;00m MlflowException(\n\u001b[0;32m    285\u001b[0m         message\u001b[38;5;241m=\u001b[39m(\n\u001b[0;32m    286\u001b[0m             \u001b[38;5;124m\"\u001b[39m\u001b[38;5;124mThe following failures occurred while downloading one or more\u001b[39m\u001b[38;5;124m\"\u001b[39m\n\u001b[0;32m    287\u001b[0m             \u001b[38;5;124mf\u001b[39m\u001b[38;5;124m\"\u001b[39m\u001b[38;5;124m artifacts from \u001b[39m\u001b[38;5;132;01m{\u001b[39;00m\u001b[38;5;28mself\u001b[39m\u001b[38;5;241m.\u001b[39martifact_uri\u001b[38;5;132;01m}\u001b[39;00m\u001b[38;5;124m:\u001b[39m\u001b[38;5;130;01m\\n\u001b[39;00m\u001b[38;5;132;01m{\u001b[39;00m_truncate_error(failures)\u001b[38;5;132;01m}\u001b[39;00m\u001b[38;5;124m\"\u001b[39m\n\u001b[0;32m    288\u001b[0m         )\n\u001b[0;32m    289\u001b[0m     )\n\u001b[0;32m    291\u001b[0m \u001b[38;5;28;01mreturn\u001b[39;00m os\u001b[38;5;241m.\u001b[39mpath\u001b[38;5;241m.\u001b[39mjoin(dst_path, artifact_path)\n",
      "\u001b[1;31mMlflowException\u001b[0m: The following failures occurred while downloading one or more artifacts from https://dagshub.com/josmunpen/laliga-oracle-dags.mlflow/api/2.0/mlflow-artifacts/artifacts/6d5735cbe89241f69cbbd4214ee6925e/aa97c6011e7e4f9ca86c99b0848ef27f/artifacts/sklearn-model:\n##### File  #####\nAPI request to https://dagshub.com/josmunpen/laliga-oracle-dags.mlflow/api/2.0/mlflow-artifacts/artifacts/6d5735cbe89241f69cbbd4214ee6925e/aa97c6011e7e4f9ca86c99b0848ef27f/artifacts/sklearn-model/ failed with exception HTTPSConnectionPool(host='dagshub.com', port=443): Max retries exceeded with url: /josmunpen/laliga-oracle-dags.mlflow/api/2.0/mlflow-artifacts/artifacts/6d5735cbe89241f69cbbd4214ee6925e/aa97c6011e7e4f9ca86c99b0848ef27f/artifacts/sklearn-model/ (Caused by ResponseError('too many 500 error responses'))"
     ]
    }
   ],
   "source": [
    "test = mlflow.sklearn.load_model(f\"models:/{best_last_model.name}/{best_last_model.version}\")"
   ]
  },
  {
   "cell_type": "code",
   "execution_count": null,
   "metadata": {},
   "outputs": [],
   "source": []
  },
  {
   "cell_type": "markdown",
   "metadata": {},
   "source": [
    "### Train again and load best model to MLFlow\n",
    "\n"
   ]
  },
  {
   "cell_type": "code",
   "execution_count": null,
   "metadata": {},
   "outputs": [],
   "source": [
    "# X_train, X_test, y_train, y_test = train_test_split(X, y, random_state=2024)\n",
    "# trained_model = model.fit(X_train, y_train)"
   ]
  },
  {
   "cell_type": "code",
   "execution_count": null,
   "metadata": {},
   "outputs": [],
   "source": [
    "# y_pred = trained_model.predict(X_test)"
   ]
  },
  {
   "cell_type": "code",
   "execution_count": null,
   "metadata": {},
   "outputs": [
    {
     "data": {
      "text/plain": [
       "0.5232558139534884"
      ]
     },
     "execution_count": 135,
     "metadata": {},
     "output_type": "execute_result"
    }
   ],
   "source": [
    "# trained_model.score(X_test, y_test)"
   ]
  },
  {
   "cell_type": "code",
   "execution_count": null,
   "metadata": {},
   "outputs": [
    {
     "name": "stderr",
     "output_type": "stream",
     "text": [
      "https://dagshub.com:443 \"POST /josmunpen/laliga-oracle-dags.mlflow/api/2.0/mlflow/runs/create HTTP/11\" 200 None\n",
      "c:\\Users\\josem\\ds\\my-league-oracle\\env_train\\Lib\\site-packages\\mlflow\\types\\utils.py:407: UserWarning: Hint: Inferred schema contains integer column(s). Integer columns in Python cannot represent missing values. If your input data contains missing values at inference time, it will be encoded as floats and will cause a schema enforcement error. The best way to avoid this problem is to infer the model schema based on a realistic data sample (training dataset) that includes missing values. Alternatively, you can declare integer columns as doubles (float64) whenever these columns may have missing values. See `Handling Integers With Missing Values <https://www.mlflow.org/docs/latest/models.html#handling-integers-with-missing-values>`_ for more details.\n",
      "  warnings.warn(\n",
      "https://dagshub.com:443 \"GET /josmunpen/laliga-oracle-dags.mlflow/api/2.0/mlflow/runs/get?run_uuid=15dd2540cfea4a2cbc515260d34e1250&run_id=15dd2540cfea4a2cbc515260d34e1250 HTTP/11\" 200 None\n",
      "https://dagshub.com:443 \"PUT /josmunpen/laliga-oracle-dags.mlflow/api/2.0/mlflow-artifacts/artifacts/a2875dc10ef146ba857f1c12be552dda/15dd2540cfea4a2cbc515260d34e1250/artifacts/knn_25_artifact/conda.yaml HTTP/11\" 200 None\n",
      "https://dagshub.com:443 \"PUT /josmunpen/laliga-oracle-dags.mlflow/api/2.0/mlflow-artifacts/artifacts/a2875dc10ef146ba857f1c12be552dda/15dd2540cfea4a2cbc515260d34e1250/artifacts/knn_25_artifact/input_example.json HTTP/11\" 200 None\n",
      "https://dagshub.com:443 \"PUT /josmunpen/laliga-oracle-dags.mlflow/api/2.0/mlflow-artifacts/artifacts/a2875dc10ef146ba857f1c12be552dda/15dd2540cfea4a2cbc515260d34e1250/artifacts/knn_25_artifact/MLmodel HTTP/11\" 200 None\n",
      "https://dagshub.com:443 \"PUT /josmunpen/laliga-oracle-dags.mlflow/api/2.0/mlflow-artifacts/artifacts/a2875dc10ef146ba857f1c12be552dda/15dd2540cfea4a2cbc515260d34e1250/artifacts/knn_25_artifact/model.pkl HTTP/11\" 200 None\n",
      "https://dagshub.com:443 \"PUT /josmunpen/laliga-oracle-dags.mlflow/api/2.0/mlflow-artifacts/artifacts/a2875dc10ef146ba857f1c12be552dda/15dd2540cfea4a2cbc515260d34e1250/artifacts/knn_25_artifact/python_env.yaml HTTP/11\" 200 None\n",
      "https://dagshub.com:443 \"PUT /josmunpen/laliga-oracle-dags.mlflow/api/2.0/mlflow-artifacts/artifacts/a2875dc10ef146ba857f1c12be552dda/15dd2540cfea4a2cbc515260d34e1250/artifacts/knn_25_artifact/requirements.txt HTTP/11\" 200 None\n",
      "https://dagshub.com:443 \"PUT /josmunpen/laliga-oracle-dags.mlflow/api/2.0/mlflow-artifacts/artifacts/a2875dc10ef146ba857f1c12be552dda/15dd2540cfea4a2cbc515260d34e1250/artifacts/knn_25_artifact/serving_input_example.json HTTP/11\" 200 None\n",
      "https://dagshub.com:443 \"POST /josmunpen/laliga-oracle-dags.mlflow/api/2.0/mlflow/runs/log-model HTTP/11\" 200 None\n",
      "https://dagshub.com:443 \"POST /josmunpen/laliga-oracle-dags.mlflow/api/2.0/mlflow/registered-models/create HTTP/11\" 200 None\n",
      "Successfully registered model 'knn_25'.\n",
      "https://dagshub.com:443 \"GET /josmunpen/laliga-oracle-dags.mlflow/api/2.0/mlflow/runs/get?run_uuid=15dd2540cfea4a2cbc515260d34e1250&run_id=15dd2540cfea4a2cbc515260d34e1250 HTTP/11\" 200 None\n",
      "https://dagshub.com:443 \"POST /josmunpen/laliga-oracle-dags.mlflow/api/2.0/mlflow/model-versions/create HTTP/11\" 200 None\n",
      "2024/11/10 11:48:26 INFO mlflow.store.model_registry.abstract_store: Waiting up to 300 seconds for model version to finish creation. Model name: knn_25, version 1\n",
      "Created version '1' of model 'knn_25'.\n",
      "https://dagshub.com:443 \"GET /josmunpen/laliga-oracle-dags.mlflow/api/2.0/mlflow/runs/get?run_uuid=15dd2540cfea4a2cbc515260d34e1250&run_id=15dd2540cfea4a2cbc515260d34e1250 HTTP/11\" 200 None\n",
      "https://dagshub.com:443 \"GET /josmunpen/laliga-oracle-dags.mlflow/api/2.0/mlflow-artifacts/artifacts?path=a2875dc10ef146ba857f1c12be552dda%2F15dd2540cfea4a2cbc515260d34e1250%2Fartifacts%2Fknn_25_artifact HTTP/11\" 200 None\n",
      "https://dagshub.com:443 \"GET /josmunpen/laliga-oracle-dags.mlflow/api/2.0/mlflow-artifacts/artifacts?path=a2875dc10ef146ba857f1c12be552dda%2F15dd2540cfea4a2cbc515260d34e1250%2Fartifacts%2Fknn_25_artifact HTTP/11\" 200 None\n",
      "Starting new HTTPS connection (2): dagshub.com:443\n",
      "Starting new HTTPS connection (3): dagshub.com:443\n",
      "Starting new HTTPS connection (4): dagshub.com:443\n",
      "Starting new HTTPS connection (5): dagshub.com:443\n",
      "Starting new HTTPS connection (6): dagshub.com:443\n",
      "Starting new HTTPS connection (7): dagshub.com:443\n",
      "https://dagshub.com:443 \"GET /josmunpen/laliga-oracle-dags.mlflow/api/2.0/mlflow-artifacts/artifacts/a2875dc10ef146ba857f1c12be552dda/15dd2540cfea4a2cbc515260d34e1250/artifacts/knn_25_artifact/conda.yaml HTTP/11\" 200 None\n",
      "https://dagshub.com:443 \"GET /josmunpen/laliga-oracle-dags.mlflow/api/2.0/mlflow-artifacts/artifacts/a2875dc10ef146ba857f1c12be552dda/15dd2540cfea4a2cbc515260d34e1250/artifacts/knn_25_artifact/model.pkl HTTP/11\" 200 None\n",
      "https://dagshub.com:443 \"GET /josmunpen/laliga-oracle-dags.mlflow/api/2.0/mlflow-artifacts/artifacts/a2875dc10ef146ba857f1c12be552dda/15dd2540cfea4a2cbc515260d34e1250/artifacts/knn_25_artifact/input_example.json HTTP/11\" 200 None\n",
      "https://dagshub.com:443 \"GET /josmunpen/laliga-oracle-dags.mlflow/api/2.0/mlflow-artifacts/artifacts/a2875dc10ef146ba857f1c12be552dda/15dd2540cfea4a2cbc515260d34e1250/artifacts/knn_25_artifact/MLmodel HTTP/11\" 200 None\n",
      "https://dagshub.com:443 \"GET /josmunpen/laliga-oracle-dags.mlflow/api/2.0/mlflow-artifacts/artifacts/a2875dc10ef146ba857f1c12be552dda/15dd2540cfea4a2cbc515260d34e1250/artifacts/knn_25_artifact/serving_input_example.json HTTP/11\" 200 None\n",
      "https://dagshub.com:443 \"GET /josmunpen/laliga-oracle-dags.mlflow/api/2.0/mlflow-artifacts/artifacts/a2875dc10ef146ba857f1c12be552dda/15dd2540cfea4a2cbc515260d34e1250/artifacts/knn_25_artifact/requirements.txt HTTP/11\" 200 None\n",
      "https://dagshub.com:443 \"GET /josmunpen/laliga-oracle-dags.mlflow/api/2.0/mlflow-artifacts/artifacts/a2875dc10ef146ba857f1c12be552dda/15dd2540cfea4a2cbc515260d34e1250/artifacts/knn_25_artifact/python_env.yaml HTTP/11\" 200 None\n"
     ]
    }
   ],
   "source": [
    "# # Log the model\n",
    "# model_info = mlflow.sklearn.log_model(\n",
    "#     sk_model=trained_model,\n",
    "#     artifact_path=best_model_name + \"_artifact\",\n",
    "#     # signature=signature,\n",
    "#     input_example=X,\n",
    "#     registered_model_name=best_model_name,\n",
    "#     metadata={\n",
    "#         \"date_version\": datetime.datetime.now().strftime(\"%Y-%m-%d\")\n",
    "#     }\n",
    "# )"
   ]
  },
  {
   "cell_type": "code",
   "execution_count": 164,
   "metadata": {},
   "outputs": [
    {
     "name": "stderr",
     "output_type": "stream",
     "text": [
      "C:\\Users\\josem\\AppData\\Local\\Temp\\ipykernel_19444\\1620705830.py:1: FutureWarning: ``mlflow.tracking.client.MlflowClient.get_latest_versions`` is deprecated since 2.9.0. Model registry stages will be removed in a future major release. To learn more about the deprecation of model registry stages, see our migration guide here: https://mlflow.org/docs/latest/model-registry.html#migrating-from-stages\n",
      "  model_info = mlflow_client.get_latest_versions(best_model_name)[0]\n",
      "Resetting dropped connection: dagshub.com\n",
      "https://dagshub.com:443 \"POST /josmunpen/laliga-oracle-dags.mlflow/api/2.0/mlflow/registered-models/get-latest-versions HTTP/11\" 200 None\n",
      "https://dagshub.com:443 \"POST /josmunpen/laliga-oracle-dags.mlflow/api/2.0/mlflow/model-versions/set-tag HTTP/11\" 200 None\n"
     ]
    }
   ],
   "source": [
    "model_info = mlflow_client.get_latest_versions(best_model_name)[0]\n",
    "mlflow_client.set_model_version_tag(\n",
    "    name=best_model_name,\n",
    "    version=model_info.version,\n",
    "    key=\"best_weekly\",\n",
    "    value=True\n",
    ")"
   ]
  },
  {
   "cell_type": "code",
   "execution_count": 138,
   "metadata": {},
   "outputs": [
    {
     "name": "stderr",
     "output_type": "stream",
     "text": [
      "https://dagshub.com:443 \"GET /josmunpen/laliga-oracle-dags.mlflow/api/2.0/mlflow/model-versions/get-download-uri?name=knn_25&version=1 HTTP/11\" 200 None\n",
      "https://dagshub.com:443 \"GET /josmunpen/laliga-oracle-dags.mlflow/api/2.0/mlflow-artifacts/artifacts?path=a2875dc10ef146ba857f1c12be552dda%2F15dd2540cfea4a2cbc515260d34e1250%2Fartifacts%2Fknn_25_artifact HTTP/11\" 200 None\n",
      "https://dagshub.com:443 \"GET /josmunpen/laliga-oracle-dags.mlflow/api/2.0/mlflow-artifacts/artifacts?path=a2875dc10ef146ba857f1c12be552dda%2F15dd2540cfea4a2cbc515260d34e1250%2Fartifacts%2Fknn_25_artifact HTTP/11\" 200 None\n",
      "https://dagshub.com:443 \"GET /josmunpen/laliga-oracle-dags.mlflow/api/2.0/mlflow-artifacts/artifacts/a2875dc10ef146ba857f1c12be552dda/15dd2540cfea4a2cbc515260d34e1250/artifacts/knn_25_artifact/serving_input_example.json HTTP/11\" 200 None\n",
      "https://dagshub.com:443 \"GET /josmunpen/laliga-oracle-dags.mlflow/api/2.0/mlflow-artifacts/artifacts/a2875dc10ef146ba857f1c12be552dda/15dd2540cfea4a2cbc515260d34e1250/artifacts/knn_25_artifact/python_env.yaml HTTP/11\" 200 None\n",
      "https://dagshub.com:443 \"GET /josmunpen/laliga-oracle-dags.mlflow/api/2.0/mlflow-artifacts/artifacts/a2875dc10ef146ba857f1c12be552dda/15dd2540cfea4a2cbc515260d34e1250/artifacts/knn_25_artifact/requirements.txt HTTP/11\" 200 None\n",
      "https://dagshub.com:443 \"GET /josmunpen/laliga-oracle-dags.mlflow/api/2.0/mlflow-artifacts/artifacts/a2875dc10ef146ba857f1c12be552dda/15dd2540cfea4a2cbc515260d34e1250/artifacts/knn_25_artifact/input_example.json HTTP/11\" 200 None\n",
      "https://dagshub.com:443 \"GET /josmunpen/laliga-oracle-dags.mlflow/api/2.0/mlflow-artifacts/artifacts/a2875dc10ef146ba857f1c12be552dda/15dd2540cfea4a2cbc515260d34e1250/artifacts/knn_25_artifact/model.pkl HTTP/11\" 200 None\n",
      "https://dagshub.com:443 \"GET /josmunpen/laliga-oracle-dags.mlflow/api/2.0/mlflow-artifacts/artifacts/a2875dc10ef146ba857f1c12be552dda/15dd2540cfea4a2cbc515260d34e1250/artifacts/knn_25_artifact/conda.yaml HTTP/11\" 200 None\n",
      "https://dagshub.com:443 \"GET /josmunpen/laliga-oracle-dags.mlflow/api/2.0/mlflow-artifacts/artifacts/a2875dc10ef146ba857f1c12be552dda/15dd2540cfea4a2cbc515260d34e1250/artifacts/knn_25_artifact/MLmodel HTTP/11\" 200 None\n"
     ]
    }
   ],
   "source": [
    "test = mlflow.sklearn.load_model(\"models:/knn_25/1\")"
   ]
  },
  {
   "cell_type": "code",
   "execution_count": 140,
   "metadata": {},
   "outputs": [
    {
     "data": {
      "text/plain": [
       "array([[0.16, 0.24, 0.6 ],\n",
       "       [0.08, 0.24, 0.68],\n",
       "       [0.24, 0.28, 0.48],\n",
       "       [0.12, 0.2 , 0.68],\n",
       "       [0.4 , 0.36, 0.24],\n",
       "       [0.04, 0.16, 0.8 ],\n",
       "       [0.16, 0.36, 0.48],\n",
       "       [0.64, 0.28, 0.08],\n",
       "       [0.  , 0.08, 0.92],\n",
       "       [0.28, 0.4 , 0.32],\n",
       "       [0.4 , 0.2 , 0.4 ],\n",
       "       [0.08, 0.16, 0.76],\n",
       "       [0.24, 0.32, 0.44],\n",
       "       [0.28, 0.16, 0.56],\n",
       "       [0.04, 0.16, 0.8 ],\n",
       "       [0.32, 0.32, 0.36],\n",
       "       [0.16, 0.24, 0.6 ],\n",
       "       [0.44, 0.16, 0.4 ],\n",
       "       [0.28, 0.24, 0.48],\n",
       "       [0.36, 0.28, 0.36],\n",
       "       [0.36, 0.16, 0.48],\n",
       "       [0.52, 0.2 , 0.28],\n",
       "       [0.08, 0.12, 0.8 ],\n",
       "       [0.28, 0.36, 0.36],\n",
       "       [0.08, 0.08, 0.84],\n",
       "       [0.64, 0.2 , 0.16],\n",
       "       [0.16, 0.36, 0.48],\n",
       "       [0.24, 0.28, 0.48],\n",
       "       [0.2 , 0.4 , 0.4 ],\n",
       "       [0.48, 0.24, 0.28],\n",
       "       [0.28, 0.44, 0.28],\n",
       "       [0.24, 0.24, 0.52],\n",
       "       [0.04, 0.08, 0.88],\n",
       "       [0.4 , 0.36, 0.24],\n",
       "       [0.12, 0.12, 0.76],\n",
       "       [0.24, 0.16, 0.6 ],\n",
       "       [0.2 , 0.2 , 0.6 ],\n",
       "       [0.12, 0.12, 0.76],\n",
       "       [0.4 , 0.28, 0.32],\n",
       "       [0.04, 0.08, 0.88],\n",
       "       [0.16, 0.12, 0.72],\n",
       "       [0.4 , 0.32, 0.28],\n",
       "       [0.24, 0.32, 0.44],\n",
       "       [0.2 , 0.28, 0.52],\n",
       "       [0.28, 0.32, 0.4 ],\n",
       "       [0.04, 0.08, 0.88],\n",
       "       [0.56, 0.12, 0.32],\n",
       "       [0.24, 0.36, 0.4 ],\n",
       "       [0.72, 0.16, 0.12],\n",
       "       [0.12, 0.2 , 0.68],\n",
       "       [0.16, 0.2 , 0.64],\n",
       "       [0.04, 0.16, 0.8 ],\n",
       "       [0.44, 0.24, 0.32],\n",
       "       [0.4 , 0.28, 0.32],\n",
       "       [0.28, 0.56, 0.16],\n",
       "       [0.04, 0.08, 0.88],\n",
       "       [0.04, 0.16, 0.8 ],\n",
       "       [0.2 , 0.16, 0.64],\n",
       "       [0.56, 0.2 , 0.24],\n",
       "       [0.16, 0.08, 0.76],\n",
       "       [0.04, 0.16, 0.8 ],\n",
       "       [0.12, 0.2 , 0.68],\n",
       "       [0.24, 0.36, 0.4 ],\n",
       "       [0.52, 0.16, 0.32],\n",
       "       [0.28, 0.4 , 0.32],\n",
       "       [0.28, 0.2 , 0.52],\n",
       "       [0.44, 0.16, 0.4 ],\n",
       "       [0.  , 0.08, 0.92],\n",
       "       [0.2 , 0.36, 0.44],\n",
       "       [0.2 , 0.2 , 0.6 ],\n",
       "       [0.36, 0.24, 0.4 ],\n",
       "       [0.12, 0.08, 0.8 ],\n",
       "       [0.36, 0.24, 0.4 ],\n",
       "       [0.  , 0.08, 0.92],\n",
       "       [0.  , 0.08, 0.92],\n",
       "       [0.24, 0.32, 0.44],\n",
       "       [0.32, 0.24, 0.44],\n",
       "       [0.04, 0.2 , 0.76],\n",
       "       [0.48, 0.2 , 0.32],\n",
       "       [0.28, 0.44, 0.28],\n",
       "       [0.64, 0.16, 0.2 ],\n",
       "       [0.08, 0.04, 0.88],\n",
       "       [0.12, 0.2 , 0.68],\n",
       "       [0.24, 0.24, 0.52],\n",
       "       [0.32, 0.36, 0.32],\n",
       "       [0.2 , 0.24, 0.56],\n",
       "       [0.64, 0.16, 0.2 ],\n",
       "       [0.16, 0.24, 0.6 ],\n",
       "       [0.64, 0.04, 0.32],\n",
       "       [0.32, 0.2 , 0.48],\n",
       "       [0.2 , 0.32, 0.48],\n",
       "       [0.24, 0.28, 0.48],\n",
       "       [0.24, 0.24, 0.52],\n",
       "       [0.24, 0.24, 0.52],\n",
       "       [0.2 , 0.36, 0.44],\n",
       "       [0.32, 0.16, 0.52],\n",
       "       [0.36, 0.16, 0.48],\n",
       "       [0.2 , 0.28, 0.52],\n",
       "       [0.36, 0.28, 0.36],\n",
       "       [0.44, 0.24, 0.32],\n",
       "       [0.24, 0.32, 0.44],\n",
       "       [0.4 , 0.28, 0.32],\n",
       "       [0.56, 0.28, 0.16],\n",
       "       [0.48, 0.24, 0.28],\n",
       "       [0.36, 0.24, 0.4 ],\n",
       "       [0.6 , 0.12, 0.28],\n",
       "       [0.24, 0.24, 0.52],\n",
       "       [0.2 , 0.2 , 0.6 ],\n",
       "       [0.2 , 0.2 , 0.6 ],\n",
       "       [0.24, 0.32, 0.44],\n",
       "       [0.36, 0.32, 0.32],\n",
       "       [0.04, 0.16, 0.8 ],\n",
       "       [0.16, 0.4 , 0.44],\n",
       "       [0.04, 0.28, 0.68],\n",
       "       [0.08, 0.12, 0.8 ],\n",
       "       [0.  , 0.08, 0.92],\n",
       "       [0.28, 0.24, 0.48],\n",
       "       [0.56, 0.2 , 0.24],\n",
       "       [0.2 , 0.32, 0.48],\n",
       "       [0.48, 0.32, 0.2 ],\n",
       "       [0.2 , 0.48, 0.32],\n",
       "       [0.56, 0.2 , 0.24],\n",
       "       [0.16, 0.2 , 0.64],\n",
       "       [0.44, 0.2 , 0.36],\n",
       "       [0.04, 0.04, 0.92],\n",
       "       [0.04, 0.2 , 0.76],\n",
       "       [0.64, 0.2 , 0.16],\n",
       "       [0.44, 0.28, 0.28],\n",
       "       [0.24, 0.28, 0.48],\n",
       "       [0.2 , 0.32, 0.48],\n",
       "       [0.28, 0.2 , 0.52],\n",
       "       [0.36, 0.12, 0.52],\n",
       "       [0.2 , 0.32, 0.48],\n",
       "       [0.16, 0.32, 0.52],\n",
       "       [0.36, 0.32, 0.32],\n",
       "       [0.24, 0.32, 0.44],\n",
       "       [0.24, 0.28, 0.48],\n",
       "       [0.16, 0.2 , 0.64],\n",
       "       [0.12, 0.16, 0.72],\n",
       "       [0.  , 0.08, 0.92],\n",
       "       [0.4 , 0.36, 0.24],\n",
       "       [0.44, 0.24, 0.32],\n",
       "       [0.04, 0.08, 0.88],\n",
       "       [0.12, 0.2 , 0.68],\n",
       "       [0.44, 0.2 , 0.36],\n",
       "       [0.68, 0.2 , 0.12],\n",
       "       [0.28, 0.4 , 0.32],\n",
       "       [0.24, 0.28, 0.48],\n",
       "       [0.08, 0.24, 0.68],\n",
       "       [0.32, 0.28, 0.4 ],\n",
       "       [0.24, 0.28, 0.48],\n",
       "       [0.  , 0.08, 0.92],\n",
       "       [0.08, 0.08, 0.84],\n",
       "       [0.12, 0.04, 0.84],\n",
       "       [0.52, 0.16, 0.32],\n",
       "       [0.08, 0.08, 0.84],\n",
       "       [0.2 , 0.36, 0.44],\n",
       "       [0.16, 0.24, 0.6 ],\n",
       "       [0.08, 0.16, 0.76],\n",
       "       [0.08, 0.12, 0.8 ],\n",
       "       [0.08, 0.08, 0.84],\n",
       "       [0.04, 0.2 , 0.76],\n",
       "       [0.08, 0.08, 0.84],\n",
       "       [0.68, 0.16, 0.16],\n",
       "       [0.28, 0.32, 0.4 ],\n",
       "       [0.24, 0.28, 0.48],\n",
       "       [0.56, 0.2 , 0.24],\n",
       "       [0.28, 0.32, 0.4 ],\n",
       "       [0.64, 0.2 , 0.16],\n",
       "       [0.52, 0.2 , 0.28],\n",
       "       [0.24, 0.36, 0.4 ],\n",
       "       [0.28, 0.36, 0.36]])"
      ]
     },
     "execution_count": 140,
     "metadata": {},
     "output_type": "execute_result"
    }
   ],
   "source": [
    "test.predict_proba(X_test)"
   ]
  },
  {
   "cell_type": "markdown",
   "metadata": {},
   "source": [
    "_______"
   ]
  },
  {
   "cell_type": "code",
   "execution_count": null,
   "metadata": {},
   "outputs": [],
   "source": []
  },
  {
   "cell_type": "code",
   "execution_count": null,
   "metadata": {},
   "outputs": [],
   "source": []
  },
  {
   "cell_type": "code",
   "execution_count": null,
   "metadata": {},
   "outputs": [],
   "source": []
  },
  {
   "cell_type": "markdown",
   "metadata": {},
   "source": [
    "### Inference"
   ]
  },
  {
   "cell_type": "code",
   "execution_count": 117,
   "metadata": {},
   "outputs": [],
   "source": [
    "X_train, X_test, y_train, y_test = train_test_split(X, y, random_state=2024)"
   ]
  },
  {
   "cell_type": "code",
   "execution_count": 53,
   "metadata": {},
   "outputs": [],
   "source": [
    "model = LogisticRegression(max_iter=10000, random_state=2024)"
   ]
  },
  {
   "cell_type": "code",
   "execution_count": 54,
   "metadata": {},
   "outputs": [],
   "source": [
    "trained_model = model.fit(X_train, y_train)"
   ]
  },
  {
   "cell_type": "code",
   "execution_count": 55,
   "metadata": {},
   "outputs": [
    {
     "name": "stderr",
     "output_type": "stream",
     "text": [
      "https://dagshub.com:443 \"POST /josmunpen/laliga-oracle-dags.mlflow/api/2.0/mlflow/runs/create HTTP/11\" 200 None\n",
      "c:\\Users\\josem\\ds\\laliga-oracle\\env_laliga\\Lib\\site-packages\\mlflow\\types\\utils.py:406: UserWarning: Hint: Inferred schema contains integer column(s). Integer columns in Python cannot represent missing values. If your input data contains missing values at inference time, it will be encoded as floats and will cause a schema enforcement error. The best way to avoid this problem is to infer the model schema based on a realistic data sample (training dataset) that includes missing values. Alternatively, you can declare integer columns as doubles (float64) whenever these columns may have missing values. See `Handling Integers With Missing Values <https://www.mlflow.org/docs/latest/models.html#handling-integers-with-missing-values>`_ for more details.\n",
      "  warnings.warn(\n",
      "https://dagshub.com:443 \"GET /josmunpen/laliga-oracle-dags.mlflow/api/2.0/mlflow/runs/get?run_uuid=1f35822d627547c0abb1225f9b7426da&run_id=1f35822d627547c0abb1225f9b7426da HTTP/11\" 200 None\n",
      "https://dagshub.com:443 \"PUT /josmunpen/laliga-oracle-dags.mlflow/api/2.0/mlflow-artifacts/artifacts/620ba81b100844bd829f3fedcdac3aab/1f35822d627547c0abb1225f9b7426da/artifacts/log_reg_def_artifact/conda.yaml HTTP/11\" 200 None\n",
      "https://dagshub.com:443 \"PUT /josmunpen/laliga-oracle-dags.mlflow/api/2.0/mlflow-artifacts/artifacts/620ba81b100844bd829f3fedcdac3aab/1f35822d627547c0abb1225f9b7426da/artifacts/log_reg_def_artifact/input_example.json HTTP/11\" 200 None\n",
      "https://dagshub.com:443 \"PUT /josmunpen/laliga-oracle-dags.mlflow/api/2.0/mlflow-artifacts/artifacts/620ba81b100844bd829f3fedcdac3aab/1f35822d627547c0abb1225f9b7426da/artifacts/log_reg_def_artifact/MLmodel HTTP/11\" 200 None\n",
      "https://dagshub.com:443 \"PUT /josmunpen/laliga-oracle-dags.mlflow/api/2.0/mlflow-artifacts/artifacts/620ba81b100844bd829f3fedcdac3aab/1f35822d627547c0abb1225f9b7426da/artifacts/log_reg_def_artifact/model.pkl HTTP/11\" 200 None\n",
      "https://dagshub.com:443 \"PUT /josmunpen/laliga-oracle-dags.mlflow/api/2.0/mlflow-artifacts/artifacts/620ba81b100844bd829f3fedcdac3aab/1f35822d627547c0abb1225f9b7426da/artifacts/log_reg_def_artifact/python_env.yaml HTTP/11\" 200 None\n",
      "https://dagshub.com:443 \"PUT /josmunpen/laliga-oracle-dags.mlflow/api/2.0/mlflow-artifacts/artifacts/620ba81b100844bd829f3fedcdac3aab/1f35822d627547c0abb1225f9b7426da/artifacts/log_reg_def_artifact/requirements.txt HTTP/11\" 200 None\n",
      "https://dagshub.com:443 \"POST /josmunpen/laliga-oracle-dags.mlflow/api/2.0/mlflow/runs/log-model HTTP/11\" 400 None\n",
      "https://dagshub.com:443 \"GET /josmunpen/laliga-oracle-dags.mlflow/api/2.0/mlflow/runs/get?run_uuid=1f35822d627547c0abb1225f9b7426da&run_id=1f35822d627547c0abb1225f9b7426da HTTP/11\" 200 None\n",
      "2024/08/07 19:01:15 WARNING mlflow.models.model: Logging model metadata to the tracking server has failed. The model artifacts have been logged successfully under mlflow-artifacts:/620ba81b100844bd829f3fedcdac3aab/1f35822d627547c0abb1225f9b7426da/artifacts. Set logging level to DEBUG via `logging.getLogger(\"mlflow\").setLevel(logging.DEBUG)` to see the full traceback.\n",
      "https://dagshub.com:443 \"POST /josmunpen/laliga-oracle-dags.mlflow/api/2.0/mlflow/registered-models/create HTTP/11\" 200 None\n",
      "Successfully registered model 'log_reg_def'.\n",
      "https://dagshub.com:443 \"GET /josmunpen/laliga-oracle-dags.mlflow/api/2.0/mlflow/runs/get?run_uuid=1f35822d627547c0abb1225f9b7426da&run_id=1f35822d627547c0abb1225f9b7426da HTTP/11\" 200 None\n",
      "https://dagshub.com:443 \"POST /josmunpen/laliga-oracle-dags.mlflow/api/2.0/mlflow/model-versions/create HTTP/11\" 200 None\n",
      "2024/08/07 19:01:16 INFO mlflow.store.model_registry.abstract_store: Waiting up to 300 seconds for model version to finish creation. Model name: log_reg_def, version 1\n",
      "Created version '1' of model 'log_reg_def'.\n"
     ]
    }
   ],
   "source": [
    "classifier_name = \"log_reg_def\"\n",
    "\n",
    "\n",
    "# Log the model\n",
    "model_info = mlflow.sklearn.log_model(\n",
    "    sk_model=trained_model,\n",
    "    artifact_path=classifier_name + \"_artifact\",\n",
    "    # signature=signature,\n",
    "    input_example=X,\n",
    "    registered_model_name=classifier_name,\n",
    ")"
   ]
  },
  {
   "cell_type": "code",
   "execution_count": null,
   "metadata": {},
   "outputs": [],
   "source": []
  },
  {
   "cell_type": "code",
   "execution_count": null,
   "metadata": {},
   "outputs": [],
   "source": []
  },
  {
   "cell_type": "code",
   "execution_count": 83,
   "metadata": {},
   "outputs": [],
   "source": [
    "y_pred = trained_model.predict(X_test)"
   ]
  },
  {
   "cell_type": "code",
   "execution_count": 84,
   "metadata": {},
   "outputs": [
    {
     "data": {
      "text/plain": [
       "0.5333333333333333"
      ]
     },
     "execution_count": 84,
     "metadata": {},
     "output_type": "execute_result"
    }
   ],
   "source": [
    "trained_model.score(X_test, y_test)"
   ]
  },
  {
   "cell_type": "code",
   "execution_count": 86,
   "metadata": {},
   "outputs": [],
   "source": [
    "import pickle\n",
    "\n",
    "filename = \"log_reg_v1.sav\""
   ]
  },
  {
   "cell_type": "code",
   "execution_count": 87,
   "metadata": {},
   "outputs": [],
   "source": [
    "pickle.dump(trained_model, open(filename, \"wb\"))"
   ]
  },
  {
   "cell_type": "code",
   "execution_count": 10,
   "metadata": {},
   "outputs": [],
   "source": [
    "import pickle\n",
    "\n",
    "# some time later...\n",
    "\n",
    "# load the model from disk\n",
    "loaded_model = pickle.load(open(f\"./backend/models/{filename}\", \"rb\"))\n",
    "# result = loaded_model.score(X_test, Y_test)\n",
    "# print(result)"
   ]
  },
  {
   "cell_type": "code",
   "execution_count": 11,
   "metadata": {},
   "outputs": [
    {
     "data": {
      "text/plain": [
       "array([0, 1, 2])"
      ]
     },
     "execution_count": 11,
     "metadata": {},
     "output_type": "execute_result"
    }
   ],
   "source": [
    "loaded_model.classes_"
   ]
  },
  {
   "cell_type": "code",
   "execution_count": 60,
   "metadata": {},
   "outputs": [
    {
     "data": {
      "text/plain": [
       "0.0"
      ]
     },
     "execution_count": 60,
     "metadata": {},
     "output_type": "execute_result"
    }
   ],
   "source": [
    "X_test[\"team_home_531\"].iloc[0]"
   ]
  },
  {
   "cell_type": "code",
   "execution_count": 56,
   "metadata": {},
   "outputs": [],
   "source": [
    "# Load MLflow model\n",
    "import mlflow.sklearn"
   ]
  },
  {
   "cell_type": "code",
   "execution_count": 57,
   "metadata": {},
   "outputs": [
    {
     "name": "stderr",
     "output_type": "stream",
     "text": [
      "https://dagshub.com:443 \"GET /josmunpen/laliga-oracle-dags.mlflow/api/2.0/mlflow/model-versions/get-download-uri?name=log_reg_def&version=1 HTTP/11\" 200 None\n",
      "https://dagshub.com:443 \"GET /josmunpen/laliga-oracle-dags.mlflow/api/2.0/mlflow-artifacts/artifacts?path=620ba81b100844bd829f3fedcdac3aab%2F1f35822d627547c0abb1225f9b7426da%2Fartifacts%2Flog_reg_def_artifact HTTP/11\" 200 None\n",
      "https://dagshub.com:443 \"GET /josmunpen/laliga-oracle-dags.mlflow/api/2.0/mlflow-artifacts/artifacts?path=620ba81b100844bd829f3fedcdac3aab%2F1f35822d627547c0abb1225f9b7426da%2Fartifacts%2Flog_reg_def_artifact HTTP/11\" 200 None\n",
      "Starting new HTTPS connection (2): dagshub.com:443\n",
      "Starting new HTTPS connection (3): dagshub.com:443\n",
      "Starting new HTTPS connection (4): dagshub.com:443\n",
      "Starting new HTTPS connection (5): dagshub.com:443\n",
      "Starting new HTTPS connection (6): dagshub.com:443\n",
      "https://dagshub.com:443 \"GET /josmunpen/laliga-oracle-dags.mlflow/api/2.0/mlflow-artifacts/artifacts/620ba81b100844bd829f3fedcdac3aab/1f35822d627547c0abb1225f9b7426da/artifacts/log_reg_def_artifact/MLmodel HTTP/11\" 200 None\n",
      "https://dagshub.com:443 \"GET /josmunpen/laliga-oracle-dags.mlflow/api/2.0/mlflow-artifacts/artifacts/620ba81b100844bd829f3fedcdac3aab/1f35822d627547c0abb1225f9b7426da/artifacts/log_reg_def_artifact/conda.yaml HTTP/11\" 200 None\n",
      "https://dagshub.com:443 \"GET /josmunpen/laliga-oracle-dags.mlflow/api/2.0/mlflow-artifacts/artifacts/620ba81b100844bd829f3fedcdac3aab/1f35822d627547c0abb1225f9b7426da/artifacts/log_reg_def_artifact/model.pkl HTTP/11\" 200 None\n",
      "https://dagshub.com:443 \"GET /josmunpen/laliga-oracle-dags.mlflow/api/2.0/mlflow-artifacts/artifacts/620ba81b100844bd829f3fedcdac3aab/1f35822d627547c0abb1225f9b7426da/artifacts/log_reg_def_artifact/requirements.txt HTTP/11\" 200 None\n",
      "https://dagshub.com:443 \"GET /josmunpen/laliga-oracle-dags.mlflow/api/2.0/mlflow-artifacts/artifacts/620ba81b100844bd829f3fedcdac3aab/1f35822d627547c0abb1225f9b7426da/artifacts/log_reg_def_artifact/input_example.json HTTP/11\" 200 None\n",
      "https://dagshub.com:443 \"GET /josmunpen/laliga-oracle-dags.mlflow/api/2.0/mlflow-artifacts/artifacts/620ba81b100844bd829f3fedcdac3aab/1f35822d627547c0abb1225f9b7426da/artifacts/log_reg_def_artifact/python_env.yaml HTTP/11\" 200 None\n"
     ]
    }
   ],
   "source": [
    "test = mlflow.sklearn.load_model(\"models:/log_reg_def/1\")"
   ]
  },
  {
   "cell_type": "code",
   "execution_count": 70,
   "metadata": {},
   "outputs": [
    {
     "name": "stderr",
     "output_type": "stream",
     "text": [
      "https://dagshub.com:443 \"GET /josmunpen/laliga-oracle-dags.mlflow/api/2.0/mlflow-artifacts/artifacts?path=620ba81b100844bd829f3fedcdac3aab%2Fa2f711cd2e5a468f83945402e745506b%2Fartifacts%2FLogistic+Regression+artifact HTTP/11\" 200 None\n",
      "https://dagshub.com:443 \"GET /josmunpen/laliga-oracle-dags.mlflow/api/2.0/mlflow-artifacts/artifacts?path=620ba81b100844bd829f3fedcdac3aab%2Fa2f711cd2e5a468f83945402e745506b%2Fartifacts%2FLogistic+Regression+artifact HTTP/11\" 200 None\n",
      "Resetting dropped connection: dagshub.com\n",
      "Resetting dropped connection: dagshub.com\n",
      "Resetting dropped connection: dagshub.com\n",
      "Resetting dropped connection: dagshub.com\n",
      "Resetting dropped connection: dagshub.com\n",
      "https://dagshub.com:443 \"GET /josmunpen/laliga-oracle-dags.mlflow/api/2.0/mlflow-artifacts/artifacts/620ba81b100844bd829f3fedcdac3aab/a2f711cd2e5a468f83945402e745506b/artifacts/Logistic%20Regression%20artifact/requirements.txt HTTP/11\" 200 None\n",
      "https://dagshub.com:443 \"GET /josmunpen/laliga-oracle-dags.mlflow/api/2.0/mlflow-artifacts/artifacts/620ba81b100844bd829f3fedcdac3aab/a2f711cd2e5a468f83945402e745506b/artifacts/Logistic%20Regression%20artifact/MLmodel HTTP/11\" 200 None\n",
      "https://dagshub.com:443 \"GET /josmunpen/laliga-oracle-dags.mlflow/api/2.0/mlflow-artifacts/artifacts/620ba81b100844bd829f3fedcdac3aab/a2f711cd2e5a468f83945402e745506b/artifacts/Logistic%20Regression%20artifact/input_example.json HTTP/11\" 200 None\n",
      "https://dagshub.com:443 \"GET /josmunpen/laliga-oracle-dags.mlflow/api/2.0/mlflow-artifacts/artifacts/620ba81b100844bd829f3fedcdac3aab/a2f711cd2e5a468f83945402e745506b/artifacts/Logistic%20Regression%20artifact/conda.yaml HTTP/11\" 200 None\n",
      "https://dagshub.com:443 \"GET /josmunpen/laliga-oracle-dags.mlflow/api/2.0/mlflow-artifacts/artifacts/620ba81b100844bd829f3fedcdac3aab/a2f711cd2e5a468f83945402e745506b/artifacts/Logistic%20Regression%20artifact/python_env.yaml HTTP/11\" 200 None\n",
      "https://dagshub.com:443 \"GET /josmunpen/laliga-oracle-dags.mlflow/api/2.0/mlflow-artifacts/artifacts/620ba81b100844bd829f3fedcdac3aab/a2f711cd2e5a468f83945402e745506b/artifacts/Logistic%20Regression%20artifact/model.pkl HTTP/11\" 200 None\n"
     ]
    }
   ],
   "source": [
    "sk_model = mlflow.sklearn.load_model(\n",
    "    \"mlflow-artifacts:/620ba81b100844bd829f3fedcdac3aab/a2f711cd2e5a468f83945402e745506b/artifacts/Logistic Regression artifact\"\n",
    ")"
   ]
  },
  {
   "cell_type": "code",
   "execution_count": 71,
   "metadata": {},
   "outputs": [
    {
     "data": {
      "text/html": [
       "<style>#sk-container-id-4 {\n",
       "  /* Definition of color scheme common for light and dark mode */\n",
       "  --sklearn-color-text: black;\n",
       "  --sklearn-color-line: gray;\n",
       "  /* Definition of color scheme for unfitted estimators */\n",
       "  --sklearn-color-unfitted-level-0: #fff5e6;\n",
       "  --sklearn-color-unfitted-level-1: #f6e4d2;\n",
       "  --sklearn-color-unfitted-level-2: #ffe0b3;\n",
       "  --sklearn-color-unfitted-level-3: chocolate;\n",
       "  /* Definition of color scheme for fitted estimators */\n",
       "  --sklearn-color-fitted-level-0: #f0f8ff;\n",
       "  --sklearn-color-fitted-level-1: #d4ebff;\n",
       "  --sklearn-color-fitted-level-2: #b3dbfd;\n",
       "  --sklearn-color-fitted-level-3: cornflowerblue;\n",
       "\n",
       "  /* Specific color for light theme */\n",
       "  --sklearn-color-text-on-default-background: var(--sg-text-color, var(--theme-code-foreground, var(--jp-content-font-color1, black)));\n",
       "  --sklearn-color-background: var(--sg-background-color, var(--theme-background, var(--jp-layout-color0, white)));\n",
       "  --sklearn-color-border-box: var(--sg-text-color, var(--theme-code-foreground, var(--jp-content-font-color1, black)));\n",
       "  --sklearn-color-icon: #696969;\n",
       "\n",
       "  @media (prefers-color-scheme: dark) {\n",
       "    /* Redefinition of color scheme for dark theme */\n",
       "    --sklearn-color-text-on-default-background: var(--sg-text-color, var(--theme-code-foreground, var(--jp-content-font-color1, white)));\n",
       "    --sklearn-color-background: var(--sg-background-color, var(--theme-background, var(--jp-layout-color0, #111)));\n",
       "    --sklearn-color-border-box: var(--sg-text-color, var(--theme-code-foreground, var(--jp-content-font-color1, white)));\n",
       "    --sklearn-color-icon: #878787;\n",
       "  }\n",
       "}\n",
       "\n",
       "#sk-container-id-4 {\n",
       "  color: var(--sklearn-color-text);\n",
       "}\n",
       "\n",
       "#sk-container-id-4 pre {\n",
       "  padding: 0;\n",
       "}\n",
       "\n",
       "#sk-container-id-4 input.sk-hidden--visually {\n",
       "  border: 0;\n",
       "  clip: rect(1px 1px 1px 1px);\n",
       "  clip: rect(1px, 1px, 1px, 1px);\n",
       "  height: 1px;\n",
       "  margin: -1px;\n",
       "  overflow: hidden;\n",
       "  padding: 0;\n",
       "  position: absolute;\n",
       "  width: 1px;\n",
       "}\n",
       "\n",
       "#sk-container-id-4 div.sk-dashed-wrapped {\n",
       "  border: 1px dashed var(--sklearn-color-line);\n",
       "  margin: 0 0.4em 0.5em 0.4em;\n",
       "  box-sizing: border-box;\n",
       "  padding-bottom: 0.4em;\n",
       "  background-color: var(--sklearn-color-background);\n",
       "}\n",
       "\n",
       "#sk-container-id-4 div.sk-container {\n",
       "  /* jupyter's `normalize.less` sets `[hidden] { display: none; }`\n",
       "     but bootstrap.min.css set `[hidden] { display: none !important; }`\n",
       "     so we also need the `!important` here to be able to override the\n",
       "     default hidden behavior on the sphinx rendered scikit-learn.org.\n",
       "     See: https://github.com/scikit-learn/scikit-learn/issues/21755 */\n",
       "  display: inline-block !important;\n",
       "  position: relative;\n",
       "}\n",
       "\n",
       "#sk-container-id-4 div.sk-text-repr-fallback {\n",
       "  display: none;\n",
       "}\n",
       "\n",
       "div.sk-parallel-item,\n",
       "div.sk-serial,\n",
       "div.sk-item {\n",
       "  /* draw centered vertical line to link estimators */\n",
       "  background-image: linear-gradient(var(--sklearn-color-text-on-default-background), var(--sklearn-color-text-on-default-background));\n",
       "  background-size: 2px 100%;\n",
       "  background-repeat: no-repeat;\n",
       "  background-position: center center;\n",
       "}\n",
       "\n",
       "/* Parallel-specific style estimator block */\n",
       "\n",
       "#sk-container-id-4 div.sk-parallel-item::after {\n",
       "  content: \"\";\n",
       "  width: 100%;\n",
       "  border-bottom: 2px solid var(--sklearn-color-text-on-default-background);\n",
       "  flex-grow: 1;\n",
       "}\n",
       "\n",
       "#sk-container-id-4 div.sk-parallel {\n",
       "  display: flex;\n",
       "  align-items: stretch;\n",
       "  justify-content: center;\n",
       "  background-color: var(--sklearn-color-background);\n",
       "  position: relative;\n",
       "}\n",
       "\n",
       "#sk-container-id-4 div.sk-parallel-item {\n",
       "  display: flex;\n",
       "  flex-direction: column;\n",
       "}\n",
       "\n",
       "#sk-container-id-4 div.sk-parallel-item:first-child::after {\n",
       "  align-self: flex-end;\n",
       "  width: 50%;\n",
       "}\n",
       "\n",
       "#sk-container-id-4 div.sk-parallel-item:last-child::after {\n",
       "  align-self: flex-start;\n",
       "  width: 50%;\n",
       "}\n",
       "\n",
       "#sk-container-id-4 div.sk-parallel-item:only-child::after {\n",
       "  width: 0;\n",
       "}\n",
       "\n",
       "/* Serial-specific style estimator block */\n",
       "\n",
       "#sk-container-id-4 div.sk-serial {\n",
       "  display: flex;\n",
       "  flex-direction: column;\n",
       "  align-items: center;\n",
       "  background-color: var(--sklearn-color-background);\n",
       "  padding-right: 1em;\n",
       "  padding-left: 1em;\n",
       "}\n",
       "\n",
       "\n",
       "/* Toggleable style: style used for estimator/Pipeline/ColumnTransformer box that is\n",
       "clickable and can be expanded/collapsed.\n",
       "- Pipeline and ColumnTransformer use this feature and define the default style\n",
       "- Estimators will overwrite some part of the style using the `sk-estimator` class\n",
       "*/\n",
       "\n",
       "/* Pipeline and ColumnTransformer style (default) */\n",
       "\n",
       "#sk-container-id-4 div.sk-toggleable {\n",
       "  /* Default theme specific background. It is overwritten whether we have a\n",
       "  specific estimator or a Pipeline/ColumnTransformer */\n",
       "  background-color: var(--sklearn-color-background);\n",
       "}\n",
       "\n",
       "/* Toggleable label */\n",
       "#sk-container-id-4 label.sk-toggleable__label {\n",
       "  cursor: pointer;\n",
       "  display: block;\n",
       "  width: 100%;\n",
       "  margin-bottom: 0;\n",
       "  padding: 0.5em;\n",
       "  box-sizing: border-box;\n",
       "  text-align: center;\n",
       "}\n",
       "\n",
       "#sk-container-id-4 label.sk-toggleable__label-arrow:before {\n",
       "  /* Arrow on the left of the label */\n",
       "  content: \"▸\";\n",
       "  float: left;\n",
       "  margin-right: 0.25em;\n",
       "  color: var(--sklearn-color-icon);\n",
       "}\n",
       "\n",
       "#sk-container-id-4 label.sk-toggleable__label-arrow:hover:before {\n",
       "  color: var(--sklearn-color-text);\n",
       "}\n",
       "\n",
       "/* Toggleable content - dropdown */\n",
       "\n",
       "#sk-container-id-4 div.sk-toggleable__content {\n",
       "  max-height: 0;\n",
       "  max-width: 0;\n",
       "  overflow: hidden;\n",
       "  text-align: left;\n",
       "  /* unfitted */\n",
       "  background-color: var(--sklearn-color-unfitted-level-0);\n",
       "}\n",
       "\n",
       "#sk-container-id-4 div.sk-toggleable__content.fitted {\n",
       "  /* fitted */\n",
       "  background-color: var(--sklearn-color-fitted-level-0);\n",
       "}\n",
       "\n",
       "#sk-container-id-4 div.sk-toggleable__content pre {\n",
       "  margin: 0.2em;\n",
       "  border-radius: 0.25em;\n",
       "  color: var(--sklearn-color-text);\n",
       "  /* unfitted */\n",
       "  background-color: var(--sklearn-color-unfitted-level-0);\n",
       "}\n",
       "\n",
       "#sk-container-id-4 div.sk-toggleable__content.fitted pre {\n",
       "  /* unfitted */\n",
       "  background-color: var(--sklearn-color-fitted-level-0);\n",
       "}\n",
       "\n",
       "#sk-container-id-4 input.sk-toggleable__control:checked~div.sk-toggleable__content {\n",
       "  /* Expand drop-down */\n",
       "  max-height: 200px;\n",
       "  max-width: 100%;\n",
       "  overflow: auto;\n",
       "}\n",
       "\n",
       "#sk-container-id-4 input.sk-toggleable__control:checked~label.sk-toggleable__label-arrow:before {\n",
       "  content: \"▾\";\n",
       "}\n",
       "\n",
       "/* Pipeline/ColumnTransformer-specific style */\n",
       "\n",
       "#sk-container-id-4 div.sk-label input.sk-toggleable__control:checked~label.sk-toggleable__label {\n",
       "  color: var(--sklearn-color-text);\n",
       "  background-color: var(--sklearn-color-unfitted-level-2);\n",
       "}\n",
       "\n",
       "#sk-container-id-4 div.sk-label.fitted input.sk-toggleable__control:checked~label.sk-toggleable__label {\n",
       "  background-color: var(--sklearn-color-fitted-level-2);\n",
       "}\n",
       "\n",
       "/* Estimator-specific style */\n",
       "\n",
       "/* Colorize estimator box */\n",
       "#sk-container-id-4 div.sk-estimator input.sk-toggleable__control:checked~label.sk-toggleable__label {\n",
       "  /* unfitted */\n",
       "  background-color: var(--sklearn-color-unfitted-level-2);\n",
       "}\n",
       "\n",
       "#sk-container-id-4 div.sk-estimator.fitted input.sk-toggleable__control:checked~label.sk-toggleable__label {\n",
       "  /* fitted */\n",
       "  background-color: var(--sklearn-color-fitted-level-2);\n",
       "}\n",
       "\n",
       "#sk-container-id-4 div.sk-label label.sk-toggleable__label,\n",
       "#sk-container-id-4 div.sk-label label {\n",
       "  /* The background is the default theme color */\n",
       "  color: var(--sklearn-color-text-on-default-background);\n",
       "}\n",
       "\n",
       "/* On hover, darken the color of the background */\n",
       "#sk-container-id-4 div.sk-label:hover label.sk-toggleable__label {\n",
       "  color: var(--sklearn-color-text);\n",
       "  background-color: var(--sklearn-color-unfitted-level-2);\n",
       "}\n",
       "\n",
       "/* Label box, darken color on hover, fitted */\n",
       "#sk-container-id-4 div.sk-label.fitted:hover label.sk-toggleable__label.fitted {\n",
       "  color: var(--sklearn-color-text);\n",
       "  background-color: var(--sklearn-color-fitted-level-2);\n",
       "}\n",
       "\n",
       "/* Estimator label */\n",
       "\n",
       "#sk-container-id-4 div.sk-label label {\n",
       "  font-family: monospace;\n",
       "  font-weight: bold;\n",
       "  display: inline-block;\n",
       "  line-height: 1.2em;\n",
       "}\n",
       "\n",
       "#sk-container-id-4 div.sk-label-container {\n",
       "  text-align: center;\n",
       "}\n",
       "\n",
       "/* Estimator-specific */\n",
       "#sk-container-id-4 div.sk-estimator {\n",
       "  font-family: monospace;\n",
       "  border: 1px dotted var(--sklearn-color-border-box);\n",
       "  border-radius: 0.25em;\n",
       "  box-sizing: border-box;\n",
       "  margin-bottom: 0.5em;\n",
       "  /* unfitted */\n",
       "  background-color: var(--sklearn-color-unfitted-level-0);\n",
       "}\n",
       "\n",
       "#sk-container-id-4 div.sk-estimator.fitted {\n",
       "  /* fitted */\n",
       "  background-color: var(--sklearn-color-fitted-level-0);\n",
       "}\n",
       "\n",
       "/* on hover */\n",
       "#sk-container-id-4 div.sk-estimator:hover {\n",
       "  /* unfitted */\n",
       "  background-color: var(--sklearn-color-unfitted-level-2);\n",
       "}\n",
       "\n",
       "#sk-container-id-4 div.sk-estimator.fitted:hover {\n",
       "  /* fitted */\n",
       "  background-color: var(--sklearn-color-fitted-level-2);\n",
       "}\n",
       "\n",
       "/* Specification for estimator info (e.g. \"i\" and \"?\") */\n",
       "\n",
       "/* Common style for \"i\" and \"?\" */\n",
       "\n",
       ".sk-estimator-doc-link,\n",
       "a:link.sk-estimator-doc-link,\n",
       "a:visited.sk-estimator-doc-link {\n",
       "  float: right;\n",
       "  font-size: smaller;\n",
       "  line-height: 1em;\n",
       "  font-family: monospace;\n",
       "  background-color: var(--sklearn-color-background);\n",
       "  border-radius: 1em;\n",
       "  height: 1em;\n",
       "  width: 1em;\n",
       "  text-decoration: none !important;\n",
       "  margin-left: 1ex;\n",
       "  /* unfitted */\n",
       "  border: var(--sklearn-color-unfitted-level-1) 1pt solid;\n",
       "  color: var(--sklearn-color-unfitted-level-1);\n",
       "}\n",
       "\n",
       ".sk-estimator-doc-link.fitted,\n",
       "a:link.sk-estimator-doc-link.fitted,\n",
       "a:visited.sk-estimator-doc-link.fitted {\n",
       "  /* fitted */\n",
       "  border: var(--sklearn-color-fitted-level-1) 1pt solid;\n",
       "  color: var(--sklearn-color-fitted-level-1);\n",
       "}\n",
       "\n",
       "/* On hover */\n",
       "div.sk-estimator:hover .sk-estimator-doc-link:hover,\n",
       ".sk-estimator-doc-link:hover,\n",
       "div.sk-label-container:hover .sk-estimator-doc-link:hover,\n",
       ".sk-estimator-doc-link:hover {\n",
       "  /* unfitted */\n",
       "  background-color: var(--sklearn-color-unfitted-level-3);\n",
       "  color: var(--sklearn-color-background);\n",
       "  text-decoration: none;\n",
       "}\n",
       "\n",
       "div.sk-estimator.fitted:hover .sk-estimator-doc-link.fitted:hover,\n",
       ".sk-estimator-doc-link.fitted:hover,\n",
       "div.sk-label-container:hover .sk-estimator-doc-link.fitted:hover,\n",
       ".sk-estimator-doc-link.fitted:hover {\n",
       "  /* fitted */\n",
       "  background-color: var(--sklearn-color-fitted-level-3);\n",
       "  color: var(--sklearn-color-background);\n",
       "  text-decoration: none;\n",
       "}\n",
       "\n",
       "/* Span, style for the box shown on hovering the info icon */\n",
       ".sk-estimator-doc-link span {\n",
       "  display: none;\n",
       "  z-index: 9999;\n",
       "  position: relative;\n",
       "  font-weight: normal;\n",
       "  right: .2ex;\n",
       "  padding: .5ex;\n",
       "  margin: .5ex;\n",
       "  width: min-content;\n",
       "  min-width: 20ex;\n",
       "  max-width: 50ex;\n",
       "  color: var(--sklearn-color-text);\n",
       "  box-shadow: 2pt 2pt 4pt #999;\n",
       "  /* unfitted */\n",
       "  background: var(--sklearn-color-unfitted-level-0);\n",
       "  border: .5pt solid var(--sklearn-color-unfitted-level-3);\n",
       "}\n",
       "\n",
       ".sk-estimator-doc-link.fitted span {\n",
       "  /* fitted */\n",
       "  background: var(--sklearn-color-fitted-level-0);\n",
       "  border: var(--sklearn-color-fitted-level-3);\n",
       "}\n",
       "\n",
       ".sk-estimator-doc-link:hover span {\n",
       "  display: block;\n",
       "}\n",
       "\n",
       "/* \"?\"-specific style due to the `<a>` HTML tag */\n",
       "\n",
       "#sk-container-id-4 a.estimator_doc_link {\n",
       "  float: right;\n",
       "  font-size: 1rem;\n",
       "  line-height: 1em;\n",
       "  font-family: monospace;\n",
       "  background-color: var(--sklearn-color-background);\n",
       "  border-radius: 1rem;\n",
       "  height: 1rem;\n",
       "  width: 1rem;\n",
       "  text-decoration: none;\n",
       "  /* unfitted */\n",
       "  color: var(--sklearn-color-unfitted-level-1);\n",
       "  border: var(--sklearn-color-unfitted-level-1) 1pt solid;\n",
       "}\n",
       "\n",
       "#sk-container-id-4 a.estimator_doc_link.fitted {\n",
       "  /* fitted */\n",
       "  border: var(--sklearn-color-fitted-level-1) 1pt solid;\n",
       "  color: var(--sklearn-color-fitted-level-1);\n",
       "}\n",
       "\n",
       "/* On hover */\n",
       "#sk-container-id-4 a.estimator_doc_link:hover {\n",
       "  /* unfitted */\n",
       "  background-color: var(--sklearn-color-unfitted-level-3);\n",
       "  color: var(--sklearn-color-background);\n",
       "  text-decoration: none;\n",
       "}\n",
       "\n",
       "#sk-container-id-4 a.estimator_doc_link.fitted:hover {\n",
       "  /* fitted */\n",
       "  background-color: var(--sklearn-color-fitted-level-3);\n",
       "}\n",
       "</style><div id=\"sk-container-id-4\" class=\"sk-top-container\"><div class=\"sk-text-repr-fallback\"><pre>LogisticRegression(max_iter=10000, random_state=2024)</pre><b>In a Jupyter environment, please rerun this cell to show the HTML representation or trust the notebook. <br />On GitHub, the HTML representation is unable to render, please try loading this page with nbviewer.org.</b></div><div class=\"sk-container\" hidden><div class=\"sk-item\"><div class=\"sk-estimator fitted sk-toggleable\"><input class=\"sk-toggleable__control sk-hidden--visually\" id=\"sk-estimator-id-4\" type=\"checkbox\" checked><label for=\"sk-estimator-id-4\" class=\"sk-toggleable__label fitted sk-toggleable__label-arrow fitted\">&nbsp;&nbsp;LogisticRegression<a class=\"sk-estimator-doc-link fitted\" rel=\"noreferrer\" target=\"_blank\" href=\"https://scikit-learn.org/1.5/modules/generated/sklearn.linear_model.LogisticRegression.html\">?<span>Documentation for LogisticRegression</span></a><span class=\"sk-estimator-doc-link fitted\">i<span>Fitted</span></span></label><div class=\"sk-toggleable__content fitted\"><pre>LogisticRegression(max_iter=10000, random_state=2024)</pre></div> </div></div></div></div>"
      ],
      "text/plain": [
       "LogisticRegression(max_iter=10000, random_state=2024)"
      ]
     },
     "execution_count": 71,
     "metadata": {},
     "output_type": "execute_result"
    }
   ],
   "source": [
    "sk_model"
   ]
  },
  {
   "cell_type": "code",
   "execution_count": 74,
   "metadata": {},
   "outputs": [
    {
     "name": "stderr",
     "output_type": "stream",
     "text": [
      "c:\\Users\\josem\\ds\\laliga-oracle\\env_laliga\\Lib\\site-packages\\sklearn\\base.py:493: UserWarning: X does not have valid feature names, but LogisticRegression was fitted with feature names\n",
      "  warnings.warn(\n"
     ]
    }
   ],
   "source": [
    "predictions = sk_model.predict(X_test.iloc[0].values.reshape(1, -1))"
   ]
  },
  {
   "cell_type": "code",
   "execution_count": 76,
   "metadata": {},
   "outputs": [
    {
     "name": "stderr",
     "output_type": "stream",
     "text": [
      "c:\\Users\\josem\\ds\\laliga-oracle\\env_laliga\\Lib\\site-packages\\sklearn\\base.py:493: UserWarning: X does not have valid feature names, but LogisticRegression was fitted with feature names\n",
      "  warnings.warn(\n"
     ]
    }
   ],
   "source": [
    "predictions = sk_model.predict_proba(X_test.iloc[0].values.reshape(1, -1))"
   ]
  },
  {
   "cell_type": "code",
   "execution_count": 77,
   "metadata": {},
   "outputs": [
    {
     "data": {
      "text/plain": [
       "array([[0.04450971, 0.73681219, 0.2186781 ]])"
      ]
     },
     "execution_count": 77,
     "metadata": {},
     "output_type": "execute_result"
    }
   ],
   "source": [
    "predictions"
   ]
  },
  {
   "cell_type": "markdown",
   "metadata": {},
   "source": [
    "_______________"
   ]
  },
  {
   "cell_type": "markdown",
   "metadata": {},
   "source": [
    "### WIP"
   ]
  },
  {
   "cell_type": "code",
   "execution_count": 101,
   "metadata": {},
   "outputs": [],
   "source": [
    "from backend.utils.utils import get_team_data, get_match_data"
   ]
  },
  {
   "cell_type": "code",
   "execution_count": 123,
   "metadata": {},
   "outputs": [],
   "source": [
    "import pickle"
   ]
  },
  {
   "cell_type": "code",
   "execution_count": 124,
   "metadata": {},
   "outputs": [],
   "source": [
    "team_home = 531\n",
    "team_away = 532"
   ]
  },
  {
   "cell_type": "code",
   "execution_count": 128,
   "metadata": {},
   "outputs": [],
   "source": [
    "df_match = get_match_data(team_home, team_away)"
   ]
  },
  {
   "cell_type": "code",
   "execution_count": 164,
   "metadata": {},
   "outputs": [],
   "source": [
    "df_match = pd.concat([df_match, ohe_encoded], axis=1).drop(columns=ohe_cols)"
   ]
  },
  {
   "cell_type": "code",
   "execution_count": 78,
   "metadata": {},
   "outputs": [],
   "source": [
    "from sklearn.pipeline import make_pipeline"
   ]
  },
  {
   "cell_type": "code",
   "execution_count": 116,
   "metadata": {},
   "outputs": [],
   "source": [
    "pipe = make_pipeline(OneHotEncoder())"
   ]
  },
  {
   "cell_type": "code",
   "execution_count": null,
   "metadata": {},
   "outputs": [],
   "source": []
  }
 ],
 "metadata": {
  "kernelspec": {
   "display_name": "env_train",
   "language": "python",
   "name": "python3"
  },
  "language_info": {
   "codemirror_mode": {
    "name": "ipython",
    "version": 3
   },
   "file_extension": ".py",
   "mimetype": "text/x-python",
   "name": "python",
   "nbconvert_exporter": "python",
   "pygments_lexer": "ipython3",
   "version": "3.11.4"
  }
 },
 "nbformat": 4,
 "nbformat_minor": 2
}
